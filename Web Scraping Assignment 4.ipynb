{
 "cells": [
  {
   "cell_type": "markdown",
   "metadata": {},
   "source": [
    "# Question No 1: Scrape the details of most viewed videos on YouTube from Wikipedia:\n",
    "Url = https://en.wikipedia.org/wiki/List_of_most-viewed_YouTube_videos"
   ]
  },
  {
   "cell_type": "code",
   "execution_count": 1,
   "metadata": {},
   "outputs": [],
   "source": [
    "#importing all the required libraries\n",
    "import pandas as pd\n",
    "import selenium\n",
    "from selenium import webdriver\n",
    "\n",
    "from selenium.common.exceptions import  StaleElementReferenceException,ElementClickInterceptedException,ElementNotInteractableException   \n",
    "from selenium.common.exceptions import  NoSuchElementException,NoSuchWindowException,InvalidSessionIdException\n",
    "\n",
    "from selenium.webdriver.support.ui import WebDriverWait\n",
    "from selenium.webdriver.support import expected_conditions as EC\n",
    "from selenium.webdriver.common.by import By"
   ]
  },
  {
   "cell_type": "code",
   "execution_count": 2,
   "metadata": {},
   "outputs": [],
   "source": [
    "driver = webdriver.Chrome(r\"C:\\Users\\Dell\\Downloads\\chromedriver_win32\\chromedriver.exe\")"
   ]
  },
  {
   "cell_type": "code",
   "execution_count": 3,
   "metadata": {},
   "outputs": [],
   "source": [
    "#Defining the url:\n",
    "url = \"https://en.wikipedia.org/wiki/List_of_most-viewed_YouTube_videos/\""
   ]
  },
  {
   "cell_type": "code",
   "execution_count": 4,
   "metadata": {},
   "outputs": [],
   "source": [
    "#Getting the URL:\n",
    "driver.get(url)"
   ]
  },
  {
   "cell_type": "code",
   "execution_count": 6,
   "metadata": {},
   "outputs": [
    {
     "data": {
      "text/plain": [
       "['1.',\n",
       " '2.',\n",
       " '3.',\n",
       " '4.',\n",
       " '5.',\n",
       " '6.',\n",
       " '7.',\n",
       " '8.',\n",
       " '9.',\n",
       " '10.',\n",
       " '11.',\n",
       " '12.',\n",
       " '13.',\n",
       " '14.',\n",
       " '15.',\n",
       " '16.',\n",
       " '17.',\n",
       " '18.',\n",
       " '19.',\n",
       " '20.',\n",
       " '21.',\n",
       " '22.',\n",
       " '23.',\n",
       " '24.',\n",
       " '25.',\n",
       " '26.',\n",
       " '27.',\n",
       " '28.',\n",
       " '29.',\n",
       " '30.']"
      ]
     },
     "execution_count": 6,
     "metadata": {},
     "output_type": "execute_result"
    }
   ],
   "source": [
    "import time\n",
    "\n",
    "ranks=[]\n",
    "\n",
    "try:\n",
    "    driver = webdriver.Chrome(r\"C:\\Users\\Dell\\Downloads\\chromedriver_win32\\chromedriver.exe\")\n",
    "    url=\"https://en.wikipedia.org/wiki/List_of_most-viewed_YouTube_videos\"\n",
    "    driver.get(url)\n",
    "    time.sleep(3)\n",
    "    driver.get(driver.current_url)\n",
    "    search_rnks=driver.find_elements_by_xpath(\"//div[@class='mw-parser-output']//table[3]//tbody//tr//td[1]\")\n",
    "    for a in search_rnks:\n",
    "        ranks.append(a.text)\n",
    "except InvalidSessionIdException as e:\n",
    "    driver = webdriver.Chrome(r\"C:\\Users\\Dell\\Downloads\\chromedriver_win32\\chromedriver.exe\")\n",
    "    url=\"https://en.wikipedia.org/wiki/List_of_most-viewed_YouTube_videos\"\n",
    "    driver.get(url)\n",
    "    time.sleep(3)\n",
    "    driver.get(driver.current_url)\n",
    "    search_rnks=driver.find_elements_by_xpath(\"//div[@class='mw-parser-output']//table[3]//tbody//tr//td[1]\")\n",
    "    for a in search_rnks:\n",
    "        ranks.append(a.text)\n",
    "except NoSuchElementException as e:\n",
    "    print(\"exception raised:\",e)\n",
    "    search_rnks=driver.find_elements_by_xpath(\"//div[@class='mw-parser-output']//table[3]//tbody//tr//td[1]\")\n",
    "    ranks.append(a.text)\n",
    "    \n",
    "    \n",
    "ranks"
   ]
  },
  {
   "cell_type": "code",
   "execution_count": 7,
   "metadata": {},
   "outputs": [
    {
     "data": {
      "text/plain": [
       "['\"Baby Shark Dance\"[23]',\n",
       " '\"Despacito\"[25]',\n",
       " '\"Johny Johny Yes Papa\"[26]',\n",
       " '\"Shape of You\"[27]',\n",
       " '\"See You Again\"[28]',\n",
       " '\"Bath Song\"[31]',\n",
       " '\"Learning Colors – Colorful Eggs on a Farm\"[32]',\n",
       " '\"Masha and the Bear – Recipe for Disaster\"[33]',\n",
       " '\"Uptown Funk\"[34]',\n",
       " '\"Phonics Song with Two Words\"[35]',\n",
       " '\"Gangnam Style\"[36]',\n",
       " '\"Dame Tu Cosita\"[38]',\n",
       " '\"Sugar\"[39]',\n",
       " '\"Sorry\"[40]',\n",
       " '\"Roar\"[41]',\n",
       " '\"Counting Stars\"[42]',\n",
       " '\"Thinking Out Loud\"[43]',\n",
       " '\"Wheels on the Bus\"[44]',\n",
       " '\"Faded\"[45]',\n",
       " '\"Dark Horse\"[46]',\n",
       " '\"Girls Like You\"[47]',\n",
       " '\"Lean On\"[48]',\n",
       " '\"Bailando\"[49]',\n",
       " '\"Shake It Off\"[50]',\n",
       " '\"Let Her Go\"[51]',\n",
       " '\"Axel F\"[52]',\n",
       " '\"Perfect\"[53]',\n",
       " '\"Mi Gente\"[54]',\n",
       " '\"Waka Waka (This Time for Africa)\"[55]',\n",
       " '\"Hello\"[56]']"
      ]
     },
     "execution_count": 7,
     "metadata": {},
     "output_type": "execute_result"
    }
   ],
   "source": [
    "names=[]\n",
    "try:\n",
    "    driver=webdriver.Chrome(r\"C:\\Users\\Dell\\Downloads\\chromedriver_win32\\chromedriver.exe\")\n",
    "    url=\"https://en.wikipedia.org/wiki/List_of_most-viewed_YouTube_videos\"\n",
    "    driver.get(url)\n",
    "    time.sleep(3)\n",
    "    driver.get(driver.current_url)\n",
    "    search_nms=driver.find_elements_by_xpath(\"//div[@class='mw-parser-output']//table[3]//tbody//tr//td[2]\")\n",
    "    for a in search_nms:\n",
    "        \n",
    "        names.append(a.text)\n",
    "except InvalidSessionIdException as e:\n",
    "    driver=webdriver.Chrome(r\"C:\\Users\\Dell\\Downloads\\chromedriver_win32\\chromedriver.exe\")\n",
    "    url=\"https://en.wikipedia.org/wiki/List_of_most-viewed_YouTube_videos\"\n",
    "    driver.get(url)\n",
    "    time.sleep(3)\n",
    "    driver.get(driver.current_url)\n",
    "    search_nms=driver.find_elements_by_xpath(\"//div[@class='mw-parser-output']//table[3]//tbody//tr//td[2]\")\n",
    "    for a in search_nms:\n",
    "        names.append(a.text)\n",
    "except NoSuchElementException as e:\n",
    "    print(\"exception raised:\",e)\n",
    "    search_nms=driver.find_elements_by_xpath(\"//div[@class='mw-parser-output']//table[3]//tbody//tr//td[2]\")\n",
    "    names.append(a.text)\n",
    "    \n",
    "    \n",
    "names"
   ]
  },
  {
   "cell_type": "code",
   "execution_count": 8,
   "metadata": {},
   "outputs": [
    {
     "data": {
      "text/plain": [
       "['\"Baby Shark Dance\"',\n",
       " '\"Despacito\"',\n",
       " '\"Johny Johny Yes Papa\"',\n",
       " '\"Shape of You\"',\n",
       " '\"See You Again\"',\n",
       " '\"Bath Song\"',\n",
       " '\"Learning Colors – Colorful Eggs on a Farm\"',\n",
       " '\"Masha and the Bear – Recipe for Disaster\"',\n",
       " '\"Uptown Funk\"',\n",
       " '\"Phonics Song with Two Words\"',\n",
       " '\"Gangnam Style\"',\n",
       " '\"Dame Tu Cosita\"',\n",
       " '\"Sugar\"',\n",
       " '\"Sorry\"',\n",
       " '\"Roar\"',\n",
       " '\"Counting Stars\"',\n",
       " '\"Thinking Out Loud\"',\n",
       " '\"Wheels on the Bus\"',\n",
       " '\"Faded\"',\n",
       " '\"Dark Horse\"',\n",
       " '\"Girls Like You\"',\n",
       " '\"Lean On\"',\n",
       " '\"Bailando\"',\n",
       " '\"Shake It Off\"',\n",
       " '\"Let Her Go\"',\n",
       " '\"Axel F\"',\n",
       " '\"Perfect\"',\n",
       " '\"Mi Gente\"',\n",
       " '\"Waka Waka (This Time for Africa)\"',\n",
       " '\"Hello\"']"
      ]
     },
     "execution_count": 8,
     "metadata": {},
     "output_type": "execute_result"
    }
   ],
   "source": [
    "import re\n",
    "names_list=[]\n",
    "for i in range(len(names)):\n",
    "    nam=''\n",
    "    nam=names[i]\n",
    "    quoted = re.compile('\"[^\"]*\"')\n",
    "    for value in quoted.findall(nam):\n",
    "        names_list.append(value)\n",
    "names_list"
   ]
  },
  {
   "cell_type": "code",
   "execution_count": 9,
   "metadata": {},
   "outputs": [
    {
     "data": {
      "text/plain": [
       "[\"Pinkfong Baby Shark - Kids' Songs & Stories\",\n",
       " 'Luis Fonsi',\n",
       " 'LooLoo Kids',\n",
       " 'Ed Sheeran',\n",
       " 'Wiz Khalifa',\n",
       " 'Cocomelon – Nursery Rhymes',\n",
       " 'Miroshka TV',\n",
       " 'Get Movies',\n",
       " 'Mark Ronson',\n",
       " 'ChuChu TV',\n",
       " 'Psy',\n",
       " 'El Chombo',\n",
       " 'Maroon 5',\n",
       " 'Justin Bieber',\n",
       " 'Katy Perry',\n",
       " 'OneRepublic',\n",
       " 'Ed Sheeran',\n",
       " 'Cocomelon – Nursery Rhymes',\n",
       " 'Alan Walker',\n",
       " 'Katy Perry',\n",
       " 'Maroon 5',\n",
       " 'Major Lazer',\n",
       " 'Enrique Iglesias',\n",
       " 'Taylor Swift',\n",
       " 'Passenger',\n",
       " 'Crazy Frog',\n",
       " 'Ed Sheeran',\n",
       " 'J Balvin',\n",
       " 'Shakira',\n",
       " 'Adele']"
      ]
     },
     "execution_count": 9,
     "metadata": {},
     "output_type": "execute_result"
    }
   ],
   "source": [
    "Artists=[]\n",
    "try:\n",
    "    driver=webdriver.Chrome(r\"C:\\Users\\Dell\\Downloads\\chromedriver_win32\\chromedriver.exe\")\n",
    "    url=\"https://en.wikipedia.org/wiki/List_of_most-viewed_YouTube_videos\"\n",
    "    driver.get(url)\n",
    "    time.sleep(3)\n",
    "    driver.get(driver.current_url)\n",
    "    search_artst=driver.find_elements_by_xpath(\"//div[@class='mw-parser-output']//table[3]//tbody//tr//td[3]\")\n",
    "    for a in search_artst:\n",
    "        Artists.append(a.text)\n",
    "except InvalidSessionIdException as e:\n",
    "    driver=webdriver.Chrome(r\"C:\\Users\\Dell\\Downloads\\chromedriver_win32\\chromedriver.exe\")\n",
    "    url=\"https://en.wikipedia.org/wiki/List_of_most-viewed_YouTube_videos\"\n",
    "    driver.get(url)\n",
    "    time.sleep(3)\n",
    "    driver.get(driver.current_url)\n",
    "    search_artst=driver.find_elements_by_xpath(\"//div[@class='mw-parser-output']//table[3]//tbody//tr//td[3]\")\n",
    "    for a in search_artst:\n",
    "        Artists.append(a.text)\n",
    "except NoSuchElementException as e:\n",
    "    print(\"exception raised:\",e)\n",
    "    search_artst=driver.find_elements_by_xpath(\"//div[@class='mw-parser-output']//table[3]//tbody//tr//td[3]\")\n",
    "    Artists.append(a.text)\n",
    "    \n",
    "    \n",
    "Artists"
   ]
  },
  {
   "cell_type": "code",
   "execution_count": 10,
   "metadata": {},
   "outputs": [
    {
     "data": {
      "text/plain": [
       "['June 17, 2016',\n",
       " 'January 12, 2017',\n",
       " 'October 8, 2016',\n",
       " 'January 30, 2017',\n",
       " 'April 6, 2015',\n",
       " 'May 2, 2018',\n",
       " 'February 27, 2018',\n",
       " 'January 31, 2012',\n",
       " 'November 19, 2014',\n",
       " 'March 6, 2014',\n",
       " 'July 15, 2012',\n",
       " 'April 5, 2018',\n",
       " 'January 14, 2015',\n",
       " 'October 22, 2015',\n",
       " 'September 5, 2013',\n",
       " 'May 31, 2013',\n",
       " 'October 7, 2014',\n",
       " 'May 24, 2018',\n",
       " 'December 3, 2015',\n",
       " 'February 20, 2014',\n",
       " 'May 31, 2018',\n",
       " 'March 22, 2015',\n",
       " 'April 11, 2014',\n",
       " 'August 18, 2014',\n",
       " 'July 25, 2012',\n",
       " 'June 16, 2009',\n",
       " 'November 9, 2017',\n",
       " 'June 29, 2017',\n",
       " 'June 4, 2010',\n",
       " 'October 22, 2015']"
      ]
     },
     "execution_count": 10,
     "metadata": {},
     "output_type": "execute_result"
    }
   ],
   "source": [
    "Upload_date=[]\n",
    "try:\n",
    "    \n",
    "    search_date=driver.find_elements_by_xpath(\"//div[@class='mw-parser-output']//table[3]//tbody//tr//td[5]\")\n",
    "    for a in search_date:\n",
    "        Upload_date.append(a.text)\n",
    "\n",
    "except NoSuchElementException as e:\n",
    "    print(\"exception raised:\",e)\n",
    "    search_date=driver.find_elements_by_xpath(\"//div[@class='mw-parser-output']//table[3]//tbody//tr//td[5]\")\n",
    "    Upload_date.append(a.text)\n",
    "    \n",
    "    \n",
    "Upload_date"
   ]
  },
  {
   "cell_type": "code",
   "execution_count": 11,
   "metadata": {},
   "outputs": [
    {
     "data": {
      "text/plain": [
       "['9.58',\n",
       " '7.61',\n",
       " '5.85',\n",
       " '5.51',\n",
       " '5.31',\n",
       " '4.60',\n",
       " '4.53',\n",
       " '4.47',\n",
       " '4.34',\n",
       " '4.27',\n",
       " '4.24',\n",
       " '3.67',\n",
       " '3.58',\n",
       " '3.48',\n",
       " '3.46',\n",
       " '3.43',\n",
       " '3.35',\n",
       " '3.33',\n",
       " '3.17',\n",
       " '3.17',\n",
       " '3.16',\n",
       " '3.12',\n",
       " '3.12',\n",
       " '3.11',\n",
       " '3.11',\n",
       " '3.08',\n",
       " '3.00',\n",
       " '3.00',\n",
       " '2.98',\n",
       " '2.90']"
      ]
     },
     "execution_count": 11,
     "metadata": {},
     "output_type": "execute_result"
    }
   ],
   "source": [
    "Views=[]\n",
    "try:\n",
    "    \n",
    "    search_views=driver.find_elements_by_xpath(\"//div[@class='mw-parser-output']//table[3]//tbody//tr//td[4]\")\n",
    "    for a in search_views:\n",
    "        Views.append(a.text)\n",
    "\n",
    "except NoSuchElementException as e:\n",
    "    print(\"exception raised:\",e)\n",
    "    search_views=driver.find_elements_by_xpath(\"//div[@class='mw-parser-output']//table[3]//tbody//tr//td[4]\")\n",
    "    Views.append(a.text)\n",
    "    \n",
    "    \n",
    "Views"
   ]
  },
  {
   "cell_type": "code",
   "execution_count": 13,
   "metadata": {},
   "outputs": [
    {
     "data": {
      "text/html": [
       "<style  type=\"text/css\" >\n",
       "</style><table id=\"T_d8256778_409c_11ec_bdc1_74867a516d39\" ><thead>    <tr>        <th class=\"col_heading level0 col0\" >Rank</th>        <th class=\"col_heading level0 col1\" >Video Names</th>        <th class=\"col_heading level0 col2\" >Artist</th>        <th class=\"col_heading level0 col3\" >Upload date</th>        <th class=\"col_heading level0 col4\" >Views (Billions)</th>    </tr></thead><tbody>\n",
       "                <tr>\n",
       "                                <td id=\"T_d8256778_409c_11ec_bdc1_74867a516d39row0_col0\" class=\"data row0 col0\" >1.</td>\n",
       "                        <td id=\"T_d8256778_409c_11ec_bdc1_74867a516d39row0_col1\" class=\"data row0 col1\" >\"Baby Shark Dance\"</td>\n",
       "                        <td id=\"T_d8256778_409c_11ec_bdc1_74867a516d39row0_col2\" class=\"data row0 col2\" >Pinkfong Baby Shark - Kids' Songs & Stories</td>\n",
       "                        <td id=\"T_d8256778_409c_11ec_bdc1_74867a516d39row0_col3\" class=\"data row0 col3\" >June 17, 2016</td>\n",
       "                        <td id=\"T_d8256778_409c_11ec_bdc1_74867a516d39row0_col4\" class=\"data row0 col4\" >9.58</td>\n",
       "            </tr>\n",
       "            <tr>\n",
       "                                <td id=\"T_d8256778_409c_11ec_bdc1_74867a516d39row1_col0\" class=\"data row1 col0\" >2.</td>\n",
       "                        <td id=\"T_d8256778_409c_11ec_bdc1_74867a516d39row1_col1\" class=\"data row1 col1\" >\"Despacito\"</td>\n",
       "                        <td id=\"T_d8256778_409c_11ec_bdc1_74867a516d39row1_col2\" class=\"data row1 col2\" >Luis Fonsi</td>\n",
       "                        <td id=\"T_d8256778_409c_11ec_bdc1_74867a516d39row1_col3\" class=\"data row1 col3\" >January 12, 2017</td>\n",
       "                        <td id=\"T_d8256778_409c_11ec_bdc1_74867a516d39row1_col4\" class=\"data row1 col4\" >7.61</td>\n",
       "            </tr>\n",
       "            <tr>\n",
       "                                <td id=\"T_d8256778_409c_11ec_bdc1_74867a516d39row2_col0\" class=\"data row2 col0\" >3.</td>\n",
       "                        <td id=\"T_d8256778_409c_11ec_bdc1_74867a516d39row2_col1\" class=\"data row2 col1\" >\"Johny Johny Yes Papa\"</td>\n",
       "                        <td id=\"T_d8256778_409c_11ec_bdc1_74867a516d39row2_col2\" class=\"data row2 col2\" >LooLoo Kids</td>\n",
       "                        <td id=\"T_d8256778_409c_11ec_bdc1_74867a516d39row2_col3\" class=\"data row2 col3\" >October 8, 2016</td>\n",
       "                        <td id=\"T_d8256778_409c_11ec_bdc1_74867a516d39row2_col4\" class=\"data row2 col4\" >5.85</td>\n",
       "            </tr>\n",
       "            <tr>\n",
       "                                <td id=\"T_d8256778_409c_11ec_bdc1_74867a516d39row3_col0\" class=\"data row3 col0\" >4.</td>\n",
       "                        <td id=\"T_d8256778_409c_11ec_bdc1_74867a516d39row3_col1\" class=\"data row3 col1\" >\"Shape of You\"</td>\n",
       "                        <td id=\"T_d8256778_409c_11ec_bdc1_74867a516d39row3_col2\" class=\"data row3 col2\" >Ed Sheeran</td>\n",
       "                        <td id=\"T_d8256778_409c_11ec_bdc1_74867a516d39row3_col3\" class=\"data row3 col3\" >January 30, 2017</td>\n",
       "                        <td id=\"T_d8256778_409c_11ec_bdc1_74867a516d39row3_col4\" class=\"data row3 col4\" >5.51</td>\n",
       "            </tr>\n",
       "            <tr>\n",
       "                                <td id=\"T_d8256778_409c_11ec_bdc1_74867a516d39row4_col0\" class=\"data row4 col0\" >5.</td>\n",
       "                        <td id=\"T_d8256778_409c_11ec_bdc1_74867a516d39row4_col1\" class=\"data row4 col1\" >\"See You Again\"</td>\n",
       "                        <td id=\"T_d8256778_409c_11ec_bdc1_74867a516d39row4_col2\" class=\"data row4 col2\" >Wiz Khalifa</td>\n",
       "                        <td id=\"T_d8256778_409c_11ec_bdc1_74867a516d39row4_col3\" class=\"data row4 col3\" >April 6, 2015</td>\n",
       "                        <td id=\"T_d8256778_409c_11ec_bdc1_74867a516d39row4_col4\" class=\"data row4 col4\" >5.31</td>\n",
       "            </tr>\n",
       "            <tr>\n",
       "                                <td id=\"T_d8256778_409c_11ec_bdc1_74867a516d39row5_col0\" class=\"data row5 col0\" >6.</td>\n",
       "                        <td id=\"T_d8256778_409c_11ec_bdc1_74867a516d39row5_col1\" class=\"data row5 col1\" >\"Bath Song\"</td>\n",
       "                        <td id=\"T_d8256778_409c_11ec_bdc1_74867a516d39row5_col2\" class=\"data row5 col2\" >Cocomelon – Nursery Rhymes</td>\n",
       "                        <td id=\"T_d8256778_409c_11ec_bdc1_74867a516d39row5_col3\" class=\"data row5 col3\" >May 2, 2018</td>\n",
       "                        <td id=\"T_d8256778_409c_11ec_bdc1_74867a516d39row5_col4\" class=\"data row5 col4\" >4.60</td>\n",
       "            </tr>\n",
       "            <tr>\n",
       "                                <td id=\"T_d8256778_409c_11ec_bdc1_74867a516d39row6_col0\" class=\"data row6 col0\" >7.</td>\n",
       "                        <td id=\"T_d8256778_409c_11ec_bdc1_74867a516d39row6_col1\" class=\"data row6 col1\" >\"Learning Colors – Colorful Eggs on a Farm\"</td>\n",
       "                        <td id=\"T_d8256778_409c_11ec_bdc1_74867a516d39row6_col2\" class=\"data row6 col2\" >Miroshka TV</td>\n",
       "                        <td id=\"T_d8256778_409c_11ec_bdc1_74867a516d39row6_col3\" class=\"data row6 col3\" >February 27, 2018</td>\n",
       "                        <td id=\"T_d8256778_409c_11ec_bdc1_74867a516d39row6_col4\" class=\"data row6 col4\" >4.53</td>\n",
       "            </tr>\n",
       "            <tr>\n",
       "                                <td id=\"T_d8256778_409c_11ec_bdc1_74867a516d39row7_col0\" class=\"data row7 col0\" >8.</td>\n",
       "                        <td id=\"T_d8256778_409c_11ec_bdc1_74867a516d39row7_col1\" class=\"data row7 col1\" >\"Masha and the Bear – Recipe for Disaster\"</td>\n",
       "                        <td id=\"T_d8256778_409c_11ec_bdc1_74867a516d39row7_col2\" class=\"data row7 col2\" >Get Movies</td>\n",
       "                        <td id=\"T_d8256778_409c_11ec_bdc1_74867a516d39row7_col3\" class=\"data row7 col3\" >January 31, 2012</td>\n",
       "                        <td id=\"T_d8256778_409c_11ec_bdc1_74867a516d39row7_col4\" class=\"data row7 col4\" >4.47</td>\n",
       "            </tr>\n",
       "            <tr>\n",
       "                                <td id=\"T_d8256778_409c_11ec_bdc1_74867a516d39row8_col0\" class=\"data row8 col0\" >9.</td>\n",
       "                        <td id=\"T_d8256778_409c_11ec_bdc1_74867a516d39row8_col1\" class=\"data row8 col1\" >\"Uptown Funk\"</td>\n",
       "                        <td id=\"T_d8256778_409c_11ec_bdc1_74867a516d39row8_col2\" class=\"data row8 col2\" >Mark Ronson</td>\n",
       "                        <td id=\"T_d8256778_409c_11ec_bdc1_74867a516d39row8_col3\" class=\"data row8 col3\" >November 19, 2014</td>\n",
       "                        <td id=\"T_d8256778_409c_11ec_bdc1_74867a516d39row8_col4\" class=\"data row8 col4\" >4.34</td>\n",
       "            </tr>\n",
       "            <tr>\n",
       "                                <td id=\"T_d8256778_409c_11ec_bdc1_74867a516d39row9_col0\" class=\"data row9 col0\" >10.</td>\n",
       "                        <td id=\"T_d8256778_409c_11ec_bdc1_74867a516d39row9_col1\" class=\"data row9 col1\" >\"Phonics Song with Two Words\"</td>\n",
       "                        <td id=\"T_d8256778_409c_11ec_bdc1_74867a516d39row9_col2\" class=\"data row9 col2\" >ChuChu TV</td>\n",
       "                        <td id=\"T_d8256778_409c_11ec_bdc1_74867a516d39row9_col3\" class=\"data row9 col3\" >March 6, 2014</td>\n",
       "                        <td id=\"T_d8256778_409c_11ec_bdc1_74867a516d39row9_col4\" class=\"data row9 col4\" >4.27</td>\n",
       "            </tr>\n",
       "            <tr>\n",
       "                                <td id=\"T_d8256778_409c_11ec_bdc1_74867a516d39row10_col0\" class=\"data row10 col0\" >11.</td>\n",
       "                        <td id=\"T_d8256778_409c_11ec_bdc1_74867a516d39row10_col1\" class=\"data row10 col1\" >\"Gangnam Style\"</td>\n",
       "                        <td id=\"T_d8256778_409c_11ec_bdc1_74867a516d39row10_col2\" class=\"data row10 col2\" >Psy</td>\n",
       "                        <td id=\"T_d8256778_409c_11ec_bdc1_74867a516d39row10_col3\" class=\"data row10 col3\" >July 15, 2012</td>\n",
       "                        <td id=\"T_d8256778_409c_11ec_bdc1_74867a516d39row10_col4\" class=\"data row10 col4\" >4.24</td>\n",
       "            </tr>\n",
       "            <tr>\n",
       "                                <td id=\"T_d8256778_409c_11ec_bdc1_74867a516d39row11_col0\" class=\"data row11 col0\" >12.</td>\n",
       "                        <td id=\"T_d8256778_409c_11ec_bdc1_74867a516d39row11_col1\" class=\"data row11 col1\" >\"Dame Tu Cosita\"</td>\n",
       "                        <td id=\"T_d8256778_409c_11ec_bdc1_74867a516d39row11_col2\" class=\"data row11 col2\" >El Chombo</td>\n",
       "                        <td id=\"T_d8256778_409c_11ec_bdc1_74867a516d39row11_col3\" class=\"data row11 col3\" >April 5, 2018</td>\n",
       "                        <td id=\"T_d8256778_409c_11ec_bdc1_74867a516d39row11_col4\" class=\"data row11 col4\" >3.67</td>\n",
       "            </tr>\n",
       "            <tr>\n",
       "                                <td id=\"T_d8256778_409c_11ec_bdc1_74867a516d39row12_col0\" class=\"data row12 col0\" >13.</td>\n",
       "                        <td id=\"T_d8256778_409c_11ec_bdc1_74867a516d39row12_col1\" class=\"data row12 col1\" >\"Sugar\"</td>\n",
       "                        <td id=\"T_d8256778_409c_11ec_bdc1_74867a516d39row12_col2\" class=\"data row12 col2\" >Maroon 5</td>\n",
       "                        <td id=\"T_d8256778_409c_11ec_bdc1_74867a516d39row12_col3\" class=\"data row12 col3\" >January 14, 2015</td>\n",
       "                        <td id=\"T_d8256778_409c_11ec_bdc1_74867a516d39row12_col4\" class=\"data row12 col4\" >3.58</td>\n",
       "            </tr>\n",
       "            <tr>\n",
       "                                <td id=\"T_d8256778_409c_11ec_bdc1_74867a516d39row13_col0\" class=\"data row13 col0\" >14.</td>\n",
       "                        <td id=\"T_d8256778_409c_11ec_bdc1_74867a516d39row13_col1\" class=\"data row13 col1\" >\"Sorry\"</td>\n",
       "                        <td id=\"T_d8256778_409c_11ec_bdc1_74867a516d39row13_col2\" class=\"data row13 col2\" >Justin Bieber</td>\n",
       "                        <td id=\"T_d8256778_409c_11ec_bdc1_74867a516d39row13_col3\" class=\"data row13 col3\" >October 22, 2015</td>\n",
       "                        <td id=\"T_d8256778_409c_11ec_bdc1_74867a516d39row13_col4\" class=\"data row13 col4\" >3.48</td>\n",
       "            </tr>\n",
       "            <tr>\n",
       "                                <td id=\"T_d8256778_409c_11ec_bdc1_74867a516d39row14_col0\" class=\"data row14 col0\" >15.</td>\n",
       "                        <td id=\"T_d8256778_409c_11ec_bdc1_74867a516d39row14_col1\" class=\"data row14 col1\" >\"Roar\"</td>\n",
       "                        <td id=\"T_d8256778_409c_11ec_bdc1_74867a516d39row14_col2\" class=\"data row14 col2\" >Katy Perry</td>\n",
       "                        <td id=\"T_d8256778_409c_11ec_bdc1_74867a516d39row14_col3\" class=\"data row14 col3\" >September 5, 2013</td>\n",
       "                        <td id=\"T_d8256778_409c_11ec_bdc1_74867a516d39row14_col4\" class=\"data row14 col4\" >3.46</td>\n",
       "            </tr>\n",
       "            <tr>\n",
       "                                <td id=\"T_d8256778_409c_11ec_bdc1_74867a516d39row15_col0\" class=\"data row15 col0\" >16.</td>\n",
       "                        <td id=\"T_d8256778_409c_11ec_bdc1_74867a516d39row15_col1\" class=\"data row15 col1\" >\"Counting Stars\"</td>\n",
       "                        <td id=\"T_d8256778_409c_11ec_bdc1_74867a516d39row15_col2\" class=\"data row15 col2\" >OneRepublic</td>\n",
       "                        <td id=\"T_d8256778_409c_11ec_bdc1_74867a516d39row15_col3\" class=\"data row15 col3\" >May 31, 2013</td>\n",
       "                        <td id=\"T_d8256778_409c_11ec_bdc1_74867a516d39row15_col4\" class=\"data row15 col4\" >3.43</td>\n",
       "            </tr>\n",
       "            <tr>\n",
       "                                <td id=\"T_d8256778_409c_11ec_bdc1_74867a516d39row16_col0\" class=\"data row16 col0\" >17.</td>\n",
       "                        <td id=\"T_d8256778_409c_11ec_bdc1_74867a516d39row16_col1\" class=\"data row16 col1\" >\"Thinking Out Loud\"</td>\n",
       "                        <td id=\"T_d8256778_409c_11ec_bdc1_74867a516d39row16_col2\" class=\"data row16 col2\" >Ed Sheeran</td>\n",
       "                        <td id=\"T_d8256778_409c_11ec_bdc1_74867a516d39row16_col3\" class=\"data row16 col3\" >October 7, 2014</td>\n",
       "                        <td id=\"T_d8256778_409c_11ec_bdc1_74867a516d39row16_col4\" class=\"data row16 col4\" >3.35</td>\n",
       "            </tr>\n",
       "            <tr>\n",
       "                                <td id=\"T_d8256778_409c_11ec_bdc1_74867a516d39row17_col0\" class=\"data row17 col0\" >18.</td>\n",
       "                        <td id=\"T_d8256778_409c_11ec_bdc1_74867a516d39row17_col1\" class=\"data row17 col1\" >\"Wheels on the Bus\"</td>\n",
       "                        <td id=\"T_d8256778_409c_11ec_bdc1_74867a516d39row17_col2\" class=\"data row17 col2\" >Cocomelon – Nursery Rhymes</td>\n",
       "                        <td id=\"T_d8256778_409c_11ec_bdc1_74867a516d39row17_col3\" class=\"data row17 col3\" >May 24, 2018</td>\n",
       "                        <td id=\"T_d8256778_409c_11ec_bdc1_74867a516d39row17_col4\" class=\"data row17 col4\" >3.33</td>\n",
       "            </tr>\n",
       "            <tr>\n",
       "                                <td id=\"T_d8256778_409c_11ec_bdc1_74867a516d39row18_col0\" class=\"data row18 col0\" >19.</td>\n",
       "                        <td id=\"T_d8256778_409c_11ec_bdc1_74867a516d39row18_col1\" class=\"data row18 col1\" >\"Faded\"</td>\n",
       "                        <td id=\"T_d8256778_409c_11ec_bdc1_74867a516d39row18_col2\" class=\"data row18 col2\" >Alan Walker</td>\n",
       "                        <td id=\"T_d8256778_409c_11ec_bdc1_74867a516d39row18_col3\" class=\"data row18 col3\" >December 3, 2015</td>\n",
       "                        <td id=\"T_d8256778_409c_11ec_bdc1_74867a516d39row18_col4\" class=\"data row18 col4\" >3.17</td>\n",
       "            </tr>\n",
       "            <tr>\n",
       "                                <td id=\"T_d8256778_409c_11ec_bdc1_74867a516d39row19_col0\" class=\"data row19 col0\" >20.</td>\n",
       "                        <td id=\"T_d8256778_409c_11ec_bdc1_74867a516d39row19_col1\" class=\"data row19 col1\" >\"Dark Horse\"</td>\n",
       "                        <td id=\"T_d8256778_409c_11ec_bdc1_74867a516d39row19_col2\" class=\"data row19 col2\" >Katy Perry</td>\n",
       "                        <td id=\"T_d8256778_409c_11ec_bdc1_74867a516d39row19_col3\" class=\"data row19 col3\" >February 20, 2014</td>\n",
       "                        <td id=\"T_d8256778_409c_11ec_bdc1_74867a516d39row19_col4\" class=\"data row19 col4\" >3.17</td>\n",
       "            </tr>\n",
       "            <tr>\n",
       "                                <td id=\"T_d8256778_409c_11ec_bdc1_74867a516d39row20_col0\" class=\"data row20 col0\" >21.</td>\n",
       "                        <td id=\"T_d8256778_409c_11ec_bdc1_74867a516d39row20_col1\" class=\"data row20 col1\" >\"Girls Like You\"</td>\n",
       "                        <td id=\"T_d8256778_409c_11ec_bdc1_74867a516d39row20_col2\" class=\"data row20 col2\" >Maroon 5</td>\n",
       "                        <td id=\"T_d8256778_409c_11ec_bdc1_74867a516d39row20_col3\" class=\"data row20 col3\" >May 31, 2018</td>\n",
       "                        <td id=\"T_d8256778_409c_11ec_bdc1_74867a516d39row20_col4\" class=\"data row20 col4\" >3.16</td>\n",
       "            </tr>\n",
       "            <tr>\n",
       "                                <td id=\"T_d8256778_409c_11ec_bdc1_74867a516d39row21_col0\" class=\"data row21 col0\" >22.</td>\n",
       "                        <td id=\"T_d8256778_409c_11ec_bdc1_74867a516d39row21_col1\" class=\"data row21 col1\" >\"Lean On\"</td>\n",
       "                        <td id=\"T_d8256778_409c_11ec_bdc1_74867a516d39row21_col2\" class=\"data row21 col2\" >Major Lazer</td>\n",
       "                        <td id=\"T_d8256778_409c_11ec_bdc1_74867a516d39row21_col3\" class=\"data row21 col3\" >March 22, 2015</td>\n",
       "                        <td id=\"T_d8256778_409c_11ec_bdc1_74867a516d39row21_col4\" class=\"data row21 col4\" >3.12</td>\n",
       "            </tr>\n",
       "            <tr>\n",
       "                                <td id=\"T_d8256778_409c_11ec_bdc1_74867a516d39row22_col0\" class=\"data row22 col0\" >23.</td>\n",
       "                        <td id=\"T_d8256778_409c_11ec_bdc1_74867a516d39row22_col1\" class=\"data row22 col1\" >\"Bailando\"</td>\n",
       "                        <td id=\"T_d8256778_409c_11ec_bdc1_74867a516d39row22_col2\" class=\"data row22 col2\" >Enrique Iglesias</td>\n",
       "                        <td id=\"T_d8256778_409c_11ec_bdc1_74867a516d39row22_col3\" class=\"data row22 col3\" >April 11, 2014</td>\n",
       "                        <td id=\"T_d8256778_409c_11ec_bdc1_74867a516d39row22_col4\" class=\"data row22 col4\" >3.12</td>\n",
       "            </tr>\n",
       "            <tr>\n",
       "                                <td id=\"T_d8256778_409c_11ec_bdc1_74867a516d39row23_col0\" class=\"data row23 col0\" >24.</td>\n",
       "                        <td id=\"T_d8256778_409c_11ec_bdc1_74867a516d39row23_col1\" class=\"data row23 col1\" >\"Shake It Off\"</td>\n",
       "                        <td id=\"T_d8256778_409c_11ec_bdc1_74867a516d39row23_col2\" class=\"data row23 col2\" >Taylor Swift</td>\n",
       "                        <td id=\"T_d8256778_409c_11ec_bdc1_74867a516d39row23_col3\" class=\"data row23 col3\" >August 18, 2014</td>\n",
       "                        <td id=\"T_d8256778_409c_11ec_bdc1_74867a516d39row23_col4\" class=\"data row23 col4\" >3.11</td>\n",
       "            </tr>\n",
       "            <tr>\n",
       "                                <td id=\"T_d8256778_409c_11ec_bdc1_74867a516d39row24_col0\" class=\"data row24 col0\" >25.</td>\n",
       "                        <td id=\"T_d8256778_409c_11ec_bdc1_74867a516d39row24_col1\" class=\"data row24 col1\" >\"Let Her Go\"</td>\n",
       "                        <td id=\"T_d8256778_409c_11ec_bdc1_74867a516d39row24_col2\" class=\"data row24 col2\" >Passenger</td>\n",
       "                        <td id=\"T_d8256778_409c_11ec_bdc1_74867a516d39row24_col3\" class=\"data row24 col3\" >July 25, 2012</td>\n",
       "                        <td id=\"T_d8256778_409c_11ec_bdc1_74867a516d39row24_col4\" class=\"data row24 col4\" >3.11</td>\n",
       "            </tr>\n",
       "            <tr>\n",
       "                                <td id=\"T_d8256778_409c_11ec_bdc1_74867a516d39row25_col0\" class=\"data row25 col0\" >26.</td>\n",
       "                        <td id=\"T_d8256778_409c_11ec_bdc1_74867a516d39row25_col1\" class=\"data row25 col1\" >\"Axel F\"</td>\n",
       "                        <td id=\"T_d8256778_409c_11ec_bdc1_74867a516d39row25_col2\" class=\"data row25 col2\" >Crazy Frog</td>\n",
       "                        <td id=\"T_d8256778_409c_11ec_bdc1_74867a516d39row25_col3\" class=\"data row25 col3\" >June 16, 2009</td>\n",
       "                        <td id=\"T_d8256778_409c_11ec_bdc1_74867a516d39row25_col4\" class=\"data row25 col4\" >3.08</td>\n",
       "            </tr>\n",
       "            <tr>\n",
       "                                <td id=\"T_d8256778_409c_11ec_bdc1_74867a516d39row26_col0\" class=\"data row26 col0\" >27.</td>\n",
       "                        <td id=\"T_d8256778_409c_11ec_bdc1_74867a516d39row26_col1\" class=\"data row26 col1\" >\"Perfect\"</td>\n",
       "                        <td id=\"T_d8256778_409c_11ec_bdc1_74867a516d39row26_col2\" class=\"data row26 col2\" >Ed Sheeran</td>\n",
       "                        <td id=\"T_d8256778_409c_11ec_bdc1_74867a516d39row26_col3\" class=\"data row26 col3\" >November 9, 2017</td>\n",
       "                        <td id=\"T_d8256778_409c_11ec_bdc1_74867a516d39row26_col4\" class=\"data row26 col4\" >3.00</td>\n",
       "            </tr>\n",
       "            <tr>\n",
       "                                <td id=\"T_d8256778_409c_11ec_bdc1_74867a516d39row27_col0\" class=\"data row27 col0\" >28.</td>\n",
       "                        <td id=\"T_d8256778_409c_11ec_bdc1_74867a516d39row27_col1\" class=\"data row27 col1\" >\"Mi Gente\"</td>\n",
       "                        <td id=\"T_d8256778_409c_11ec_bdc1_74867a516d39row27_col2\" class=\"data row27 col2\" >J Balvin</td>\n",
       "                        <td id=\"T_d8256778_409c_11ec_bdc1_74867a516d39row27_col3\" class=\"data row27 col3\" >June 29, 2017</td>\n",
       "                        <td id=\"T_d8256778_409c_11ec_bdc1_74867a516d39row27_col4\" class=\"data row27 col4\" >3.00</td>\n",
       "            </tr>\n",
       "            <tr>\n",
       "                                <td id=\"T_d8256778_409c_11ec_bdc1_74867a516d39row28_col0\" class=\"data row28 col0\" >29.</td>\n",
       "                        <td id=\"T_d8256778_409c_11ec_bdc1_74867a516d39row28_col1\" class=\"data row28 col1\" >\"Waka Waka (This Time for Africa)\"</td>\n",
       "                        <td id=\"T_d8256778_409c_11ec_bdc1_74867a516d39row28_col2\" class=\"data row28 col2\" >Shakira</td>\n",
       "                        <td id=\"T_d8256778_409c_11ec_bdc1_74867a516d39row28_col3\" class=\"data row28 col3\" >June 4, 2010</td>\n",
       "                        <td id=\"T_d8256778_409c_11ec_bdc1_74867a516d39row28_col4\" class=\"data row28 col4\" >2.98</td>\n",
       "            </tr>\n",
       "            <tr>\n",
       "                                <td id=\"T_d8256778_409c_11ec_bdc1_74867a516d39row29_col0\" class=\"data row29 col0\" >30.</td>\n",
       "                        <td id=\"T_d8256778_409c_11ec_bdc1_74867a516d39row29_col1\" class=\"data row29 col1\" >\"Hello\"</td>\n",
       "                        <td id=\"T_d8256778_409c_11ec_bdc1_74867a516d39row29_col2\" class=\"data row29 col2\" >Adele</td>\n",
       "                        <td id=\"T_d8256778_409c_11ec_bdc1_74867a516d39row29_col3\" class=\"data row29 col3\" >October 22, 2015</td>\n",
       "                        <td id=\"T_d8256778_409c_11ec_bdc1_74867a516d39row29_col4\" class=\"data row29 col4\" >2.90</td>\n",
       "            </tr>\n",
       "    </tbody></table>"
      ],
      "text/plain": [
       "<pandas.io.formats.style.Styler at 0x28c212e3a90>"
      ]
     },
     "execution_count": 13,
     "metadata": {},
     "output_type": "execute_result"
    }
   ],
   "source": [
    "import pandas as pd\n",
    "Youtubevid=pd.DataFrame({})\n",
    "Youtubevid['Rank']=ranks\n",
    "Youtubevid['Video Names']=names_list        \n",
    "Youtubevid['Artist']=Artists \n",
    "Youtubevid['Upload date']=Upload_date \n",
    "Youtubevid['Views (Billions)']=Views\n",
    "Youtubevid.style.hide_index()"
   ]
  },
  {
   "cell_type": "markdown",
   "metadata": {},
   "source": [
    "# Question No 2: Scrape the details team India’s international fixtures from bcci.tv.\n",
    "Url = https://www.bcci.tv/."
   ]
  },
  {
   "cell_type": "code",
   "execution_count": 14,
   "metadata": {},
   "outputs": [],
   "source": [
    "driver = webdriver.Chrome(r\"C:\\Users\\Dell\\Downloads\\chromedriver_win32\\chromedriver.exe\")"
   ]
  },
  {
   "cell_type": "code",
   "execution_count": 15,
   "metadata": {},
   "outputs": [],
   "source": [
    "url_1 = \"https://www.bcci.tv/international/fixtures\""
   ]
  },
  {
   "cell_type": "code",
   "execution_count": 16,
   "metadata": {},
   "outputs": [],
   "source": [
    "driver.get(url_1)"
   ]
  },
  {
   "cell_type": "code",
   "execution_count": 17,
   "metadata": {},
   "outputs": [],
   "source": [
    "#Creating Empty List:\n",
    "Team = []\n",
    "Ground = []\n",
    "Test_ODI = []"
   ]
  },
  {
   "cell_type": "code",
   "execution_count": 18,
   "metadata": {},
   "outputs": [
    {
     "name": "stdout",
     "output_type": "stream",
     "text": [
      "['INDIAvNAMIBIA', 'INDIAvNEW ZEALAND', 'INDIAvNEW ZEALAND', 'INDIAvNEW ZEALAND', 'INDIAvNEW ZEALAND', 'INDIAvNEW ZEALAND', 'INDIAvWEST INDIES', 'INDIAvWEST INDIES', 'INDIAvWEST INDIES', 'INDIAvWEST INDIES']\n"
     ]
    }
   ],
   "source": [
    "#scraping the tags for Teams name playing against India:\n",
    "team_names = driver.find_elements_by_xpath(\"//div[@class='fixture__teams']\")\n",
    "\n",
    "#Using for loop for iterations\n",
    "#Handling Null Values.\n",
    "for i in team_names:\n",
    "    if i.text is None:\n",
    "        Team.append(\" \") \n",
    "    else:\n",
    "        Team.append(i.text.replace('\\n','').strip())\n",
    "print(Team[0:10])"
   ]
  },
  {
   "cell_type": "code",
   "execution_count": 19,
   "metadata": {},
   "outputs": [
    {
     "name": "stdout",
     "output_type": "stream",
     "text": [
      "['Dubai International Stadium, Dubai', 'Sawai Mansingh Stadium, Jaipur', 'JSCA International Stadium Complex, Ranchi', 'Eden Gardens, Kolkata', 'Green Park, Kanpur', 'Wankhede Stadium, Mumbai', 'Narendra Modi Stadium, Ahmedabad', 'Sawai Mansingh Stadium, Jaipur', 'Eden Gardens, Kolkata', 'Barabati Stadium, Cuttack']\n"
     ]
    }
   ],
   "source": [
    "#scraping the tags for Ground Name:\n",
    "ground_name = driver.find_elements_by_xpath(\"//p[@class='fixture__additional-info']/span\")\n",
    "\n",
    "#Using for loop for iterations\n",
    "#Handling Null Values.\n",
    "for i in ground_name:\n",
    "    if i.text is None:\n",
    "        Ground.append(\" \") \n",
    "    else:\n",
    "        Ground.append(i.text.replace('\\n','').strip())\n",
    "print(Ground[0:10])"
   ]
  },
  {
   "cell_type": "code",
   "execution_count": 20,
   "metadata": {},
   "outputs": [
    {
     "name": "stdout",
     "output_type": "stream",
     "text": [
      "['Match 42', '1st T20I', '2nd T20I', '3rd T20I', '1st Test', '2nd Test', '1st ODI', '2nd ODI', '3rd ODI', '1st T20I']\n"
     ]
    }
   ],
   "source": [
    "#scraping the tags for test and ODI:\n",
    "matches = driver.find_elements_by_xpath(\"//p[@class='fixture__additional-info']/strong\")\n",
    "\n",
    "#Using for loop for iterations\n",
    "#Handling Null Values.\n",
    "for i in matches:\n",
    "    if i.text is None:\n",
    "        Test_ODI.append(\" \") \n",
    "    else:\n",
    "        Test_ODI.append(i.text.replace('\\n','').strip())\n",
    "print(Test_ODI[0:10])"
   ]
  },
  {
   "cell_type": "code",
   "execution_count": 21,
   "metadata": {},
   "outputs": [
    {
     "data": {
      "text/html": [
       "<div>\n",
       "<style scoped>\n",
       "    .dataframe tbody tr th:only-of-type {\n",
       "        vertical-align: middle;\n",
       "    }\n",
       "\n",
       "    .dataframe tbody tr th {\n",
       "        vertical-align: top;\n",
       "    }\n",
       "\n",
       "    .dataframe thead th {\n",
       "        text-align: right;\n",
       "    }\n",
       "</style>\n",
       "<table border=\"1\" class=\"dataframe\">\n",
       "  <thead>\n",
       "    <tr style=\"text-align: right;\">\n",
       "      <th></th>\n",
       "      <th>Team</th>\n",
       "      <th>Series</th>\n",
       "      <th>Ground</th>\n",
       "    </tr>\n",
       "  </thead>\n",
       "  <tbody>\n",
       "    <tr>\n",
       "      <th>0</th>\n",
       "      <td>INDIAvNAMIBIA</td>\n",
       "      <td>Match 42</td>\n",
       "      <td>Dubai International Stadium, Dubai</td>\n",
       "    </tr>\n",
       "    <tr>\n",
       "      <th>1</th>\n",
       "      <td>INDIAvNEW ZEALAND</td>\n",
       "      <td>1st T20I</td>\n",
       "      <td>Sawai Mansingh Stadium, Jaipur</td>\n",
       "    </tr>\n",
       "    <tr>\n",
       "      <th>2</th>\n",
       "      <td>INDIAvNEW ZEALAND</td>\n",
       "      <td>2nd T20I</td>\n",
       "      <td>JSCA International Stadium Complex, Ranchi</td>\n",
       "    </tr>\n",
       "    <tr>\n",
       "      <th>3</th>\n",
       "      <td>INDIAvNEW ZEALAND</td>\n",
       "      <td>3rd T20I</td>\n",
       "      <td>Eden Gardens, Kolkata</td>\n",
       "    </tr>\n",
       "    <tr>\n",
       "      <th>4</th>\n",
       "      <td>INDIAvNEW ZEALAND</td>\n",
       "      <td>1st Test</td>\n",
       "      <td>Green Park, Kanpur</td>\n",
       "    </tr>\n",
       "    <tr>\n",
       "      <th>5</th>\n",
       "      <td>INDIAvNEW ZEALAND</td>\n",
       "      <td>2nd Test</td>\n",
       "      <td>Wankhede Stadium, Mumbai</td>\n",
       "    </tr>\n",
       "    <tr>\n",
       "      <th>6</th>\n",
       "      <td>INDIAvWEST INDIES</td>\n",
       "      <td>1st ODI</td>\n",
       "      <td>Narendra Modi Stadium, Ahmedabad</td>\n",
       "    </tr>\n",
       "    <tr>\n",
       "      <th>7</th>\n",
       "      <td>INDIAvWEST INDIES</td>\n",
       "      <td>2nd ODI</td>\n",
       "      <td>Sawai Mansingh Stadium, Jaipur</td>\n",
       "    </tr>\n",
       "    <tr>\n",
       "      <th>8</th>\n",
       "      <td>INDIAvWEST INDIES</td>\n",
       "      <td>3rd ODI</td>\n",
       "      <td>Eden Gardens, Kolkata</td>\n",
       "    </tr>\n",
       "    <tr>\n",
       "      <th>9</th>\n",
       "      <td>INDIAvWEST INDIES</td>\n",
       "      <td>1st T20I</td>\n",
       "      <td>Barabati Stadium, Cuttack</td>\n",
       "    </tr>\n",
       "  </tbody>\n",
       "</table>\n",
       "</div>"
      ],
      "text/plain": [
       "                Team    Series                                      Ground\n",
       "0      INDIAvNAMIBIA  Match 42          Dubai International Stadium, Dubai\n",
       "1  INDIAvNEW ZEALAND  1st T20I              Sawai Mansingh Stadium, Jaipur\n",
       "2  INDIAvNEW ZEALAND  2nd T20I  JSCA International Stadium Complex, Ranchi\n",
       "3  INDIAvNEW ZEALAND  3rd T20I                       Eden Gardens, Kolkata\n",
       "4  INDIAvNEW ZEALAND  1st Test                          Green Park, Kanpur\n",
       "5  INDIAvNEW ZEALAND  2nd Test                    Wankhede Stadium, Mumbai\n",
       "6  INDIAvWEST INDIES   1st ODI            Narendra Modi Stadium, Ahmedabad\n",
       "7  INDIAvWEST INDIES   2nd ODI              Sawai Mansingh Stadium, Jaipur\n",
       "8  INDIAvWEST INDIES   3rd ODI                       Eden Gardens, Kolkata\n",
       "9  INDIAvWEST INDIES  1st T20I                   Barabati Stadium, Cuttack"
      ]
     },
     "execution_count": 21,
     "metadata": {},
     "output_type": "execute_result"
    }
   ],
   "source": [
    "#Defing a Dataframe:\n",
    "fix=pd.DataFrame([])\n",
    "fix['Team'] = Team[0:10]\n",
    "fix['Series'] = Test_ODI[0:10]\n",
    "fix['Ground'] = Ground[0:10]\n",
    "fix.head(10)"
   ]
  },
  {
   "cell_type": "markdown",
   "metadata": {},
   "source": [
    "# Question No 3: Scrape the details of selenium exception from guru99.com.\n",
    "Url = https://www.guru99.com/"
   ]
  },
  {
   "cell_type": "code",
   "execution_count": 128,
   "metadata": {},
   "outputs": [],
   "source": [
    "driver = webdriver.Chrome(r\"C:\\Users\\Dell\\Downloads\\chromedriver_win32\\chromedriver.exe\")\n",
    "url_2 = \"https://www.guru99.com/\""
   ]
  },
  {
   "cell_type": "code",
   "execution_count": 129,
   "metadata": {},
   "outputs": [],
   "source": [
    "driver.get(url_2)"
   ]
  },
  {
   "cell_type": "code",
   "execution_count": 130,
   "metadata": {},
   "outputs": [],
   "source": [
    "import time\n"
   ]
  },
  {
   "cell_type": "code",
   "execution_count": 131,
   "metadata": {},
   "outputs": [],
   "source": [
    "time.sleep(10)"
   ]
  },
  {
   "cell_type": "code",
   "execution_count": 132,
   "metadata": {},
   "outputs": [],
   "source": [
    "search_bar2=driver.find_element_by_xpath(\"//input[@class='gsc-input']\")"
   ]
  },
  {
   "cell_type": "code",
   "execution_count": 133,
   "metadata": {},
   "outputs": [],
   "source": [
    "try:\n",
    "    search_bar2.send_keys(\"Selenium Exception Handling\")\n",
    "except ElementNotInteractableException as e:\n",
    "    search_bar2.send_keys(\"Selenium Exception Handling\")"
   ]
  },
  {
   "cell_type": "code",
   "execution_count": 134,
   "metadata": {},
   "outputs": [],
   "source": [
    "time.sleep(1)"
   ]
  },
  {
   "cell_type": "code",
   "execution_count": 135,
   "metadata": {},
   "outputs": [],
   "source": [
    "try:\n",
    "    search_btn=driver.find_element_by_xpath(\"//td[@class='gsc-search-button']\")\n",
    "except NoSuchElementException as e:\n",
    "    search_btn=driver.find_element_by_xpath(\"//td[@class='gsc-search-button']\")"
   ]
  },
  {
   "cell_type": "code",
   "execution_count": 136,
   "metadata": {},
   "outputs": [],
   "source": [
    "try:  \n",
    "    search_btn.click()\n",
    "except StaleElementReferenceException as e:\n",
    "    search_btn.click()"
   ]
  },
  {
   "cell_type": "code",
   "execution_count": 137,
   "metadata": {},
   "outputs": [],
   "source": [
    "try:\n",
    "    search_btn1=driver.find_element_by_xpath(\"//a[@data-ctorig='https://www.guru99.com/exception-handling-selenium.html']\")\n",
    "except NoSuchElementException as e:\n",
    "    search_btn1=driver.find_element_by_xpath(\"//a[@data-ctorig='https://www.guru99.com/exception-handling-selenium.html']\")"
   ]
  },
  {
   "cell_type": "code",
   "execution_count": null,
   "metadata": {},
   "outputs": [],
   "source": []
  },
  {
   "cell_type": "code",
   "execution_count": 138,
   "metadata": {},
   "outputs": [
    {
     "data": {
      "text/plain": [
       "['ElementNotVisibleException',\n",
       " 'ElementNotSelectableException',\n",
       " 'NoSuchElementException',\n",
       " 'NoSuchFrameException',\n",
       " 'NoAlertPresentException',\n",
       " 'NoSuchWindowException',\n",
       " 'StaleElementReferenceException',\n",
       " 'SessionNotFoundException',\n",
       " 'TimeoutException',\n",
       " 'WebDriverException',\n",
       " 'ConnectionClosedException',\n",
       " 'ElementClickInterceptedException',\n",
       " 'ElementNotInteractableException',\n",
       " 'ErrorInResponseException',\n",
       " 'ErrorHandler.UnknownServerException',\n",
       " 'ImeActivationFailedException',\n",
       " 'ImeNotAvailableException',\n",
       " 'InsecureCertificateException',\n",
       " 'InvalidArgumentException',\n",
       " 'InvalidCookieDomainException',\n",
       " 'InvalidCoordinatesException',\n",
       " 'InvalidElementStateExceptio',\n",
       " 'InvalidSessionIdException',\n",
       " 'InvalidSwitchToTargetException',\n",
       " 'JavascriptException',\n",
       " 'JsonException',\n",
       " 'NoSuchAttributeException',\n",
       " 'MoveTargetOutOfBoundsException',\n",
       " 'NoSuchContextException',\n",
       " 'NoSuchCookieException',\n",
       " 'NotFoundException',\n",
       " 'RemoteDriverServerException',\n",
       " 'ScreenshotException',\n",
       " 'SessionNotCreatedException',\n",
       " 'UnableToSetCookieException',\n",
       " 'UnexpectedTagNameException',\n",
       " 'UnhandledAlertException',\n",
       " 'UnexpectedAlertPresentException',\n",
       " 'UnknownMethodException',\n",
       " 'UnreachableBrowserException',\n",
       " 'UnsupportedCommandException']"
      ]
     },
     "execution_count": 138,
     "metadata": {},
     "output_type": "execute_result"
    }
   ],
   "source": [
    "exception_names=[]\n",
    "try:\n",
    "    next_link=search_btn1.get_attribute(\"href\")\n",
    "    search_btn1.click()\n",
    "    driver.get(next_link)\n",
    "    driver.get(driver.current_url)\n",
    "    search_exception_details=driver.find_elements_by_xpath(\"//table[@class='table table-striped']//tbody//tr//td[1]\")\n",
    "    for a in search_exception_details:\n",
    "        exception_names.append(a.text)\n",
    "        \n",
    "except StaleElementReferenceException as e:\n",
    "    next_link=search_btn1.get_attribute(\"href\")\n",
    "    search_btn1.click()\n",
    "    driver.get(next_link)\n",
    "    driver.get(driver.current_url)\n",
    "    search_exception_details=driver.find_elements_by_xpath(\"//table[@class='table table-striped']//tbody//tr//td[1]\")\n",
    "    for a in search_exception_details:\n",
    "        exception_names.append(a.text)\n",
    "\n",
    "\n",
    "exception_names"
   ]
  },
  {
   "cell_type": "code",
   "execution_count": 139,
   "metadata": {},
   "outputs": [],
   "source": [
    "driver.get(driver.current_url)"
   ]
  },
  {
   "cell_type": "code",
   "execution_count": 140,
   "metadata": {},
   "outputs": [
    {
     "data": {
      "text/plain": [
       "['This type of Selenium exception occurs when an existing element in DOM has a feature set as hidden.',\n",
       " 'This Selenium exception occurs when an element is presented in the DOM, but you can be able to select. Therefore, it is not possible to interact.',\n",
       " 'This Exception occurs if an element could not be found.',\n",
       " 'This Exception occurs if the frame target to be switched to does not exist.',\n",
       " 'This Exception occurs when you switch to no presented alert.',\n",
       " 'This Exception occurs if the window target to be switch does not exist.',\n",
       " 'This Selenium exception occurs happens when the web element is detached from the current DOM.',\n",
       " 'The WebDriver is acting after you quit the browser.',\n",
       " 'Thrown when there is not enough time for a command to be completed. For Example, the element searched wasn’t found in the specified time.',\n",
       " 'This Exception takes place when the WebDriver is acting right after you close the browser.',\n",
       " 'This type of Exception takes place when there is a disconnection in the driver.',\n",
       " 'The command may not be completed as the element receiving the events is concealing the element which was requested clicked.',\n",
       " 'This Selenium exception is thrown when any element is presented in the DOM. However, it is impossible to interact with such an element.',\n",
       " 'This happens while interacting with the Firefox extension or the remote driver server.',\n",
       " 'Exception is used as a placeholder in case if the server returns an error without a stack trace.',\n",
       " 'This expectation will occur when IME engine activation has failed.',\n",
       " 'It takes place when IME support is unavailable.',\n",
       " 'Navigation made the user agent to hit a certificate warning. This can cause by an invalid or expired TLS certificate.',\n",
       " 'It occurs when an argument does not belong to the expected type.',\n",
       " 'This happens when you try to add a cookie under a different domain instead of current URL.',\n",
       " 'This type of Exception matches an interacting operation that is not valid.',\n",
       " 'It occurs when command can’t be finished when the element is invalid.',\n",
       " 'This Exception took place when the given session ID is not included in the list of active sessions. It means the session does not exist or is inactive either.',\n",
       " 'This occurs when the frame or window target to be switched does not exist.',\n",
       " 'This issue occurs while executing JavaScript given by the user.',\n",
       " 'It occurs when you afford to get the session when the session is not created.',\n",
       " 'This kind of Exception occurs when the attribute of an element could not be found.',\n",
       " 'It takes place if the target provided to the ActionChains move() methodology is not valid. For Example, out of the document.',\n",
       " 'ContextAware does mobile device testing.',\n",
       " 'This Exception occurs when no cookie matching with the given pathname found for all the associated cookies of the currently browsing document.',\n",
       " 'This Exception is a subclass of WebDriverException. This will occur when an element on the DOM does not exist.',\n",
       " 'This Selenium exception is thrown when the server is not responding because of the problem that the capabilities described are not proper.',\n",
       " 'It is not possible to capture a screen.',\n",
       " 'It happens when a new session could not be successfully created.',\n",
       " 'This occurs if a driver is unable to set a cookie.',\n",
       " 'Happens if a support class did not get a web element as expected.',\n",
       " 'This expectation occurs when there is an alert, but WebDriver is not able to perform Alert operation.',\n",
       " 'It occurs when there is the appearance of an unexpected alert.',\n",
       " 'This Exception happens when the requested command matches with a known URL but and not matching with a methodology for a specific URL.',\n",
       " 'This Exception occurs only when the browser is not able to be opened or crashed because of some reason.',\n",
       " 'This occurs when remote WebDriver does n’t send valid commands as expected.']"
      ]
     },
     "execution_count": 140,
     "metadata": {},
     "output_type": "execute_result"
    }
   ],
   "source": [
    "exception_details=[]\n",
    "try:\n",
    "    \n",
    "    search_exception_details=driver.find_elements_by_xpath(\"//table[@class='table table-striped']//tbody//tr//td[2]\")\n",
    "    for a in search_exception_details:\n",
    "        exception_details.append(a.text)\n",
    "        \n",
    "except StaleElementReferenceException as e:\n",
    "    \n",
    "    search_exception_details=driver.find_elements_by_xpath(\"//table[@class='table table-striped']//tbody//tr//td[2]\")\n",
    "    for a in search_exception_details:\n",
    "        exception_details.append(a.text)\n",
    "\n",
    "\n",
    "exception_details"
   ]
  },
  {
   "cell_type": "code",
   "execution_count": 141,
   "metadata": {},
   "outputs": [],
   "source": [
    "Nos=[]\n",
    "for i in range(1,len(exception_names)+1):\n",
    "    Nos.append(i)"
   ]
  },
  {
   "cell_type": "code",
   "execution_count": 142,
   "metadata": {},
   "outputs": [
    {
     "data": {
      "text/html": [
       "<style  type=\"text/css\" >\n",
       "</style><table id=\"T_47a9e5ce_40a5_11ec_96cd_74867a516d39\" ><thead>    <tr>        <th class=\"col_heading level0 col0\" >Nos</th>        <th class=\"col_heading level0 col1\" >Exception name</th>        <th class=\"col_heading level0 col2\" >Description</th>    </tr></thead><tbody>\n",
       "                <tr>\n",
       "                                <td id=\"T_47a9e5ce_40a5_11ec_96cd_74867a516d39row0_col0\" class=\"data row0 col0\" >1</td>\n",
       "                        <td id=\"T_47a9e5ce_40a5_11ec_96cd_74867a516d39row0_col1\" class=\"data row0 col1\" >ElementNotVisibleException</td>\n",
       "                        <td id=\"T_47a9e5ce_40a5_11ec_96cd_74867a516d39row0_col2\" class=\"data row0 col2\" >This type of Selenium exception occurs when an existing element in DOM has a feature set as hidden.</td>\n",
       "            </tr>\n",
       "            <tr>\n",
       "                                <td id=\"T_47a9e5ce_40a5_11ec_96cd_74867a516d39row1_col0\" class=\"data row1 col0\" >2</td>\n",
       "                        <td id=\"T_47a9e5ce_40a5_11ec_96cd_74867a516d39row1_col1\" class=\"data row1 col1\" >ElementNotSelectableException</td>\n",
       "                        <td id=\"T_47a9e5ce_40a5_11ec_96cd_74867a516d39row1_col2\" class=\"data row1 col2\" >This Selenium exception occurs when an element is presented in the DOM, but you can be able to select. Therefore, it is not possible to interact.</td>\n",
       "            </tr>\n",
       "            <tr>\n",
       "                                <td id=\"T_47a9e5ce_40a5_11ec_96cd_74867a516d39row2_col0\" class=\"data row2 col0\" >3</td>\n",
       "                        <td id=\"T_47a9e5ce_40a5_11ec_96cd_74867a516d39row2_col1\" class=\"data row2 col1\" >NoSuchElementException</td>\n",
       "                        <td id=\"T_47a9e5ce_40a5_11ec_96cd_74867a516d39row2_col2\" class=\"data row2 col2\" >This Exception occurs if an element could not be found.</td>\n",
       "            </tr>\n",
       "            <tr>\n",
       "                                <td id=\"T_47a9e5ce_40a5_11ec_96cd_74867a516d39row3_col0\" class=\"data row3 col0\" >4</td>\n",
       "                        <td id=\"T_47a9e5ce_40a5_11ec_96cd_74867a516d39row3_col1\" class=\"data row3 col1\" >NoSuchFrameException</td>\n",
       "                        <td id=\"T_47a9e5ce_40a5_11ec_96cd_74867a516d39row3_col2\" class=\"data row3 col2\" >This Exception occurs if the frame target to be switched to does not exist.</td>\n",
       "            </tr>\n",
       "            <tr>\n",
       "                                <td id=\"T_47a9e5ce_40a5_11ec_96cd_74867a516d39row4_col0\" class=\"data row4 col0\" >5</td>\n",
       "                        <td id=\"T_47a9e5ce_40a5_11ec_96cd_74867a516d39row4_col1\" class=\"data row4 col1\" >NoAlertPresentException</td>\n",
       "                        <td id=\"T_47a9e5ce_40a5_11ec_96cd_74867a516d39row4_col2\" class=\"data row4 col2\" >This Exception occurs when you switch to no presented alert.</td>\n",
       "            </tr>\n",
       "            <tr>\n",
       "                                <td id=\"T_47a9e5ce_40a5_11ec_96cd_74867a516d39row5_col0\" class=\"data row5 col0\" >6</td>\n",
       "                        <td id=\"T_47a9e5ce_40a5_11ec_96cd_74867a516d39row5_col1\" class=\"data row5 col1\" >NoSuchWindowException</td>\n",
       "                        <td id=\"T_47a9e5ce_40a5_11ec_96cd_74867a516d39row5_col2\" class=\"data row5 col2\" >This Exception occurs if the window target to be switch does not exist.</td>\n",
       "            </tr>\n",
       "            <tr>\n",
       "                                <td id=\"T_47a9e5ce_40a5_11ec_96cd_74867a516d39row6_col0\" class=\"data row6 col0\" >7</td>\n",
       "                        <td id=\"T_47a9e5ce_40a5_11ec_96cd_74867a516d39row6_col1\" class=\"data row6 col1\" >StaleElementReferenceException</td>\n",
       "                        <td id=\"T_47a9e5ce_40a5_11ec_96cd_74867a516d39row6_col2\" class=\"data row6 col2\" >This Selenium exception occurs happens when the web element is detached from the current DOM.</td>\n",
       "            </tr>\n",
       "            <tr>\n",
       "                                <td id=\"T_47a9e5ce_40a5_11ec_96cd_74867a516d39row7_col0\" class=\"data row7 col0\" >8</td>\n",
       "                        <td id=\"T_47a9e5ce_40a5_11ec_96cd_74867a516d39row7_col1\" class=\"data row7 col1\" >SessionNotFoundException</td>\n",
       "                        <td id=\"T_47a9e5ce_40a5_11ec_96cd_74867a516d39row7_col2\" class=\"data row7 col2\" >The WebDriver is acting after you quit the browser.</td>\n",
       "            </tr>\n",
       "            <tr>\n",
       "                                <td id=\"T_47a9e5ce_40a5_11ec_96cd_74867a516d39row8_col0\" class=\"data row8 col0\" >9</td>\n",
       "                        <td id=\"T_47a9e5ce_40a5_11ec_96cd_74867a516d39row8_col1\" class=\"data row8 col1\" >TimeoutException</td>\n",
       "                        <td id=\"T_47a9e5ce_40a5_11ec_96cd_74867a516d39row8_col2\" class=\"data row8 col2\" >Thrown when there is not enough time for a command to be completed. For Example, the element searched wasn’t found in the specified time.</td>\n",
       "            </tr>\n",
       "            <tr>\n",
       "                                <td id=\"T_47a9e5ce_40a5_11ec_96cd_74867a516d39row9_col0\" class=\"data row9 col0\" >10</td>\n",
       "                        <td id=\"T_47a9e5ce_40a5_11ec_96cd_74867a516d39row9_col1\" class=\"data row9 col1\" >WebDriverException</td>\n",
       "                        <td id=\"T_47a9e5ce_40a5_11ec_96cd_74867a516d39row9_col2\" class=\"data row9 col2\" >This Exception takes place when the WebDriver is acting right after you close the browser.</td>\n",
       "            </tr>\n",
       "            <tr>\n",
       "                                <td id=\"T_47a9e5ce_40a5_11ec_96cd_74867a516d39row10_col0\" class=\"data row10 col0\" >11</td>\n",
       "                        <td id=\"T_47a9e5ce_40a5_11ec_96cd_74867a516d39row10_col1\" class=\"data row10 col1\" >ConnectionClosedException</td>\n",
       "                        <td id=\"T_47a9e5ce_40a5_11ec_96cd_74867a516d39row10_col2\" class=\"data row10 col2\" >This type of Exception takes place when there is a disconnection in the driver.</td>\n",
       "            </tr>\n",
       "            <tr>\n",
       "                                <td id=\"T_47a9e5ce_40a5_11ec_96cd_74867a516d39row11_col0\" class=\"data row11 col0\" >12</td>\n",
       "                        <td id=\"T_47a9e5ce_40a5_11ec_96cd_74867a516d39row11_col1\" class=\"data row11 col1\" >ElementClickInterceptedException</td>\n",
       "                        <td id=\"T_47a9e5ce_40a5_11ec_96cd_74867a516d39row11_col2\" class=\"data row11 col2\" >The command may not be completed as the element receiving the events is concealing the element which was requested clicked.</td>\n",
       "            </tr>\n",
       "            <tr>\n",
       "                                <td id=\"T_47a9e5ce_40a5_11ec_96cd_74867a516d39row12_col0\" class=\"data row12 col0\" >13</td>\n",
       "                        <td id=\"T_47a9e5ce_40a5_11ec_96cd_74867a516d39row12_col1\" class=\"data row12 col1\" >ElementNotInteractableException</td>\n",
       "                        <td id=\"T_47a9e5ce_40a5_11ec_96cd_74867a516d39row12_col2\" class=\"data row12 col2\" >This Selenium exception is thrown when any element is presented in the DOM. However, it is impossible to interact with such an element.</td>\n",
       "            </tr>\n",
       "            <tr>\n",
       "                                <td id=\"T_47a9e5ce_40a5_11ec_96cd_74867a516d39row13_col0\" class=\"data row13 col0\" >14</td>\n",
       "                        <td id=\"T_47a9e5ce_40a5_11ec_96cd_74867a516d39row13_col1\" class=\"data row13 col1\" >ErrorInResponseException</td>\n",
       "                        <td id=\"T_47a9e5ce_40a5_11ec_96cd_74867a516d39row13_col2\" class=\"data row13 col2\" >This happens while interacting with the Firefox extension or the remote driver server.</td>\n",
       "            </tr>\n",
       "            <tr>\n",
       "                                <td id=\"T_47a9e5ce_40a5_11ec_96cd_74867a516d39row14_col0\" class=\"data row14 col0\" >15</td>\n",
       "                        <td id=\"T_47a9e5ce_40a5_11ec_96cd_74867a516d39row14_col1\" class=\"data row14 col1\" >ErrorHandler.UnknownServerException</td>\n",
       "                        <td id=\"T_47a9e5ce_40a5_11ec_96cd_74867a516d39row14_col2\" class=\"data row14 col2\" >Exception is used as a placeholder in case if the server returns an error without a stack trace.</td>\n",
       "            </tr>\n",
       "            <tr>\n",
       "                                <td id=\"T_47a9e5ce_40a5_11ec_96cd_74867a516d39row15_col0\" class=\"data row15 col0\" >16</td>\n",
       "                        <td id=\"T_47a9e5ce_40a5_11ec_96cd_74867a516d39row15_col1\" class=\"data row15 col1\" >ImeActivationFailedException</td>\n",
       "                        <td id=\"T_47a9e5ce_40a5_11ec_96cd_74867a516d39row15_col2\" class=\"data row15 col2\" >This expectation will occur when IME engine activation has failed.</td>\n",
       "            </tr>\n",
       "            <tr>\n",
       "                                <td id=\"T_47a9e5ce_40a5_11ec_96cd_74867a516d39row16_col0\" class=\"data row16 col0\" >17</td>\n",
       "                        <td id=\"T_47a9e5ce_40a5_11ec_96cd_74867a516d39row16_col1\" class=\"data row16 col1\" >ImeNotAvailableException</td>\n",
       "                        <td id=\"T_47a9e5ce_40a5_11ec_96cd_74867a516d39row16_col2\" class=\"data row16 col2\" >It takes place when IME support is unavailable.</td>\n",
       "            </tr>\n",
       "            <tr>\n",
       "                                <td id=\"T_47a9e5ce_40a5_11ec_96cd_74867a516d39row17_col0\" class=\"data row17 col0\" >18</td>\n",
       "                        <td id=\"T_47a9e5ce_40a5_11ec_96cd_74867a516d39row17_col1\" class=\"data row17 col1\" >InsecureCertificateException</td>\n",
       "                        <td id=\"T_47a9e5ce_40a5_11ec_96cd_74867a516d39row17_col2\" class=\"data row17 col2\" >Navigation made the user agent to hit a certificate warning. This can cause by an invalid or expired TLS certificate.</td>\n",
       "            </tr>\n",
       "            <tr>\n",
       "                                <td id=\"T_47a9e5ce_40a5_11ec_96cd_74867a516d39row18_col0\" class=\"data row18 col0\" >19</td>\n",
       "                        <td id=\"T_47a9e5ce_40a5_11ec_96cd_74867a516d39row18_col1\" class=\"data row18 col1\" >InvalidArgumentException</td>\n",
       "                        <td id=\"T_47a9e5ce_40a5_11ec_96cd_74867a516d39row18_col2\" class=\"data row18 col2\" >It occurs when an argument does not belong to the expected type.</td>\n",
       "            </tr>\n",
       "            <tr>\n",
       "                                <td id=\"T_47a9e5ce_40a5_11ec_96cd_74867a516d39row19_col0\" class=\"data row19 col0\" >20</td>\n",
       "                        <td id=\"T_47a9e5ce_40a5_11ec_96cd_74867a516d39row19_col1\" class=\"data row19 col1\" >InvalidCookieDomainException</td>\n",
       "                        <td id=\"T_47a9e5ce_40a5_11ec_96cd_74867a516d39row19_col2\" class=\"data row19 col2\" >This happens when you try to add a cookie under a different domain instead of current URL.</td>\n",
       "            </tr>\n",
       "            <tr>\n",
       "                                <td id=\"T_47a9e5ce_40a5_11ec_96cd_74867a516d39row20_col0\" class=\"data row20 col0\" >21</td>\n",
       "                        <td id=\"T_47a9e5ce_40a5_11ec_96cd_74867a516d39row20_col1\" class=\"data row20 col1\" >InvalidCoordinatesException</td>\n",
       "                        <td id=\"T_47a9e5ce_40a5_11ec_96cd_74867a516d39row20_col2\" class=\"data row20 col2\" >This type of Exception matches an interacting operation that is not valid.</td>\n",
       "            </tr>\n",
       "            <tr>\n",
       "                                <td id=\"T_47a9e5ce_40a5_11ec_96cd_74867a516d39row21_col0\" class=\"data row21 col0\" >22</td>\n",
       "                        <td id=\"T_47a9e5ce_40a5_11ec_96cd_74867a516d39row21_col1\" class=\"data row21 col1\" >InvalidElementStateExceptio</td>\n",
       "                        <td id=\"T_47a9e5ce_40a5_11ec_96cd_74867a516d39row21_col2\" class=\"data row21 col2\" >It occurs when command can’t be finished when the element is invalid.</td>\n",
       "            </tr>\n",
       "            <tr>\n",
       "                                <td id=\"T_47a9e5ce_40a5_11ec_96cd_74867a516d39row22_col0\" class=\"data row22 col0\" >23</td>\n",
       "                        <td id=\"T_47a9e5ce_40a5_11ec_96cd_74867a516d39row22_col1\" class=\"data row22 col1\" >InvalidSessionIdException</td>\n",
       "                        <td id=\"T_47a9e5ce_40a5_11ec_96cd_74867a516d39row22_col2\" class=\"data row22 col2\" >This Exception took place when the given session ID is not included in the list of active sessions. It means the session does not exist or is inactive either.</td>\n",
       "            </tr>\n",
       "            <tr>\n",
       "                                <td id=\"T_47a9e5ce_40a5_11ec_96cd_74867a516d39row23_col0\" class=\"data row23 col0\" >24</td>\n",
       "                        <td id=\"T_47a9e5ce_40a5_11ec_96cd_74867a516d39row23_col1\" class=\"data row23 col1\" >InvalidSwitchToTargetException</td>\n",
       "                        <td id=\"T_47a9e5ce_40a5_11ec_96cd_74867a516d39row23_col2\" class=\"data row23 col2\" >This occurs when the frame or window target to be switched does not exist.</td>\n",
       "            </tr>\n",
       "            <tr>\n",
       "                                <td id=\"T_47a9e5ce_40a5_11ec_96cd_74867a516d39row24_col0\" class=\"data row24 col0\" >25</td>\n",
       "                        <td id=\"T_47a9e5ce_40a5_11ec_96cd_74867a516d39row24_col1\" class=\"data row24 col1\" >JavascriptException</td>\n",
       "                        <td id=\"T_47a9e5ce_40a5_11ec_96cd_74867a516d39row24_col2\" class=\"data row24 col2\" >This issue occurs while executing JavaScript given by the user.</td>\n",
       "            </tr>\n",
       "            <tr>\n",
       "                                <td id=\"T_47a9e5ce_40a5_11ec_96cd_74867a516d39row25_col0\" class=\"data row25 col0\" >26</td>\n",
       "                        <td id=\"T_47a9e5ce_40a5_11ec_96cd_74867a516d39row25_col1\" class=\"data row25 col1\" >JsonException</td>\n",
       "                        <td id=\"T_47a9e5ce_40a5_11ec_96cd_74867a516d39row25_col2\" class=\"data row25 col2\" >It occurs when you afford to get the session when the session is not created.</td>\n",
       "            </tr>\n",
       "            <tr>\n",
       "                                <td id=\"T_47a9e5ce_40a5_11ec_96cd_74867a516d39row26_col0\" class=\"data row26 col0\" >27</td>\n",
       "                        <td id=\"T_47a9e5ce_40a5_11ec_96cd_74867a516d39row26_col1\" class=\"data row26 col1\" >NoSuchAttributeException</td>\n",
       "                        <td id=\"T_47a9e5ce_40a5_11ec_96cd_74867a516d39row26_col2\" class=\"data row26 col2\" >This kind of Exception occurs when the attribute of an element could not be found.</td>\n",
       "            </tr>\n",
       "            <tr>\n",
       "                                <td id=\"T_47a9e5ce_40a5_11ec_96cd_74867a516d39row27_col0\" class=\"data row27 col0\" >28</td>\n",
       "                        <td id=\"T_47a9e5ce_40a5_11ec_96cd_74867a516d39row27_col1\" class=\"data row27 col1\" >MoveTargetOutOfBoundsException</td>\n",
       "                        <td id=\"T_47a9e5ce_40a5_11ec_96cd_74867a516d39row27_col2\" class=\"data row27 col2\" >It takes place if the target provided to the ActionChains move() methodology is not valid. For Example, out of the document.</td>\n",
       "            </tr>\n",
       "            <tr>\n",
       "                                <td id=\"T_47a9e5ce_40a5_11ec_96cd_74867a516d39row28_col0\" class=\"data row28 col0\" >29</td>\n",
       "                        <td id=\"T_47a9e5ce_40a5_11ec_96cd_74867a516d39row28_col1\" class=\"data row28 col1\" >NoSuchContextException</td>\n",
       "                        <td id=\"T_47a9e5ce_40a5_11ec_96cd_74867a516d39row28_col2\" class=\"data row28 col2\" >ContextAware does mobile device testing.</td>\n",
       "            </tr>\n",
       "            <tr>\n",
       "                                <td id=\"T_47a9e5ce_40a5_11ec_96cd_74867a516d39row29_col0\" class=\"data row29 col0\" >30</td>\n",
       "                        <td id=\"T_47a9e5ce_40a5_11ec_96cd_74867a516d39row29_col1\" class=\"data row29 col1\" >NoSuchCookieException</td>\n",
       "                        <td id=\"T_47a9e5ce_40a5_11ec_96cd_74867a516d39row29_col2\" class=\"data row29 col2\" >This Exception occurs when no cookie matching with the given pathname found for all the associated cookies of the currently browsing document.</td>\n",
       "            </tr>\n",
       "            <tr>\n",
       "                                <td id=\"T_47a9e5ce_40a5_11ec_96cd_74867a516d39row30_col0\" class=\"data row30 col0\" >31</td>\n",
       "                        <td id=\"T_47a9e5ce_40a5_11ec_96cd_74867a516d39row30_col1\" class=\"data row30 col1\" >NotFoundException</td>\n",
       "                        <td id=\"T_47a9e5ce_40a5_11ec_96cd_74867a516d39row30_col2\" class=\"data row30 col2\" >This Exception is a subclass of WebDriverException. This will occur when an element on the DOM does not exist.</td>\n",
       "            </tr>\n",
       "            <tr>\n",
       "                                <td id=\"T_47a9e5ce_40a5_11ec_96cd_74867a516d39row31_col0\" class=\"data row31 col0\" >32</td>\n",
       "                        <td id=\"T_47a9e5ce_40a5_11ec_96cd_74867a516d39row31_col1\" class=\"data row31 col1\" >RemoteDriverServerException</td>\n",
       "                        <td id=\"T_47a9e5ce_40a5_11ec_96cd_74867a516d39row31_col2\" class=\"data row31 col2\" >This Selenium exception is thrown when the server is not responding because of the problem that the capabilities described are not proper.</td>\n",
       "            </tr>\n",
       "            <tr>\n",
       "                                <td id=\"T_47a9e5ce_40a5_11ec_96cd_74867a516d39row32_col0\" class=\"data row32 col0\" >33</td>\n",
       "                        <td id=\"T_47a9e5ce_40a5_11ec_96cd_74867a516d39row32_col1\" class=\"data row32 col1\" >ScreenshotException</td>\n",
       "                        <td id=\"T_47a9e5ce_40a5_11ec_96cd_74867a516d39row32_col2\" class=\"data row32 col2\" >It is not possible to capture a screen.</td>\n",
       "            </tr>\n",
       "            <tr>\n",
       "                                <td id=\"T_47a9e5ce_40a5_11ec_96cd_74867a516d39row33_col0\" class=\"data row33 col0\" >34</td>\n",
       "                        <td id=\"T_47a9e5ce_40a5_11ec_96cd_74867a516d39row33_col1\" class=\"data row33 col1\" >SessionNotCreatedException</td>\n",
       "                        <td id=\"T_47a9e5ce_40a5_11ec_96cd_74867a516d39row33_col2\" class=\"data row33 col2\" >It happens when a new session could not be successfully created.</td>\n",
       "            </tr>\n",
       "            <tr>\n",
       "                                <td id=\"T_47a9e5ce_40a5_11ec_96cd_74867a516d39row34_col0\" class=\"data row34 col0\" >35</td>\n",
       "                        <td id=\"T_47a9e5ce_40a5_11ec_96cd_74867a516d39row34_col1\" class=\"data row34 col1\" >UnableToSetCookieException</td>\n",
       "                        <td id=\"T_47a9e5ce_40a5_11ec_96cd_74867a516d39row34_col2\" class=\"data row34 col2\" >This occurs if a driver is unable to set a cookie.</td>\n",
       "            </tr>\n",
       "            <tr>\n",
       "                                <td id=\"T_47a9e5ce_40a5_11ec_96cd_74867a516d39row35_col0\" class=\"data row35 col0\" >36</td>\n",
       "                        <td id=\"T_47a9e5ce_40a5_11ec_96cd_74867a516d39row35_col1\" class=\"data row35 col1\" >UnexpectedTagNameException</td>\n",
       "                        <td id=\"T_47a9e5ce_40a5_11ec_96cd_74867a516d39row35_col2\" class=\"data row35 col2\" >Happens if a support class did not get a web element as expected.</td>\n",
       "            </tr>\n",
       "            <tr>\n",
       "                                <td id=\"T_47a9e5ce_40a5_11ec_96cd_74867a516d39row36_col0\" class=\"data row36 col0\" >37</td>\n",
       "                        <td id=\"T_47a9e5ce_40a5_11ec_96cd_74867a516d39row36_col1\" class=\"data row36 col1\" >UnhandledAlertException</td>\n",
       "                        <td id=\"T_47a9e5ce_40a5_11ec_96cd_74867a516d39row36_col2\" class=\"data row36 col2\" >This expectation occurs when there is an alert, but WebDriver is not able to perform Alert operation.</td>\n",
       "            </tr>\n",
       "            <tr>\n",
       "                                <td id=\"T_47a9e5ce_40a5_11ec_96cd_74867a516d39row37_col0\" class=\"data row37 col0\" >38</td>\n",
       "                        <td id=\"T_47a9e5ce_40a5_11ec_96cd_74867a516d39row37_col1\" class=\"data row37 col1\" >UnexpectedAlertPresentException</td>\n",
       "                        <td id=\"T_47a9e5ce_40a5_11ec_96cd_74867a516d39row37_col2\" class=\"data row37 col2\" >It occurs when there is the appearance of an unexpected alert.</td>\n",
       "            </tr>\n",
       "            <tr>\n",
       "                                <td id=\"T_47a9e5ce_40a5_11ec_96cd_74867a516d39row38_col0\" class=\"data row38 col0\" >39</td>\n",
       "                        <td id=\"T_47a9e5ce_40a5_11ec_96cd_74867a516d39row38_col1\" class=\"data row38 col1\" >UnknownMethodException</td>\n",
       "                        <td id=\"T_47a9e5ce_40a5_11ec_96cd_74867a516d39row38_col2\" class=\"data row38 col2\" >This Exception happens when the requested command matches with a known URL but and not matching with a methodology for a specific URL.</td>\n",
       "            </tr>\n",
       "            <tr>\n",
       "                                <td id=\"T_47a9e5ce_40a5_11ec_96cd_74867a516d39row39_col0\" class=\"data row39 col0\" >40</td>\n",
       "                        <td id=\"T_47a9e5ce_40a5_11ec_96cd_74867a516d39row39_col1\" class=\"data row39 col1\" >UnreachableBrowserException</td>\n",
       "                        <td id=\"T_47a9e5ce_40a5_11ec_96cd_74867a516d39row39_col2\" class=\"data row39 col2\" >This Exception occurs only when the browser is not able to be opened or crashed because of some reason.</td>\n",
       "            </tr>\n",
       "            <tr>\n",
       "                                <td id=\"T_47a9e5ce_40a5_11ec_96cd_74867a516d39row40_col0\" class=\"data row40 col0\" >41</td>\n",
       "                        <td id=\"T_47a9e5ce_40a5_11ec_96cd_74867a516d39row40_col1\" class=\"data row40 col1\" >UnsupportedCommandException</td>\n",
       "                        <td id=\"T_47a9e5ce_40a5_11ec_96cd_74867a516d39row40_col2\" class=\"data row40 col2\" >This occurs when remote WebDriver does n’t send valid commands as expected.</td>\n",
       "            </tr>\n",
       "    </tbody></table>"
      ],
      "text/plain": [
       "<pandas.io.formats.style.Styler at 0x28c25ae9970>"
      ]
     },
     "execution_count": 142,
     "metadata": {},
     "output_type": "execute_result"
    }
   ],
   "source": [
    "import pandas as pd\n",
    "selexp=pd.DataFrame({})\n",
    "selexp['Nos']=Nos\n",
    "selexp['Exception name']=exception_names    \n",
    "selexp['Description']=exception_details\n",
    "selexp.style.hide_index()"
   ]
  },
  {
   "cell_type": "code",
   "execution_count": null,
   "metadata": {},
   "outputs": [],
   "source": []
  },
  {
   "cell_type": "markdown",
   "metadata": {},
   "source": [
    "# Question 4-Scrape the details of State-wise GDP of India from statisticstime.com. \n",
    "Url = http://statisticstimes.com/ You have to find following details: A) Rank B) State C) GSDP at current price (19-20) D) GSDP at current price (18-19) E) Share(18-19) F) GDP($ billion) Note: - From statisticstimes home page you have to reach to economy page through code."
   ]
  },
  {
   "cell_type": "code",
   "execution_count": 32,
   "metadata": {},
   "outputs": [],
   "source": [
    "driver = webdriver.Chrome(r\"C:\\Users\\Dell\\Downloads\\chromedriver_win32\\chromedriver.exe\")\n",
    "# opening url\n",
    "driver.get('http://statisticstimes.com/')"
   ]
  },
  {
   "cell_type": "code",
   "execution_count": 33,
   "metadata": {},
   "outputs": [],
   "source": [
    "# opening the indian GDP page\n",
    "a = driver.find_element_by_xpath('//*[@id=\"top\"]/div[2]/div[2]/div/a[3]')\n",
    "driver.get(a.get_attribute('href'))"
   ]
  },
  {
   "cell_type": "code",
   "execution_count": 34,
   "metadata": {},
   "outputs": [],
   "source": [
    "driver.find_element_by_xpath('/html/body/div[2]/div[2]/div[2]/ul/li[1]/a').click()"
   ]
  },
  {
   "cell_type": "code",
   "execution_count": 35,
   "metadata": {},
   "outputs": [],
   "source": [
    "rank = []\n",
    "state = []\n",
    "gdp_1920 = []\n",
    "gdp_1819 = []\n",
    "share = []\n",
    "gdp = []"
   ]
  },
  {
   "cell_type": "code",
   "execution_count": 38,
   "metadata": {},
   "outputs": [],
   "source": [
    "# scraping rank\n",
    "for i in driver.find_elements_by_xpath('//*[@id=\"table_id\"]/tbody/tr/td[1]'):\n",
    "    rank.append(i.text)\n",
    "\n",
    "#scraping state\n",
    "for j in driver.find_elements_by_xpath('//*[@id=\"table_id\"]/tbody/tr/td[2]'):\n",
    "    state.append(j.text)\n",
    "\n",
    "# scraping GSDP 19-20\n",
    "for k in driver.find_elements_by_xpath('//*[@id=\"table_id\"]/tbody/tr/td[3]'):\n",
    "    gdp_1920.append(k.text)\n",
    "    \n",
    "# scraping GSDP 18-19\n",
    "for l in driver.find_elements_by_xpath('//*[@id=\"table_id\"]/tbody/tr/td[4]'):\n",
    "    gdp_1819.append(l.text)\n",
    "    \n",
    "# scraping share\n",
    "for m in driver.find_elements_by_xpath('//*[@id=\"table_id\"]/tbody/tr/td[5]'):\n",
    "    share.append(m.text)\n",
    "    \n",
    "# scraping GDP\n",
    "for n in driver.find_elements_by_xpath('//*[@id=\"table_id\"]/tbody/tr/td[6]'):\n",
    "    gdp.append(n.text)"
   ]
  },
  {
   "cell_type": "code",
   "execution_count": 40,
   "metadata": {},
   "outputs": [
    {
     "data": {
      "text/html": [
       "<div>\n",
       "<style scoped>\n",
       "    .dataframe tbody tr th:only-of-type {\n",
       "        vertical-align: middle;\n",
       "    }\n",
       "\n",
       "    .dataframe tbody tr th {\n",
       "        vertical-align: top;\n",
       "    }\n",
       "\n",
       "    .dataframe thead th {\n",
       "        text-align: right;\n",
       "    }\n",
       "</style>\n",
       "<table border=\"1\" class=\"dataframe\">\n",
       "  <thead>\n",
       "    <tr style=\"text-align: right;\">\n",
       "      <th></th>\n",
       "      <th>Rank</th>\n",
       "      <th>State</th>\n",
       "      <th>GSDP at current price(19-20)</th>\n",
       "      <th>GSDP at current price(18-19)</th>\n",
       "      <th>Share</th>\n",
       "      <th>GDP</th>\n",
       "    </tr>\n",
       "  </thead>\n",
       "  <tbody>\n",
       "    <tr>\n",
       "      <th>0</th>\n",
       "      <td>1</td>\n",
       "      <td>Maharashtra</td>\n",
       "      <td>-</td>\n",
       "      <td>2,632,792</td>\n",
       "      <td>13.94%</td>\n",
       "      <td>399.921</td>\n",
       "    </tr>\n",
       "    <tr>\n",
       "      <th>1</th>\n",
       "      <td>2</td>\n",
       "      <td>Tamil Nadu</td>\n",
       "      <td>1,845,853</td>\n",
       "      <td>1,630,208</td>\n",
       "      <td>8.63%</td>\n",
       "      <td>247.629</td>\n",
       "    </tr>\n",
       "    <tr>\n",
       "      <th>2</th>\n",
       "      <td>3</td>\n",
       "      <td>Uttar Pradesh</td>\n",
       "      <td>1,687,818</td>\n",
       "      <td>1,584,764</td>\n",
       "      <td>8.39%</td>\n",
       "      <td>240.726</td>\n",
       "    </tr>\n",
       "    <tr>\n",
       "      <th>3</th>\n",
       "      <td>4</td>\n",
       "      <td>Gujarat</td>\n",
       "      <td>-</td>\n",
       "      <td>1,502,899</td>\n",
       "      <td>7.96%</td>\n",
       "      <td>228.290</td>\n",
       "    </tr>\n",
       "    <tr>\n",
       "      <th>4</th>\n",
       "      <td>5</td>\n",
       "      <td>Karnataka</td>\n",
       "      <td>1,631,977</td>\n",
       "      <td>1,493,127</td>\n",
       "      <td>7.91%</td>\n",
       "      <td>226.806</td>\n",
       "    </tr>\n",
       "    <tr>\n",
       "      <th>5</th>\n",
       "      <td>6</td>\n",
       "      <td>West Bengal</td>\n",
       "      <td>1,253,832</td>\n",
       "      <td>1,089,898</td>\n",
       "      <td>5.77%</td>\n",
       "      <td>165.556</td>\n",
       "    </tr>\n",
       "    <tr>\n",
       "      <th>6</th>\n",
       "      <td>7</td>\n",
       "      <td>Rajasthan</td>\n",
       "      <td>1,020,989</td>\n",
       "      <td>942,586</td>\n",
       "      <td>4.99%</td>\n",
       "      <td>143.179</td>\n",
       "    </tr>\n",
       "    <tr>\n",
       "      <th>7</th>\n",
       "      <td>8</td>\n",
       "      <td>Andhra Pradesh</td>\n",
       "      <td>972,782</td>\n",
       "      <td>862,957</td>\n",
       "      <td>4.57%</td>\n",
       "      <td>131.083</td>\n",
       "    </tr>\n",
       "    <tr>\n",
       "      <th>8</th>\n",
       "      <td>9</td>\n",
       "      <td>Telangana</td>\n",
       "      <td>969,604</td>\n",
       "      <td>861,031</td>\n",
       "      <td>4.56%</td>\n",
       "      <td>130.791</td>\n",
       "    </tr>\n",
       "    <tr>\n",
       "      <th>9</th>\n",
       "      <td>10</td>\n",
       "      <td>Madhya Pradesh</td>\n",
       "      <td>906,672</td>\n",
       "      <td>809,592</td>\n",
       "      <td>4.29%</td>\n",
       "      <td>122.977</td>\n",
       "    </tr>\n",
       "    <tr>\n",
       "      <th>10</th>\n",
       "      <td>11</td>\n",
       "      <td>Kerala</td>\n",
       "      <td>-</td>\n",
       "      <td>781,653</td>\n",
       "      <td>4.14%</td>\n",
       "      <td>118.733</td>\n",
       "    </tr>\n",
       "    <tr>\n",
       "      <th>11</th>\n",
       "      <td>12</td>\n",
       "      <td>Delhi</td>\n",
       "      <td>856,112</td>\n",
       "      <td>774,870</td>\n",
       "      <td>4.10%</td>\n",
       "      <td>117.703</td>\n",
       "    </tr>\n",
       "    <tr>\n",
       "      <th>12</th>\n",
       "      <td>13</td>\n",
       "      <td>Haryana</td>\n",
       "      <td>831,610</td>\n",
       "      <td>734,163</td>\n",
       "      <td>3.89%</td>\n",
       "      <td>111.519</td>\n",
       "    </tr>\n",
       "    <tr>\n",
       "      <th>13</th>\n",
       "      <td>14</td>\n",
       "      <td>Bihar</td>\n",
       "      <td>611,804</td>\n",
       "      <td>530,363</td>\n",
       "      <td>2.81%</td>\n",
       "      <td>80.562</td>\n",
       "    </tr>\n",
       "    <tr>\n",
       "      <th>14</th>\n",
       "      <td>15</td>\n",
       "      <td>Punjab</td>\n",
       "      <td>574,760</td>\n",
       "      <td>526,376</td>\n",
       "      <td>2.79%</td>\n",
       "      <td>79.957</td>\n",
       "    </tr>\n",
       "    <tr>\n",
       "      <th>15</th>\n",
       "      <td>16</td>\n",
       "      <td>Odisha</td>\n",
       "      <td>521,275</td>\n",
       "      <td>487,805</td>\n",
       "      <td>2.58%</td>\n",
       "      <td>74.098</td>\n",
       "    </tr>\n",
       "    <tr>\n",
       "      <th>16</th>\n",
       "      <td>17</td>\n",
       "      <td>Assam</td>\n",
       "      <td>-</td>\n",
       "      <td>315,881</td>\n",
       "      <td>1.67%</td>\n",
       "      <td>47.982</td>\n",
       "    </tr>\n",
       "    <tr>\n",
       "      <th>17</th>\n",
       "      <td>18</td>\n",
       "      <td>Chhattisgarh</td>\n",
       "      <td>329,180</td>\n",
       "      <td>304,063</td>\n",
       "      <td>1.61%</td>\n",
       "      <td>46.187</td>\n",
       "    </tr>\n",
       "    <tr>\n",
       "      <th>18</th>\n",
       "      <td>19</td>\n",
       "      <td>Jharkhand</td>\n",
       "      <td>328,598</td>\n",
       "      <td>297,204</td>\n",
       "      <td>1.57%</td>\n",
       "      <td>45.145</td>\n",
       "    </tr>\n",
       "    <tr>\n",
       "      <th>19</th>\n",
       "      <td>20</td>\n",
       "      <td>Uttarakhand</td>\n",
       "      <td>-</td>\n",
       "      <td>245,895</td>\n",
       "      <td>1.30%</td>\n",
       "      <td>37.351</td>\n",
       "    </tr>\n",
       "  </tbody>\n",
       "</table>\n",
       "</div>"
      ],
      "text/plain": [
       "   Rank           State GSDP at current price(19-20)  \\\n",
       "0     1     Maharashtra                            -   \n",
       "1     2      Tamil Nadu                    1,845,853   \n",
       "2     3   Uttar Pradesh                    1,687,818   \n",
       "3     4         Gujarat                            -   \n",
       "4     5       Karnataka                    1,631,977   \n",
       "5     6     West Bengal                    1,253,832   \n",
       "6     7       Rajasthan                    1,020,989   \n",
       "7     8  Andhra Pradesh                      972,782   \n",
       "8     9       Telangana                      969,604   \n",
       "9    10  Madhya Pradesh                      906,672   \n",
       "10   11          Kerala                            -   \n",
       "11   12           Delhi                      856,112   \n",
       "12   13         Haryana                      831,610   \n",
       "13   14           Bihar                      611,804   \n",
       "14   15          Punjab                      574,760   \n",
       "15   16          Odisha                      521,275   \n",
       "16   17           Assam                            -   \n",
       "17   18    Chhattisgarh                      329,180   \n",
       "18   19       Jharkhand                      328,598   \n",
       "19   20     Uttarakhand                            -   \n",
       "\n",
       "   GSDP at current price(18-19)   Share      GDP  \n",
       "0                     2,632,792  13.94%  399.921  \n",
       "1                     1,630,208   8.63%  247.629  \n",
       "2                     1,584,764   8.39%  240.726  \n",
       "3                     1,502,899   7.96%  228.290  \n",
       "4                     1,493,127   7.91%  226.806  \n",
       "5                     1,089,898   5.77%  165.556  \n",
       "6                       942,586   4.99%  143.179  \n",
       "7                       862,957   4.57%  131.083  \n",
       "8                       861,031   4.56%  130.791  \n",
       "9                       809,592   4.29%  122.977  \n",
       "10                      781,653   4.14%  118.733  \n",
       "11                      774,870   4.10%  117.703  \n",
       "12                      734,163   3.89%  111.519  \n",
       "13                      530,363   2.81%   80.562  \n",
       "14                      526,376   2.79%   79.957  \n",
       "15                      487,805   2.58%   74.098  \n",
       "16                      315,881   1.67%   47.982  \n",
       "17                      304,063   1.61%   46.187  \n",
       "18                      297,204   1.57%   45.145  \n",
       "19                      245,895   1.30%   37.351  "
      ]
     },
     "execution_count": 40,
     "metadata": {},
     "output_type": "execute_result"
    }
   ],
   "source": [
    "stats = pd.DataFrame({})\n",
    "stats['Rank'] = rank[:20]\n",
    "stats['State'] = state[:20]\n",
    "stats['GSDP at current price(19-20)'] = gdp_1920[:20]\n",
    "stats['GSDP at current price(18-19)'] = gdp_1819[:20]\n",
    "stats['Share'] = share[:20]\n",
    "stats['GDP'] = gdp[:20]\n",
    "stats"
   ]
  },
  {
   "cell_type": "markdown",
   "metadata": {},
   "source": [
    "# Question No 5: Scrape the details of trending repositories on Github.com.\n",
    "Url = https://github.com/"
   ]
  },
  {
   "cell_type": "code",
   "execution_count": 41,
   "metadata": {},
   "outputs": [],
   "source": [
    "driver = webdriver.Chrome(r\"C:\\Users\\Dell\\Downloads\\chromedriver_win32\\chromedriver.exe\")"
   ]
  },
  {
   "cell_type": "code",
   "execution_count": 42,
   "metadata": {},
   "outputs": [],
   "source": [
    "url_3 = \"https://github.com/\""
   ]
  },
  {
   "cell_type": "code",
   "execution_count": 43,
   "metadata": {},
   "outputs": [],
   "source": [
    "driver.get(url_3)"
   ]
  },
  {
   "cell_type": "code",
   "execution_count": 44,
   "metadata": {},
   "outputs": [],
   "source": [
    "#Creating Empty List:\n",
    "Repository_Name =[]\n",
    "Language = []\n",
    "Description = []\n",
    "Muted_Link = []"
   ]
  },
  {
   "cell_type": "code",
   "execution_count": 45,
   "metadata": {},
   "outputs": [],
   "source": [
    "#clicking the search button for locating explore:\n",
    "search_1 = driver.find_element_by_xpath('/html/body/div[1]/header/div/div[2]/nav/ul/li[4]/details')     \n",
    "search_1.click()"
   ]
  },
  {
   "cell_type": "code",
   "execution_count": 46,
   "metadata": {},
   "outputs": [],
   "source": [
    "#clicking the search button for locating page:\n",
    "search_2 = driver.find_element_by_xpath('/html/body/div[1]/header/div/div[2]/nav/ul/li[4]/details/div/ul[2]/li[3]')    \n",
    "search_2.click()"
   ]
  },
  {
   "cell_type": "code",
   "execution_count": 47,
   "metadata": {},
   "outputs": [
    {
     "name": "stdout",
     "output_type": "stream",
     "text": [
      "['DrKLO', 'commaai', 'flutter', 'pi-hole', 'coolsnowwolf', 'Python-World', 'babysor', 'bevyengine', 'AsyncBanana', 'smartcontractkit']\n"
     ]
    }
   ],
   "source": [
    "#scraping the tags for repository name:\n",
    "repository = driver.find_elements_by_xpath(\"//span[@class='text-normal']\")\n",
    "\n",
    "#Using for loop for iterations\n",
    "#Handling Null Values.\n",
    "for i in repository:\n",
    "    if i.text is None:\n",
    "        Repository_Name.append(\" \") \n",
    "    else:\n",
    "        Repository_Name.append(i.text.replace('/','').strip())\n",
    "print(Repository_Name[0:10])"
   ]
  },
  {
   "cell_type": "code",
   "execution_count": 48,
   "metadata": {},
   "outputs": [
    {
     "name": "stdout",
     "output_type": "stream",
     "text": [
      "['Java', 'Python', 'Dart', 'Shell', 'C', 'Python', 'JavaScript', 'Rust', 'JavaScript', 'TypeScript']\n"
     ]
    }
   ],
   "source": [
    "#scraping the tags for Language:\n",
    "language = driver.find_elements_by_xpath(\"//span[@itemprop='programmingLanguage']\")\n",
    "\n",
    "#Using for loop for iterations\n",
    "#Handling Null Values.\n",
    "for i in language:\n",
    "    if i.text is None:\n",
    "        Language.append(\" \") \n",
    "    else:\n",
    "        Language.append(i.text.replace('/','').strip())\n",
    "print(Language[0:10])"
   ]
  },
  {
   "cell_type": "code",
   "execution_count": 49,
   "metadata": {},
   "outputs": [
    {
     "name": "stdout",
     "output_type": "stream",
     "text": [
      "['Telegram for Android source', 'openpilot is an open source driver assistance system. openpilot performs the functions of Automated Lane Centering and Adaptive Cruise Control for over 100 supported car makes and models.', 'Flutter makes it easy and fast to build beautiful apps for mobile and beyond', 'A black hole for Internet advertisements', \"Lean's OpenWrt source\", 'A collection of simple python mini projects to enhance your python skills', '🚀AI拟声: 5秒内克隆您的声音并生成任意语音内容 Clone a voice in 5 seconds to generate arbitrary speech in real-time', 'A refreshingly simple data-driven game engine built in Rust', 'A fast, zero dependency object and array comparison library. Significantly faster than most other deep comparison libraries and has full TypeScript support.', 'Ultimate Solidity, Blockchain, and Smart Contract - Beginner to Expert Full Course | Python Edition']\n"
     ]
    }
   ],
   "source": [
    "#scraping the tags for description:\n",
    "description = driver.find_elements_by_xpath(\"//p[@class='col-9 color-fg-muted my-1 pr-4']\")\n",
    "\n",
    "#Using for loop for iterations\n",
    "#Handling Null Values.\n",
    "for i in description:\n",
    "    if i.text is None:\n",
    "        Description.append(\" \") \n",
    "    else:\n",
    "        Description.append(i.text.replace('/','').strip())\n",
    "print(Description[0:10])"
   ]
  },
  {
   "cell_type": "code",
   "execution_count": 50,
   "metadata": {},
   "outputs": [
    {
     "name": "stdout",
     "output_type": "stream",
     "text": [
      "[]\n"
     ]
    }
   ],
   "source": [
    "#scraping the tags for muted link:\n",
    "try:\n",
    "    muted_link = driver.find_elements_by_xpath(\"//div[@class='Link--muted d-inline-block mr-3']/a[2]\")\n",
    "    for i in muted_link:\n",
    "        Muted_Link.append(\" \") \n",
    "except NoSuchElementException as e:\n",
    "    muted_link = driver.find_elements_by_xpath(\"//div[@class='Link--muted d-inline-block mr-3']/a[2]\")\n",
    "    Muted_Link.append(i.text)\n",
    "print(Muted_Link[0:10])"
   ]
  },
  {
   "cell_type": "code",
   "execution_count": 51,
   "metadata": {},
   "outputs": [
    {
     "data": {
      "text/plain": [
       "[]"
      ]
     },
     "execution_count": 51,
     "metadata": {},
     "output_type": "execute_result"
    }
   ],
   "source": [
    "Contri=[]\n",
    "Contri=[x for x in Muted_Link if x]\n",
    "\n",
    "Contri"
   ]
  },
  {
   "cell_type": "code",
   "execution_count": 58,
   "metadata": {},
   "outputs": [
    {
     "data": {
      "text/html": [
       "<style  type=\"text/css\" >\n",
       "</style><table id=\"T_ad266d9a_409f_11ec_840a_74867a516d39\" ><thead>    <tr>        <th class=\"col_heading level0 col0\" >Repository title</th>        <th class=\"col_heading level0 col1\" >Repository Description</th>        <th class=\"col_heading level0 col2\" >Language used</th>    </tr></thead><tbody>\n",
       "                <tr>\n",
       "                                <td id=\"T_ad266d9a_409f_11ec_840a_74867a516d39row0_col0\" class=\"data row0 col0\" >DrKLO</td>\n",
       "                        <td id=\"T_ad266d9a_409f_11ec_840a_74867a516d39row0_col1\" class=\"data row0 col1\" >Telegram for Android source</td>\n",
       "                        <td id=\"T_ad266d9a_409f_11ec_840a_74867a516d39row0_col2\" class=\"data row0 col2\" >Java</td>\n",
       "            </tr>\n",
       "            <tr>\n",
       "                                <td id=\"T_ad266d9a_409f_11ec_840a_74867a516d39row1_col0\" class=\"data row1 col0\" >commaai</td>\n",
       "                        <td id=\"T_ad266d9a_409f_11ec_840a_74867a516d39row1_col1\" class=\"data row1 col1\" >openpilot is an open source driver assistance system. openpilot performs the functions of Automated Lane Centering and Adaptive Cruise Control for over 100 supported car makes and models.</td>\n",
       "                        <td id=\"T_ad266d9a_409f_11ec_840a_74867a516d39row1_col2\" class=\"data row1 col2\" >Python</td>\n",
       "            </tr>\n",
       "            <tr>\n",
       "                                <td id=\"T_ad266d9a_409f_11ec_840a_74867a516d39row2_col0\" class=\"data row2 col0\" >flutter</td>\n",
       "                        <td id=\"T_ad266d9a_409f_11ec_840a_74867a516d39row2_col1\" class=\"data row2 col1\" >Flutter makes it easy and fast to build beautiful apps for mobile and beyond</td>\n",
       "                        <td id=\"T_ad266d9a_409f_11ec_840a_74867a516d39row2_col2\" class=\"data row2 col2\" >Dart</td>\n",
       "            </tr>\n",
       "            <tr>\n",
       "                                <td id=\"T_ad266d9a_409f_11ec_840a_74867a516d39row3_col0\" class=\"data row3 col0\" >pi-hole</td>\n",
       "                        <td id=\"T_ad266d9a_409f_11ec_840a_74867a516d39row3_col1\" class=\"data row3 col1\" >A black hole for Internet advertisements</td>\n",
       "                        <td id=\"T_ad266d9a_409f_11ec_840a_74867a516d39row3_col2\" class=\"data row3 col2\" >Shell</td>\n",
       "            </tr>\n",
       "            <tr>\n",
       "                                <td id=\"T_ad266d9a_409f_11ec_840a_74867a516d39row4_col0\" class=\"data row4 col0\" >coolsnowwolf</td>\n",
       "                        <td id=\"T_ad266d9a_409f_11ec_840a_74867a516d39row4_col1\" class=\"data row4 col1\" >Lean's OpenWrt source</td>\n",
       "                        <td id=\"T_ad266d9a_409f_11ec_840a_74867a516d39row4_col2\" class=\"data row4 col2\" >C</td>\n",
       "            </tr>\n",
       "            <tr>\n",
       "                                <td id=\"T_ad266d9a_409f_11ec_840a_74867a516d39row5_col0\" class=\"data row5 col0\" >Python-World</td>\n",
       "                        <td id=\"T_ad266d9a_409f_11ec_840a_74867a516d39row5_col1\" class=\"data row5 col1\" >A collection of simple python mini projects to enhance your python skills</td>\n",
       "                        <td id=\"T_ad266d9a_409f_11ec_840a_74867a516d39row5_col2\" class=\"data row5 col2\" >Python</td>\n",
       "            </tr>\n",
       "            <tr>\n",
       "                                <td id=\"T_ad266d9a_409f_11ec_840a_74867a516d39row6_col0\" class=\"data row6 col0\" >babysor</td>\n",
       "                        <td id=\"T_ad266d9a_409f_11ec_840a_74867a516d39row6_col1\" class=\"data row6 col1\" >🚀AI拟声: 5秒内克隆您的声音并生成任意语音内容 Clone a voice in 5 seconds to generate arbitrary speech in real-time</td>\n",
       "                        <td id=\"T_ad266d9a_409f_11ec_840a_74867a516d39row6_col2\" class=\"data row6 col2\" >JavaScript</td>\n",
       "            </tr>\n",
       "            <tr>\n",
       "                                <td id=\"T_ad266d9a_409f_11ec_840a_74867a516d39row7_col0\" class=\"data row7 col0\" >bevyengine</td>\n",
       "                        <td id=\"T_ad266d9a_409f_11ec_840a_74867a516d39row7_col1\" class=\"data row7 col1\" >A refreshingly simple data-driven game engine built in Rust</td>\n",
       "                        <td id=\"T_ad266d9a_409f_11ec_840a_74867a516d39row7_col2\" class=\"data row7 col2\" >Rust</td>\n",
       "            </tr>\n",
       "            <tr>\n",
       "                                <td id=\"T_ad266d9a_409f_11ec_840a_74867a516d39row8_col0\" class=\"data row8 col0\" >AsyncBanana</td>\n",
       "                        <td id=\"T_ad266d9a_409f_11ec_840a_74867a516d39row8_col1\" class=\"data row8 col1\" >A fast, zero dependency object and array comparison library. Significantly faster than most other deep comparison libraries and has full TypeScript support.</td>\n",
       "                        <td id=\"T_ad266d9a_409f_11ec_840a_74867a516d39row8_col2\" class=\"data row8 col2\" >JavaScript</td>\n",
       "            </tr>\n",
       "            <tr>\n",
       "                                <td id=\"T_ad266d9a_409f_11ec_840a_74867a516d39row9_col0\" class=\"data row9 col0\" >smartcontractkit</td>\n",
       "                        <td id=\"T_ad266d9a_409f_11ec_840a_74867a516d39row9_col1\" class=\"data row9 col1\" >Ultimate Solidity, Blockchain, and Smart Contract - Beginner to Expert Full Course | Python Edition</td>\n",
       "                        <td id=\"T_ad266d9a_409f_11ec_840a_74867a516d39row9_col2\" class=\"data row9 col2\" >TypeScript</td>\n",
       "            </tr>\n",
       "    </tbody></table>"
      ],
      "text/plain": [
       "<pandas.io.formats.style.Styler at 0x28c257c6a00>"
      ]
     },
     "execution_count": 58,
     "metadata": {},
     "output_type": "execute_result"
    }
   ],
   "source": [
    "import pandas as pd\n",
    "Trend_Repo=pd.DataFrame({})\n",
    "\n",
    "Trend_Repo['Repository title']=Repository_Name[:10]\n",
    "Trend_Repo['Repository Description']=Description[:10] \n",
    "#Trend_Repo['Muted_Link']=Muted_Link[:10]\n",
    "Trend_Repo['Language used']=Language[:10]\n",
    "Trend_Repo.style.hide_index()"
   ]
  },
  {
   "cell_type": "markdown",
   "metadata": {},
   "source": [
    "# Question No 6: Scrape the details of top 100 songs on billboard.com.\n",
    "Url = https://www.billboard.com/"
   ]
  },
  {
   "cell_type": "code",
   "execution_count": 59,
   "metadata": {},
   "outputs": [],
   "source": [
    "driver = webdriver.Chrome(r\"C:\\Users\\Dell\\Downloads\\chromedriver_win32\\chromedriver.exe\")"
   ]
  },
  {
   "cell_type": "code",
   "execution_count": 60,
   "metadata": {},
   "outputs": [],
   "source": [
    "url_4 = \"https://www.billboard.com/\""
   ]
  },
  {
   "cell_type": "code",
   "execution_count": 61,
   "metadata": {},
   "outputs": [],
   "source": [
    "driver.get(url_4)"
   ]
  },
  {
   "cell_type": "code",
   "execution_count": 62,
   "metadata": {},
   "outputs": [],
   "source": [
    "Song_Name = []\n",
    "Singer = []\n",
    "Rank = []\n",
    "Last_Week = []\n",
    "Weeks_on_board = []"
   ]
  },
  {
   "cell_type": "code",
   "execution_count": 63,
   "metadata": {},
   "outputs": [],
   "source": [
    "#clicking the search button for locating top 100:\n",
    "search_1 = driver.find_element_by_xpath('//*[@id=\"root\"]/div[2]/div[2]/nav/ul/li[3]')     \n",
    "search_1.click()"
   ]
  },
  {
   "cell_type": "code",
   "execution_count": 64,
   "metadata": {},
   "outputs": [
    {
     "name": "stdout",
     "output_type": "stream",
     "text": [
      "['1', '1', '2', '1', '1', '1', '1', '8', '2', '10']\n"
     ]
    }
   ],
   "source": [
    "#scraping the tags for rank:\n",
    "rank = driver.find_elements_by_xpath(\"//div[@class='chart-element__meta text--center color--secondary text--peak']\")\n",
    "\n",
    "#Using for loop for iterations\n",
    "#Handling Null Values.\n",
    "for i in rank:\n",
    "    if i.text is None:\n",
    "        Rank.append(\" \") \n",
    "    else:\n",
    "        Rank.append(i.text.replace('/','').strip())\n",
    "print(Rank[0:10])"
   ]
  },
  {
   "cell_type": "code",
   "execution_count": 65,
   "metadata": {},
   "outputs": [
    {
     "name": "stdout",
     "output_type": "stream",
     "text": [
      "['Certified Lover Boy', 'Dangerous: The Double Album', 'Planet Her', 'Sincerely, Kentrell', 'Sour', \"A Gangsta's Pain\", 'Punk', 'Blue Banisters', 'Montero', 'The Lockdown Sessions']\n"
     ]
    }
   ],
   "source": [
    "#scraping the tags for song name:\n",
    "song_name = driver.find_elements_by_xpath(\"//span[@class='chart-element__information__song text--truncate color--primary']\")\n",
    "\n",
    "#Using for loop for iterations\n",
    "#Handling Null Values.\n",
    "for i in song_name:\n",
    "    if i.text is None:\n",
    "        Song_Name.append(\" \") \n",
    "    else:\n",
    "        Song_Name.append(i.text.replace('/','').strip())\n",
    "print(Song_Name[0:10])"
   ]
  },
  {
   "cell_type": "code",
   "execution_count": 66,
   "metadata": {},
   "outputs": [
    {
     "name": "stdout",
     "output_type": "stream",
     "text": [
      "['Drake', 'Morgan Wallen', 'Doja Cat', 'YoungBoy Never Broke Again', 'Olivia Rodrigo', 'Moneybagg Yo', 'Young Thug', 'Lana Del Rey', 'Lil Nas X', 'Elton John']\n"
     ]
    }
   ],
   "source": [
    "#scraping the tags for singer:\n",
    "singer = driver.find_elements_by_xpath(\"//span[@class='chart-element__information__artist text--truncate color--secondary']\")\n",
    "\n",
    "#Using for loop for iterations\n",
    "#Handling Null Values.\n",
    "for i in singer:\n",
    "    if i.text is None:\n",
    "        Singer.append(\" \") \n",
    "    else:\n",
    "        Singer.append(i.text.replace('/','').strip())\n",
    "print(Singer[0:10])"
   ]
  },
  {
   "cell_type": "code",
   "execution_count": 67,
   "metadata": {},
   "outputs": [
    {
     "name": "stdout",
     "output_type": "stream",
     "text": [
      "['2', '8', '7', '6', '9', '34', '1', '-', '10', '-']\n"
     ]
    }
   ],
   "source": [
    "#scraping the tags for last week rank:\n",
    "last_week_rank = driver.find_elements_by_xpath(\"//div[@class='chart-element__meta text--center color--secondary text--last']\")\n",
    "#Using for loop for iterations\n",
    "#Handling Null Values.\n",
    "for i in last_week_rank:\n",
    "    if i.text is None:\n",
    "        Last_Week.append(\" \") \n",
    "    else:\n",
    "        Last_Week.append(i.text.replace('/','').strip())\n",
    "print(Last_Week[0:10])"
   ]
  },
  {
   "cell_type": "code",
   "execution_count": 68,
   "metadata": {},
   "outputs": [
    {
     "name": "stdout",
     "output_type": "stream",
     "text": [
      "['8', '42', '18', '5', '23', '27', '2', '1', '6', '1']\n"
     ]
    }
   ],
   "source": [
    "#scraping the tags for week on board:\n",
    "week_on_board = driver.find_elements_by_xpath(\"//div[@class='chart-element__meta text--center color--secondary text--week']\")\n",
    "\n",
    "#Using for loop for iterations\n",
    "#Handling Null Values.\n",
    "for i in week_on_board:\n",
    "    if i.text is None:\n",
    "        Weeks_on_board.append(\" \") \n",
    "    else:\n",
    "        Weeks_on_board.append(i.text.replace('/','').strip())\n",
    "print(Weeks_on_board[0:10])"
   ]
  },
  {
   "cell_type": "code",
   "execution_count": 69,
   "metadata": {},
   "outputs": [
    {
     "data": {
      "text/html": [
       "<div>\n",
       "<style scoped>\n",
       "    .dataframe tbody tr th:only-of-type {\n",
       "        vertical-align: middle;\n",
       "    }\n",
       "\n",
       "    .dataframe tbody tr th {\n",
       "        vertical-align: top;\n",
       "    }\n",
       "\n",
       "    .dataframe thead th {\n",
       "        text-align: right;\n",
       "    }\n",
       "</style>\n",
       "<table border=\"1\" class=\"dataframe\">\n",
       "  <thead>\n",
       "    <tr style=\"text-align: right;\">\n",
       "      <th></th>\n",
       "      <th>Rank</th>\n",
       "      <th>Song_Name</th>\n",
       "      <th>Singer</th>\n",
       "      <th>Last_Week_Rank</th>\n",
       "      <th>Weeks_on_board</th>\n",
       "    </tr>\n",
       "  </thead>\n",
       "  <tbody>\n",
       "    <tr>\n",
       "      <th>0</th>\n",
       "      <td>1</td>\n",
       "      <td>Certified Lover Boy</td>\n",
       "      <td>Drake</td>\n",
       "      <td>2</td>\n",
       "      <td>8</td>\n",
       "    </tr>\n",
       "    <tr>\n",
       "      <th>1</th>\n",
       "      <td>1</td>\n",
       "      <td>Dangerous: The Double Album</td>\n",
       "      <td>Morgan Wallen</td>\n",
       "      <td>8</td>\n",
       "      <td>42</td>\n",
       "    </tr>\n",
       "    <tr>\n",
       "      <th>2</th>\n",
       "      <td>2</td>\n",
       "      <td>Planet Her</td>\n",
       "      <td>Doja Cat</td>\n",
       "      <td>7</td>\n",
       "      <td>18</td>\n",
       "    </tr>\n",
       "    <tr>\n",
       "      <th>3</th>\n",
       "      <td>1</td>\n",
       "      <td>Sincerely, Kentrell</td>\n",
       "      <td>YoungBoy Never Broke Again</td>\n",
       "      <td>6</td>\n",
       "      <td>5</td>\n",
       "    </tr>\n",
       "    <tr>\n",
       "      <th>4</th>\n",
       "      <td>1</td>\n",
       "      <td>Sour</td>\n",
       "      <td>Olivia Rodrigo</td>\n",
       "      <td>9</td>\n",
       "      <td>23</td>\n",
       "    </tr>\n",
       "    <tr>\n",
       "      <th>...</th>\n",
       "      <td>...</td>\n",
       "      <td>...</td>\n",
       "      <td>...</td>\n",
       "      <td>...</td>\n",
       "      <td>...</td>\n",
       "    </tr>\n",
       "    <tr>\n",
       "      <th>95</th>\n",
       "      <td>20</td>\n",
       "      <td>Divinely Uninspired To A Hellish Extent</td>\n",
       "      <td>Lewis Capaldi</td>\n",
       "      <td>94</td>\n",
       "      <td>128</td>\n",
       "    </tr>\n",
       "    <tr>\n",
       "      <th>96</th>\n",
       "      <td>31</td>\n",
       "      <td>The Essential Michael Jackson</td>\n",
       "      <td>Michael Jackson</td>\n",
       "      <td>97</td>\n",
       "      <td>372</td>\n",
       "    </tr>\n",
       "    <tr>\n",
       "      <th>97</th>\n",
       "      <td>5</td>\n",
       "      <td>Legend: The Best Of...</td>\n",
       "      <td>Bob Marley And The Wailers</td>\n",
       "      <td>96</td>\n",
       "      <td>702</td>\n",
       "    </tr>\n",
       "    <tr>\n",
       "      <th>98</th>\n",
       "      <td>1</td>\n",
       "      <td>Metallica</td>\n",
       "      <td>Metallica</td>\n",
       "      <td>78</td>\n",
       "      <td>631</td>\n",
       "    </tr>\n",
       "    <tr>\n",
       "      <th>99</th>\n",
       "      <td>26</td>\n",
       "      <td>La 167</td>\n",
       "      <td>Farruko</td>\n",
       "      <td>80</td>\n",
       "      <td>4</td>\n",
       "    </tr>\n",
       "  </tbody>\n",
       "</table>\n",
       "<p>100 rows × 5 columns</p>\n",
       "</div>"
      ],
      "text/plain": [
       "   Rank                                Song_Name                      Singer  \\\n",
       "0     1                      Certified Lover Boy                       Drake   \n",
       "1     1              Dangerous: The Double Album               Morgan Wallen   \n",
       "2     2                               Planet Her                    Doja Cat   \n",
       "3     1                      Sincerely, Kentrell  YoungBoy Never Broke Again   \n",
       "4     1                                     Sour              Olivia Rodrigo   \n",
       "..  ...                                      ...                         ...   \n",
       "95   20  Divinely Uninspired To A Hellish Extent               Lewis Capaldi   \n",
       "96   31            The Essential Michael Jackson             Michael Jackson   \n",
       "97    5                   Legend: The Best Of...  Bob Marley And The Wailers   \n",
       "98    1                                Metallica                   Metallica   \n",
       "99   26                                   La 167                     Farruko   \n",
       "\n",
       "   Last_Week_Rank Weeks_on_board  \n",
       "0               2              8  \n",
       "1               8             42  \n",
       "2               7             18  \n",
       "3               6              5  \n",
       "4               9             23  \n",
       "..            ...            ...  \n",
       "95             94            128  \n",
       "96             97            372  \n",
       "97             96            702  \n",
       "98             78            631  \n",
       "99             80              4  \n",
       "\n",
       "[100 rows x 5 columns]"
      ]
     },
     "execution_count": 69,
     "metadata": {},
     "output_type": "execute_result"
    }
   ],
   "source": [
    "#Defining a Dataframe:\n",
    "Top_Song = pd.DataFrame([])\n",
    "Top_Song['Rank'] = Rank[0:100]\n",
    "Top_Song['Song_Name'] = Song_Name[0:100]\n",
    "Top_Song['Singer'] = Singer[0:100]\n",
    "Top_Song['Last_Week_Rank'] = Last_Week[0:100]\n",
    "Top_Song['Weeks_on_board'] = Weeks_on_board[0:100]\n",
    "Top_Song.head(100)"
   ]
  },
  {
   "cell_type": "markdown",
   "metadata": {},
   "source": [
    "# Question No 7: Scrape the details of Data science recruiters from naukri.com.\n",
    "Url = https://www.naukri.com/"
   ]
  },
  {
   "cell_type": "code",
   "execution_count": 143,
   "metadata": {},
   "outputs": [],
   "source": [
    "driver = webdriver.Chrome(r\"C:\\Users\\Dell\\Downloads\\chromedriver_win32\\chromedriver.exe\")"
   ]
  },
  {
   "cell_type": "code",
   "execution_count": 144,
   "metadata": {},
   "outputs": [],
   "source": [
    "url_5 = \"https://www.naukri.com/data-science-jobs?k=data%20science\""
   ]
  },
  {
   "cell_type": "code",
   "execution_count": 145,
   "metadata": {},
   "outputs": [],
   "source": [
    " driver.get(url_5)"
   ]
  },
  {
   "cell_type": "code",
   "execution_count": 146,
   "metadata": {},
   "outputs": [],
   "source": [
    "time.sleep(1)"
   ]
  },
  {
   "cell_type": "code",
   "execution_count": 147,
   "metadata": {},
   "outputs": [],
   "source": [
    "search_btn6=driver.find_element_by_xpath(\"//a[@title='Search Recruiters']\")"
   ]
  },
  {
   "cell_type": "code",
   "execution_count": 148,
   "metadata": {},
   "outputs": [],
   "source": [
    "try:\n",
    "    \n",
    "    search_btn6.click()\n",
    "    time.sleep(3)\n",
    "    \n",
    "    time.sleep(30)\n",
    "    \n",
    "    \n",
    "except NoSuchElementException as e:\n",
    "    search_btn6.click()\n",
    "    time.sleep(3)\n",
    "    \n",
    "    time.sleep(30)"
   ]
  },
  {
   "cell_type": "code",
   "execution_count": 149,
   "metadata": {},
   "outputs": [],
   "source": [
    "try:\n",
    "    next_link=search_btn6.get_attribute(\"href\")\n",
    "    driver.get(next_link)\n",
    "    driver.get(driver.current_url)\n",
    "    search_BAR=driver.find_element_by_xpath(\"//input[@class='sugInp']\")\n",
    "    search_BAR.send_keys(\"Data science\")\n",
    "    search_BTN=driver.find_element_by_xpath(\"//button[@class='fl qsbSrch blueBtn']\")\n",
    "    search_BTN.click()\n",
    "\n",
    "except NoSuchElementException as e:\n",
    "    next_link=search_btn6.get_attribute(\"href\")\n",
    "    driver.get(next_link)\n",
    "    driver.get(driver.current_url)\n",
    "    search_BAR=driver.find_element_by_xpath(\"//input[@class='sugInp']\")\n",
    "    search_BAR.send_keys(\"Data science\")\n",
    "    search_BTN=driver.find_element_by_xpath(\"//button[@class='fl qsbSrch blueBtn']\")\n",
    "    search_BTN.click()"
   ]
  },
  {
   "cell_type": "code",
   "execution_count": 150,
   "metadata": {},
   "outputs": [
    {
     "data": {
      "text/plain": [
       "['Aakash Harit',\n",
       " 'shravan Kumar Gaddam',\n",
       " 'MARSIAN Technologies LLP',\n",
       " 'Anik Agrawal',\n",
       " 'subhas patel',\n",
       " 'Abhishek - Only Analytics Hiring - India and',\n",
       " 'Institute for Financial Management and Resear',\n",
       " 'Narasimha',\n",
       " 'Balu Ramesh',\n",
       " 'Asif Lucknowi',\n",
       " 'InstaFinancials',\n",
       " 'Priyanka Akiri',\n",
       " 'Kalpana Dumpala',\n",
       " 'Mubarak',\n",
       " 'Kushal Rastogi',\n",
       " 'Ruchi Dhote',\n",
       " 'Kapil Devang',\n",
       " 'Mahesh Babu Channa',\n",
       " 'Sandhya Khandagale',\n",
       " 'Manisha Yadav',\n",
       " 'Riya Rajesh',\n",
       " 'Rashmi Bhattacharjee',\n",
       " 'Faizan Kareem',\n",
       " 'Rithika dadwal',\n",
       " 'Shaun Rao',\n",
       " 'Azahar Shaikh',\n",
       " 'Manas',\n",
       " 'kumar',\n",
       " 'Sunil Vedula',\n",
       " 'Rajat Kumar',\n",
       " 'Jayanth N',\n",
       " 'Radha Manivasagam',\n",
       " 'Priya Khare',\n",
       " 'Dhruv Dev Dubey',\n",
       " 'SREEDHAR',\n",
       " 'Prateek Kumar',\n",
       " 'Amit Sharma',\n",
       " 'Kanan',\n",
       " 'Shashikant Chaudhary',\n",
       " 'Brad',\n",
       " 'Rutuja Pawar',\n",
       " 'Madhusudhan Sridhar',\n",
       " 'Ankit Sinha',\n",
       " 'Gaurav Chouhan',\n",
       " 'Rashi Kacker',\n",
       " 'Ashwini',\n",
       " 'Balaji Kolli',\n",
       " 'Rajani Nagaraj',\n",
       " 'ROHIT Kumar',\n",
       " 'Amir Chowdhury']"
      ]
     },
     "execution_count": 150,
     "metadata": {},
     "output_type": "execute_result"
    }
   ],
   "source": [
    "Rec_name=[]\n",
    "try:\n",
    "    driver.switch_to.window(driver.window_handles[0])\n",
    "    search_Rec_name=driver.find_elements_by_xpath(\"//p[@class='highlightable']//a[1]\")\n",
    "    for a in search_Rec_name:\n",
    "        Rec_name.append(a.text)\n",
    "\n",
    "except NoSuchElementException as e:\n",
    "    driver.switch_to.window(driver.window_handles[0])\n",
    "    search_Rec_name=driver.find_elements_by_xpath(\"//p[@class='highlightable']//a[1]\")\n",
    "    Rec_name.append(a.text)\n",
    "\n",
    "Rec_name"
   ]
  },
  {
   "cell_type": "code",
   "execution_count": 151,
   "metadata": {},
   "outputs": [
    {
     "data": {
      "text/plain": [
       "['HR Manager',\n",
       " 'Company Recruiter',\n",
       " 'Company HR',\n",
       " 'Company Recruiter',\n",
       " 'Founder CEO',\n",
       " 'Recruitment Lead Consultant',\n",
       " 'Programme Manager',\n",
       " 'Company Recruiter',\n",
       " 'HR Administrator',\n",
       " 'Director',\n",
       " 'Human Resource',\n",
       " 'HR Manager',\n",
       " 'Executive Hiring',\n",
       " 'Company HR',\n",
       " 'Company HR',\n",
       " 'Senior Executive Talent Acquisition',\n",
       " 'HR Manager',\n",
       " 'HR Team Lead',\n",
       " 'HR Recruiter',\n",
       " 'HR Executive',\n",
       " 'Manager Talent Acquisition',\n",
       " 'HR Head',\n",
       " 'HR MANAGER',\n",
       " 'HR Recruiter',\n",
       " 'Manager Human Resources',\n",
       " 'Company Recruiter',\n",
       " 'Lead Talent acquisition',\n",
       " 'Proprietor',\n",
       " 'CEO',\n",
       " 'Founder CEO',\n",
       " 'Project Manager',\n",
       " 'HR Executive',\n",
       " 'Senior Manager',\n",
       " 'Company Recruitment Head',\n",
       " 'Recruitment Consultant',\n",
       " 'Head',\n",
       " 'Consultant',\n",
       " 'senior technology instructor',\n",
       " 'HR Recruiter/HR Excutive',\n",
       " 'Manager, Technical Recruiting',\n",
       " 'Technical Recruiter',\n",
       " 'Erp Implementer',\n",
       " 'Head Analytics',\n",
       " 'Chief Technical Officer',\n",
       " 'Sr Product Manager',\n",
       " 'Director Global Delivery',\n",
       " 'Co Founder',\n",
       " 'HR Manager',\n",
       " 'Architect',\n",
       " 'Managing Partner']"
      ]
     },
     "execution_count": 151,
     "metadata": {},
     "output_type": "execute_result"
    }
   ],
   "source": [
    "Rec_Designation=[]\n",
    "try:\n",
    "    driver.switch_to.window(driver.window_handles[0])\n",
    "    search_Rec_Designation=driver.find_elements_by_xpath(\"//span[@class='ellipsis clr']\")\n",
    "    for a in search_Rec_Designation:\n",
    "        Rec_Designation.append(a.text)\n",
    "\n",
    "except NoSuchElementException as e:\n",
    "    driver.switch_to.window(driver.window_handles[0])\n",
    "    search_Rec_Designation=driver.find_elements_by_xpath(\"//span[@class='ellipsis clr']\")\n",
    "    Rec_Designation.append(a.text)\n",
    "\n",
    "Rec_Designation"
   ]
  },
  {
   "cell_type": "code",
   "execution_count": 152,
   "metadata": {},
   "outputs": [
    {
     "data": {
      "text/plain": [
       "['Aakash Harit',\n",
       " 'shravan Kumar Gaddam',\n",
       " 'MARSIAN Technologies LLP',\n",
       " 'Anik Agrawal',\n",
       " 'subhas patel',\n",
       " 'Abhishek - Only Analytics Hiring - India and',\n",
       " 'Institute for Financial Management and Resear',\n",
       " 'Narasimha',\n",
       " 'Balu Ramesh',\n",
       " 'Asif Lucknowi',\n",
       " 'InstaFinancials',\n",
       " 'Priyanka Akiri',\n",
       " 'Kalpana Dumpala',\n",
       " 'Mubarak',\n",
       " 'Kushal Rastogi',\n",
       " 'Ruchi Dhote',\n",
       " 'Kapil Devang',\n",
       " 'Mahesh Babu Channa',\n",
       " 'Sandhya Khandagale',\n",
       " 'Manisha Yadav',\n",
       " 'Riya Rajesh',\n",
       " 'Rashmi Bhattacharjee',\n",
       " 'Faizan Kareem',\n",
       " 'Rithika dadwal',\n",
       " 'Shaun Rao',\n",
       " 'Azahar Shaikh',\n",
       " 'Manas',\n",
       " 'kumar',\n",
       " 'Sunil Vedula',\n",
       " 'Rajat Kumar',\n",
       " 'Jayanth N',\n",
       " 'Radha Manivasagam',\n",
       " 'Priya Khare',\n",
       " 'Dhruv Dev Dubey',\n",
       " 'SREEDHAR',\n",
       " 'Prateek Kumar',\n",
       " 'Amit Sharma',\n",
       " 'Kanan',\n",
       " 'Shashikant Chaudhary',\n",
       " 'Brad',\n",
       " 'Rutuja Pawar',\n",
       " 'Madhusudhan Sridhar',\n",
       " 'Ankit Sinha',\n",
       " 'Gaurav Chouhan',\n",
       " 'Rashi Kacker',\n",
       " 'Ashwini',\n",
       " 'Balaji Kolli',\n",
       " 'Rajani Nagaraj',\n",
       " 'ROHIT Kumar',\n",
       " 'Amir Chowdhury']"
      ]
     },
     "execution_count": 152,
     "metadata": {},
     "output_type": "execute_result"
    }
   ],
   "source": [
    "Rec_company=[]\n",
    "try:\n",
    "    driver.switch_to.window(driver.window_handles[0])\n",
    "    search_Rec_company=driver.find_elements_by_xpath(\"//p[@class='highlightable']//a[1]\")\n",
    "    for a in search_Rec_company:\n",
    "        Rec_company.append(a.text)\n",
    "\n",
    "except NoSuchElementException as e:\n",
    "    driver.switch_to.window(driver.window_handles[0])\n",
    "    search_Rec_company=driver.find_elements_by_xpath(\"//p[@class='highlightable']//a[1]\")\n",
    "    Rec_company.append(a.text)\n",
    "\n",
    "Rec_company"
   ]
  },
  {
   "cell_type": "code",
   "execution_count": 153,
   "metadata": {},
   "outputs": [
    {
     "data": {
      "text/plain": [
       "['Classic ASP Developer, Internet Marketing Professional, Data Science SME, Content Writers, SEO Professional, Revenue Professional',\n",
       " '.Net, Java, Data Science, Linux Administration, Sql Server Development, Winforms, Wcf Services, Wpf, Telecom Engineering, Technical Management, Software',\n",
       " 'Data Science, Artificial Intelligence, Machine Learning, Business Analytics',\n",
       " 'Mean Stack, javascript, angularjs, mongodb, Web Services, rest, express, Node.js, Big Data, iot, Data Science, Cloud Computing, saas, Aws',\n",
       " 'Hadoop, Spark, Digital Strategy, Data Architecture, Command Center, Cdp, Dmp, Kafka, Data Science, Data Analysis, Big Data Analytics, Real Time Analysis, SQL',\n",
       " 'Analytics, Business Intelligence, Business Analytics, Predictive Modeling, Predictive Analytics, Data Science, Data Analysis, Data Analytics, Big Data, Big',\n",
       " 'Data Science',\n",
       " 'Data Modeling, Data Wrangling, seaborn, eda, python, r, Data Science, ai, Machine Learning, Deep Learning, Neural Networks',\n",
       " 'Machine Learning, algorithms, Go Getter, Computer Science, spark, Big Data, hdfs, sql, cassandra, hadoop, python, scala, java, Data Science, Front End',\n",
       " 'Technical Training, Software Development, Presentation Skills, B.tech, M.tech, B.e., mca, msc, Computer Science, freshers, jobs in indore, Data Science, itil',\n",
       " 'Software Development, It Sales, Account Management, Data Analysis, Customer Service, Sr, Software Engineering, Mvc, Ajax, Asp.net, Html, C#, Javascript',\n",
       " 'Oracle Dba, Data Science, Data Warehousing, ETL, Jupyter, Numpy, Data Transformation, Snowflake, Teradata, Python, Data Manipulation, Relational Databases',\n",
       " 'Qa, Ui/ux, Java Developer, Java Architect, C++/qt, Php, Lamp, Api, J2ee, Java, Soa, Esb, Middleware, Bigdata Achitect, Hadoop Architect, Deep',\n",
       " 'Business Intelligence, Data Warehousing, Data Science, Business Analytics, Customer Support, Business Reporting, Bi',\n",
       " 'Office Administration, Hr Administration, telecalling, client relationship management, Client Acquisition, Sales, Reception, HR, Recruitment, Onboarding, Human',\n",
       " 'Qlikview, Qlik Sense, Microsoft Azure, Power Bi, Data Science, Machine Learning',\n",
       " 'Big Data, Hadoop, Data Analytics, Data Science',\n",
       " 'Social Media, digital media maketing, seo, smm, smo, sem, Content Wirting, social media marketing, social media manager, digital media marketing manager',\n",
       " 'Big Data, Data Science, Artificial Intelligence, Hadoop, Ui Development, Php, Freelancing, .Net, Software Testing, Sap, Leadership Hiring',\n",
       " 'Telecalling, Client Interaction, Marketing, Research, Web Development, Social Media Marketing, Data Entry Operation, Excel, Ms Office, Invoicing',\n",
       " 'Data Science',\n",
       " 'Corporate Sales, Software Development, Software Sales, Marketing, Creative Designing, Corporate Planning, Senior Management, Crm, Client Relationship',\n",
       " 'Data Analytics, Data Science, Machine Learning, Deep Learning, Nlp, Data Mining, Python, R, Database Administration, Text Mining',\n",
       " 'Data Science, Machine Learning, Python, R, Deep Learning, Big Data, Hadoop',\n",
       " 'Java, Net, Angularjs, Hr, Infrastructure, Management, Project Management, Business Analysis, Data Science, Information Technology, Technology',\n",
       " 'Data Science, Artificial Intelligence, Machine Learning, Data Analytics',\n",
       " 'Software Architecture, Vp Engineering, Product Management, analytics, Data Science, Node.js, Principal Engineer, Big Data, python, angularjs, React.js',\n",
       " 'Data Science, Hadoop, Rpas, Devops, Python, Aws, Teaching, Big Data',\n",
       " 'Signal Processing, Machine Learning, Neural Networks, Data Science, Predictive Analytics, Time Series Analysis, Data Visualization, Technical Leadership, Data',\n",
       " 'Web Technologies, Project Management, Software Architecture, Data Science, Object Oriented Programming, Computer Science, Electrical Engineering, Architecture',\n",
       " 'Data Analytics, Managed Services, Team Leading, python, Machine Learning, Google Analytics, Dmp, Aws, Campaign Analytics, Digital Campaigns, Audience',\n",
       " 'Python, Artificial Intelligence, Machine Learning, Data Science',\n",
       " 'Data Science, Artificial Intelligence, analytics, Business Intelligence, python, tableau, Power Bi, qlikview, sql, Data Warehousing, Data Visualization',\n",
       " 'Server Administartion, Verilog, Vhdl, Digital Marketing, Market Research, Property Research, Legal, It And Non It Recruitment, Logistics, Supply Chain, Bfsi',\n",
       " 'Data Science, Machine Learning, Big Data Analytics, Spark, Python, R, Networking, Network Engineering, Placement, Training, Sql, Marketing, Mainframes, All',\n",
       " 'Java, Python, Angularjs, Software Testing, Machine Learning, Data Science, Javascript, Django, React.js, Node.js, Augmented Reality, Virtual Reality, Advanced',\n",
       " 'Machine Learning, Artificial Intelligence, Data Science, Software Engineering, Software Development, Graduate Engineer Trainee, Fresher, Data Analytics, Java',\n",
       " 'C, C++, Artificial Intelligence, Python, Php, Web Development, Matlab, Data Science, Augmented Reality, C C++',\n",
       " 'Relationship Management, Retail Sales, Private Banking, Mutual Funds, NISM, Equity, Finance, Financial Products, Financial Services, Verbal, Written',\n",
       " 'Data Science, Software Engineering',\n",
       " 'Data Science, Big Data Analytics, Digital Marketing, Content Writing, Ui Development, Database Development, Qa Automation, Python, Project Management',\n",
       " 'Data Science, Recruitment, Salary',\n",
       " 'B.Tech, Tableau, Statistics, R, Analytics, Time Series, Data Science, Business Solutions, SQL, Technical Skills, SSAS, SQL Server, Analysis Services, Qlikview',\n",
       " 'Software Development, Business Intelligence, Big Data Analytics, Database Administration, Data Science, Microsoft Azure, Spark, Cassandra, Object Oriented',\n",
       " 'Data Science, Node.js, Angularjs',\n",
       " 'Data Science, Media Marketing, Resource Planning, Managed Services, Display Advertising, Machine Learning, Python, Etl, Sql',\n",
       " 'Data Analysis, Learning, Data Science, Computer Science, Communication Skills',\n",
       " 'Java, Hadoop, R, Machine Learning, Spark, Flume, Hdfs, Data Mining, Sas, Big, Data Science, Cloudera, Impala, Bigdata',\n",
       " 'Software Development, Core Java, Unit Testing, Customer Experience, Problem Solving, Communication Skills, Mysql, Data Science, Sales Management, Analytics',\n",
       " 'Machine Learning, Data Science, Product Management, New Product, Data Analysis, Computer Vision, Deep Learning, Python, Remote Sensing']"
      ]
     },
     "execution_count": 153,
     "metadata": {},
     "output_type": "execute_result"
    }
   ],
   "source": [
    "job_skills=[]\n",
    "try:\n",
    "    driver.switch_to.window(driver.window_handles[0])\n",
    "    search_job_skills=driver.find_elements_by_xpath(\"//div[@class='hireSec highlightable']\")\n",
    "    for a in search_job_skills:\n",
    "        job_skills.append(a.text)\n",
    "\n",
    "except NoSuchElementException as e:\n",
    "    driver.switch_to.window(driver.window_handles[0])\n",
    "    search_job_skills=driver.find_elements_by_xpath(\"//div[@class='hireSec highlightable']\")\n",
    "    job_skills.append(a.text)\n",
    "\n",
    "job_skills"
   ]
  },
  {
   "cell_type": "code",
   "execution_count": 154,
   "metadata": {},
   "outputs": [
    {
     "data": {
      "text/plain": [
       "['Delhi',\n",
       " 'Hyderabad / Secunderabad',\n",
       " 'Pune',\n",
       " 'Ahmedabad',\n",
       " 'UK - (london)',\n",
       " 'Vadodara / Baroda',\n",
       " 'Chennai',\n",
       " 'Hyderabad / Secunderabad',\n",
       " 'Trivandrum',\n",
       " 'Indore',\n",
       " 'Bengaluru / Bangalore',\n",
       " 'Hyderabad',\n",
       " 'Hyderabad / Secunderabad',\n",
       " 'Bengaluru / Bangalore',\n",
       " 'Mumbai',\n",
       " 'Pune',\n",
       " 'Bhopal',\n",
       " 'Hyderabad / Secunderabad',\n",
       " 'Pune',\n",
       " 'Navi Mumbai',\n",
       " 'Cochin',\n",
       " 'Delhi',\n",
       " 'Hyderabad / Secunderabad',\n",
       " 'Pune',\n",
       " 'Pune',\n",
       " 'Pune',\n",
       " 'Bengaluru / Bangalore',\n",
       " 'Bengaluru / Bangalore',\n",
       " 'Delhi',\n",
       " 'Mysoru / Mysore',\n",
       " 'Bengaluru / Bangalore',\n",
       " 'Bengaluru / Bangalore',\n",
       " 'Bengaluru / Bangalore',\n",
       " 'Hyderabad / Secunderabad',\n",
       " 'Noida',\n",
       " 'New Delhi',\n",
       " 'Chennai',\n",
       " 'Aligarh',\n",
       " 'Salt Lake City',\n",
       " 'Pune',\n",
       " 'Bengaluru / Bangalore',\n",
       " 'Mumbai',\n",
       " 'Indore',\n",
       " 'Bengaluru / Bangalore',\n",
       " 'MYSORE',\n",
       " 'Hyderabad / Secunderabad',\n",
       " 'Bengaluru / Bangalore',\n",
       " 'Mumbai']"
      ]
     },
     "execution_count": 154,
     "metadata": {},
     "output_type": "execute_result"
    }
   ],
   "source": [
    "Location=[]\n",
    "try:\n",
    "    driver.switch_to.window(driver.window_handles[0])\n",
    "    search_Location=driver.find_elements_by_xpath(\"//small[@class='ellipsis']\")\n",
    "    for a in search_Location:\n",
    "        Location.append(a.text)\n",
    "\n",
    "except NoSuchElementException as e:\n",
    "    driver.switch_to.window(driver.window_handles[0])\n",
    "    search_Location=driver.find_elements_by_xpath(\"//small[@class='ellipsis']\")\n",
    "    Location.append('_')\n",
    "\n",
    "Location"
   ]
  },
  {
   "cell_type": "code",
   "execution_count": 155,
   "metadata": {},
   "outputs": [],
   "source": [
    "Nos=[]\n",
    "for i in range(1,len(Rec_name)+1):\n",
    "    Nos.append(i)"
   ]
  },
  {
   "cell_type": "code",
   "execution_count": 158,
   "metadata": {},
   "outputs": [
    {
     "data": {
      "text/html": [
       "<style  type=\"text/css\" >\n",
       "</style><table id=\"T_c77e60a1_40a6_11ec_8b31_74867a516d39\" ><thead>    <tr>        <th class=\"col_heading level0 col0\" >Nos</th>        <th class=\"col_heading level0 col1\" >Name</th>        <th class=\"col_heading level0 col2\" >Designation</th>        <th class=\"col_heading level0 col3\" >Company</th>        <th class=\"col_heading level0 col4\" >Skills they hire for</th>        <th class=\"col_heading level0 col5\" >Location</th>    </tr></thead><tbody>\n",
       "                <tr>\n",
       "                                <td id=\"T_c77e60a1_40a6_11ec_8b31_74867a516d39row0_col0\" class=\"data row0 col0\" >1</td>\n",
       "                        <td id=\"T_c77e60a1_40a6_11ec_8b31_74867a516d39row0_col1\" class=\"data row0 col1\" >Aakash Harit</td>\n",
       "                        <td id=\"T_c77e60a1_40a6_11ec_8b31_74867a516d39row0_col2\" class=\"data row0 col2\" >HR Manager</td>\n",
       "                        <td id=\"T_c77e60a1_40a6_11ec_8b31_74867a516d39row0_col3\" class=\"data row0 col3\" >Aakash Harit</td>\n",
       "                        <td id=\"T_c77e60a1_40a6_11ec_8b31_74867a516d39row0_col4\" class=\"data row0 col4\" >Classic ASP Developer, Internet Marketing Professional, Data Science SME, Content Writers, SEO Professional, Revenue Professional</td>\n",
       "                        <td id=\"T_c77e60a1_40a6_11ec_8b31_74867a516d39row0_col5\" class=\"data row0 col5\" >Delhi</td>\n",
       "            </tr>\n",
       "            <tr>\n",
       "                                <td id=\"T_c77e60a1_40a6_11ec_8b31_74867a516d39row1_col0\" class=\"data row1 col0\" >2</td>\n",
       "                        <td id=\"T_c77e60a1_40a6_11ec_8b31_74867a516d39row1_col1\" class=\"data row1 col1\" >shravan Kumar Gaddam</td>\n",
       "                        <td id=\"T_c77e60a1_40a6_11ec_8b31_74867a516d39row1_col2\" class=\"data row1 col2\" >Company Recruiter</td>\n",
       "                        <td id=\"T_c77e60a1_40a6_11ec_8b31_74867a516d39row1_col3\" class=\"data row1 col3\" >shravan Kumar Gaddam</td>\n",
       "                        <td id=\"T_c77e60a1_40a6_11ec_8b31_74867a516d39row1_col4\" class=\"data row1 col4\" >.Net, Java, Data Science, Linux Administration, Sql Server Development, Winforms, Wcf Services, Wpf, Telecom Engineering, Technical Management, Software</td>\n",
       "                        <td id=\"T_c77e60a1_40a6_11ec_8b31_74867a516d39row1_col5\" class=\"data row1 col5\" >Hyderabad / Secunderabad</td>\n",
       "            </tr>\n",
       "            <tr>\n",
       "                                <td id=\"T_c77e60a1_40a6_11ec_8b31_74867a516d39row2_col0\" class=\"data row2 col0\" >3</td>\n",
       "                        <td id=\"T_c77e60a1_40a6_11ec_8b31_74867a516d39row2_col1\" class=\"data row2 col1\" >MARSIAN Technologies LLP</td>\n",
       "                        <td id=\"T_c77e60a1_40a6_11ec_8b31_74867a516d39row2_col2\" class=\"data row2 col2\" >Company HR</td>\n",
       "                        <td id=\"T_c77e60a1_40a6_11ec_8b31_74867a516d39row2_col3\" class=\"data row2 col3\" >MARSIAN Technologies LLP</td>\n",
       "                        <td id=\"T_c77e60a1_40a6_11ec_8b31_74867a516d39row2_col4\" class=\"data row2 col4\" >Data Science, Artificial Intelligence, Machine Learning, Business Analytics</td>\n",
       "                        <td id=\"T_c77e60a1_40a6_11ec_8b31_74867a516d39row2_col5\" class=\"data row2 col5\" >Pune</td>\n",
       "            </tr>\n",
       "            <tr>\n",
       "                                <td id=\"T_c77e60a1_40a6_11ec_8b31_74867a516d39row3_col0\" class=\"data row3 col0\" >4</td>\n",
       "                        <td id=\"T_c77e60a1_40a6_11ec_8b31_74867a516d39row3_col1\" class=\"data row3 col1\" >Anik Agrawal</td>\n",
       "                        <td id=\"T_c77e60a1_40a6_11ec_8b31_74867a516d39row3_col2\" class=\"data row3 col2\" >Company Recruiter</td>\n",
       "                        <td id=\"T_c77e60a1_40a6_11ec_8b31_74867a516d39row3_col3\" class=\"data row3 col3\" >Anik Agrawal</td>\n",
       "                        <td id=\"T_c77e60a1_40a6_11ec_8b31_74867a516d39row3_col4\" class=\"data row3 col4\" >Mean Stack, javascript, angularjs, mongodb, Web Services, rest, express, Node.js, Big Data, iot, Data Science, Cloud Computing, saas, Aws</td>\n",
       "                        <td id=\"T_c77e60a1_40a6_11ec_8b31_74867a516d39row3_col5\" class=\"data row3 col5\" >Ahmedabad</td>\n",
       "            </tr>\n",
       "            <tr>\n",
       "                                <td id=\"T_c77e60a1_40a6_11ec_8b31_74867a516d39row4_col0\" class=\"data row4 col0\" >5</td>\n",
       "                        <td id=\"T_c77e60a1_40a6_11ec_8b31_74867a516d39row4_col1\" class=\"data row4 col1\" >subhas patel</td>\n",
       "                        <td id=\"T_c77e60a1_40a6_11ec_8b31_74867a516d39row4_col2\" class=\"data row4 col2\" >Founder CEO</td>\n",
       "                        <td id=\"T_c77e60a1_40a6_11ec_8b31_74867a516d39row4_col3\" class=\"data row4 col3\" >subhas patel</td>\n",
       "                        <td id=\"T_c77e60a1_40a6_11ec_8b31_74867a516d39row4_col4\" class=\"data row4 col4\" >Hadoop, Spark, Digital Strategy, Data Architecture, Command Center, Cdp, Dmp, Kafka, Data Science, Data Analysis, Big Data Analytics, Real Time Analysis, SQL</td>\n",
       "                        <td id=\"T_c77e60a1_40a6_11ec_8b31_74867a516d39row4_col5\" class=\"data row4 col5\" >UK - (london)</td>\n",
       "            </tr>\n",
       "            <tr>\n",
       "                                <td id=\"T_c77e60a1_40a6_11ec_8b31_74867a516d39row5_col0\" class=\"data row5 col0\" >6</td>\n",
       "                        <td id=\"T_c77e60a1_40a6_11ec_8b31_74867a516d39row5_col1\" class=\"data row5 col1\" >Abhishek - Only Analytics Hiring - India and</td>\n",
       "                        <td id=\"T_c77e60a1_40a6_11ec_8b31_74867a516d39row5_col2\" class=\"data row5 col2\" >Recruitment Lead Consultant</td>\n",
       "                        <td id=\"T_c77e60a1_40a6_11ec_8b31_74867a516d39row5_col3\" class=\"data row5 col3\" >Abhishek - Only Analytics Hiring - India and</td>\n",
       "                        <td id=\"T_c77e60a1_40a6_11ec_8b31_74867a516d39row5_col4\" class=\"data row5 col4\" >Analytics, Business Intelligence, Business Analytics, Predictive Modeling, Predictive Analytics, Data Science, Data Analysis, Data Analytics, Big Data, Big</td>\n",
       "                        <td id=\"T_c77e60a1_40a6_11ec_8b31_74867a516d39row5_col5\" class=\"data row5 col5\" >Vadodara / Baroda</td>\n",
       "            </tr>\n",
       "            <tr>\n",
       "                                <td id=\"T_c77e60a1_40a6_11ec_8b31_74867a516d39row6_col0\" class=\"data row6 col0\" >7</td>\n",
       "                        <td id=\"T_c77e60a1_40a6_11ec_8b31_74867a516d39row6_col1\" class=\"data row6 col1\" >Institute for Financial Management and Resear</td>\n",
       "                        <td id=\"T_c77e60a1_40a6_11ec_8b31_74867a516d39row6_col2\" class=\"data row6 col2\" >Programme Manager</td>\n",
       "                        <td id=\"T_c77e60a1_40a6_11ec_8b31_74867a516d39row6_col3\" class=\"data row6 col3\" >Institute for Financial Management and Resear</td>\n",
       "                        <td id=\"T_c77e60a1_40a6_11ec_8b31_74867a516d39row6_col4\" class=\"data row6 col4\" >Data Science</td>\n",
       "                        <td id=\"T_c77e60a1_40a6_11ec_8b31_74867a516d39row6_col5\" class=\"data row6 col5\" >Chennai</td>\n",
       "            </tr>\n",
       "            <tr>\n",
       "                                <td id=\"T_c77e60a1_40a6_11ec_8b31_74867a516d39row7_col0\" class=\"data row7 col0\" >8</td>\n",
       "                        <td id=\"T_c77e60a1_40a6_11ec_8b31_74867a516d39row7_col1\" class=\"data row7 col1\" >Narasimha</td>\n",
       "                        <td id=\"T_c77e60a1_40a6_11ec_8b31_74867a516d39row7_col2\" class=\"data row7 col2\" >Company Recruiter</td>\n",
       "                        <td id=\"T_c77e60a1_40a6_11ec_8b31_74867a516d39row7_col3\" class=\"data row7 col3\" >Narasimha</td>\n",
       "                        <td id=\"T_c77e60a1_40a6_11ec_8b31_74867a516d39row7_col4\" class=\"data row7 col4\" >Data Modeling, Data Wrangling, seaborn, eda, python, r, Data Science, ai, Machine Learning, Deep Learning, Neural Networks</td>\n",
       "                        <td id=\"T_c77e60a1_40a6_11ec_8b31_74867a516d39row7_col5\" class=\"data row7 col5\" >Hyderabad / Secunderabad</td>\n",
       "            </tr>\n",
       "            <tr>\n",
       "                                <td id=\"T_c77e60a1_40a6_11ec_8b31_74867a516d39row8_col0\" class=\"data row8 col0\" >9</td>\n",
       "                        <td id=\"T_c77e60a1_40a6_11ec_8b31_74867a516d39row8_col1\" class=\"data row8 col1\" >Balu Ramesh</td>\n",
       "                        <td id=\"T_c77e60a1_40a6_11ec_8b31_74867a516d39row8_col2\" class=\"data row8 col2\" >HR Administrator</td>\n",
       "                        <td id=\"T_c77e60a1_40a6_11ec_8b31_74867a516d39row8_col3\" class=\"data row8 col3\" >Balu Ramesh</td>\n",
       "                        <td id=\"T_c77e60a1_40a6_11ec_8b31_74867a516d39row8_col4\" class=\"data row8 col4\" >Machine Learning, algorithms, Go Getter, Computer Science, spark, Big Data, hdfs, sql, cassandra, hadoop, python, scala, java, Data Science, Front End</td>\n",
       "                        <td id=\"T_c77e60a1_40a6_11ec_8b31_74867a516d39row8_col5\" class=\"data row8 col5\" >Trivandrum</td>\n",
       "            </tr>\n",
       "            <tr>\n",
       "                                <td id=\"T_c77e60a1_40a6_11ec_8b31_74867a516d39row9_col0\" class=\"data row9 col0\" >10</td>\n",
       "                        <td id=\"T_c77e60a1_40a6_11ec_8b31_74867a516d39row9_col1\" class=\"data row9 col1\" >Asif Lucknowi</td>\n",
       "                        <td id=\"T_c77e60a1_40a6_11ec_8b31_74867a516d39row9_col2\" class=\"data row9 col2\" >Director</td>\n",
       "                        <td id=\"T_c77e60a1_40a6_11ec_8b31_74867a516d39row9_col3\" class=\"data row9 col3\" >Asif Lucknowi</td>\n",
       "                        <td id=\"T_c77e60a1_40a6_11ec_8b31_74867a516d39row9_col4\" class=\"data row9 col4\" >Technical Training, Software Development, Presentation Skills, B.tech, M.tech, B.e., mca, msc, Computer Science, freshers, jobs in indore, Data Science, itil</td>\n",
       "                        <td id=\"T_c77e60a1_40a6_11ec_8b31_74867a516d39row9_col5\" class=\"data row9 col5\" >Indore</td>\n",
       "            </tr>\n",
       "    </tbody></table>"
      ],
      "text/plain": [
       "<pandas.io.formats.style.Styler at 0x28c25b0b7c0>"
      ]
     },
     "execution_count": 158,
     "metadata": {},
     "output_type": "execute_result"
    }
   ],
   "source": [
    "import pandas as pd\n",
    "Dscrecruit=pd.DataFrame({})\n",
    "Dscrecruit['Nos']=Nos[:10]\n",
    "Dscrecruit['Name']=Rec_name[:10]    \n",
    "Dscrecruit['Designation']=Rec_Designation[:10]    \n",
    "Dscrecruit['Company']=Rec_company[:10]    \n",
    "Dscrecruit['Skills they hire for']=job_skills[:10]    \n",
    "Dscrecruit['Location']=Location[:10]    \n",
    "Dscrecruit.style.hide_index()"
   ]
  },
  {
   "cell_type": "markdown",
   "metadata": {},
   "source": [
    "# Question No 8: Scrape the details of Highest selling novels.\n",
    "Url = https://www.theguardian.com/news/datablog/2012/aug/09/best-selling-books-all-time-fifty-shades-grey\u0002compare/"
   ]
  },
  {
   "cell_type": "code",
   "execution_count": 94,
   "metadata": {},
   "outputs": [],
   "source": [
    "driver = webdriver.Chrome(r\"C:\\Users\\Dell\\Downloads\\chromedriver_win32\\chromedriver.exe\")"
   ]
  },
  {
   "cell_type": "code",
   "execution_count": 95,
   "metadata": {},
   "outputs": [],
   "source": [
    "url_6 = \"https://www.theguardian.com/news/datablog/2012/aug/09/best-selling-books-all-time-fifty-shades-grey-compare\""
   ]
  },
  {
   "cell_type": "code",
   "execution_count": 96,
   "metadata": {},
   "outputs": [],
   "source": [
    "driver.get(url_6)"
   ]
  },
  {
   "cell_type": "code",
   "execution_count": 97,
   "metadata": {},
   "outputs": [],
   "source": [
    "#Creating Empty List:\n",
    "Book_name = []\n",
    "Author_name = []\n",
    "Volumes_sold = []\n",
    "Publisher = []\n",
    "Genre = []"
   ]
  },
  {
   "cell_type": "code",
   "execution_count": 98,
   "metadata": {},
   "outputs": [
    {
     "name": "stdout",
     "output_type": "stream",
     "text": [
      "['Da Vinci Code,The', 'Harry Potter and the Deathly Hallows', \"Harry Potter and the Philosopher's Stone\", 'Harry Potter and the Order of the Phoenix', 'Fifty Shades of Grey', 'Harry Potter and the Goblet of Fire', 'Harry Potter and the Chamber of Secrets', 'Harry Potter and the Prisoner of Azkaban', 'Angels and Demons', \"Harry Potter and the Half-blood Prince:Children's Edition\"]\n"
     ]
    }
   ],
   "source": [
    "#scraping the tags for Book_name \n",
    "book_name = driver.find_elements_by_xpath(\"/html/body/div/div[2]/div[2]/div/div[2]/div/table/tbody/tr/td[2]\")\n",
    "for i in book_name:\n",
    "    if i.text is None :\n",
    "        Book_name.append(\" \") \n",
    "    else:\n",
    "        Book_name.append(i.text.replace('\\n','').strip())\n",
    "print(Book_name[0:10])"
   ]
  },
  {
   "cell_type": "code",
   "execution_count": 99,
   "metadata": {},
   "outputs": [
    {
     "name": "stdout",
     "output_type": "stream",
     "text": [
      "['Brown, Dan', 'Rowling, J.K.', 'Rowling, J.K.', 'Rowling, J.K.', 'James, E. L.', 'Rowling, J.K.', 'Rowling, J.K.', 'Rowling, J.K.', 'Brown, Dan', 'Rowling, J.K.']\n"
     ]
    }
   ],
   "source": [
    "#scraping the tags for Author_name \n",
    "author_name  = driver.find_elements_by_xpath(\"/html/body/div/div[2]/div[2]/div/div[2]/div/table/tbody/tr/td[3]\")\n",
    "for i in author_name:\n",
    "    if i.text is None :\n",
    "        Author_name.append(\"--\") \n",
    "    else:\n",
    "        Author_name.append(i.text.replace('\\n','').strip())\n",
    "print(Author_name[0:10])"
   ]
  },
  {
   "cell_type": "code",
   "execution_count": 100,
   "metadata": {},
   "outputs": [
    {
     "name": "stdout",
     "output_type": "stream",
     "text": [
      "['Transworld', 'Bloomsbury', 'Bloomsbury', 'Bloomsbury', 'Random House', 'Bloomsbury', 'Bloomsbury', 'Bloomsbury', 'Transworld', 'Bloomsbury']\n"
     ]
    }
   ],
   "source": [
    "#scraping the tags for Publisher \n",
    "publisher  = driver.find_elements_by_xpath(\"/html/body/div/div[2]/div[2]/div/div[2]/div/table/tbody/tr/td[5]\")\n",
    "for i in publisher:\n",
    "    if i.text is None :\n",
    "        Publisher.append(\"--\") \n",
    "    else:\n",
    "        Publisher.append(i.text.replace('\\n','').strip())\n",
    "print(Publisher[0:10])"
   ]
  },
  {
   "cell_type": "code",
   "execution_count": 101,
   "metadata": {},
   "outputs": [
    {
     "name": "stdout",
     "output_type": "stream",
     "text": [
      "['5,094,805', '4,475,152', '4,200,654', '4,179,479', '3,758,936', '3,583,215', '3,484,047', '3,377,906', '3,193,946', '2,950,264']\n"
     ]
    }
   ],
   "source": [
    "#scraping the tags for Volumes_sold  \n",
    "volumes_sold   = driver.find_elements_by_xpath(\"/html/body/div/div[2]/div[2]/div/div[2]/div/table/tbody/tr/td[4]\")\n",
    "for i in volumes_sold:\n",
    "    if i.text is None :\n",
    "        Volumes_sold.append(\" \") \n",
    "    else:\n",
    "        Volumes_sold.append(i.text.replace('\\n','').strip())\n",
    "print(Volumes_sold[0:10])"
   ]
  },
  {
   "cell_type": "code",
   "execution_count": 102,
   "metadata": {},
   "outputs": [
    {
     "name": "stdout",
     "output_type": "stream",
     "text": [
      "['Crime, Thriller & Adventure', \"Children's Fiction\", \"Children's Fiction\", \"Children's Fiction\", 'Romance & Sagas', \"Children's Fiction\", \"Children's Fiction\", \"Children's Fiction\", 'Crime, Thriller & Adventure', \"Children's Fiction\"]\n"
     ]
    }
   ],
   "source": [
    "#scraping tags for Genre \n",
    "genere = driver.find_elements_by_xpath(\"/html/body/div/div[2]/div[2]/div/div[2]/div/table/tbody/tr/td[6]\")\n",
    "for i in genere:\n",
    "    if i.text is None :\n",
    "        Genre.append(\" \") \n",
    "    else:\n",
    "        Genre.append(i.text.replace('\\n','').strip())\n",
    "print(Genre[0:10])"
   ]
  },
  {
   "cell_type": "code",
   "execution_count": 103,
   "metadata": {},
   "outputs": [
    {
     "data": {
      "text/html": [
       "<div>\n",
       "<style scoped>\n",
       "    .dataframe tbody tr th:only-of-type {\n",
       "        vertical-align: middle;\n",
       "    }\n",
       "\n",
       "    .dataframe tbody tr th {\n",
       "        vertical-align: top;\n",
       "    }\n",
       "\n",
       "    .dataframe thead th {\n",
       "        text-align: right;\n",
       "    }\n",
       "</style>\n",
       "<table border=\"1\" class=\"dataframe\">\n",
       "  <thead>\n",
       "    <tr style=\"text-align: right;\">\n",
       "      <th></th>\n",
       "      <th>Book_name</th>\n",
       "      <th>Author_name</th>\n",
       "      <th>Genre</th>\n",
       "      <th>Publisher</th>\n",
       "      <th>Volumes_sold</th>\n",
       "    </tr>\n",
       "  </thead>\n",
       "  <tbody>\n",
       "    <tr>\n",
       "      <th>0</th>\n",
       "      <td>Da Vinci Code,The</td>\n",
       "      <td>Brown, Dan</td>\n",
       "      <td>Crime, Thriller &amp; Adventure</td>\n",
       "      <td>Transworld</td>\n",
       "      <td>5,094,805</td>\n",
       "    </tr>\n",
       "    <tr>\n",
       "      <th>1</th>\n",
       "      <td>Harry Potter and the Deathly Hallows</td>\n",
       "      <td>Rowling, J.K.</td>\n",
       "      <td>Children's Fiction</td>\n",
       "      <td>Bloomsbury</td>\n",
       "      <td>4,475,152</td>\n",
       "    </tr>\n",
       "    <tr>\n",
       "      <th>2</th>\n",
       "      <td>Harry Potter and the Philosopher's Stone</td>\n",
       "      <td>Rowling, J.K.</td>\n",
       "      <td>Children's Fiction</td>\n",
       "      <td>Bloomsbury</td>\n",
       "      <td>4,200,654</td>\n",
       "    </tr>\n",
       "    <tr>\n",
       "      <th>3</th>\n",
       "      <td>Harry Potter and the Order of the Phoenix</td>\n",
       "      <td>Rowling, J.K.</td>\n",
       "      <td>Children's Fiction</td>\n",
       "      <td>Bloomsbury</td>\n",
       "      <td>4,179,479</td>\n",
       "    </tr>\n",
       "    <tr>\n",
       "      <th>4</th>\n",
       "      <td>Fifty Shades of Grey</td>\n",
       "      <td>James, E. L.</td>\n",
       "      <td>Romance &amp; Sagas</td>\n",
       "      <td>Random House</td>\n",
       "      <td>3,758,936</td>\n",
       "    </tr>\n",
       "    <tr>\n",
       "      <th>5</th>\n",
       "      <td>Harry Potter and the Goblet of Fire</td>\n",
       "      <td>Rowling, J.K.</td>\n",
       "      <td>Children's Fiction</td>\n",
       "      <td>Bloomsbury</td>\n",
       "      <td>3,583,215</td>\n",
       "    </tr>\n",
       "    <tr>\n",
       "      <th>6</th>\n",
       "      <td>Harry Potter and the Chamber of Secrets</td>\n",
       "      <td>Rowling, J.K.</td>\n",
       "      <td>Children's Fiction</td>\n",
       "      <td>Bloomsbury</td>\n",
       "      <td>3,484,047</td>\n",
       "    </tr>\n",
       "    <tr>\n",
       "      <th>7</th>\n",
       "      <td>Harry Potter and the Prisoner of Azkaban</td>\n",
       "      <td>Rowling, J.K.</td>\n",
       "      <td>Children's Fiction</td>\n",
       "      <td>Bloomsbury</td>\n",
       "      <td>3,377,906</td>\n",
       "    </tr>\n",
       "    <tr>\n",
       "      <th>8</th>\n",
       "      <td>Angels and Demons</td>\n",
       "      <td>Brown, Dan</td>\n",
       "      <td>Crime, Thriller &amp; Adventure</td>\n",
       "      <td>Transworld</td>\n",
       "      <td>3,193,946</td>\n",
       "    </tr>\n",
       "    <tr>\n",
       "      <th>9</th>\n",
       "      <td>Harry Potter and the Half-blood Prince:Childre...</td>\n",
       "      <td>Rowling, J.K.</td>\n",
       "      <td>Children's Fiction</td>\n",
       "      <td>Bloomsbury</td>\n",
       "      <td>2,950,264</td>\n",
       "    </tr>\n",
       "  </tbody>\n",
       "</table>\n",
       "</div>"
      ],
      "text/plain": [
       "                                           Book_name    Author_name  \\\n",
       "0                                  Da Vinci Code,The     Brown, Dan   \n",
       "1               Harry Potter and the Deathly Hallows  Rowling, J.K.   \n",
       "2           Harry Potter and the Philosopher's Stone  Rowling, J.K.   \n",
       "3          Harry Potter and the Order of the Phoenix  Rowling, J.K.   \n",
       "4                               Fifty Shades of Grey   James, E. L.   \n",
       "5                Harry Potter and the Goblet of Fire  Rowling, J.K.   \n",
       "6            Harry Potter and the Chamber of Secrets  Rowling, J.K.   \n",
       "7           Harry Potter and the Prisoner of Azkaban  Rowling, J.K.   \n",
       "8                                  Angels and Demons     Brown, Dan   \n",
       "9  Harry Potter and the Half-blood Prince:Childre...  Rowling, J.K.   \n",
       "\n",
       "                         Genre     Publisher Volumes_sold  \n",
       "0  Crime, Thriller & Adventure    Transworld    5,094,805  \n",
       "1           Children's Fiction    Bloomsbury    4,475,152  \n",
       "2           Children's Fiction    Bloomsbury    4,200,654  \n",
       "3           Children's Fiction    Bloomsbury    4,179,479  \n",
       "4              Romance & Sagas  Random House    3,758,936  \n",
       "5           Children's Fiction    Bloomsbury    3,583,215  \n",
       "6           Children's Fiction    Bloomsbury    3,484,047  \n",
       "7           Children's Fiction    Bloomsbury    3,377,906  \n",
       "8  Crime, Thriller & Adventure    Transworld    3,193,946  \n",
       "9           Children's Fiction    Bloomsbury    2,950,264  "
      ]
     },
     "execution_count": 103,
     "metadata": {},
     "output_type": "execute_result"
    }
   ],
   "source": [
    "Book = pd.DataFrame([])\n",
    "Book['Book_name'] = Book_name[0:10]\n",
    "Book['Author_name'] = Author_name[0:10]\n",
    "Book['Genre'] = Genre[0:10]\n",
    "Book['Publisher'] = Publisher[0:10]\n",
    "Book['Volumes_sold'] = Volumes_sold[0:10]\n",
    "Book.head(10)"
   ]
  },
  {
   "cell_type": "markdown",
   "metadata": {},
   "source": [
    "# Question No 9:  Scrape the details most watched tv series of all time from imdb.com.\n",
    " Url = https://www.imdb.com/list/ls095964455/"
   ]
  },
  {
   "cell_type": "code",
   "execution_count": 104,
   "metadata": {},
   "outputs": [],
   "source": [
    "driver = webdriver.Chrome(r\"C:\\Users\\Dell\\Downloads\\chromedriver_win32\\chromedriver.exe\")"
   ]
  },
  {
   "cell_type": "code",
   "execution_count": 105,
   "metadata": {},
   "outputs": [],
   "source": [
    "url_7 = \"https://www.imdb.com/list/ls095964455/\""
   ]
  },
  {
   "cell_type": "code",
   "execution_count": 106,
   "metadata": {},
   "outputs": [],
   "source": [
    "driver.get(url_7)"
   ]
  },
  {
   "cell_type": "code",
   "execution_count": 107,
   "metadata": {},
   "outputs": [],
   "source": [
    "#Creating Empty List:\n",
    "Name = []\n",
    "Year_span = []\n",
    "Genres = []\n",
    "Run_time = []\n",
    "Ratings = []\n",
    "Votes = []"
   ]
  },
  {
   "cell_type": "code",
   "execution_count": 108,
   "metadata": {},
   "outputs": [
    {
     "name": "stdout",
     "output_type": "stream",
     "text": [
      "['Game of Thrones', 'Stranger Things', 'The Walking Dead', '13 Reasons Why', 'The 100', 'Orange Is the New Black', 'Riverdale', \"Grey's Anatomy\", 'The Flash', 'Arrow']\n"
     ]
    }
   ],
   "source": [
    "#scraping the tags for Name \n",
    "name = driver.find_elements_by_xpath(\"//div[@class='lister-item-content']/h3/a\")\n",
    "for i in name:\n",
    "    if i.text is None :\n",
    "        Name.append(\"--\") \n",
    "    else:\n",
    "        Name.append(i.text.replace('\\n','').strip())\n",
    "print(Name[0:10])"
   ]
  },
  {
   "cell_type": "code",
   "execution_count": 109,
   "metadata": {},
   "outputs": [
    {
     "name": "stdout",
     "output_type": "stream",
     "text": [
      "['(2011–2019)', '(2016– )', '(2010–2022)', '(2017–2020)', '(2014–2020)', '(2013–2019)', '(2017– )', '(2005– )', '(2014– )', '(2012–2020)']\n"
     ]
    }
   ],
   "source": [
    "#scraping the tags Year_span \n",
    "year_span = driver.find_elements_by_xpath(\"//span[@class='lister-item-year text-muted unbold']\")\n",
    "for i in year_span:\n",
    "    if i.text is None :\n",
    "        Year_span.append(\"--\") \n",
    "    else:\n",
    "        Year_span.append(i.text.replace('\\n','').strip())\n",
    "print(Year_span[0:10])"
   ]
  },
  {
   "cell_type": "code",
   "execution_count": 110,
   "metadata": {},
   "outputs": [
    {
     "name": "stdout",
     "output_type": "stream",
     "text": [
      "['Action, Adventure, Drama', 'Drama, Fantasy, Horror', 'Drama, Horror, Thriller', 'Drama, Mystery, Thriller', 'Drama, Mystery, Sci-Fi', 'Comedy, Crime, Drama', 'Crime, Drama, Mystery', 'Drama, Romance', 'Action, Adventure, Drama', 'Action, Adventure, Crime']\n"
     ]
    }
   ],
   "source": [
    "#scraping the Genres \n",
    "genere = driver.find_elements_by_xpath(\"//p[@class='text-muted text-small']/span[5]\")\n",
    "for i in genere:\n",
    "    if i.text is None :\n",
    "        Genres.append(\"--\") \n",
    "    else:\n",
    "        Genres.append(i.text.replace('\\n','').strip())\n",
    "print(Genres[0:10])"
   ]
  },
  {
   "cell_type": "code",
   "execution_count": 111,
   "metadata": {},
   "outputs": [
    {
     "name": "stdout",
     "output_type": "stream",
     "text": [
      "['57 min', '51 min', '44 min', '60 min', '43 min', '59 min', '45 min', '41 min', '43 min', '42 min']\n"
     ]
    }
   ],
   "source": [
    "#scraping the tags Run_time \n",
    "runtime = driver.find_elements_by_xpath(\"//p[@class='text-muted text-small']/span[3]\")\n",
    "for i in runtime:\n",
    "    if i.text is None :\n",
    "        Run_time.append(\"--\") \n",
    "    else:\n",
    "        Run_time.append(i.text)\n",
    "print(Run_time[0:10])"
   ]
  },
  {
   "cell_type": "code",
   "execution_count": 112,
   "metadata": {},
   "outputs": [
    {
     "name": "stdout",
     "output_type": "stream",
     "text": [
      "['9.2', '8.7', '8.2', '7.5', '7.6', '8', '6.7', '7.5', '7.6', '7.5']\n"
     ]
    }
   ],
   "source": [
    "#scraping the tags Ratings \n",
    "ratings = driver.find_elements_by_xpath(\"//div[@class='ipl-rating-star small']/span[2]\")\n",
    "for i in ratings:\n",
    "    if i.text is None :\n",
    "        Ratings.append(\"--\") \n",
    "    else:\n",
    "        Ratings.append(i.text.replace('\\n','').strip())\n",
    "print(Ratings[0:10])"
   ]
  },
  {
   "cell_type": "code",
   "execution_count": 113,
   "metadata": {},
   "outputs": [
    {
     "name": "stdout",
     "output_type": "stream",
     "text": [
      "['1,895,644', '926,921', '910,646', '272,499', '232,918', '288,435', '132,094', '277,677', '326,698', '419,064']\n"
     ]
    }
   ],
   "source": [
    "#scraping the tags Votes \n",
    "votes = driver.find_elements_by_xpath(\"//div[@class='lister-item-content']/p[4]/span[2]\")\n",
    "for i in votes:\n",
    "    if i.text is None :\n",
    "        Votes.append(\"--\") \n",
    "    else:\n",
    "        Votes.append(i.text.replace('\\n','').strip())\n",
    "print(Votes[0:10])"
   ]
  },
  {
   "cell_type": "code",
   "execution_count": 114,
   "metadata": {},
   "outputs": [
    {
     "data": {
      "text/html": [
       "<div>\n",
       "<style scoped>\n",
       "    .dataframe tbody tr th:only-of-type {\n",
       "        vertical-align: middle;\n",
       "    }\n",
       "\n",
       "    .dataframe tbody tr th {\n",
       "        vertical-align: top;\n",
       "    }\n",
       "\n",
       "    .dataframe thead th {\n",
       "        text-align: right;\n",
       "    }\n",
       "</style>\n",
       "<table border=\"1\" class=\"dataframe\">\n",
       "  <thead>\n",
       "    <tr style=\"text-align: right;\">\n",
       "      <th></th>\n",
       "      <th>Name</th>\n",
       "      <th>Year_span</th>\n",
       "      <th>Run_time</th>\n",
       "      <th>Genres</th>\n",
       "      <th>Ratings</th>\n",
       "      <th>Votes</th>\n",
       "    </tr>\n",
       "  </thead>\n",
       "  <tbody>\n",
       "    <tr>\n",
       "      <th>0</th>\n",
       "      <td>Game of Thrones</td>\n",
       "      <td>(2011–2019)</td>\n",
       "      <td>57 min</td>\n",
       "      <td>Action, Adventure, Drama</td>\n",
       "      <td>9.2</td>\n",
       "      <td>1,895,644</td>\n",
       "    </tr>\n",
       "    <tr>\n",
       "      <th>1</th>\n",
       "      <td>Stranger Things</td>\n",
       "      <td>(2016– )</td>\n",
       "      <td>51 min</td>\n",
       "      <td>Drama, Fantasy, Horror</td>\n",
       "      <td>8.7</td>\n",
       "      <td>926,921</td>\n",
       "    </tr>\n",
       "    <tr>\n",
       "      <th>2</th>\n",
       "      <td>The Walking Dead</td>\n",
       "      <td>(2010–2022)</td>\n",
       "      <td>44 min</td>\n",
       "      <td>Drama, Horror, Thriller</td>\n",
       "      <td>8.2</td>\n",
       "      <td>910,646</td>\n",
       "    </tr>\n",
       "    <tr>\n",
       "      <th>3</th>\n",
       "      <td>13 Reasons Why</td>\n",
       "      <td>(2017–2020)</td>\n",
       "      <td>60 min</td>\n",
       "      <td>Drama, Mystery, Thriller</td>\n",
       "      <td>7.5</td>\n",
       "      <td>272,499</td>\n",
       "    </tr>\n",
       "    <tr>\n",
       "      <th>4</th>\n",
       "      <td>The 100</td>\n",
       "      <td>(2014–2020)</td>\n",
       "      <td>43 min</td>\n",
       "      <td>Drama, Mystery, Sci-Fi</td>\n",
       "      <td>7.6</td>\n",
       "      <td>232,918</td>\n",
       "    </tr>\n",
       "    <tr>\n",
       "      <th>5</th>\n",
       "      <td>Orange Is the New Black</td>\n",
       "      <td>(2013–2019)</td>\n",
       "      <td>59 min</td>\n",
       "      <td>Comedy, Crime, Drama</td>\n",
       "      <td>8</td>\n",
       "      <td>288,435</td>\n",
       "    </tr>\n",
       "    <tr>\n",
       "      <th>6</th>\n",
       "      <td>Riverdale</td>\n",
       "      <td>(2017– )</td>\n",
       "      <td>45 min</td>\n",
       "      <td>Crime, Drama, Mystery</td>\n",
       "      <td>6.7</td>\n",
       "      <td>132,094</td>\n",
       "    </tr>\n",
       "    <tr>\n",
       "      <th>7</th>\n",
       "      <td>Grey's Anatomy</td>\n",
       "      <td>(2005– )</td>\n",
       "      <td>41 min</td>\n",
       "      <td>Drama, Romance</td>\n",
       "      <td>7.5</td>\n",
       "      <td>277,677</td>\n",
       "    </tr>\n",
       "    <tr>\n",
       "      <th>8</th>\n",
       "      <td>The Flash</td>\n",
       "      <td>(2014– )</td>\n",
       "      <td>43 min</td>\n",
       "      <td>Action, Adventure, Drama</td>\n",
       "      <td>7.6</td>\n",
       "      <td>326,698</td>\n",
       "    </tr>\n",
       "    <tr>\n",
       "      <th>9</th>\n",
       "      <td>Arrow</td>\n",
       "      <td>(2012–2020)</td>\n",
       "      <td>42 min</td>\n",
       "      <td>Action, Adventure, Crime</td>\n",
       "      <td>7.5</td>\n",
       "      <td>419,064</td>\n",
       "    </tr>\n",
       "  </tbody>\n",
       "</table>\n",
       "</div>"
      ],
      "text/plain": [
       "                      Name    Year_span Run_time                    Genres  \\\n",
       "0          Game of Thrones  (2011–2019)   57 min  Action, Adventure, Drama   \n",
       "1          Stranger Things     (2016– )   51 min    Drama, Fantasy, Horror   \n",
       "2         The Walking Dead  (2010–2022)   44 min   Drama, Horror, Thriller   \n",
       "3           13 Reasons Why  (2017–2020)   60 min  Drama, Mystery, Thriller   \n",
       "4                  The 100  (2014–2020)   43 min    Drama, Mystery, Sci-Fi   \n",
       "5  Orange Is the New Black  (2013–2019)   59 min      Comedy, Crime, Drama   \n",
       "6                Riverdale     (2017– )   45 min     Crime, Drama, Mystery   \n",
       "7           Grey's Anatomy     (2005– )   41 min            Drama, Romance   \n",
       "8                The Flash     (2014– )   43 min  Action, Adventure, Drama   \n",
       "9                    Arrow  (2012–2020)   42 min  Action, Adventure, Crime   \n",
       "\n",
       "  Ratings      Votes  \n",
       "0     9.2  1,895,644  \n",
       "1     8.7    926,921  \n",
       "2     8.2    910,646  \n",
       "3     7.5    272,499  \n",
       "4     7.6    232,918  \n",
       "5       8    288,435  \n",
       "6     6.7    132,094  \n",
       "7     7.5    277,677  \n",
       "8     7.6    326,698  \n",
       "9     7.5    419,064  "
      ]
     },
     "execution_count": 114,
     "metadata": {},
     "output_type": "execute_result"
    }
   ],
   "source": [
    "#Defining a Dataframe:\n",
    "TV_Series = pd.DataFrame([])\n",
    "TV_Series['Name'] = Name[0:10]\n",
    "TV_Series['Year_span'] = Year_span[0:10]\n",
    "TV_Series['Run_time'] = Run_time[0:10]\n",
    "TV_Series['Genres'] = Genres[0:10]\n",
    "TV_Series['Ratings'] = Ratings[0:10]\n",
    "TV_Series['Votes'] = Votes[0:10]\n",
    "TV_Series.head(10)"
   ]
  },
  {
   "cell_type": "markdown",
   "metadata": {},
   "source": [
    "# Question No 10: Details of Datasets from UCI machine learning repositories.\n",
    " Url = https://archive.ics.uci.edu/"
   ]
  },
  {
   "cell_type": "code",
   "execution_count": 115,
   "metadata": {},
   "outputs": [],
   "source": [
    "driver = webdriver.Chrome(r\"C:\\Users\\Dell\\Downloads\\chromedriver_win32\\chromedriver.exe\")"
   ]
  },
  {
   "cell_type": "code",
   "execution_count": 116,
   "metadata": {},
   "outputs": [],
   "source": [
    "url_8 = \"https://archive.ics.uci.edu/ml/index.php\""
   ]
  },
  {
   "cell_type": "code",
   "execution_count": 117,
   "metadata": {},
   "outputs": [],
   "source": [
    "driver.get(url_8)"
   ]
  },
  {
   "cell_type": "code",
   "execution_count": 118,
   "metadata": {},
   "outputs": [],
   "source": [
    "#Creating Empty List:\n",
    "Dataset_Name = []\n",
    "Data_Type = []\n",
    "Task = []\n",
    "Attribute_Type = []\n",
    "No_of_Instances = []\n",
    "No_of_Attribute = []\n",
    "Year = []"
   ]
  },
  {
   "cell_type": "code",
   "execution_count": 119,
   "metadata": {},
   "outputs": [],
   "source": [
    "#clicking the search button for locating datasets:\n",
    "search_1 = driver.find_element_by_xpath('/html/body/table[1]/tbody/tr/td[2]/span[2]/a')   \n",
    "search_1.click()"
   ]
  },
  {
   "cell_type": "code",
   "execution_count": 120,
   "metadata": {},
   "outputs": [
    {
     "name": "stdout",
     "output_type": "stream",
     "text": [
      "['Abalone', 'Adult', 'Annealing', 'Anonymous Microsoft Web Data', 'Arrhythmia', 'Artificial Characters', 'Audiology (Original)', 'Audiology (Standardized)', 'Auto MPG', 'Automobile']\n"
     ]
    }
   ],
   "source": [
    "#scraping the Dataset_Name \n",
    "name = driver.find_elements_by_xpath(\"/html/body/table[2]/tbody/tr/td[2]/table[2]/tbody/tr/td[1]/table/tbody/tr/td[2]/p/b/a\")\n",
    "for i in name:\n",
    "    if i.text is None :\n",
    "        Dataset_Name.append(\"--\") \n",
    "    else:\n",
    "        Dataset_Name.append(i.text.replace('\\n','').strip())\n",
    "print(Dataset_Name[0:10])"
   ]
  },
  {
   "cell_type": "code",
   "execution_count": 121,
   "metadata": {},
   "outputs": [
    {
     "name": "stdout",
     "output_type": "stream",
     "text": [
      "['Data Types', 'Multivariate', 'Multivariate', 'Multivariate', '', 'Multivariate', 'Multivariate', 'Multivariate', 'Multivariate', 'Multivariate']\n"
     ]
    }
   ],
   "source": [
    "#scraping the Data_Type \n",
    "d_type=driver.find_elements_by_xpath(\"/html/body/table[2]/tbody/tr/td[2]/table[2]/tbody/tr/td[2]\")\n",
    "for i in d_type:\n",
    "    if i.text is None :\n",
    "        Data_Type.append(\" \") \n",
    "    else:\n",
    "        Data_Type.append(i.text.replace('\\n','').strip())\n",
    "print(Data_Type[0:10])"
   ]
  },
  {
   "cell_type": "code",
   "execution_count": 122,
   "metadata": {},
   "outputs": [
    {
     "name": "stdout",
     "output_type": "stream",
     "text": [
      "['Default Task', 'Classification', 'Classification', 'Classification', 'Recommender-Systems', 'Classification', 'Classification', 'Classification', 'Classification', 'Regression']\n"
     ]
    }
   ],
   "source": [
    "#scraping the tags for Task \n",
    "task = driver.find_elements_by_xpath(\"/html/body/table[2]/tbody/tr/td[2]/table[2]/tbody/tr/td[3]\")\n",
    "for i in task:\n",
    "    if i.text is None :\n",
    "        Task.append(\"--\") \n",
    "    else:\n",
    "        Task.append(i.text.replace('\\n','').strip())\n",
    "print(Task[0:10])"
   ]
  },
  {
   "cell_type": "code",
   "execution_count": 123,
   "metadata": {},
   "outputs": [
    {
     "name": "stdout",
     "output_type": "stream",
     "text": [
      "['Attribute Types', 'Categorical, Integer, Real', 'Categorical, Integer', 'Categorical, Integer, Real', 'Categorical', 'Categorical, Integer, Real', 'Categorical, Integer, Real', 'Categorical', 'Categorical', 'Categorical, Real']\n"
     ]
    }
   ],
   "source": [
    "#scraping the Attribute_Type \n",
    "attributes = driver.find_elements_by_xpath(\"/html/body/table[2]/tbody/tr/td[2]/table[2]/tbody/tr/td[4]\")\n",
    "for i in attributes:\n",
    "    if i.text is None :\n",
    "        Attribute_Type.append(\"--\") \n",
    "    else:\n",
    "        Attribute_Type.append(i.text.replace('\\n','').strip())\n",
    "print(Attribute_Type[0:10])"
   ]
  },
  {
   "cell_type": "code",
   "execution_count": 124,
   "metadata": {},
   "outputs": [
    {
     "name": "stdout",
     "output_type": "stream",
     "text": [
      "['4177', '48842', '798', '37711', '452', '6000', '226', '226', '398']\n"
     ]
    }
   ],
   "source": [
    "#scraping the No_of_Instances \n",
    "number_of_instances = driver.find_elements_by_xpath(\"/html/body/table[2]/tbody/tr/td[2]/table[2]/tbody/tr/td[5]\")\n",
    "for i in number_of_instances:\n",
    "    if i.text is None :\n",
    "        No_of_Instances.append(\"--\") \n",
    "    else:\n",
    "        No_of_Instances.append(i.text.replace('\\n','').strip())\n",
    "print(No_of_Instances[1:10])"
   ]
  },
  {
   "cell_type": "code",
   "execution_count": 125,
   "metadata": {},
   "outputs": [
    {
     "name": "stdout",
     "output_type": "stream",
     "text": [
      "['1995 ', '1996 ', ' ', '1998 ', '1998 ', '1992 ', '1987 ', '1992 ', '1993 ']\n"
     ]
    }
   ],
   "source": [
    "#scraping the Year \n",
    "year = driver.find_elements_by_xpath(\"/html/body/table[2]/tbody/tr/td[2]/table[2]/tbody/tr/td[7]/p\")\n",
    "for i in year:\n",
    "    if i.text is None :\n",
    "        Year.append(\" \") \n",
    "    else:\n",
    "        Year.append(i.text)\n",
    "print(Year[1:10])"
   ]
  },
  {
   "cell_type": "code",
   "execution_count": 126,
   "metadata": {},
   "outputs": [
    {
     "data": {
      "text/html": [
       "<div>\n",
       "<style scoped>\n",
       "    .dataframe tbody tr th:only-of-type {\n",
       "        vertical-align: middle;\n",
       "    }\n",
       "\n",
       "    .dataframe tbody tr th {\n",
       "        vertical-align: top;\n",
       "    }\n",
       "\n",
       "    .dataframe thead th {\n",
       "        text-align: right;\n",
       "    }\n",
       "</style>\n",
       "<table border=\"1\" class=\"dataframe\">\n",
       "  <thead>\n",
       "    <tr style=\"text-align: right;\">\n",
       "      <th></th>\n",
       "      <th>Dataset_Name</th>\n",
       "      <th>Data_Type</th>\n",
       "      <th>Task</th>\n",
       "      <th>Attribute_Type</th>\n",
       "      <th>No_of_Instances</th>\n",
       "      <th>Year</th>\n",
       "    </tr>\n",
       "  </thead>\n",
       "  <tbody>\n",
       "    <tr>\n",
       "      <th>0</th>\n",
       "      <td>Adult</td>\n",
       "      <td>Multivariate</td>\n",
       "      <td>Classification</td>\n",
       "      <td>Categorical, Integer, Real</td>\n",
       "      <td>4177</td>\n",
       "      <td>1995</td>\n",
       "    </tr>\n",
       "    <tr>\n",
       "      <th>1</th>\n",
       "      <td>Annealing</td>\n",
       "      <td>Multivariate</td>\n",
       "      <td>Classification</td>\n",
       "      <td>Categorical, Integer</td>\n",
       "      <td>48842</td>\n",
       "      <td>1996</td>\n",
       "    </tr>\n",
       "    <tr>\n",
       "      <th>2</th>\n",
       "      <td>Anonymous Microsoft Web Data</td>\n",
       "      <td>Multivariate</td>\n",
       "      <td>Classification</td>\n",
       "      <td>Categorical, Integer, Real</td>\n",
       "      <td>798</td>\n",
       "      <td></td>\n",
       "    </tr>\n",
       "    <tr>\n",
       "      <th>3</th>\n",
       "      <td>Arrhythmia</td>\n",
       "      <td></td>\n",
       "      <td>Recommender-Systems</td>\n",
       "      <td>Categorical</td>\n",
       "      <td>37711</td>\n",
       "      <td>1998</td>\n",
       "    </tr>\n",
       "    <tr>\n",
       "      <th>4</th>\n",
       "      <td>Artificial Characters</td>\n",
       "      <td>Multivariate</td>\n",
       "      <td>Classification</td>\n",
       "      <td>Categorical, Integer, Real</td>\n",
       "      <td>452</td>\n",
       "      <td>1998</td>\n",
       "    </tr>\n",
       "    <tr>\n",
       "      <th>5</th>\n",
       "      <td>Audiology (Original)</td>\n",
       "      <td>Multivariate</td>\n",
       "      <td>Classification</td>\n",
       "      <td>Categorical, Integer, Real</td>\n",
       "      <td>6000</td>\n",
       "      <td>1992</td>\n",
       "    </tr>\n",
       "    <tr>\n",
       "      <th>6</th>\n",
       "      <td>Audiology (Standardized)</td>\n",
       "      <td>Multivariate</td>\n",
       "      <td>Classification</td>\n",
       "      <td>Categorical</td>\n",
       "      <td>226</td>\n",
       "      <td>1987</td>\n",
       "    </tr>\n",
       "    <tr>\n",
       "      <th>7</th>\n",
       "      <td>Auto MPG</td>\n",
       "      <td>Multivariate</td>\n",
       "      <td>Classification</td>\n",
       "      <td>Categorical</td>\n",
       "      <td>226</td>\n",
       "      <td>1992</td>\n",
       "    </tr>\n",
       "    <tr>\n",
       "      <th>8</th>\n",
       "      <td>Automobile</td>\n",
       "      <td>Multivariate</td>\n",
       "      <td>Regression</td>\n",
       "      <td>Categorical, Real</td>\n",
       "      <td>398</td>\n",
       "      <td>1993</td>\n",
       "    </tr>\n",
       "    <tr>\n",
       "      <th>9</th>\n",
       "      <td>Badges</td>\n",
       "      <td>Multivariate</td>\n",
       "      <td>Regression</td>\n",
       "      <td>Categorical, Integer, Real</td>\n",
       "      <td>205</td>\n",
       "      <td>1987</td>\n",
       "    </tr>\n",
       "  </tbody>\n",
       "</table>\n",
       "</div>"
      ],
      "text/plain": [
       "                   Dataset_Name     Data_Type                 Task  \\\n",
       "0                         Adult  Multivariate       Classification   \n",
       "1                     Annealing  Multivariate       Classification   \n",
       "2  Anonymous Microsoft Web Data  Multivariate       Classification   \n",
       "3                    Arrhythmia                Recommender-Systems   \n",
       "4         Artificial Characters  Multivariate       Classification   \n",
       "5          Audiology (Original)  Multivariate       Classification   \n",
       "6      Audiology (Standardized)  Multivariate       Classification   \n",
       "7                      Auto MPG  Multivariate       Classification   \n",
       "8                    Automobile  Multivariate           Regression   \n",
       "9                        Badges  Multivariate           Regression   \n",
       "\n",
       "               Attribute_Type No_of_Instances   Year  \n",
       "0  Categorical, Integer, Real            4177  1995   \n",
       "1        Categorical, Integer           48842  1996   \n",
       "2  Categorical, Integer, Real             798         \n",
       "3                 Categorical           37711  1998   \n",
       "4  Categorical, Integer, Real             452  1998   \n",
       "5  Categorical, Integer, Real            6000  1992   \n",
       "6                 Categorical             226  1987   \n",
       "7                 Categorical             226  1992   \n",
       "8           Categorical, Real             398  1993   \n",
       "9  Categorical, Integer, Real             205  1987   "
      ]
     },
     "execution_count": 126,
     "metadata": {},
     "output_type": "execute_result"
    }
   ],
   "source": [
    "#Defining a Dataframe:\n",
    "UCI=pd.DataFrame([])\n",
    "UCI['Dataset_Name'] = Dataset_Name[1:100]\n",
    "UCI['Data_Type'] = Data_Type[1:100]\n",
    "UCI['Task'] = Task[1:100]\n",
    "UCI['Attribute_Type'] = Attribute_Type[1:100]\n",
    "UCI['No_of_Instances'] = No_of_Instances[1:100]\n",
    "UCI['Year'] = Year[1:100]\n",
    "UCI.head(10)"
   ]
  },
  {
   "cell_type": "code",
   "execution_count": null,
   "metadata": {},
   "outputs": [],
   "source": []
  }
 ],
 "metadata": {
  "kernelspec": {
   "display_name": "Python 3",
   "language": "python",
   "name": "python3"
  },
  "language_info": {
   "codemirror_mode": {
    "name": "ipython",
    "version": 3
   },
   "file_extension": ".py",
   "mimetype": "text/x-python",
   "name": "python",
   "nbconvert_exporter": "python",
   "pygments_lexer": "ipython3",
   "version": "3.8.5"
  }
 },
 "nbformat": 4,
 "nbformat_minor": 4
}
