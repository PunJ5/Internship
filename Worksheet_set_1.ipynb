{
 "cells": [
  {
   "cell_type": "code",
   "execution_count": 9,
   "metadata": {},
   "outputs": [
    {
     "name": "stdout",
     "output_type": "stream",
     "text": [
      "Enter a number: 5\n",
      "The factorial of 5 is 120\n"
     ]
    }
   ],
   "source": [
    "num = int(input(\"Enter a number: \"))    \n",
    "factorial = 1    \n",
    "if num < 0:    \n",
    "   print(\" Factorial does not exist for negative numbers\")    \n",
    "elif num == 0:    \n",
    "   print(\"The factorial of 0 is 1\")    \n",
    "else:    \n",
    "   for i in range(1,num + 1):    \n",
    "       factorial = factorial*i    \n",
    "   print(\"The factorial of\",num,\"is\",factorial)    "
   ]
  },
  {
   "cell_type": "code",
   "execution_count": 13,
   "metadata": {},
   "outputs": [
    {
     "name": "stdout",
     "output_type": "stream",
     "text": [
      "Pythagorean theorem Calculate your triangle sides.\n",
      "Assume the sides are a, b, c and c is the hypotenuse (the side opposite the right angle\n",
      "Which side (a, b, c) do you wish to calculate? side> a\n",
      "Input the length of side b: 5\n",
      "Input the length of side c: 10\n",
      "The length of side a is\n",
      "8.660254037844387\n"
     ]
    }
   ],
   "source": [
    "from math import sqrt\n",
    "\n",
    "print('Pythagorean theorem Calculate your triangle sides.')\n",
    "print('Assume the sides are a, b, c and c is the hypotenuse (the side opposite the right angle')\n",
    "formula = input('Which side (a, b, c) do you wish to calculate? side> ')\n",
    "\n",
    "if formula == 'c':\n",
    "    side_a = int(input('Input the length of side a: '))\n",
    "    side_b = int(input('Input the length of side b: '))\n",
    "\n",
    "    side_c = sqrt(side_a * side_a + side_b * side_b)\n",
    "\n",
    "    print('The length of side c is: ' )\n",
    "    print(side_c)\n",
    "\n",
    "elif formula == 'a':\n",
    "    side_b = int(input('Input the length of side b: '))\n",
    "    side_c = int(input('Input the length of side c: '))\n",
    "    \n",
    "    side_a = sqrt((side_c * side_c) - (side_b * side_b))\n",
    "    \n",
    "    print('The length of side a is' )\n",
    "    print(side_a)\n",
    "\n",
    "elif formula == 'b':\n",
    "    side_a = int(input('Input the length of side a: '))\n",
    "    side_b = int(input('Input the length of side c: '))\n",
    "        \n",
    "    side_c = sqrt(side_c * side_c - side_a * side_a)\n",
    "    \n",
    "    print('The length of side b is')\n",
    "    print(side_c)\n",
    "\n",
    "else:\n",
    "    print('Please select a side between a, b, c')\n"
   ]
  },
  {
   "cell_type": "code",
   "execution_count": 11,
   "metadata": {},
   "outputs": [
    {
     "name": "stdout",
     "output_type": "stream",
     "text": [
      "Characters and their corresponding frequencies\n",
      "p-1\n",
      "u-1\n",
      "n-1\n",
      "e-2\n",
      "t-1\n",
      "J-1\n",
      "a-2\n",
      "w-1\n"
     ]
    }
   ],
   "source": [
    "string = \"puneet Jawa\";  \n",
    "freq = [None] * len(string);  \n",
    "   \n",
    "for i in range(0, len(string)):  \n",
    "    freq[i] = 1;  \n",
    "    for j in range(i+1, len(string)):  \n",
    "        if(string[i] == string[j]):  \n",
    "            freq[i] = freq[i] + 1;  \n",
    "              \n",
    "            #Set string[j] to 0 to avoid printing visited character  \n",
    "            string = string[ : j] + '0' + string[j+1 : ];  \n",
    "              \n",
    "#Displays the each character and their corresponding frequency  \n",
    "print(\"Characters and their corresponding frequencies\");  \n",
    "for i in range(0, len(freq)):  \n",
    "    if(string[i] != ' ' and string[i] != '0'):  \n",
    "        print(string[i] + \"-\" + str(freq[i]));  "
   ]
  },
  {
   "cell_type": "code",
   "execution_count": 3,
   "metadata": {},
   "outputs": [
    {
     "name": "stdout",
     "output_type": "stream",
     "text": [
      "Enter the no 11\n",
      "11 is a prime number\n"
     ]
    }
   ],
   "source": [
    "# Python program to check if\n",
    "# given number is prime or not\n",
    " \n",
    "num= int(input('Enter the no '))\n",
    " \n",
    "# If given number is greater than 1\n",
    "if num > 1:\n",
    " \n",
    "    # Iterate from 2 to n / 2\n",
    "    for i in range(2, int(num/2)+1):\n",
    " \n",
    "        # If num is divisible by any number between\n",
    "        # 2 and n / 2, it is not prime\n",
    "        if (num % i) == 0:\n",
    "            print(num, \"is not a prime number\")\n",
    "            break\n",
    "    else:\n",
    "        print(num, \"is a prime number\")\n",
    " \n",
    "else:\n",
    "    print(num, \"is not a prime number\")"
   ]
  },
  {
   "cell_type": "code",
   "execution_count": 6,
   "metadata": {},
   "outputs": [
    {
     "name": "stdout",
     "output_type": "stream",
     "text": [
      "Enter a number:98\n",
      "Not a palindrome!\n"
     ]
    }
   ],
   "source": [
    "num=int(input(\"Enter a number:\"))\n",
    "temp=num\n",
    "rev=0\n",
    "while(num>0):\n",
    "    dig=num%10\n",
    "    rev=rev*10+dig\n",
    "    num=num//10\n",
    "if(temp==rev):\n",
    "    print(\"The number is palindrome!\")\n",
    "else:\n",
    "    print(\"Not a palindrome!\")"
   ]
  },
  {
   "cell_type": "code",
   "execution_count": null,
   "metadata": {},
   "outputs": [],
   "source": []
  }
 ],
 "metadata": {
  "kernelspec": {
   "display_name": "Python 3",
   "language": "python",
   "name": "python3"
  },
  "language_info": {
   "codemirror_mode": {
    "name": "ipython",
    "version": 3
   },
   "file_extension": ".py",
   "mimetype": "text/x-python",
   "name": "python",
   "nbconvert_exporter": "python",
   "pygments_lexer": "ipython3",
   "version": "3.8.5"
  }
 },
 "nbformat": 4,
 "nbformat_minor": 4
}
