{
 "cells": [
  {
   "cell_type": "code",
   "execution_count": 23,
   "metadata": {},
   "outputs": [
    {
     "name": "stdout",
     "output_type": "stream",
     "text": [
      "Requirement already satisfied: selenium in c:\\users\\dell\\anaconda3\\lib\\site-packages (3.141.0)\n",
      "Requirement already satisfied: urllib3 in c:\\users\\dell\\anaconda3\\lib\\site-packages (from selenium) (1.25.11)\n"
     ]
    }
   ],
   "source": [
    "!pip install selenium"
   ]
  },
  {
   "cell_type": "code",
   "execution_count": 24,
   "metadata": {},
   "outputs": [],
   "source": [
    "import selenium\n",
    "import pandas as pd\n",
    "import time\n",
    "from selenium.common.exceptions import NoSuchElementException,StaleElementReferenceException"
   ]
  },
  {
   "cell_type": "code",
   "execution_count": 25,
   "metadata": {},
   "outputs": [],
   "source": [
    "from selenium import webdriver"
   ]
  },
  {
   "cell_type": "code",
   "execution_count": 26,
   "metadata": {},
   "outputs": [],
   "source": [
    "driver=webdriver.Chrome(r'C:\\Users\\Dell\\Downloads\\chromedriver_win32\\chromedriver.exe')"
   ]
  },
  {
   "cell_type": "code",
   "execution_count": null,
   "metadata": {},
   "outputs": [],
   "source": [
    "#driver.close()"
   ]
  },
  {
   "cell_type": "markdown",
   "metadata": {},
   "source": [
    "# Question 2: Write a python program to scrape data for “Data Scientist” Job position in \n",
    "“Bangalore” location. You have to scrape the job-title, job-location,\n",
    "company_name, full job-description. You have to scrape first 10 jobs data"
   ]
  },
  {
   "cell_type": "markdown",
   "metadata": {},
   "source": [
    "Answer 2 is below"
   ]
  },
  {
   "cell_type": "code",
   "execution_count": 27,
   "metadata": {},
   "outputs": [],
   "source": [
    "driver.get('https://www.naukri.com/data-scientist-jobs-in-bangalore-bengaluru?k=data%20scientist&l=bangalore%2Fbengaluru')"
   ]
  },
  {
   "cell_type": "code",
   "execution_count": 28,
   "metadata": {},
   "outputs": [],
   "source": [
    "urls=[]\n",
    "for i in driver.find_elements_by_xpath('//a[@class=\"title fw500 ellipsis\"]'):\n",
    "    urls.append(i.get_attribute('href'))"
   ]
  },
  {
   "cell_type": "code",
   "execution_count": 29,
   "metadata": {},
   "outputs": [
    {
     "data": {
      "text/plain": [
       "20"
      ]
     },
     "execution_count": 29,
     "metadata": {},
     "output_type": "execute_result"
    }
   ],
   "source": [
    "len(urls)"
   ]
  },
  {
   "cell_type": "code",
   "execution_count": 30,
   "metadata": {},
   "outputs": [
    {
     "data": {
      "text/plain": [
       "['https://www.naukri.com/job-listings-data-scientist-intel-technology-india-pvt-ltd-bangalore-bengaluru-3-to-5-years-181021501061?src=jobsearchDesk&sid=1634679347265731&xp=1&px=1',\n",
       " 'https://www.naukri.com/job-listings-opportunity-data-scientist-sr-data-scientist-roles-incedo-technology-solutions-ltd-pune-bangalore-bengaluru-delhi-ncr-2-to-5-years-181021005369?src=jobsearchDesk&sid=1634679347265731&xp=2&px=1',\n",
       " 'https://www.naukri.com/job-listings-senior-data-scientist-harman-connected-services-corporation-india-pvt-bangalore-bengaluru-5-to-10-years-191021501649?src=jobsearchDesk&sid=1634679347265731&xp=3&px=1',\n",
       " 'https://www.naukri.com/job-listings-ecosystem-senior-data-scientist-accenture-solutions-pvt-ltd-bangalore-bengaluru-5-to-9-years-181021906293?src=jobsearchDesk&sid=1634679347265731&xp=4&px=1',\n",
       " 'https://www.naukri.com/job-listings-senior-data-scientist-eversana-india-private-limited-pune-bangalore-bengaluru-5-to-9-years-181021004382?src=jobsearchDesk&sid=1634679347265731&xp=5&px=1',\n",
       " 'https://www.naukri.com/job-listings-senior-data-scientist-ab-inbev-bangalore-bengaluru-3-to-8-years-191021003858?src=jobsearchDesk&sid=1634679347265731&xp=6&px=1',\n",
       " 'https://www.naukri.com/job-listings-data-scientist-piramal-retail-finance-group-mumbai-bangalore-bengaluru-bangalore-1-to-3-years-181021901006?src=jobsearchDesk&sid=1634679347265731&xp=7&px=1',\n",
       " 'https://www.naukri.com/job-listings-lead-data-scientist-groww-bangalore-bengaluru-6-to-10-years-191021500122?src=jobsearchDesk&sid=1634679347265731&xp=8&px=1',\n",
       " 'https://www.naukri.com/job-listings-lead-data-scientist-huawei-technologies-india-pvt-ltd-bangalore-bengaluru-4-to-9-years-121021907623?src=jobsearchDesk&sid=1634679347265731&xp=9&px=1',\n",
       " 'https://www.naukri.com/job-listings-sr-data-scientist-data-scientist-for-bangalore-kolkata-locations-mpokket-kolkata-bangalore-bengaluru-3-to-8-years-141021001893?src=jobsearchDesk&sid=1634679347265731&xp=10&px=1',\n",
       " 'https://www.naukri.com/job-listings-data-scientist-manager-senior-manager-mount-talent-consulting-private-limited-hyderabad-secunderabad-pune-bangalore-bengaluru-delhi-ncr-8-to-13-years-181021608520?src=jobsearchDesk&sid=1634679347265731&xp=11&px=1',\n",
       " 'https://www.naukri.com/job-listings-data-scientist-manager-senior-manager-mount-talent-consulting-private-limited-hyderabad-secunderabad-pune-bangalore-bengaluru-delhi-ncr-8-to-13-years-181021008518?src=jobsearchDesk&sid=1634679347265731&xp=12&px=1',\n",
       " 'https://www.naukri.com/job-listings-data-scientist-sg-analytics-pvt-ltd-bangalore-bengaluru-4-to-9-years-191021500973?src=jobsearchDesk&sid=1634679347265731&xp=13&px=1',\n",
       " 'https://www.naukri.com/job-listings-data-scientist-nlp-meltwater-bangalore-bengaluru-3-to-8-years-181021501772?src=jobsearchDesk&sid=1634679347265731&xp=14&px=1',\n",
       " 'https://www.naukri.com/job-listings-data-scientist-real-world-evidence-strategy-execboardinasia-bangalore-bengaluru-5-to-10-years-191021500623?src=jobsearchDesk&sid=1634679347265731&xp=15&px=1',\n",
       " 'https://www.naukri.com/job-listings-immediate-requirement-for-data-scientist-calibehr-business-support-services-private-limited-mumbai-hyderabad-secunderabad-pune-chennai-tamia-bangalore-bengaluru-delhi-ncr-2-to-7-years-191021008336?src=jobsearchDesk&sid=1634679347265731&xp=16&px=1',\n",
       " 'https://www.naukri.com/job-listings-urgent-opening-for-data-scientist-data-science-engineers-peoplelogic-business-solutions-pvt-ltd-bangalore-bengaluru-5-to-10-years-191021008806?src=jobsearchDesk&sid=1634679347265731&xp=17&px=1',\n",
       " 'https://www.naukri.com/job-listings-senior-data-scientist-python-machine-learning-algorithms-altimax-business-solutions-mumbai-hyderabad-secunderabad-pune-bangalore-bengaluru-4-to-9-years-020921908794?src=jobsearchDesk&sid=1634679347265731&xp=18&px=1',\n",
       " 'https://www.naukri.com/job-listings-data-scientist-senior-data-scientist-it-services-firm-pylon-management-consulting-pvt-ltd-hyderabad-secunderabad-pune-gurgaon-gurugram-bangalore-bengaluru-5-to-6-years-131021906976?src=jobsearchDesk&sid=1634679347265731&xp=19&px=1',\n",
       " 'https://www.naukri.com/job-listings-sde2-data-scientist-multi-recruit-bangalore-bengaluru-2-to-7-years-141021501578?src=jobsearchDesk&sid=1634679347265731&xp=20&px=1']"
      ]
     },
     "execution_count": 30,
     "metadata": {},
     "output_type": "execute_result"
    }
   ],
   "source": [
    "urls"
   ]
  },
  {
   "cell_type": "code",
   "execution_count": 11,
   "metadata": {},
   "outputs": [],
   "source": [
    "#driver.get(url)"
   ]
  },
  {
   "cell_type": "code",
   "execution_count": 31,
   "metadata": {},
   "outputs": [],
   "source": [
    "job_title2=[]\n",
    "company_names=[]\n",
    "locations_list=[]\n",
    "description=[]"
   ]
  },
  {
   "cell_type": "code",
   "execution_count": 32,
   "metadata": {},
   "outputs": [],
   "source": [
    "for i in urls:\n",
    "    driver.get(i)\n",
    "    time.sleep(3)\n",
    "    try:\n",
    "        job2=driver.find_element_by_xpath(\"//h1[@class='jd-header-title']\")\n",
    "        job_title2.append(job2.text.replace('/n','new line'))\n",
    "    except:\n",
    "        job_title2.append('-')\n",
    "        \n",
    "    try:\n",
    "        job_desc=driver.find_element_by_xpath('//section[@class=\"job-desc\"]')\n",
    "        description.append(job_desc.text)\n",
    "    except:\n",
    "        description.append('-')"
   ]
  },
  {
   "cell_type": "code",
   "execution_count": 33,
   "metadata": {},
   "outputs": [
    {
     "name": "stdout",
     "output_type": "stream",
     "text": [
      "20 20\n"
     ]
    }
   ],
   "source": [
    "print(len(job_title2),len(description))"
   ]
  },
  {
   "cell_type": "code",
   "execution_count": 34,
   "metadata": {},
   "outputs": [
    {
     "data": {
      "text/plain": [
       "['Data Scientist',\n",
       " '-',\n",
       " 'Senior Data Scientist',\n",
       " '-',\n",
       " 'Senior Data Scientist',\n",
       " 'Senior Data Scientist',\n",
       " '-',\n",
       " 'Lead Data Scientist',\n",
       " 'Lead Data Scientist',\n",
       " 'Sr. Data Scientist / Data Scientist For Bangalore & Kolkata Locations',\n",
       " 'Data Scientist- Manager / Senior Manager',\n",
       " 'Data Scientist- Manager / Senior Manager',\n",
       " 'Data Scientist',\n",
       " 'Data Scientist - NLP',\n",
       " 'Data Scientist, Real World Evidence Strategy',\n",
       " 'Immediate requirement For Data Scientist',\n",
       " 'Urgent opening For Data Scientist / Data Science Engineers',\n",
       " 'Senior Data Scientist - Python/Machine Learning Algorithms',\n",
       " 'Data Scientist/Senior Data Scientist - IT Services Firm',\n",
       " 'SDE2 Data Scientist']"
      ]
     },
     "execution_count": 34,
     "metadata": {},
     "output_type": "execute_result"
    }
   ],
   "source": [
    "job_title2"
   ]
  },
  {
   "cell_type": "code",
   "execution_count": 35,
   "metadata": {},
   "outputs": [
    {
     "data": {
      "text/plain": [
       "['Job description\\nUses predictive modeling, statistics, Machine Learning, Data Mining, and other data analysis techniques to collect, explore, and extract insights from structure and unstructured data .\\nDevelop software, algorithms and applications to apply mathematics to data, perform large scale experimentation and build data driven apps to translate data into intelligence, solve a variety of business problems and enable business strategy.\\nAssists business with casual inferences observations with finding patterns , relationships in data.\\nMust possess strong understanding of internal business segment (stakeholders) and possess strong written and communication skills.\\nTypically requires expertise in relational database structures, research methods, machine learning, Cloud based technologies, Big Data technologies (i.e.\\nHadoop , HBase, Lucene/Solr), analytics packages (i.e.\\nR, Mahout, Matlab, Octave, Weka), scripting languages (i.e.\\nPython, Perl), programing languages (i.e.\\nJava, C/C , SQL).\\nTypically possesses advanced degree in Computer Science, Mathematics, Machine Learning, Operation Research, and Statistics or equivalent expertise.\\n\\n\\nCandidates need to hold at least a masters degree (or higher) in Computer Science/Machine Learning/AI/Data Science 3-5 years of relevant experience in building AI/ML models and in using Python (Scikit-learn, TensorFlow/Pytorch) and SQL (or equivalent).\\nExperience in using data analysis techniques and ML methods like classification, regression pattern finding, clustering, dimensionality reduction, anomaly detection etc.\\nExperience with Hadoop, Spark is an advantage Deep Knowledge of classical AI algorithms and Deep Learning techniques is a must.\\nGreat analytical skills and demonstrated ability of independent and creative thinking.\\nHighly motivated strong team player with the ability to work both independently and collaboratively within a team.\\nHas strong analytical skills, including the abilities to scope out business problems to be solved, start from ambiguous problem statements, identify and access relevant data, make appropriate assumptions, perform insightful analysis and draw conclusions relevant to the business problem.\\nAbility to present information professionally and concisely with supporting data.\\nExperience in creating powerful data driven visualizations to describe ML modeling results to stakeholders.\\nRoleClinical research Scientist\\nIndustry TypeIT Services & Consulting\\nFunctional AreaResearch & Development\\nEmployment TypeFull Time, Permanent\\nRole CategoryPharmaceutical & Biotechnology\\nEducation\\nUG :Any Graduate\\nPG :Any Postgraduate\\nKey Skills\\nComputer scienceData analysisMachine learningPerlData miningMATLABAnalyticsSQLPythonHBase',\n",
       " '-',\n",
       " 'Job description\\n\\nBachelor s degree or higher in Computer Science, Data Science, Engineering, Mathematics, Applied Statistics, or related field.\\nExperience 3+ years with machine learning in industry environment.\\nExperience 5+ years coding in Python, Scala, or similar.\\nAdvanced understanding of probability, statistics, machine learning, data science.\\nExpertise in data correlation/feature analysis, analysis of machine learning models, and optimizing models for accuracy.\\nProficiency in transforming and cleaning data working across multiple models.\\nAbility to research and manipulate complex and large data sets (both distributed and non-distributed).\\nStrong fundamentals in problem solving, algorithm design, and model building.\\nAbility to solve complex business problem through logical and creative thinking.\\nStrong ability to synthesize complex information.\\nExcellent Code writing capability in Python and familiarity with relevant ML packages.\\nFamiliarity with libraries such as Pandas, Scikit-learn etc.\\nExperience of working on Fraud detection solution.\\nExcellent knowledge of anomalies/outliers detection using unsupervised algorithms clustering, Local Outlier Factor, Isolation Forest , etc.\\nDeep learning experience would be added advantage.\\nExperience with Spark DataBricks frameworks.\\nInterest in applying data science in the fields of compliance.\\nStrong written and verbal communication skills.\\n  RoleTechnical Support - Non Voice\\nIndustry TypeElectronic Components / Semiconductors\\nFunctional AreaCustomer Success, Service & Operations\\nEmployment TypeFull Time, Permanent\\nRole CategoryNon Voice\\nEducation\\nUG :Any Graduate\\nPG :Any Postgraduate\\nKey Skills\\nData ScienceSoftware EngineeringData ScientistAlgorithm DesignComputer ScienceSparkMachine LearningDeep LearningPython',\n",
       " '-',\n",
       " 'Job description\\nAbout the job\\nData science professional to design, implement and deploy advanced machine learning / artificial intelligence algorithms across multiple domains including, but not limited to, healthcare, media, programmable ads, retail, and manufacturing. These analysis tasks will involve developing original code and leveraging EVERSANAs existing healthcare analytics platform to provide analytic content in support of EVERSANA project work, RFP responses and other business needs. This professional will be a member of EVERSANAs analytics team.\\n\\nESSENTIAL DUTIES AND RESPONSIBILITIES:\\nOur employees are tasked with delivering excellent business results through the efforts of their teams. These results are achieved by:\\nDevelop and apply data mining and machine learning techniques and models to extract analytic insights from healthcare and non-healthcare data sets\\nResponsible for review, generation, and delivery of analytic products in support of project work, RFP responses and other business needs\\nSupport and supervise the development of visualizations and presentations for client deliverables\\nDevelop software solutions and applications using Python, and/or R\\nInterface with EVERSANA analysts, data scientists, clinicians and program managers and with EVERSANA customers\\nRespond to additional ad-hoc analysis requests\\nAll other duties as assigned\\nEXPECTATIONS OF THE JOB:\\nTravel (10% or less)\\nHours (40 Hours per week, 5 days of the week)\\nMINIMUM KNOWLEDGE, SKILLS AND ABILITIES:\\nThe requirements listed below are representative of the experience, education, knowledge, skill and/or abilities required.\\nEducation - BS/MS/PhD degree in Engineering, Computer Science, Mathematics, Bioinformatics, Physics\\nMinimum 5+ years experience\\nPractical knowledge of statistics, statistical inference, and machine learning algorithms (deep learning, LSTM, SVM, CNN, GAN, and reinforcement learning)\\nWorks independently and is a self-starter\\nMS PowerPoint presentation development skills\\nClient interface and presentation skills\\nProficiency in the following programming and analysis tools:\\nPython (pandas, scikit-learn, Numpy, Scipy, and database access packages)\\nSQL / (MySQL)\\nAWS (Redshift)\\nMicrosoft Excel\\nR programming language\\nVisualization tools\\nLinux (Red Hat, CentOS); Python and software development in a Linux environment\\nSignificant consideration will be given to prior publications, independent software projects completed, and non-proprietary code authored by the candidate\\nRoleData Analyst\\nIndustry TypeIT Services & Consulting\\nFunctional AreaData Science & Analytics\\nEmployment TypeFull Time, Permanent\\nRole CategoryBusiness Intelligence & Analytics\\nEducation\\nDoctorate :Any Doctorate\\nKey Skills\\nHealthcare AnalyticsAlgorithmsArtificial IntelligenceMachine LearningPythonSQL',\n",
       " 'Job description\\n1. PURPOSE OF ROLE\\nUnderstand and solve complex business problems with sound analytical prowess and help business with impactful insights in decision making\\nEnsure any roadblocks in implementation is brought to the notice of Analytics Manager so that project timelines do not get affected\\nDocument every aspect of the project in standard way, for future purposes\\nArticulate technical complexities to the senior leadership in a simple and easy manner\\n\\n2. KEY TASKS AND ACCOUNTABILITIES\\nLead discussions with business stakeholders to understand key areas of concern for the business and translate these into Data Science problems\\nParticipate in the solution building process within a multi-organizational environment and facilitating inputs from numerous stakeholders\\nWork with Data Engineers to gather the required data for Feature Engineering and Model Building\\nImplement best in class solutions by optimizing over various ML and Statistical algorithms\\nEvaluate models and intervention strategies by designing and executing various A/B test experiments\\nWork with Machine Learning Engineers to deploy models with ML Ops best practices and processes\\nDevelop communication and presentation materials for Senior and Executive stakeholders to understand progress, results and challenges with various ML Models\\nAnalyze results and present to stakeholders\\n\\n3. QUALIFICATIONS, EXPERIENCE, SKILLS\\nDegree in Engineering, Mathematics or Computers\\n4-5 years Data Science, Machine Learning\\nExpertise strongly desired in building statistical and machine learning models for classification, regression, forecasting, anomaly detection, clustering etc.\\nProven skills in translating statistics into insights. Sound knowledge in statistical inference, hypothesis testing and A/B testing\\nProficiency with Python and Fundamental ML libraries for machine learning such as (Numpy, Pandas Scikit-learn, Statsmodels, Matplotlib etc.)\\nBeginner to Intermediate understanding of advanced machine learning concepts such as Neural Networks and Deep Learning\\nExcellent coding skills in - SQL, Python, PySpark\\nFamiliarity with Deeplearning frameworks PyTorch, Tensorflow (optional)\\nEnglish (Fluent)\\nMicrosoft Office (mandatory)\\nReporting Tool (preferably Power BI)\\nHands-on experience in implementation of various machine learning algorithms\\nGood communication and interpersonal skills\\nRoleSoftware Development - Other\\nIndustry TypeSoftware Product\\nFunctional AreaEngineering - Software\\nEmployment TypeFull Time, Permanent\\nRole CategorySoftware Development\\nEducation\\nUG :Any Graduate\\nKey Skills\\nStatistical ModelingMachine LearningPython\\nData ScienceDeep LearningSQL\\nSkills highlighted with ‘‘ are preferred keyskills',\n",
       " '-',\n",
       " 'Job description\\n  A Staff Data Scientist is responsible for building data science and machine learning solutions closely with our Product and Business stakeholders.\\nWork closely with a team of data scientists and solve business problems by applying advanced Machine Learning algorithms and complex statistical models on large volumes of data.\\nDemonstrate strong thought-leadership and consult with product and business stakeholders to build, scale and deploy holistic data science products after successful prototyping.\\n  Mentor and guide junior team members in achieving data science outcomes and handle multiple products and initiatives.\\nFollow industry best practices, stay up to date with and extend the state of the art in machine learning research and practice, drive innovation by contributing towards publications and patents.\\nParticipate in internal technical councils and represent the organization in forums that involve community of data scientists across industry and academia.\\nPromote and support company policies, procedures, mission, values, and standards of ethics and integrity.\\n  EXPERTISE AND QUALIFICATIONS\\n  Key Skills:\\n  Knowledge of the foundations of machine learning and statistics and has made core contributions to the area in practice.\\nSolid experience working with state-of-the-art supervised and unsupervised machine learning algorithms on real-world problems.\\nStrong Python coding skills.\\n  Ability to work in a big data ecosystem - expert in SQL/Big query.\\nStrong ability to understand the business and good stakeholder management capabilities and has mentored data scientists in developing ML solutions.\\nExperience playing the role of full-stack data scientist and taking solutions to production.\\nGood to have experience in customer analytics and financial analytics\\nYears Of Experience: 6 to 10 Years\\nRoleCTO\\nIndustry TypeInternet\\nFunctional AreaStrategic & Top Management\\nEmployment TypeFull Time, Permanent\\nRole CategoryTop Management\\nEducation\\nUG :Any Graduate\\nPG :Any Postgraduate\\nKey Skills\\nData ScienceAlgorithmsFinancial ServicesData ScientistBig DataCustomer AnalyticsMachine LearningPythonStakeholder Management',\n",
       " 'Job description\\nWe are looking for a Lead data scientist who will help us discover the information hidden in vast amounts of Ad Campaign data, and help us to optimize the campaign to improve the advertiser ROI and improve the overall consumer experience. Your primary focus will be in applying data mining techniques, doing statistical analysis, and building high quality prediction systems using Deep learning algorithms integrated with our products. Some the key area you will be working on spend recommendation, floor price prediction, CTR/CVR prediction, market funnel analysis and perdition of lead to conversion, etc.\\n\\nResponsibility:\\nAnalyze the data, develop insights and identify the opportunity to utilize the data to predict various Advertisement key indicators like CTR, CVR, Inventory and Develop prediction and optimization algorithms for campaign, look alike modeling, etc for Huawei Ads.\\nTakeup key challenges in AI-driven Smart Ad Serving Platform and focus on research and developing leading AI algorithms and productionize for Huawei Ads.\\nTakeup initiative in identifying the SOTA and finding key gaps in AI algorithms and develop a world leading AI algorithms for optimizing real-time Ad Serving engine. Identify and optimize the core modules such as Traffic Prediction, Optimization, Ad Targeting/Re-targeting, Ad Performance Optimization, Audience insights, Attribution, Bidding, re-ranking, and Diagnostics. Support hundreds of billions of ad requests per day, with efficiently cache technology.\\nTo build and enhance Ad platform features and Prediction capabilities in Huawei Ads Platform\\nOptimized Cost Per Mille; Optimized Cost Per Action; Optimized Cost Per Click and Cost per Click. OCPM, OCPA, OCPC.\\n\\nRequirements:\\n- Strong hands-on experience in implementing and validating big data algorithms and models including Deep Learning models like Seq2Seq/ GRU/ RNN/LSTM , Knowledge Graph, Massive Graph algorithms, etc.\\n- Programming experience with Python\\n- Able to validate existing models including Deep Learning models with large scale dataset and able to make changes to the models to achieve better performance\\n- AdServing domain Experience is an added advantage.\\nRoleData Scientist\\nIndustry TypeTelecom / ISP\\nFunctional AreaData Science & Analytics\\nEmployment TypeFull Time, Permanent\\nRole CategoryData Science & Machine Learning\\nEducation\\nUG :Any Graduate\\nPG :Any Postgraduate\\nKey Skills\\nData SciencePerformance OptimizationAlgorithmsRNNLSTMArtificial IntelligenceBig DataData MiningStatistical AnalysisDeep LearningPython',\n",
       " 'Job description\\nJob Description:\\n1. Must have\\na. Programming – Python (Preferred) / R\\nb. ML Models – i. Regression – Linear, Logistic, Multinomial, Mixed effect\\nii. Classification – Bagging & Boosting (Random Forest), Decision tree, SVM\\niii. Clustering – K-Means, hierarchical, DB-Scan\\niv. Time series – ARIMA, SARIMA, ARIMAX, Holt-Winters, Multi TS (VAR), UCM\\nv. Neural Networks (Deep learning), Naive Bayes\\nc. Excel and SQL\\nd. Dimensionality Reduction – PCA, SVD etc.\\ne. Optimization Techniques – Linear programming, Gradient Descent, Genetic Algorithm\\nf. Cloud – Understanding of Azure / AWS offerings, Setting up ML pipeline of cloud\\nGood to have –\\na. Visualization – Tableau / Power BI / Looker / QlikView\\nb. Data management – HDFS, Spark, Advanced Excel\\nc. Agile Tools – Azure DevOps, JIRA\\nd.Pyspark\\ne. Big Data/Hive Database\\nf: IDE: Pycharm\\n\\n\\nRoleData Scientist\\nIndustry TypeSoftware Product\\nFunctional AreaData Science & Analytics\\nEmployment TypeFull Time, Permanent\\nRole CategoryData Science & Machine Learning\\nEducation\\nUG :Any Graduate\\nKey Skills\\nData ScienceClassificationPython\\nPysparkAzureArimaNeural NetworksBig DataTableauHdfsDeep LearningRandom ForestSQLRHiveCloudTime SeriesSparkAWSPycharm\\nSkills highlighted with ‘‘ are preferred keyskills',\n",
       " 'Job description\\nData Scientist- Manager / Senior Manager\\n\\nExp- 8 to 15\\n\\nLocation - Bangalore / Gurgaon /pune / hyderabad\\n\\nDuties and Responsibilities:\\n\\nManagement: Line manager for several analysts; Lead initiatives to improve the team morale, camaraderie, and collaboration; Work well with the team members to maintain high credibility,\\nClient projects and Internal development: Analytics lead on client projects responsible for data science application development and its productionization; Take responsibility for requirements gathering, solution design, development, and developing a production level data\\nData Science Practice: Develop implementation guidelines, quality control procedures, and documentation for projects; Ensure adherence of the best practices in the project;\\n\\nEducational Background/qualifications\\n\\nB Tech/M Tech from reputed engineering colleges\\nMasters/M Tech in Computer Science\\nMaster degree in Statistics/Econometrics/ Economics from reputed institute\\nM.Phil/Ph.D in Statistics/Econometrics or related field.\\n\\nRequirements:\\n\\nStrong on leadership skills and values like delighting customers, taking initiative, being trustworthy, and working collaboratively\\n8-10 years of data science experience using statistics, machine learning, or forecasting\\nAt least 2-3 years of experience of leading junior team members on projects using machine learning (like Decision Trees, Gradient Boosting, Random Forest, and Neural Networks) or forecasting techniques (ESM, ARIMA, ARIMAX, UCM) to meet analytics requirements\\nAdvanced expertise in and ability to train team members in Advanced Python for Data Science, Machine Learning or Forecasting, and SQL.\\nExceptional communication skills. Demonstrated ability to communicate complex concepts to business audiences\\nAbility to work effectively in global teams and customers in different time zones\\nExperience in Retail, CPG, FMCG, consumer goods or manufacturing.\\nProficient in data handling suites PYTHON, Spark, SQL.\\nGood to have Exposure to and understanding of cloud platforms like GCP, Azure, AWS.\\nGood knowledge & working on Visualization tools like Tableau, POWER BI, etc.\\nRoleHead - Data Science\\nIndustry TypeTelecom / ISP\\nFunctional AreaData Science & Analytics\\nEmployment TypeFull Time, Permanent\\nRole CategoryData Science & Machine Learning\\nEducation\\nUG :B.Tech/B.E. in Any Specialization\\nPG :MS/M.Sc(Science) in Statistics\\nKey Skills\\nPower BiArimaArtificial IntelligenceNeural NetworksTableauMachine LearningForecastingRandom ForestSQLData ScienceGradient Boostingforecasting techniquesDecision TreesSparkARIMAXESMPython',\n",
       " 'Job description\\nData Scientist- Manager / Senior Manager\\n\\nExp- 8 to 15\\n\\nLocation - Bangalore / Gurgaon /pune / hyderabad\\n\\nDuties and Responsibilities:\\n\\nManagement: Line manager for several analysts; Lead initiatives to improve the team morale, camaraderie, and collaboration; Work well with the team members to maintain high credibility,\\nClient projects and Internal development: Analytics lead on client projects responsible for data science application development and its productionization; Take responsibility for requirements gathering, solution design, development, and developing a production level data\\nData Science Practice: Develop implementation guidelines, quality control procedures, and documentation for projects; Ensure adherence of the best practices in the project;\\n\\nEducational Background/qualifications\\n\\nB Tech/M Tech from reputed engineering colleges\\nMasters/M Tech in Computer Science\\nMaster degree in Statistics/Econometrics/ Economics from reputed institute\\nM.Phil/Ph.D in Statistics/Econometrics or related field.\\n\\nRequirements:\\n\\nStrong on leadership skills and values like delighting customers, taking initiative, being trustworthy, and working collaboratively\\n8-10 years of data science experience using statistics, machine learning, or forecasting\\nAt least 2-3 years of experience of leading junior team members on projects using machine learning (like Decision Trees, Gradient Boosting, Random Forest, and Neural Networks) or forecasting techniques (ESM, ARIMA, ARIMAX, UCM) to meet analytics requirements\\nAdvanced expertise in and ability to train team members in Advanced Python for Data Science, Machine Learning or Forecasting, and SQL.\\nExceptional communication skills. Demonstrated ability to communicate complex concepts to business audiences\\nAbility to work effectively in global teams and customers in different time zones\\nExperience in Retail, CPG, FMCG, consumer goods or manufacturing.\\nProficient in data handling suites PYTHON, Spark, SQL.\\nGood to have Exposure to and understanding of cloud platforms like GCP, Azure, AWS.\\nGood knowledge & working on Visualization tools like Tableau, POWER BI, etc.\\nRoleHead - Data Science\\nIndustry TypeTelecom / ISP\\nFunctional AreaData Science & Analytics\\nEmployment TypeFull Time, Permanent\\nRole CategoryData Science & Machine Learning\\nEducation\\nUG :B.Tech/B.E. in Any Specialization\\nPG :MS/M.Sc(Science) in Statistics\\nKey Skills\\nPower BiArimaArtificial IntelligenceNeural NetworksTableauMachine LearningForecastingRandom ForestSQLData ScienceGradient Boostingforecasting techniquesDecision TreesSparkARIMAXESMPython',\n",
       " 'Job description\\nSGAs Data Analytics (DA) team requires a self-learning Data scientist to solve complex data science problems for our US-based global clients.\\nOur team of 60+ Data Engineers + Data scientists already use multiple available open-source and licensed tools in the market to solve complex problems and drive business decisions.\\nWhat you will be doing\\nPart of a cross-disciplinary team, work closely with other data engineers, software engineers, data scientists, data managers and business partners.\\nUse expertise to build data taps, prepare/optimize data to be ready for high performing ML models\\nBuild Application, behaviour, Fraud and collection scorecards, Create strategies for usage of scorecards for business\\nInteract with business experts to optimize scope of AI/ML models\\nQuickly experiment and select right ML algorithm and scale with more advanced deep learning techniques\\nBuild descriptive, inferential, predictive and prescriptive models as needed for the business context\\nWork with engineers and architect to productize ML models into product and services\\nEXPERTISE AND QUALIFICATIONS\\nWhat you should have -\\nGood understanding of consumer banking domain, effectively use expertise to build data taps, prepare/optimize data to be ready for high performing ML models\\nAbility to build Application, behaviour, Fraud and collection scorecards, Create strategies for usage of scorecards for business.\\nExpertise to quickly experiment and select right ML algorithm, and ability to scale with more advanced deep learning techniques\\nExperience in dealing of veracity of data (structured, unstructured)\\nExperience in working with engineers and architect to productize ML models into product and services\\nAbility to articulate ideas, actionable insights and thoughts to wide variety of audience (Senior Business Executives)\\nBasic Qualifications\\n  Master s in computer sciences, Mathematics, Business Administration or Statistics from a reputed college\\n4+ years experience in Data analysis and predictive modelling (Reporting, Analytics, Prediction, AI/ML)\\nGood Python / R programming skills, knowledge of AWS/GCP/AZURE cloud usage\\nRoleTechnical Consultant\\nIndustry TypeAnalytics / KPO / Research\\nFunctional AreaConsulting\\nEmployment TypeFull Time, Permanent\\nRole CategoryIT Consulting\\nEducation\\nUG :Any Graduate\\nPG :Any Postgraduate\\nKey Skills\\nData ScienceAi / MlMl AlgorithmData ScientistData AnalysisData AnalyticsStatisticsDeep LearningPython / R',\n",
       " 'Job description\\n\\nThe team is focusing on Natural Language Processing for Social Media Monitoring and Intelligence building state-of-the-art, accurate and scalable machine learning solutions.\\nWe are looking for a Junior Data Scientist to join our team in building accurate Sentiment Analysis models. In this role you will have an immediate impact on the Meltwater customer base.\\nOur stack is fully cloud-native (Terraform, AWS, Serverless, Kubernetes) and uses modern ML frameworks (TensorFlow, Pytorch) for model definition and training.\\n\\n\\nSkills Requirement\\nGood knowledge of the foundations of Machine Learning and Deep Learning\\nGood knowledge of Python (3+ years recommended)\\nGood working knowledge of Natural Language Processing (2+ years recommended)\\nGood working knowledge of TensorFlow (2+ years recommended)\\nExperience with micro-service architecture\\nCuriosity, strong analytical and critical thinking skills, the ability to learn new things and to find creative solutions to technical problem.\\nThe role is eligible for hybrid work (occasional office presence) and it is open in the following locations:\\n- India (Bangalore Preferred)\\nAdditional preferred skills\\nExperience with container orchestration (e.g., Docker, K8s)\\nExperience with Cloud technologies (e.g., AWS)\\nExperience with Java\\n\\nRoleSystem Analyst\\nIndustry TypeWater Treatment / Waste Management\\nFunctional AreaIT & Information Security\\nEmployment TypeFull Time, Permanent\\nRole CategoryIT Infrastructure Services\\nEducation\\nUG :Any Graduate\\nPG :Any Postgraduate\\nKey Skills\\nData ScienceJavaNlpData ScientistNatural Language ProcessingMachine LearningDeep LearningPython',\n",
       " 'Job description\\nLead evidence creation through HEOR scientific studies, including large-scale real-world evidence (RWE) studies and health economic analyses.\\nInterface with GHEOR and epi leads and other cross functional colleagues to plan work needed for optimal execution of team deliverables\\nDevelop strategy to identify and employ data science techniques on structured and unstructured data sets.\\nTo work closely with RWE stats group to perform descriptive and advanced analyses using large patient and/or claims databases in support of data mining, predictive modeling, and health outcomes research projects\\nEmploy and execute programs developed by RWE stats to analyse data for rapid data queries and simple descriptive studies based on protocol\\nHelp develop project plans, execute on deliverables within agreed upon timeframes, manage deadlines, communicate progress and make recommendations to address issues.\\nDevelop new data visualization methods to convey insight to the risk and health of patients on multiple medications.\\nParticipate in the implementation and configuration of data visualization software such as Tableau or Looker\\nAuthor study reports, scientific publications, conference abstracts, and posters\\nEither alone or in partnership GHEOR lead and other scientists, develop/contribute to protocol /study report of real-world database studies\\nIdentify variables and records to extract from the available large observational/real-world healthcare databases (e.g. electronic medical records, health insurance claims)\\nEffectively present results from rapid data queries/simple descriptive studies to collaborators\\nExcellent data visualization skills to transform data into insights\\nContribute to final report, summarizing analytic findings.\\nRoleDatabase Architect / Designer\\nIndustry TypeRecruitment / Staffing\\nFunctional AreaEngineering - Software\\nEmployment TypeFull Time, Permanent\\nRole CategoryDBA / Data warehousing\\nEducation\\nUG :Any Graduate\\nPG :Any Postgraduate\\nKey Skills\\nHealth insuranceInsurance claimsdata scienceDatabaseHealthcarePredictive modelingmedical recordsdata visualizationData miningAnalytics',\n",
       " 'Job description\\nRoles and Responsibilities\\n- Machine learning, Time Series Analysis\\n- Proficient in Python programming\\n- Building and applying Machine learning in real-world use cases\\n- Strong understanding and implementation and solution architecting of predictive / analytical modelling techniques, theories, principles, and practices\\n- Basic knowledge of NLP, Computer Vision, Deep learning Neural Networks\\n- Basic knowledge of DataIKU tool is a plus\\n- Energy domain experience is a plus\\n- Excellent communication, verbal and written skills\\nAnd\\n- Proficient in Python programming\\n- Machine learning\\n- SQL\\n- Exposure to Cloud (AWS or Azure or GCP)\\n- Building and applying machine learning in real-world use cases\\n- Strong understanding and solution architecting of predictive / analytical modelling techniques, theories, principles, and practices\\n- Basic knowledge of NLP, Computer Vision, Deep Learning Neural Networks\\n- Good communication, verbal and written skills\\n\\n\\n\\n\\n\\n\\nRoleAnalytics Consultant\\nIndustry TypeSoftware Product\\nFunctional AreaData Science & Analytics\\nEmployment TypeFull Time, Temporary/Contractual\\nRole CategoryBusiness Intelligence & Analytics\\nEducation\\nUG :Any Graduate\\nKey Skills\\nNLPMachine LearningPython\\nSolution ArchitectingWriting SkillsUse CasesTime Series AnalysisNeural NetworksComputer VisionDeep Learning\\nSkills highlighted with ‘‘ are preferred keyskills',\n",
       " 'Job description\\nIn depth knowledge of Python\\nExperience in advanced statistical techniques, multivariate regression, classification problems, predictive analytic/, text analytics, NLP and large data.\\nMulti-lingual text analytics and NLP development and deployment.\\nHands-on experience on on Image Processing and Computer Vision Algorithms used for Object Detection, Tracking, Localization and Classification\\nStrong background in Deep Learning that includes Data conditioning, Model design, Pruning and Performance Optimization, Transfer Learning, Deployment etc\\nComfortable in modern machine learning libraries like Tensorflow, Pytorch, Keras, Sklearn, Matplotlib\\nFamiliarity in Mongo DB is Must\\nExperience with AWS is Must\\nGood understanding of Object Oriented Design methodology\\nUnderstanding of SDLC.\\nDESIRED SKILLS\\nDesign and implement large sized high-performance and scalable solutions.\\nDesigning applications for cloud deployment.\\nUnderstand trends in technology and be able leverage them in technical solutions.\\nMust be able to design and implement frameworks for technical solutions.\\nPREFERRED SKILLS\\nMust have good written and verbal communication skills.\\nMust be able to effectively communicate all aspects of a project solution with managers, client and project team.\\nStrong interpersonal and leadership abilities\\nExecute effective negotiation and team management skill.\\nBe able to think creatively.\\n\\n\\n\\nRoleSoftware Development - Other\\nIndustry TypeIT Services & Consulting\\nFunctional AreaEngineering - Software\\nEmployment TypeFull Time, Permanent\\nRole CategorySoftware Development\\nEducation\\nUG :Any Graduate\\nKey Skills\\nArtificial IntelligenceNatural Language ProcessingMongoDBAWSMachine Learning',\n",
       " \"Job description\\nAbout The Job :\\n\\n- You will architect, code and deploy ML models (from scratch) to predict credit risk.\\n\\n- You will design, run, and analyze A/B and multivariate tests to test hypotheses aimed at optimizing user experience and portfolio risk.\\n\\n- You will perform data exploration and build statistical models on user behavior to discover opportunities for decreasing user defaults. And you must truly be excited about this part.\\n\\n- You'll use behavioral and social data to gain insights into how humans make financial choices\\n\\n- You will spend a lot of time in building out predictive features from super sparse data sources.\\n\\n- You'll continually acquire new data sources to develop a rich dataset that characterizes risk.\\n\\n- You will code, drink, breathe and live python, sklearn and pandas. It's good to have experience in these but not a necessity - as long as you're super comfortable in a language of your choice.\\n\\nAbout You :\\n\\n- You've strong computer science fundamentals\\n\\n- You've strong understanding of ML algorithms\\n\\n- Ideally, you have 2+ years of experience in using ML in the industry environment\\n\\n- You know how to run tests and understand their results from a statistical perspective\\n\\n- You love freedom and hate being micromanaged. You own products end to end\\n\\n- You have a strong desire to learn and use the latest machine learning algorithms\\n\\n- It will be great if you have one of the following to share - a kaggle or a github profile\\n\\n- Degree in statistics/quant/engineering from Tier-1 institutes.\\n\\nSkills:- Data Science, Python, Perl, Django, Machine Learning (ML) and Data Analytics\\nRoleData Analyst\\nIndustry TypeIT Services & Consulting\\nFunctional AreaData Science & Analytics\\nEmployment TypeFull Time, Permanent\\nRole CategoryBusiness Intelligence & Analytics\\nEducation\\nUG :B.Tech/B.E. in Any Specialization, BCA in Computers, B.Sc in Any Specialization\\nPG :Any Postgraduate\\nDoctorate :Doctorate Not Required\\nKey Skills\\nData ScienceData ScientistDjangoPerlData AnalyticsMachine LearningPython\",\n",
       " \"Job description\\nResponsibilities :\\n\\n- Analytics lead on client projects responsible for data science application development, Works closely with cross-functional teams.\\n\\n- Takes responsibility for requirements gathering, solution design, development, and developing a production-level data science solution\\n\\n- Develop implementation guidelines, quality control procedures, and documentation for projects. Ensures adherence to the best practices in the project\\n\\n- Guide team members on project work and take responsibility for the analytics deliverables\\n\\n- Take initiatives to drive data science initiatives like training to the team, conduct proof-of-concept work to test new data science algorithms or features with support of data science leadership\\n\\nMust have Skills and Experience: :\\n\\n- At least a year of experience of leading machine learning or forecasting projects to meet the customers- business requirement\\n\\n- 5-6 years of project experience using machine learning techniques (like Decision Trees, Gradient Boosting, Random Forest, and Neural Networks) or forecasting techniques (ESM, ARIMA, ARIMAX, UCM)\\n\\n- Advance level skills in Python and SQL to work on large scale data\\n\\n- Expertise and ability to train team members in Advanced Python for Data Science, Machine Learning / Forecasting, and SQL\\n\\nEducation:\\n\\n- Bachelor /Master's degree in technology or engineering or quantitative field (e.g. MSc in Statistics and Operations Research, M Tech in Industrial Engineering, Applied Math/Statistics, Computer Science)\\n\\n- Experience in retail, manufacturing, and consumer goods industry\\n\\n- Experience of operationalization of the machine learning or forecasting models in the cloud or on-premises platform\\nRoleData Scientist\\nIndustry TypeIT Services & Consulting\\nFunctional AreaData Science & Analytics\\nEmployment TypeFull Time, Permanent\\nRole CategoryData Science & Machine Learning\\nEducation\\nUG :B.Tech/B.E. in Any Specialization\\nPG :M.Tech in Production/Industrial, Computers, MS/M.Sc(Science) in Statistics\\nDoctorate :Doctorate Not Required\\nKey Skills\\nData ScienceNLPData ScientistData ManagementMachine LearningStatisticsAnalyticsSQL\",\n",
       " 'Job description\\nUse data to develop machine learning models that optimize decision making in Credit Risk, Fraud, Marketing, and Operations\\nImplement data pipelines, new features, and algorithms that are critical to our production models\\nCreate scalable strategies to deploy and execute your models\\nWrite well designed, testable, efficient code\\nIdentify valuable data sources and automate collection processes.\\nUndertake pre-processing of structured and unstructured data.\\nAnalyze large amounts of information to discover trends and patterns.\\nRequirements:\\n2+ years of experience in applied data science or engineering with a focus on machine learning\\nPython expertise with good knowledge of machine learning libraries, tools, techniques, and frameworks (e.g. pandas, sklearn, xgboost, lightgbm, logistic regression, random forest classifier, gradient boosting regressor etc)\\nStrong quantitative and programming skills with a product-driven sensibility\\n-\\nRoleOther Hospital Staff - Other\\nIndustry TypeRecruitment / Staffing\\nFunctional AreaHealthcare & Life Sciences\\nEmployment TypeFull Time, Permanent\\nRole CategoryOther Hospital Staff\\nEducation\\nUG :B.Tech/B.E. in Production/Industrial\\nPG :Any Postgraduate\\nKey Skills\\nData ScienceBpoCustomer ServiceLogistic RegressionTelecallingCredit RiskMachine LearningPython']"
      ]
     },
     "execution_count": 35,
     "metadata": {},
     "output_type": "execute_result"
    }
   ],
   "source": [
    "description"
   ]
  },
  {
   "cell_type": "code",
   "execution_count": 36,
   "metadata": {},
   "outputs": [],
   "source": [
    "driver.get('https://www.naukri.com/data-scientist-jobs-in-bangalore-bengaluru?k=data%20scientist&l=bangalore%2Fbengaluru')"
   ]
  },
  {
   "cell_type": "code",
   "execution_count": 37,
   "metadata": {},
   "outputs": [
    {
     "data": {
      "text/plain": [
       "[<selenium.webdriver.remote.webelement.WebElement (session=\"e7fb64b4b29a77f5f1ed30686c7d806a\", element=\"fe549658-71e3-4464-80d9-b17d36c0263d\")>,\n",
       " <selenium.webdriver.remote.webelement.WebElement (session=\"e7fb64b4b29a77f5f1ed30686c7d806a\", element=\"5de24e8d-3d9b-4da1-a2ad-46bd8c4d87d7\")>,\n",
       " <selenium.webdriver.remote.webelement.WebElement (session=\"e7fb64b4b29a77f5f1ed30686c7d806a\", element=\"286ab4be-1099-482d-8f99-8343923bba58\")>,\n",
       " <selenium.webdriver.remote.webelement.WebElement (session=\"e7fb64b4b29a77f5f1ed30686c7d806a\", element=\"cb3c86ef-8e82-4851-95ee-d282d39fcfd9\")>,\n",
       " <selenium.webdriver.remote.webelement.WebElement (session=\"e7fb64b4b29a77f5f1ed30686c7d806a\", element=\"154e556b-e8d7-4397-a01c-9d385741f1f9\")>,\n",
       " <selenium.webdriver.remote.webelement.WebElement (session=\"e7fb64b4b29a77f5f1ed30686c7d806a\", element=\"76c2e5f8-6bd6-4af3-84c0-045b7200e176\")>,\n",
       " <selenium.webdriver.remote.webelement.WebElement (session=\"e7fb64b4b29a77f5f1ed30686c7d806a\", element=\"8f1e5995-f3dc-413b-b112-dcb8b86b204a\")>,\n",
       " <selenium.webdriver.remote.webelement.WebElement (session=\"e7fb64b4b29a77f5f1ed30686c7d806a\", element=\"d4294578-dbd3-4f75-95a6-beb4f8662c86\")>,\n",
       " <selenium.webdriver.remote.webelement.WebElement (session=\"e7fb64b4b29a77f5f1ed30686c7d806a\", element=\"e54bf2ca-833e-42ef-9a4d-583a621ab715\")>,\n",
       " <selenium.webdriver.remote.webelement.WebElement (session=\"e7fb64b4b29a77f5f1ed30686c7d806a\", element=\"fefd07cc-0730-49f8-895a-6f6218df7b70\")>]"
      ]
     },
     "execution_count": 37,
     "metadata": {},
     "output_type": "execute_result"
    }
   ],
   "source": [
    "companies_tags=driver.find_elements_by_xpath('//a[@class=\"subTitle ellipsis fleft\"]')\n",
    "companies_tags[0:10]"
   ]
  },
  {
   "cell_type": "code",
   "execution_count": 38,
   "metadata": {},
   "outputs": [
    {
     "data": {
      "text/plain": [
       "['Intel',\n",
       " 'Incedo Technology Solutions Ltd.',\n",
       " 'Harman Connected Services Corporation India Pvt.',\n",
       " 'Accenture Solutions Pvt Ltd',\n",
       " 'EVERSANA INDIA PRIVATE LIMITED',\n",
       " 'Ab Inbev',\n",
       " 'Piramal - Retail Finance Group',\n",
       " 'Groww',\n",
       " 'Huawei Technologies',\n",
       " 'mPokket']"
      ]
     },
     "execution_count": 38,
     "metadata": {},
     "output_type": "execute_result"
    }
   ],
   "source": [
    "for i in companies_tags:\n",
    "    company=i.text\n",
    "    company_names.append(company)\n",
    "company_names[0:10]"
   ]
  },
  {
   "cell_type": "code",
   "execution_count": 39,
   "metadata": {},
   "outputs": [
    {
     "data": {
      "text/plain": [
       "[<selenium.webdriver.remote.webelement.WebElement (session=\"e7fb64b4b29a77f5f1ed30686c7d806a\", element=\"908fb5cc-db95-4a82-9f16-93fb70aee2d1\")>,\n",
       " <selenium.webdriver.remote.webelement.WebElement (session=\"e7fb64b4b29a77f5f1ed30686c7d806a\", element=\"25360a09-65e2-4a18-8127-89a1b1e63302\")>,\n",
       " <selenium.webdriver.remote.webelement.WebElement (session=\"e7fb64b4b29a77f5f1ed30686c7d806a\", element=\"44497387-b6c9-4629-9fc5-8a3d26d80d68\")>,\n",
       " <selenium.webdriver.remote.webelement.WebElement (session=\"e7fb64b4b29a77f5f1ed30686c7d806a\", element=\"20f88bb6-2394-461c-8658-1a5fb3bf2759\")>,\n",
       " <selenium.webdriver.remote.webelement.WebElement (session=\"e7fb64b4b29a77f5f1ed30686c7d806a\", element=\"fc8f110c-3251-45f6-af55-71557f88c422\")>,\n",
       " <selenium.webdriver.remote.webelement.WebElement (session=\"e7fb64b4b29a77f5f1ed30686c7d806a\", element=\"a1261bae-ee7a-4c28-8b7d-e6ed97c40199\")>,\n",
       " <selenium.webdriver.remote.webelement.WebElement (session=\"e7fb64b4b29a77f5f1ed30686c7d806a\", element=\"d50c071c-a891-4826-9780-fac8d1bb0149\")>,\n",
       " <selenium.webdriver.remote.webelement.WebElement (session=\"e7fb64b4b29a77f5f1ed30686c7d806a\", element=\"85b463e2-725c-4482-83b4-8ed3df3fb63d\")>,\n",
       " <selenium.webdriver.remote.webelement.WebElement (session=\"e7fb64b4b29a77f5f1ed30686c7d806a\", element=\"895faf64-9786-49c1-8878-64a56d9ea409\")>,\n",
       " <selenium.webdriver.remote.webelement.WebElement (session=\"e7fb64b4b29a77f5f1ed30686c7d806a\", element=\"76a949cf-b9a9-4210-9526-9f31c5a62a61\")>]"
      ]
     },
     "execution_count": 39,
     "metadata": {},
     "output_type": "execute_result"
    }
   ],
   "source": [
    "location_tags=driver.find_elements_by_xpath('//li[@class=\"fleft grey-text br2 placeHolderLi location\"]/span[1]')\n",
    "location_tags[0:10]"
   ]
  },
  {
   "cell_type": "code",
   "execution_count": 40,
   "metadata": {},
   "outputs": [
    {
     "data": {
      "text/plain": [
       "['Bangalore/Bengaluru',\n",
       " 'Pune, Bangalore/Bengaluru, Delhi / NCR',\n",
       " 'Bangalore/Bengaluru',\n",
       " 'Bangalore/Bengaluru',\n",
       " 'Pune, Bangalore/Bengaluru',\n",
       " 'Bangalore/Bengaluru',\n",
       " 'Mumbai, Bangalore/Bengaluru, Bangalore',\n",
       " 'Bangalore/Bengaluru',\n",
       " 'Bangalore/Bengaluru',\n",
       " 'Kolkata, Bangalore/Bengaluru']"
      ]
     },
     "execution_count": 40,
     "metadata": {},
     "output_type": "execute_result"
    }
   ],
   "source": [
    "for i in location_tags:\n",
    "    location=i.text\n",
    "    locations_list.append(location)\n",
    "locations_list[0:10]"
   ]
  },
  {
   "cell_type": "code",
   "execution_count": 41,
   "metadata": {},
   "outputs": [
    {
     "data": {
      "text/plain": [
       "[<selenium.webdriver.remote.webelement.WebElement (session=\"e7fb64b4b29a77f5f1ed30686c7d806a\", element=\"d25d8141-6d3c-421a-b22e-5bf7344555f1\")>,\n",
       " <selenium.webdriver.remote.webelement.WebElement (session=\"e7fb64b4b29a77f5f1ed30686c7d806a\", element=\"d95f1c75-ada2-4bdf-ae6b-9786ab91fca1\")>,\n",
       " <selenium.webdriver.remote.webelement.WebElement (session=\"e7fb64b4b29a77f5f1ed30686c7d806a\", element=\"36f68e0e-7dfa-4d6a-9691-efe8c4389d92\")>,\n",
       " <selenium.webdriver.remote.webelement.WebElement (session=\"e7fb64b4b29a77f5f1ed30686c7d806a\", element=\"40c9a710-5ace-482b-8062-718f79708195\")>,\n",
       " <selenium.webdriver.remote.webelement.WebElement (session=\"e7fb64b4b29a77f5f1ed30686c7d806a\", element=\"57a1aed1-3adf-4c65-b5cb-0ebb3dc4b64a\")>,\n",
       " <selenium.webdriver.remote.webelement.WebElement (session=\"e7fb64b4b29a77f5f1ed30686c7d806a\", element=\"e90e3cab-490f-4f0e-ae22-a9680cb38496\")>,\n",
       " <selenium.webdriver.remote.webelement.WebElement (session=\"e7fb64b4b29a77f5f1ed30686c7d806a\", element=\"bf8cb8b2-91a6-431f-aa45-e0458fe7e3d4\")>,\n",
       " <selenium.webdriver.remote.webelement.WebElement (session=\"e7fb64b4b29a77f5f1ed30686c7d806a\", element=\"5124f799-e123-4b50-8bac-6e7316aca07a\")>,\n",
       " <selenium.webdriver.remote.webelement.WebElement (session=\"e7fb64b4b29a77f5f1ed30686c7d806a\", element=\"f35e63f3-f6cb-402d-b2ea-31f58b7c3e08\")>,\n",
       " <selenium.webdriver.remote.webelement.WebElement (session=\"e7fb64b4b29a77f5f1ed30686c7d806a\", element=\"e06d7b9b-1c49-4d71-9bd9-4691e4de06de\")>]"
      ]
     },
     "execution_count": 41,
     "metadata": {},
     "output_type": "execute_result"
    }
   ],
   "source": [
    "des_tags=driver.find_elements_by_xpath('//div[@class=\"job-description fs12 grey-text\"]')\n",
    "des_tags[0:10]"
   ]
  },
  {
   "cell_type": "code",
   "execution_count": 42,
   "metadata": {},
   "outputs": [
    {
     "data": {
      "text/plain": [
       "[<selenium.webdriver.remote.webelement.WebElement (session=\"e7fb64b4b29a77f5f1ed30686c7d806a\", element=\"7f082796-6f16-4993-8a35-8de4b677e5ef\")>,\n",
       " <selenium.webdriver.remote.webelement.WebElement (session=\"e7fb64b4b29a77f5f1ed30686c7d806a\", element=\"db382923-21a4-41c7-bfe9-3a79b70676f1\")>,\n",
       " <selenium.webdriver.remote.webelement.WebElement (session=\"e7fb64b4b29a77f5f1ed30686c7d806a\", element=\"71e94ac1-6298-4657-8eee-10f825b21cfb\")>,\n",
       " <selenium.webdriver.remote.webelement.WebElement (session=\"e7fb64b4b29a77f5f1ed30686c7d806a\", element=\"e609a1e8-2e72-4010-b3d9-17e1ae4e468f\")>,\n",
       " <selenium.webdriver.remote.webelement.WebElement (session=\"e7fb64b4b29a77f5f1ed30686c7d806a\", element=\"a072919a-b7d9-4276-a424-d8b446272055\")>,\n",
       " <selenium.webdriver.remote.webelement.WebElement (session=\"e7fb64b4b29a77f5f1ed30686c7d806a\", element=\"661e8872-3f24-42b3-8db2-54593c3ecc60\")>,\n",
       " <selenium.webdriver.remote.webelement.WebElement (session=\"e7fb64b4b29a77f5f1ed30686c7d806a\", element=\"3949a372-9503-4643-976d-838a249ad379\")>,\n",
       " <selenium.webdriver.remote.webelement.WebElement (session=\"e7fb64b4b29a77f5f1ed30686c7d806a\", element=\"8bf7b684-ef74-4cee-a615-8f9a8d81f16c\")>,\n",
       " <selenium.webdriver.remote.webelement.WebElement (session=\"e7fb64b4b29a77f5f1ed30686c7d806a\", element=\"661668f2-3f9f-4439-b901-db577e2224d9\")>,\n",
       " <selenium.webdriver.remote.webelement.WebElement (session=\"e7fb64b4b29a77f5f1ed30686c7d806a\", element=\"8cb1dd1d-6bc7-4298-b1b0-122806140c8d\")>]"
      ]
     },
     "execution_count": 42,
     "metadata": {},
     "output_type": "execute_result"
    }
   ],
   "source": [
    "tit_tags=driver.find_elements_by_xpath('//a[@class=\"title fw500 ellipsis\"]')\n",
    "tit_tags[0:10]"
   ]
  },
  {
   "cell_type": "code",
   "execution_count": 45,
   "metadata": {},
   "outputs": [
    {
     "data": {
      "text/plain": [
       "['Experience in using data analysis techniques and ML methods like classification, regres...',\n",
       " 'Good power point presentation skills and excellent team player',\n",
       " 'Bachelor s degree or higher in Computer Science, Data Science, Engineering, Mathematics...',\n",
       " 'Graduation / post-graduation computers / Engineering / Statistics from a reputed instit...',\n",
       " 'The requirements listed below are representative of the experience, education, knowledg...',\n",
       " '1. PURPOSE OF ROLEUnderstand and solve complex business problems with sound analytical ...',\n",
       " 'Should be able to work on the clickstream data Should be well versed and willing to wor...',\n",
       " 'A Staff Data Scientist is responsible for building data science and machine learning so...',\n",
       " 'Strong hands-on experience in implementing and validating big data algorithms and model...',\n",
       " 'Programming Python (Preferred) / R Must have Good to have']"
      ]
     },
     "execution_count": 45,
     "metadata": {},
     "output_type": "execute_result"
    }
   ],
   "source": [
    "for i in des_tags:\n",
    "    des=i.text\n",
    "    describe.append(des)\n",
    "describe[0:10]"
   ]
  },
  {
   "cell_type": "code",
   "execution_count": 46,
   "metadata": {},
   "outputs": [
    {
     "data": {
      "text/plain": [
       "['Data Scientist',\n",
       " 'Job Opportunity || Data Scientist/ Sr. Data Scientist roles',\n",
       " 'Senior Data Scientist',\n",
       " 'Ecosystem Senior Data Scientist',\n",
       " 'Senior Data Scientist',\n",
       " 'Senior Data Scientist',\n",
       " 'Data Scientist',\n",
       " 'Lead Data Scientist',\n",
       " 'Lead Data Scientist',\n",
       " 'Sr. Data Scientist / Data Scientist For Bangalore & Kolkata Locations']"
      ]
     },
     "execution_count": 46,
     "metadata": {},
     "output_type": "execute_result"
    }
   ],
   "source": [
    "for i in tit_tags:\n",
    "    tit=i.text\n",
    "    jtitle.append(tit)\n",
    "jtitle[0:10]"
   ]
  },
  {
   "cell_type": "code",
   "execution_count": 44,
   "metadata": {},
   "outputs": [],
   "source": [
    "describe=[]\n",
    "jtitle=[]"
   ]
  },
  {
   "cell_type": "code",
   "execution_count": 47,
   "metadata": {},
   "outputs": [
    {
     "name": "stdout",
     "output_type": "stream",
     "text": [
      "20 20 20 20\n"
     ]
    }
   ],
   "source": [
    "print(len(company_names),len(locations_list),len(describe),len(jtitle))"
   ]
  },
  {
   "cell_type": "code",
   "execution_count": 48,
   "metadata": {},
   "outputs": [],
   "source": [
    "jobs=pd.DataFrame({})\n",
    "jobs['tit_tags']=jtitle[0:10]\n",
    "jobs['company']=company_names[0:10]\n",
    "jobs['location_tags']=locations_list[0:10]\n",
    "jobs['desc_tags']=describe[0:10]"
   ]
  },
  {
   "cell_type": "code",
   "execution_count": 49,
   "metadata": {},
   "outputs": [
    {
     "data": {
      "text/html": [
       "<div>\n",
       "<style scoped>\n",
       "    .dataframe tbody tr th:only-of-type {\n",
       "        vertical-align: middle;\n",
       "    }\n",
       "\n",
       "    .dataframe tbody tr th {\n",
       "        vertical-align: top;\n",
       "    }\n",
       "\n",
       "    .dataframe thead th {\n",
       "        text-align: right;\n",
       "    }\n",
       "</style>\n",
       "<table border=\"1\" class=\"dataframe\">\n",
       "  <thead>\n",
       "    <tr style=\"text-align: right;\">\n",
       "      <th></th>\n",
       "      <th>tit_tags</th>\n",
       "      <th>company</th>\n",
       "      <th>location_tags</th>\n",
       "      <th>desc_tags</th>\n",
       "    </tr>\n",
       "  </thead>\n",
       "  <tbody>\n",
       "    <tr>\n",
       "      <th>0</th>\n",
       "      <td>Data Scientist</td>\n",
       "      <td>Intel</td>\n",
       "      <td>Bangalore/Bengaluru</td>\n",
       "      <td>Experience in using data analysis techniques a...</td>\n",
       "    </tr>\n",
       "    <tr>\n",
       "      <th>1</th>\n",
       "      <td>Job Opportunity || Data Scientist/ Sr. Data Sc...</td>\n",
       "      <td>Incedo Technology Solutions Ltd.</td>\n",
       "      <td>Pune, Bangalore/Bengaluru, Delhi / NCR</td>\n",
       "      <td>Good power point presentation skills and excel...</td>\n",
       "    </tr>\n",
       "    <tr>\n",
       "      <th>2</th>\n",
       "      <td>Senior Data Scientist</td>\n",
       "      <td>Harman Connected Services Corporation India Pvt.</td>\n",
       "      <td>Bangalore/Bengaluru</td>\n",
       "      <td>Bachelor s degree or higher in Computer Scienc...</td>\n",
       "    </tr>\n",
       "    <tr>\n",
       "      <th>3</th>\n",
       "      <td>Ecosystem Senior Data Scientist</td>\n",
       "      <td>Accenture Solutions Pvt Ltd</td>\n",
       "      <td>Bangalore/Bengaluru</td>\n",
       "      <td>Graduation / post-graduation computers / Engin...</td>\n",
       "    </tr>\n",
       "    <tr>\n",
       "      <th>4</th>\n",
       "      <td>Senior Data Scientist</td>\n",
       "      <td>EVERSANA INDIA PRIVATE LIMITED</td>\n",
       "      <td>Pune, Bangalore/Bengaluru</td>\n",
       "      <td>The requirements listed below are representati...</td>\n",
       "    </tr>\n",
       "    <tr>\n",
       "      <th>5</th>\n",
       "      <td>Senior Data Scientist</td>\n",
       "      <td>Ab Inbev</td>\n",
       "      <td>Bangalore/Bengaluru</td>\n",
       "      <td>1. PURPOSE OF ROLEUnderstand and solve complex...</td>\n",
       "    </tr>\n",
       "    <tr>\n",
       "      <th>6</th>\n",
       "      <td>Data Scientist</td>\n",
       "      <td>Piramal - Retail Finance Group</td>\n",
       "      <td>Mumbai, Bangalore/Bengaluru, Bangalore</td>\n",
       "      <td>Should be able to work on the clickstream data...</td>\n",
       "    </tr>\n",
       "    <tr>\n",
       "      <th>7</th>\n",
       "      <td>Lead Data Scientist</td>\n",
       "      <td>Groww</td>\n",
       "      <td>Bangalore/Bengaluru</td>\n",
       "      <td>A Staff Data Scientist is responsible for buil...</td>\n",
       "    </tr>\n",
       "    <tr>\n",
       "      <th>8</th>\n",
       "      <td>Lead Data Scientist</td>\n",
       "      <td>Huawei Technologies</td>\n",
       "      <td>Bangalore/Bengaluru</td>\n",
       "      <td>Strong hands-on experience in implementing and...</td>\n",
       "    </tr>\n",
       "    <tr>\n",
       "      <th>9</th>\n",
       "      <td>Sr. Data Scientist / Data Scientist For Bangal...</td>\n",
       "      <td>mPokket</td>\n",
       "      <td>Kolkata, Bangalore/Bengaluru</td>\n",
       "      <td>Programming Python (Preferred) / R Must have G...</td>\n",
       "    </tr>\n",
       "  </tbody>\n",
       "</table>\n",
       "</div>"
      ],
      "text/plain": [
       "                                            tit_tags  \\\n",
       "0                                     Data Scientist   \n",
       "1  Job Opportunity || Data Scientist/ Sr. Data Sc...   \n",
       "2                              Senior Data Scientist   \n",
       "3                    Ecosystem Senior Data Scientist   \n",
       "4                              Senior Data Scientist   \n",
       "5                              Senior Data Scientist   \n",
       "6                                     Data Scientist   \n",
       "7                                Lead Data Scientist   \n",
       "8                                Lead Data Scientist   \n",
       "9  Sr. Data Scientist / Data Scientist For Bangal...   \n",
       "\n",
       "                                            company  \\\n",
       "0                                             Intel   \n",
       "1                  Incedo Technology Solutions Ltd.   \n",
       "2  Harman Connected Services Corporation India Pvt.   \n",
       "3                       Accenture Solutions Pvt Ltd   \n",
       "4                    EVERSANA INDIA PRIVATE LIMITED   \n",
       "5                                          Ab Inbev   \n",
       "6                    Piramal - Retail Finance Group   \n",
       "7                                             Groww   \n",
       "8                               Huawei Technologies   \n",
       "9                                           mPokket   \n",
       "\n",
       "                            location_tags  \\\n",
       "0                     Bangalore/Bengaluru   \n",
       "1  Pune, Bangalore/Bengaluru, Delhi / NCR   \n",
       "2                     Bangalore/Bengaluru   \n",
       "3                     Bangalore/Bengaluru   \n",
       "4               Pune, Bangalore/Bengaluru   \n",
       "5                     Bangalore/Bengaluru   \n",
       "6  Mumbai, Bangalore/Bengaluru, Bangalore   \n",
       "7                     Bangalore/Bengaluru   \n",
       "8                     Bangalore/Bengaluru   \n",
       "9            Kolkata, Bangalore/Bengaluru   \n",
       "\n",
       "                                           desc_tags  \n",
       "0  Experience in using data analysis techniques a...  \n",
       "1  Good power point presentation skills and excel...  \n",
       "2  Bachelor s degree or higher in Computer Scienc...  \n",
       "3  Graduation / post-graduation computers / Engin...  \n",
       "4  The requirements listed below are representati...  \n",
       "5  1. PURPOSE OF ROLEUnderstand and solve complex...  \n",
       "6  Should be able to work on the clickstream data...  \n",
       "7  A Staff Data Scientist is responsible for buil...  \n",
       "8  Strong hands-on experience in implementing and...  \n",
       "9  Programming Python (Preferred) / R Must have G...  "
      ]
     },
     "execution_count": 49,
     "metadata": {},
     "output_type": "execute_result"
    }
   ],
   "source": [
    "jobs"
   ]
  },
  {
   "cell_type": "markdown",
   "metadata": {},
   "source": [
    "# Question 1: Write a python program to scrape data for “Data Analyst” Job position in \n",
    "“Bangalore” location. You have to scrape the job-title, job-location, company_name,\n",
    "experience_required. You have to scrape first 10 jobs data"
   ]
  },
  {
   "cell_type": "markdown",
   "metadata": {},
   "source": [
    "Answer 1 is below"
   ]
  },
  {
   "cell_type": "code",
   "execution_count": 50,
   "metadata": {},
   "outputs": [],
   "source": [
    "driver.get('https://www.naukri.com/')"
   ]
  },
  {
   "cell_type": "code",
   "execution_count": 51,
   "metadata": {},
   "outputs": [],
   "source": [
    "search_job=driver.find_element_by_id('qsb-keyword-sugg')\n",
    "search_job.send_keys('data Analyst')\n",
    "search_loc=driver.find_element_by_xpath('//input[@id=\"qsb-location-sugg\"]')\n",
    "search_loc.send_keys('Bangalore/Bengaluru')"
   ]
  },
  {
   "cell_type": "code",
   "execution_count": 52,
   "metadata": {},
   "outputs": [],
   "source": [
    "search_btn=driver.find_element_by_xpath('//div[@class=\"search-btn\"]/button')\n",
    "search_btn.click()"
   ]
  },
  {
   "cell_type": "code",
   "execution_count": 53,
   "metadata": {},
   "outputs": [],
   "source": [
    "url='https://www.naukri.com/data-analyst-jobs-in-bangalore-bengaluru?k=data%20analyst&l=bangalore%2Fbengaluru'"
   ]
  },
  {
   "cell_type": "code",
   "execution_count": 54,
   "metadata": {},
   "outputs": [],
   "source": [
    "driver.get(url)"
   ]
  },
  {
   "cell_type": "code",
   "execution_count": 55,
   "metadata": {},
   "outputs": [],
   "source": [
    "job_title=[]\n",
    "company_names=[]\n",
    "locations_list=[]\n",
    "experience_list=[]\n"
   ]
  },
  {
   "cell_type": "code",
   "execution_count": 56,
   "metadata": {},
   "outputs": [
    {
     "data": {
      "text/plain": [
       "[<selenium.webdriver.remote.webelement.WebElement (session=\"e7fb64b4b29a77f5f1ed30686c7d806a\", element=\"ddc370cf-7869-4840-a974-0e2dd549d287\")>,\n",
       " <selenium.webdriver.remote.webelement.WebElement (session=\"e7fb64b4b29a77f5f1ed30686c7d806a\", element=\"9e27bb8b-ae44-47a8-ada2-834fc0946a34\")>,\n",
       " <selenium.webdriver.remote.webelement.WebElement (session=\"e7fb64b4b29a77f5f1ed30686c7d806a\", element=\"b1d49711-aa0e-4b1d-a34b-2f03cf8b9820\")>,\n",
       " <selenium.webdriver.remote.webelement.WebElement (session=\"e7fb64b4b29a77f5f1ed30686c7d806a\", element=\"be9dafca-b431-403a-8ebf-025138baf42c\")>,\n",
       " <selenium.webdriver.remote.webelement.WebElement (session=\"e7fb64b4b29a77f5f1ed30686c7d806a\", element=\"c78a1969-c3a1-4906-bcf1-58d5c9c79430\")>,\n",
       " <selenium.webdriver.remote.webelement.WebElement (session=\"e7fb64b4b29a77f5f1ed30686c7d806a\", element=\"984c5000-517a-41f8-963a-0f684d52aa5e\")>,\n",
       " <selenium.webdriver.remote.webelement.WebElement (session=\"e7fb64b4b29a77f5f1ed30686c7d806a\", element=\"8ac3ce90-2678-4a24-aed2-5851c8562660\")>,\n",
       " <selenium.webdriver.remote.webelement.WebElement (session=\"e7fb64b4b29a77f5f1ed30686c7d806a\", element=\"819e1ba6-ae5f-4ab5-b10f-debf7bdaaa96\")>,\n",
       " <selenium.webdriver.remote.webelement.WebElement (session=\"e7fb64b4b29a77f5f1ed30686c7d806a\", element=\"bbaa522e-a368-44da-a9a8-f210979f357d\")>,\n",
       " <selenium.webdriver.remote.webelement.WebElement (session=\"e7fb64b4b29a77f5f1ed30686c7d806a\", element=\"980b58a9-3e70-4ea6-bd9e-79a47e9c93e1\")>]"
      ]
     },
     "execution_count": 56,
     "metadata": {},
     "output_type": "execute_result"
    }
   ],
   "source": [
    "titles_tags=driver.find_elements_by_xpath('//a[@class=\"title fw500 ellipsis\"]')\n",
    "titles_tags[0:10]"
   ]
  },
  {
   "cell_type": "code",
   "execution_count": 57,
   "metadata": {},
   "outputs": [
    {
     "data": {
      "text/plain": [
       "['Data Analyst',\n",
       " 'Senior Data Analyst',\n",
       " 'Data Analyst For Text / Sentiment Analysis',\n",
       " 'Senior Data Analyst (Compensation Insights and Analytics)',\n",
       " 'Data Analyst',\n",
       " 'Data Analyst',\n",
       " 'Data Analyst',\n",
       " 'Openings For Data Analyst',\n",
       " 'Data Analyst (Contract)',\n",
       " 'Associate Data Analyst']"
      ]
     },
     "execution_count": 57,
     "metadata": {},
     "output_type": "execute_result"
    }
   ],
   "source": [
    "for i in titles_tags:\n",
    "    title=i.text\n",
    "    job_title.append(title)\n",
    "job_title[0:10]"
   ]
  },
  {
   "cell_type": "code",
   "execution_count": 58,
   "metadata": {},
   "outputs": [
    {
     "data": {
      "text/plain": [
       "[<selenium.webdriver.remote.webelement.WebElement (session=\"e7fb64b4b29a77f5f1ed30686c7d806a\", element=\"c70f8e55-111e-42b7-8fae-592928b91446\")>,\n",
       " <selenium.webdriver.remote.webelement.WebElement (session=\"e7fb64b4b29a77f5f1ed30686c7d806a\", element=\"9727ff51-2cfd-4390-b598-1f5462fedb52\")>,\n",
       " <selenium.webdriver.remote.webelement.WebElement (session=\"e7fb64b4b29a77f5f1ed30686c7d806a\", element=\"8d8e9d77-6e4d-42e2-b8ed-76394faf11bf\")>,\n",
       " <selenium.webdriver.remote.webelement.WebElement (session=\"e7fb64b4b29a77f5f1ed30686c7d806a\", element=\"aec5cd98-0950-4c1d-84b2-5cb1fdab1a44\")>,\n",
       " <selenium.webdriver.remote.webelement.WebElement (session=\"e7fb64b4b29a77f5f1ed30686c7d806a\", element=\"0d01033e-852d-47a1-8293-32c6da304ae2\")>,\n",
       " <selenium.webdriver.remote.webelement.WebElement (session=\"e7fb64b4b29a77f5f1ed30686c7d806a\", element=\"674d80e6-04f9-4893-8722-bd16580b3b7c\")>,\n",
       " <selenium.webdriver.remote.webelement.WebElement (session=\"e7fb64b4b29a77f5f1ed30686c7d806a\", element=\"0c8f11f2-80ec-47a5-a0a8-87cd52872575\")>,\n",
       " <selenium.webdriver.remote.webelement.WebElement (session=\"e7fb64b4b29a77f5f1ed30686c7d806a\", element=\"a7be53aa-3b61-428d-ab31-f9bb0d98f19e\")>,\n",
       " <selenium.webdriver.remote.webelement.WebElement (session=\"e7fb64b4b29a77f5f1ed30686c7d806a\", element=\"38cc6464-8cf1-4639-87b7-7f265cdfe43a\")>,\n",
       " <selenium.webdriver.remote.webelement.WebElement (session=\"e7fb64b4b29a77f5f1ed30686c7d806a\", element=\"e696b02a-ed47-44ef-af2e-6ab966c56ee4\")>]"
      ]
     },
     "execution_count": 58,
     "metadata": {},
     "output_type": "execute_result"
    }
   ],
   "source": [
    "companies_tags=driver.find_elements_by_xpath('//a[@class=\"subTitle ellipsis fleft\"]')\n",
    "companies_tags[0:10]"
   ]
  },
  {
   "cell_type": "code",
   "execution_count": 59,
   "metadata": {},
   "outputs": [
    {
     "data": {
      "text/plain": [
       "['i-Link Research Solutions',\n",
       " 'Indegene',\n",
       " 'FUTURLYTIC PRIVATE LIMITED',\n",
       " 'Walmart Labs',\n",
       " 'Allegis Services India Pvt. Ltd.',\n",
       " 'Allegis Services India Pvt. Ltd.',\n",
       " 'Allegis Services India Pvt. Ltd.',\n",
       " 'Allegis Services India Pvt. Ltd.',\n",
       " 'Cleartrip',\n",
       " 'Integrated Digital Systems']"
      ]
     },
     "execution_count": 59,
     "metadata": {},
     "output_type": "execute_result"
    }
   ],
   "source": [
    "for i in companies_tags:\n",
    "    company=i.text\n",
    "    company_names.append(company)\n",
    "company_names[0:10]"
   ]
  },
  {
   "cell_type": "code",
   "execution_count": 60,
   "metadata": {},
   "outputs": [
    {
     "data": {
      "text/plain": [
       "[<selenium.webdriver.remote.webelement.WebElement (session=\"e7fb64b4b29a77f5f1ed30686c7d806a\", element=\"abcdbb1f-8edd-4594-816a-df60f4277883\")>,\n",
       " <selenium.webdriver.remote.webelement.WebElement (session=\"e7fb64b4b29a77f5f1ed30686c7d806a\", element=\"09c55de3-609c-4f40-8818-40be5831d08a\")>,\n",
       " <selenium.webdriver.remote.webelement.WebElement (session=\"e7fb64b4b29a77f5f1ed30686c7d806a\", element=\"8ae7e4a9-401a-4550-92ee-67f744d0f212\")>,\n",
       " <selenium.webdriver.remote.webelement.WebElement (session=\"e7fb64b4b29a77f5f1ed30686c7d806a\", element=\"697adb6a-64bc-4601-a27c-44c53fd45a37\")>,\n",
       " <selenium.webdriver.remote.webelement.WebElement (session=\"e7fb64b4b29a77f5f1ed30686c7d806a\", element=\"05337483-6a08-4fa5-98c8-86e456b735a1\")>,\n",
       " <selenium.webdriver.remote.webelement.WebElement (session=\"e7fb64b4b29a77f5f1ed30686c7d806a\", element=\"7cbc4009-b34a-4ec3-ac0b-952313c0e47d\")>,\n",
       " <selenium.webdriver.remote.webelement.WebElement (session=\"e7fb64b4b29a77f5f1ed30686c7d806a\", element=\"a1dbcb31-bde4-4fc2-a5dc-fa9b1bcfb979\")>,\n",
       " <selenium.webdriver.remote.webelement.WebElement (session=\"e7fb64b4b29a77f5f1ed30686c7d806a\", element=\"65aa492c-9ceb-4e9f-8bed-748d95ee4498\")>,\n",
       " <selenium.webdriver.remote.webelement.WebElement (session=\"e7fb64b4b29a77f5f1ed30686c7d806a\", element=\"7fe2824e-3d64-4a0c-bca5-0089f70d9493\")>,\n",
       " <selenium.webdriver.remote.webelement.WebElement (session=\"e7fb64b4b29a77f5f1ed30686c7d806a\", element=\"e3349005-ba77-4e48-a883-e9ea6f265aab\")>]"
      ]
     },
     "execution_count": 60,
     "metadata": {},
     "output_type": "execute_result"
    }
   ],
   "source": [
    "experience_tags=driver.find_elements_by_xpath('//li[@class=\"fleft grey-text br2 placeHolderLi experience\"]/span[1]')\n",
    "experience_tags[0:10]"
   ]
  },
  {
   "cell_type": "code",
   "execution_count": 61,
   "metadata": {},
   "outputs": [
    {
     "data": {
      "text/plain": [
       "['3-7 Yrs',\n",
       " '3-7 Yrs',\n",
       " '0-1 Yrs',\n",
       " '5-8 Yrs',\n",
       " '2-5 Yrs',\n",
       " '3-5 Yrs',\n",
       " '8-13 Yrs',\n",
       " '0-3 Yrs',\n",
       " '2-4 Yrs',\n",
       " '0-2 Yrs']"
      ]
     },
     "execution_count": 61,
     "metadata": {},
     "output_type": "execute_result"
    }
   ],
   "source": [
    "for i in experience_tags:\n",
    "    experience=i.text\n",
    "    experience_list.append(experience)\n",
    "experience_list[0:10]"
   ]
  },
  {
   "cell_type": "code",
   "execution_count": 62,
   "metadata": {},
   "outputs": [
    {
     "data": {
      "text/plain": [
       "[<selenium.webdriver.remote.webelement.WebElement (session=\"e7fb64b4b29a77f5f1ed30686c7d806a\", element=\"c9b5aad2-28d6-483b-8b7f-be10bb6c3646\")>,\n",
       " <selenium.webdriver.remote.webelement.WebElement (session=\"e7fb64b4b29a77f5f1ed30686c7d806a\", element=\"39f9d7dd-564d-405e-9c96-18129bcc8d27\")>,\n",
       " <selenium.webdriver.remote.webelement.WebElement (session=\"e7fb64b4b29a77f5f1ed30686c7d806a\", element=\"16ad5520-92b7-483c-a9f4-1c9ffdac5563\")>,\n",
       " <selenium.webdriver.remote.webelement.WebElement (session=\"e7fb64b4b29a77f5f1ed30686c7d806a\", element=\"824f5f7d-80bd-4f7d-8600-6775e4231a49\")>,\n",
       " <selenium.webdriver.remote.webelement.WebElement (session=\"e7fb64b4b29a77f5f1ed30686c7d806a\", element=\"2e35f6ec-091f-41e3-917c-5b8a8ba4ae54\")>,\n",
       " <selenium.webdriver.remote.webelement.WebElement (session=\"e7fb64b4b29a77f5f1ed30686c7d806a\", element=\"4d489892-2ca0-41ff-a796-46fe4ea47d41\")>,\n",
       " <selenium.webdriver.remote.webelement.WebElement (session=\"e7fb64b4b29a77f5f1ed30686c7d806a\", element=\"3eef7e9a-b5d2-45da-b6c4-f947b65a2b89\")>,\n",
       " <selenium.webdriver.remote.webelement.WebElement (session=\"e7fb64b4b29a77f5f1ed30686c7d806a\", element=\"471aca69-d506-4c27-b45d-86169f1fb177\")>,\n",
       " <selenium.webdriver.remote.webelement.WebElement (session=\"e7fb64b4b29a77f5f1ed30686c7d806a\", element=\"0d800bd4-9913-476c-beea-49a5882e2d1f\")>,\n",
       " <selenium.webdriver.remote.webelement.WebElement (session=\"e7fb64b4b29a77f5f1ed30686c7d806a\", element=\"1b95c4f0-3b0f-4485-af09-21ce9ee90bf8\")>]"
      ]
     },
     "execution_count": 62,
     "metadata": {},
     "output_type": "execute_result"
    }
   ],
   "source": [
    "location_tags=driver.find_elements_by_xpath('//li[@class=\"fleft grey-text br2 placeHolderLi location\"]/span[1]')\n",
    "location_tags[0:10]"
   ]
  },
  {
   "cell_type": "code",
   "execution_count": 63,
   "metadata": {},
   "outputs": [
    {
     "data": {
      "text/plain": [
       "['Bangalore/Bengaluru',\n",
       " 'Bangalore/Bengaluru',\n",
       " 'Bangalore/Bengaluru(Hebbal Kempapura)',\n",
       " 'Bangalore/Bengaluru',\n",
       " 'Bangalore/Bengaluru',\n",
       " 'Bangalore/Bengaluru',\n",
       " 'Bangalore/Bengaluru',\n",
       " 'Bangalore/Bengaluru',\n",
       " 'Bangalore/Bengaluru',\n",
       " 'Bangalore/Bengaluru']"
      ]
     },
     "execution_count": 63,
     "metadata": {},
     "output_type": "execute_result"
    }
   ],
   "source": [
    "for i in location_tags:\n",
    "    location=i.text\n",
    "    locations_list.append(location)\n",
    "locations_list[0:10]"
   ]
  },
  {
   "cell_type": "code",
   "execution_count": 64,
   "metadata": {},
   "outputs": [
    {
     "name": "stdout",
     "output_type": "stream",
     "text": [
      "20 20 20 20\n"
     ]
    }
   ],
   "source": [
    "print(len(job_title),len(company_names),len(experience_list),len(locations_list))"
   ]
  },
  {
   "cell_type": "code",
   "execution_count": 65,
   "metadata": {},
   "outputs": [],
   "source": [
    "jobs=pd.DataFrame({})\n",
    "jobs['title']=job_title[0:10]\n",
    "jobs['company']=company_names[0:10]\n",
    "jobs['experience_tags']=experience_list[0:10]\n",
    "jobs['location_tags']=locations_list[0:10]"
   ]
  },
  {
   "cell_type": "code",
   "execution_count": 66,
   "metadata": {},
   "outputs": [
    {
     "data": {
      "text/html": [
       "<div>\n",
       "<style scoped>\n",
       "    .dataframe tbody tr th:only-of-type {\n",
       "        vertical-align: middle;\n",
       "    }\n",
       "\n",
       "    .dataframe tbody tr th {\n",
       "        vertical-align: top;\n",
       "    }\n",
       "\n",
       "    .dataframe thead th {\n",
       "        text-align: right;\n",
       "    }\n",
       "</style>\n",
       "<table border=\"1\" class=\"dataframe\">\n",
       "  <thead>\n",
       "    <tr style=\"text-align: right;\">\n",
       "      <th></th>\n",
       "      <th>title</th>\n",
       "      <th>company</th>\n",
       "      <th>experience_tags</th>\n",
       "      <th>location_tags</th>\n",
       "    </tr>\n",
       "  </thead>\n",
       "  <tbody>\n",
       "    <tr>\n",
       "      <th>0</th>\n",
       "      <td>Data Analyst</td>\n",
       "      <td>i-Link Research Solutions</td>\n",
       "      <td>3-7 Yrs</td>\n",
       "      <td>Bangalore/Bengaluru</td>\n",
       "    </tr>\n",
       "    <tr>\n",
       "      <th>1</th>\n",
       "      <td>Senior Data Analyst</td>\n",
       "      <td>Indegene</td>\n",
       "      <td>3-7 Yrs</td>\n",
       "      <td>Bangalore/Bengaluru</td>\n",
       "    </tr>\n",
       "    <tr>\n",
       "      <th>2</th>\n",
       "      <td>Data Analyst For Text / Sentiment Analysis</td>\n",
       "      <td>FUTURLYTIC PRIVATE LIMITED</td>\n",
       "      <td>0-1 Yrs</td>\n",
       "      <td>Bangalore/Bengaluru(Hebbal Kempapura)</td>\n",
       "    </tr>\n",
       "    <tr>\n",
       "      <th>3</th>\n",
       "      <td>Senior Data Analyst (Compensation Insights and...</td>\n",
       "      <td>Walmart Labs</td>\n",
       "      <td>5-8 Yrs</td>\n",
       "      <td>Bangalore/Bengaluru</td>\n",
       "    </tr>\n",
       "    <tr>\n",
       "      <th>4</th>\n",
       "      <td>Data Analyst</td>\n",
       "      <td>Allegis Services India Pvt. Ltd.</td>\n",
       "      <td>2-5 Yrs</td>\n",
       "      <td>Bangalore/Bengaluru</td>\n",
       "    </tr>\n",
       "    <tr>\n",
       "      <th>5</th>\n",
       "      <td>Data Analyst</td>\n",
       "      <td>Allegis Services India Pvt. Ltd.</td>\n",
       "      <td>3-5 Yrs</td>\n",
       "      <td>Bangalore/Bengaluru</td>\n",
       "    </tr>\n",
       "    <tr>\n",
       "      <th>6</th>\n",
       "      <td>Data Analyst</td>\n",
       "      <td>Allegis Services India Pvt. Ltd.</td>\n",
       "      <td>8-13 Yrs</td>\n",
       "      <td>Bangalore/Bengaluru</td>\n",
       "    </tr>\n",
       "    <tr>\n",
       "      <th>7</th>\n",
       "      <td>Openings For Data Analyst</td>\n",
       "      <td>Allegis Services India Pvt. Ltd.</td>\n",
       "      <td>0-3 Yrs</td>\n",
       "      <td>Bangalore/Bengaluru</td>\n",
       "    </tr>\n",
       "    <tr>\n",
       "      <th>8</th>\n",
       "      <td>Data Analyst (Contract)</td>\n",
       "      <td>Cleartrip</td>\n",
       "      <td>2-4 Yrs</td>\n",
       "      <td>Bangalore/Bengaluru</td>\n",
       "    </tr>\n",
       "    <tr>\n",
       "      <th>9</th>\n",
       "      <td>Associate Data Analyst</td>\n",
       "      <td>Integrated Digital Systems</td>\n",
       "      <td>0-2 Yrs</td>\n",
       "      <td>Bangalore/Bengaluru</td>\n",
       "    </tr>\n",
       "  </tbody>\n",
       "</table>\n",
       "</div>"
      ],
      "text/plain": [
       "                                               title  \\\n",
       "0                                       Data Analyst   \n",
       "1                                Senior Data Analyst   \n",
       "2         Data Analyst For Text / Sentiment Analysis   \n",
       "3  Senior Data Analyst (Compensation Insights and...   \n",
       "4                                       Data Analyst   \n",
       "5                                       Data Analyst   \n",
       "6                                       Data Analyst   \n",
       "7                          Openings For Data Analyst   \n",
       "8                            Data Analyst (Contract)   \n",
       "9                             Associate Data Analyst   \n",
       "\n",
       "                            company experience_tags  \\\n",
       "0         i-Link Research Solutions         3-7 Yrs   \n",
       "1                          Indegene         3-7 Yrs   \n",
       "2        FUTURLYTIC PRIVATE LIMITED         0-1 Yrs   \n",
       "3                      Walmart Labs         5-8 Yrs   \n",
       "4  Allegis Services India Pvt. Ltd.         2-5 Yrs   \n",
       "5  Allegis Services India Pvt. Ltd.         3-5 Yrs   \n",
       "6  Allegis Services India Pvt. Ltd.        8-13 Yrs   \n",
       "7  Allegis Services India Pvt. Ltd.         0-3 Yrs   \n",
       "8                         Cleartrip         2-4 Yrs   \n",
       "9        Integrated Digital Systems         0-2 Yrs   \n",
       "\n",
       "                           location_tags  \n",
       "0                    Bangalore/Bengaluru  \n",
       "1                    Bangalore/Bengaluru  \n",
       "2  Bangalore/Bengaluru(Hebbal Kempapura)  \n",
       "3                    Bangalore/Bengaluru  \n",
       "4                    Bangalore/Bengaluru  \n",
       "5                    Bangalore/Bengaluru  \n",
       "6                    Bangalore/Bengaluru  \n",
       "7                    Bangalore/Bengaluru  \n",
       "8                    Bangalore/Bengaluru  \n",
       "9                    Bangalore/Bengaluru  "
      ]
     },
     "execution_count": 66,
     "metadata": {},
     "output_type": "execute_result"
    }
   ],
   "source": [
    "jobs"
   ]
  },
  {
   "cell_type": "markdown",
   "metadata": {},
   "source": [
    "# Question 10: Go to webpage https://www.amazon.in/\n",
    " Enter “Laptop” in the search field and then click the search icon.\n",
    " Then set CPU Type filter to “Intel Core i7” and “Intel Core i9” "
   ]
  },
  {
   "cell_type": "markdown",
   "metadata": {},
   "source": [
    "Answer is below:"
   ]
  },
  {
   "cell_type": "code",
   "execution_count": 67,
   "metadata": {},
   "outputs": [],
   "source": [
    "driver.get('https://www.amazon.in/s?k=laptop&ref=nb_sb_noss_2')"
   ]
  },
  {
   "cell_type": "code",
   "execution_count": 68,
   "metadata": {},
   "outputs": [],
   "source": [
    "#Location for Intel Core i7\n",
    "filter_button=driver.find_elements_by_xpath('//a[@class=\"a-link-normal s-navigation-item\"]/span')\n",
    "for i in filter_button:\n",
    "    if i.text==\"Intel Core i7\":\n",
    "        i.click()\n",
    "        break"
   ]
  },
  {
   "cell_type": "code",
   "execution_count": 69,
   "metadata": {},
   "outputs": [],
   "source": [
    "#Location for Intel Core i9\n",
    "filter_button=driver.find_elements_by_xpath('//a[@class=\"a-link-normal s-navigation-item\"]/span')\n",
    "for i in filter_button:\n",
    "    if i.text==\"Intel Core i9\":\n",
    "        i.click()\n",
    "        break"
   ]
  },
  {
   "cell_type": "code",
   "execution_count": 70,
   "metadata": {},
   "outputs": [],
   "source": [
    "laptitle=[]\n",
    "laprating=[]\n",
    "lapprice=[]"
   ]
  },
  {
   "cell_type": "code",
   "execution_count": 71,
   "metadata": {},
   "outputs": [
    {
     "name": "stdout",
     "output_type": "stream",
     "text": [
      "['HP Pavilion Gaming 11th Gen Intel Core i7 15.6-inch(39.6 cm) FHD Gaming Laptop (16GB RAM/512GB SSD/144Hz/GTX 1650 4GB Graphics/Win 10/MS Office/Shadow Black/2.28 Kg), 15-dk2075tx', 'HP Pavilion 13(2021) 11th Gen Intel Core i7 Laptop, 16GB RAM, 1TB SSD, 13.3-inch(33.8 cm) FHD Screen, Win 10, MS Office, Ceramic White, 1.24 Kg (13-bb0078TU)', 'Lenovo ThinkBook 15 Intel 11th Gen Core i7 15.6\" (39.62 cm) FHD IPS 300 nits Antiglare 100% sRGB Thin and Light Laptop (16GB/512GB SSD/Windows 10/MS Office/3 Yr Onsite Warranty/1.7 Kg), 20VEA0HHIH', 'Dell 14 (2021) i7-1195G7 2in1 Touch Screen Laptop, 16GB, 512GB SSD, Win 10 + MS Office, 14.0\" (35.56 cms) FHD Display, Backlit KB, FPR + Active Pen, Platinum Silver (Inspiron 5410, D560596WIN9S)', 'Lenovo ThinkBook 15 Intel 11th Gen Core i7 15.6\"(39.62 cm) FHD IPS 300 nits Antiglare 100% RGB Thin and Light Laptop (16GB/1TB HDD+128GB SSD/Windows 10/MS Office/3Yr Onsite Warranty/1.7 Kg),20VEA0HBIH', 'Fujitsu UH-X 11th Gen Intel i7 Core 13.3” (33.78cm) FHD IPS 400Nits Thin and Light Laptop (16GB/512GB SSD/Win10/Office/Iris Xe Graphics/Backlit Kb/ Fingerprint Reader/Black/878gms), 4ZR1D67596', 'Lenovo Legion 5 10th Gen Intel Core i7-10750H 15.6\" (39.63cm) FHD IPS Gaming Laptop (16GB/512GB SSD/Windows 10/NVIDIA GTX 1650 4GB/120Hz Refresh Display/Phantom Black/2.3Kg), 82AU00PNIN', 'ASUS TUF Dash F15 (2021) 15.6\" (39.62 cm) FHD 240Hz/3ms, Intel Core i7-11370H, GeForce RTX 3060 6GB Graphics, Gaming Laptop (16GB RAM/1TB SSD/Office 2019/Windows 10 Home/Gray/2 Kg) FX516PM-AZ153TS', 'LG Gram 16 Ultra-Light Intel Evo 11th Gen Core i7,16 GB RAM, 512 GB SSD, Win-10, Iris Xe Graphics, 16-inches (40.64 cms), Thunderbolt 4, USC -C x 2 (with Power), 1.19 kg, 3 Yr Warranty (16Z90P, Black)', 'Lenovo Yoga 7i 11th Gen Intel Core i7-1165G7 14 inches FHD IPS 2-in-1 Touchscreen Business Laptop (16GB/512GB SSD/Windows 10/MS Office/Digital Pen/Fingerprint Reader/Slate Grey/1.43Kg), 82BH004HIN']\n"
     ]
    }
   ],
   "source": [
    "titles = driver.find_elements_by_xpath(\"//span[@class='a-size-medium a-color-base a-text-normal']\")\n",
    "\n",
    "#Using for loop for iterations:\n",
    "#Handling Null Values.\n",
    "for i in titles:\n",
    "    if i.text is None :\n",
    "        laptitle.append(\" \") \n",
    "    else:\n",
    "        laptitle.append(i.text.replace('\\n',' ').strip('/n'))\n",
    "print(laptitle[6:16])"
   ]
  },
  {
   "cell_type": "code",
   "execution_count": 72,
   "metadata": {},
   "outputs": [
    {
     "name": "stdout",
     "output_type": "stream",
     "text": [
      "30\n"
     ]
    }
   ],
   "source": [
    "print(len(laptitle))"
   ]
  },
  {
   "cell_type": "code",
   "execution_count": 73,
   "metadata": {},
   "outputs": [
    {
     "name": "stdout",
     "output_type": "stream",
     "text": [
      "['53,990', '84,990', '84,990', '85,990', '53,990']\n"
     ]
    }
   ],
   "source": [
    "#scraping the tags of prices:\n",
    "prices = driver.find_elements_by_xpath(\"//span[@class='a-price-whole']\")\n",
    "\n",
    "#Using for loop for iterations:\n",
    "#Handling Null Values.\n",
    "for i in prices:\n",
    "    if i.text is None :\n",
    "        lapprice.append(\" \") \n",
    "    else:\n",
    "        lapprice.append(i.text.replace('\\n',' ').strip('/n'))\n",
    "print(lapprice[0:5])"
   ]
  },
  {
   "cell_type": "code",
   "execution_count": 74,
   "metadata": {},
   "outputs": [
    {
     "name": "stdout",
     "output_type": "stream",
     "text": [
      "37\n"
     ]
    }
   ],
   "source": [
    "print(len(lapprice))"
   ]
  },
  {
   "cell_type": "code",
   "execution_count": 75,
   "metadata": {},
   "outputs": [
    {
     "name": "stdout",
     "output_type": "stream",
     "text": [
      "['4.2 out of 5', '4.5 out of 5', '4.3 out of 5', '4.1 out of 5', '4.2 out of 5', '3.3 out of 5', '3.6 out of 5', '4.5 out of 5', '4.5 out of 5', ' ']\n"
     ]
    }
   ],
   "source": [
    "#scraping the full Laptop ratings for all the laptops.\n",
    "urls = driver.find_elements_by_xpath(\"//a[@class='a-link-normal a-text-normal']\")\n",
    "get_URL = []\n",
    "for i in urls[:10]:\n",
    "    get_URL.append(i.get_attribute('href'))\n",
    "for url in get_URL:\n",
    "    driver.get(url)\n",
    "    try:\n",
    "        rate=driver.find_element_by_xpath(\"//span[@id='acrCustomerReviewText']\")\n",
    "        rate.click()                                                      \n",
    "        rating=driver.find_element_by_xpath(\"//span[@class='a-size-medium a-color-base']\")\n",
    "        laprating.append(rating.text.replace(' ',' ').strip('/n'))   \n",
    "    except NoSuchElementException:\n",
    "        laprating.append(\" \")\n",
    "print(laprating[0:10])"
   ]
  },
  {
   "cell_type": "code",
   "execution_count": 76,
   "metadata": {},
   "outputs": [],
   "source": [
    "lap=pd.DataFrame({})\n",
    "lap['title_a']=laptitle[0:10]\n",
    "lap['price_tags']=lapprice[0:10]\n",
    "lap['ratings_tags']=laprating[0:10]\n"
   ]
  },
  {
   "cell_type": "code",
   "execution_count": 77,
   "metadata": {},
   "outputs": [
    {
     "data": {
      "text/html": [
       "<div>\n",
       "<style scoped>\n",
       "    .dataframe tbody tr th:only-of-type {\n",
       "        vertical-align: middle;\n",
       "    }\n",
       "\n",
       "    .dataframe tbody tr th {\n",
       "        vertical-align: top;\n",
       "    }\n",
       "\n",
       "    .dataframe thead th {\n",
       "        text-align: right;\n",
       "    }\n",
       "</style>\n",
       "<table border=\"1\" class=\"dataframe\">\n",
       "  <thead>\n",
       "    <tr style=\"text-align: right;\">\n",
       "      <th></th>\n",
       "      <th>title_a</th>\n",
       "      <th>price_tags</th>\n",
       "      <th>ratings_tags</th>\n",
       "    </tr>\n",
       "  </thead>\n",
       "  <tbody>\n",
       "    <tr>\n",
       "      <th>0</th>\n",
       "      <td>Mi Notebook Horizon Edition 14 Intel Core i7-1...</td>\n",
       "      <td>53,990</td>\n",
       "      <td>4.2 out of 5</td>\n",
       "    </tr>\n",
       "    <tr>\n",
       "      <th>1</th>\n",
       "      <td>Lenovo ThinkBook 15 Intel 11th Gen Core i7 15....</td>\n",
       "      <td>84,990</td>\n",
       "      <td>4.5 out of 5</td>\n",
       "    </tr>\n",
       "    <tr>\n",
       "      <th>2</th>\n",
       "      <td>HP Pavilion (2021) Intel 11th Gen Core i7 14 i...</td>\n",
       "      <td>84,990</td>\n",
       "      <td>4.3 out of 5</td>\n",
       "    </tr>\n",
       "    <tr>\n",
       "      <th>3</th>\n",
       "      <td>Acer Nitro 5 11th Gen Intel Core i7-11800H 15....</td>\n",
       "      <td>85,990</td>\n",
       "      <td>4.1 out of 5</td>\n",
       "    </tr>\n",
       "    <tr>\n",
       "      <th>4</th>\n",
       "      <td>Mi Notebook Horizon Edition 14 Intel Core i7-1...</td>\n",
       "      <td>53,990</td>\n",
       "      <td>4.2 out of 5</td>\n",
       "    </tr>\n",
       "    <tr>\n",
       "      <th>5</th>\n",
       "      <td>Life Digital Laptop 15.6-inch (39.62 cms) (Int...</td>\n",
       "      <td>24,990</td>\n",
       "      <td>3.3 out of 5</td>\n",
       "    </tr>\n",
       "    <tr>\n",
       "      <th>6</th>\n",
       "      <td>HP Pavilion Gaming 11th Gen Intel Core i7 15.6...</td>\n",
       "      <td>89,990</td>\n",
       "      <td>3.6 out of 5</td>\n",
       "    </tr>\n",
       "    <tr>\n",
       "      <th>7</th>\n",
       "      <td>HP Pavilion 13(2021) 11th Gen Intel Core i7 La...</td>\n",
       "      <td>91,790</td>\n",
       "      <td>4.5 out of 5</td>\n",
       "    </tr>\n",
       "    <tr>\n",
       "      <th>8</th>\n",
       "      <td>Lenovo ThinkBook 15 Intel 11th Gen Core i7 15....</td>\n",
       "      <td>84,990</td>\n",
       "      <td>4.5 out of 5</td>\n",
       "    </tr>\n",
       "    <tr>\n",
       "      <th>9</th>\n",
       "      <td>Dell 14 (2021) i7-1195G7 2in1 Touch Screen Lap...</td>\n",
       "      <td>89,990</td>\n",
       "      <td></td>\n",
       "    </tr>\n",
       "  </tbody>\n",
       "</table>\n",
       "</div>"
      ],
      "text/plain": [
       "                                             title_a price_tags  ratings_tags\n",
       "0  Mi Notebook Horizon Edition 14 Intel Core i7-1...     53,990  4.2 out of 5\n",
       "1  Lenovo ThinkBook 15 Intel 11th Gen Core i7 15....     84,990  4.5 out of 5\n",
       "2  HP Pavilion (2021) Intel 11th Gen Core i7 14 i...     84,990  4.3 out of 5\n",
       "3  Acer Nitro 5 11th Gen Intel Core i7-11800H 15....     85,990  4.1 out of 5\n",
       "4  Mi Notebook Horizon Edition 14 Intel Core i7-1...     53,990  4.2 out of 5\n",
       "5  Life Digital Laptop 15.6-inch (39.62 cms) (Int...     24,990  3.3 out of 5\n",
       "6  HP Pavilion Gaming 11th Gen Intel Core i7 15.6...     89,990  3.6 out of 5\n",
       "7  HP Pavilion 13(2021) 11th Gen Intel Core i7 La...     91,790  4.5 out of 5\n",
       "8  Lenovo ThinkBook 15 Intel 11th Gen Core i7 15....     84,990  4.5 out of 5\n",
       "9  Dell 14 (2021) i7-1195G7 2in1 Touch Screen Lap...     89,990              "
      ]
     },
     "execution_count": 77,
     "metadata": {},
     "output_type": "execute_result"
    }
   ],
   "source": [
    "lap"
   ]
  },
  {
   "cell_type": "markdown",
   "metadata": {},
   "source": [
    "# Question 9: Go to the link - https://www.myntra.com/shoes\n",
    "Set Price filter to “Rs. 6649 to Rs. 13099” , Color filter to “Black”"
   ]
  },
  {
   "cell_type": "markdown",
   "metadata": {},
   "source": [
    "Answer is below:"
   ]
  },
  {
   "cell_type": "code",
   "execution_count": 78,
   "metadata": {},
   "outputs": [],
   "source": [
    "driver.get('https://www.myntra.com/shoes')"
   ]
  },
  {
   "cell_type": "code",
   "execution_count": 79,
   "metadata": {},
   "outputs": [],
   "source": [
    "#Location for price filter\n",
    "filter_button=driver.find_elements_by_xpath('//label[@class=\"common-customCheckbox vertical-filters-label\"]/li[2]')\n",
    "for k in filter_button:\n",
    "    if k.text==\"Rs.6897.0 TO Rs.13595.0\":\n",
    "        k.click()\n",
    "        break"
   ]
  },
  {
   "cell_type": "code",
   "execution_count": 80,
   "metadata": {},
   "outputs": [],
   "source": [
    "#Location for color filter\n",
    "filter_button=driver.find_elements_by_xpath('//l1[@class=\"colour-listItem\"]/label/span')\n",
    "for j in filter_button:\n",
    "    if j.text==\"Black\":\n",
    "        j.click()\n",
    "        break"
   ]
  },
  {
   "cell_type": "markdown",
   "metadata": {},
   "source": [
    "# Question 3 : Salary and location filter in naukri.com"
   ]
  },
  {
   "cell_type": "markdown",
   "metadata": {},
   "source": [
    "Answer is below"
   ]
  },
  {
   "cell_type": "code",
   "execution_count": 81,
   "metadata": {},
   "outputs": [],
   "source": [
    "driver.get('https://www.naukri.com/')"
   ]
  },
  {
   "cell_type": "code",
   "execution_count": 82,
   "metadata": {},
   "outputs": [],
   "source": [
    "search_job=driver.find_element_by_id('qsb-keyword-sugg')\n",
    "search_job.send_keys('data Scientist')\n",
    "search_loc=driver.find_element_by_xpath('//input[@id=\"qsb-location-sugg\"]')\n",
    "search_loc.send_keys('Delhi/NCR')"
   ]
  },
  {
   "cell_type": "code",
   "execution_count": 83,
   "metadata": {},
   "outputs": [],
   "source": [
    "search_btn=driver.find_element_by_xpath('//div[@class=\"search-btn\"]/button')\n",
    "search_btn.click()"
   ]
  },
  {
   "cell_type": "code",
   "execution_count": 84,
   "metadata": {},
   "outputs": [],
   "source": [
    "driver.get('https://www.naukri.com/data-scientist-jobs-in-delhi-ncr?k=data%20scientist&l=delhi%2Fncr')"
   ]
  },
  {
   "cell_type": "code",
   "execution_count": 85,
   "metadata": {},
   "outputs": [],
   "source": [
    "#Location for Location filter\n",
    "filter_button=driver.find_elements_by_xpath('//span[@class=\"ellipsis fleft\"]')\n",
    "for j in filter_button:\n",
    "    if j.text==\"3-6 Lakhs\":\n",
    "        j.click()\n",
    "        break"
   ]
  },
  {
   "cell_type": "code",
   "execution_count": 86,
   "metadata": {},
   "outputs": [],
   "source": [
    "#Location for Location filter\n",
    "filter_button=driver.find_elements_by_xpath('//span[@class=\"ellipsis fleft\"]')\n",
    "for j in filter_button:\n",
    "    if j.text==\"Delhi / NCR\":\n",
    "        j.click()\n",
    "        break"
   ]
  },
  {
   "cell_type": "code",
   "execution_count": 87,
   "metadata": {},
   "outputs": [],
   "source": [
    "job_title3=[]\n",
    "job_location3=[]\n",
    "company_name=[]\n",
    "exp_req=[]"
   ]
  },
  {
   "cell_type": "code",
   "execution_count": 88,
   "metadata": {},
   "outputs": [
    {
     "data": {
      "text/plain": [
       "[<selenium.webdriver.remote.webelement.WebElement (session=\"e7fb64b4b29a77f5f1ed30686c7d806a\", element=\"5801dbac-363b-43e3-950f-de3170596509\")>,\n",
       " <selenium.webdriver.remote.webelement.WebElement (session=\"e7fb64b4b29a77f5f1ed30686c7d806a\", element=\"71cf5983-34a3-46f2-b4c6-dc8a8539df69\")>,\n",
       " <selenium.webdriver.remote.webelement.WebElement (session=\"e7fb64b4b29a77f5f1ed30686c7d806a\", element=\"2bb35293-46c3-4c64-b629-13892155fed6\")>,\n",
       " <selenium.webdriver.remote.webelement.WebElement (session=\"e7fb64b4b29a77f5f1ed30686c7d806a\", element=\"b6c339bf-cbc4-4143-a34b-849780245968\")>,\n",
       " <selenium.webdriver.remote.webelement.WebElement (session=\"e7fb64b4b29a77f5f1ed30686c7d806a\", element=\"e18a5142-f51e-4493-a099-f739919c741b\")>,\n",
       " <selenium.webdriver.remote.webelement.WebElement (session=\"e7fb64b4b29a77f5f1ed30686c7d806a\", element=\"ee5b8c39-d66e-4332-a1c6-122ddc2b0a57\")>,\n",
       " <selenium.webdriver.remote.webelement.WebElement (session=\"e7fb64b4b29a77f5f1ed30686c7d806a\", element=\"b78fe9f6-b139-4c66-a106-1962cacb3cbb\")>,\n",
       " <selenium.webdriver.remote.webelement.WebElement (session=\"e7fb64b4b29a77f5f1ed30686c7d806a\", element=\"8aaa5faa-b865-403f-897b-b4eb2bf3f705\")>,\n",
       " <selenium.webdriver.remote.webelement.WebElement (session=\"e7fb64b4b29a77f5f1ed30686c7d806a\", element=\"ec4eb80b-e7f3-41d2-aba1-d054386e3806\")>,\n",
       " <selenium.webdriver.remote.webelement.WebElement (session=\"e7fb64b4b29a77f5f1ed30686c7d806a\", element=\"7c42f995-3e6b-4069-9b6c-37de07c9a36f\")>]"
      ]
     },
     "execution_count": 88,
     "metadata": {},
     "output_type": "execute_result"
    }
   ],
   "source": [
    "title_j=driver.find_elements_by_xpath('//a[@class=\"title fw500 ellipsis\"]')\n",
    "title_j[0:10]"
   ]
  },
  {
   "cell_type": "code",
   "execution_count": 89,
   "metadata": {},
   "outputs": [
    {
     "data": {
      "text/plain": [
       "['Project Manager | Team Leader | Senior Data Scientist',\n",
       " 'Immediate requirement For Data Scientist',\n",
       " 'Data Scientist',\n",
       " 'Job Opportunity || Data Scientist || HCL Technologies',\n",
       " 'Data Scientist',\n",
       " 'Data Scientist I/II/III',\n",
       " 'Data Scientist',\n",
       " 'Data Scientist',\n",
       " 'Associate Data Scientist',\n",
       " 'Data Scientist']"
      ]
     },
     "execution_count": 89,
     "metadata": {},
     "output_type": "execute_result"
    }
   ],
   "source": [
    "for c in title_j:\n",
    "    jtitle=c.text\n",
    "    job_title3.append(jtitle)\n",
    "job_title3[0:10]"
   ]
  },
  {
   "cell_type": "code",
   "execution_count": 90,
   "metadata": {},
   "outputs": [
    {
     "data": {
      "text/plain": [
       "[<selenium.webdriver.remote.webelement.WebElement (session=\"e7fb64b4b29a77f5f1ed30686c7d806a\", element=\"9a0d74ec-ab07-4987-8a16-af905c8559eb\")>,\n",
       " <selenium.webdriver.remote.webelement.WebElement (session=\"e7fb64b4b29a77f5f1ed30686c7d806a\", element=\"e14d7282-0b60-4c5e-be8c-233bb9863031\")>,\n",
       " <selenium.webdriver.remote.webelement.WebElement (session=\"e7fb64b4b29a77f5f1ed30686c7d806a\", element=\"c3d46a94-d0a1-4b97-af66-f036a7b87a26\")>,\n",
       " <selenium.webdriver.remote.webelement.WebElement (session=\"e7fb64b4b29a77f5f1ed30686c7d806a\", element=\"dbd510ad-dc91-4703-a71d-289c3eea9547\")>,\n",
       " <selenium.webdriver.remote.webelement.WebElement (session=\"e7fb64b4b29a77f5f1ed30686c7d806a\", element=\"f71ba394-bba9-4dca-9bcc-8e0403242579\")>,\n",
       " <selenium.webdriver.remote.webelement.WebElement (session=\"e7fb64b4b29a77f5f1ed30686c7d806a\", element=\"71f2fea1-d45d-4b21-9b1e-1dc831b851ae\")>,\n",
       " <selenium.webdriver.remote.webelement.WebElement (session=\"e7fb64b4b29a77f5f1ed30686c7d806a\", element=\"3a66e0f7-0f5e-4c47-b394-0564d15af7ae\")>,\n",
       " <selenium.webdriver.remote.webelement.WebElement (session=\"e7fb64b4b29a77f5f1ed30686c7d806a\", element=\"57ec46d1-e649-4211-b667-db18f99b8f16\")>,\n",
       " <selenium.webdriver.remote.webelement.WebElement (session=\"e7fb64b4b29a77f5f1ed30686c7d806a\", element=\"4183baa9-aac8-4c60-b863-e1d1f3b0f5ba\")>,\n",
       " <selenium.webdriver.remote.webelement.WebElement (session=\"e7fb64b4b29a77f5f1ed30686c7d806a\", element=\"2618c0c8-55c0-4ece-83a2-353a688dbbf9\")>]"
      ]
     },
     "execution_count": 90,
     "metadata": {},
     "output_type": "execute_result"
    }
   ],
   "source": [
    "location3=driver.find_elements_by_xpath('//li[@class=\"fleft grey-text br2 placeHolderLi location\"]/span[1]')\n",
    "location3[0:10]"
   ]
  },
  {
   "cell_type": "code",
   "execution_count": 91,
   "metadata": {},
   "outputs": [
    {
     "data": {
      "text/plain": [
       "[<selenium.webdriver.remote.webelement.WebElement (session=\"e7fb64b4b29a77f5f1ed30686c7d806a\", element=\"18f184a8-6c9f-44db-86fc-3e6ee15a42ab\")>,\n",
       " <selenium.webdriver.remote.webelement.WebElement (session=\"e7fb64b4b29a77f5f1ed30686c7d806a\", element=\"27f26be3-1caf-4e3c-991b-588c56ef7c4d\")>,\n",
       " <selenium.webdriver.remote.webelement.WebElement (session=\"e7fb64b4b29a77f5f1ed30686c7d806a\", element=\"d93bcecc-bdd9-4b59-8a87-ea8a35195fb7\")>,\n",
       " <selenium.webdriver.remote.webelement.WebElement (session=\"e7fb64b4b29a77f5f1ed30686c7d806a\", element=\"efbfa6e8-29c7-4d3d-ac20-1861d5ac7871\")>,\n",
       " <selenium.webdriver.remote.webelement.WebElement (session=\"e7fb64b4b29a77f5f1ed30686c7d806a\", element=\"f09b47e1-2726-41c8-91ac-7594a23239e1\")>,\n",
       " <selenium.webdriver.remote.webelement.WebElement (session=\"e7fb64b4b29a77f5f1ed30686c7d806a\", element=\"d159f56c-20aa-4741-a34e-f49e5bbc7054\")>,\n",
       " <selenium.webdriver.remote.webelement.WebElement (session=\"e7fb64b4b29a77f5f1ed30686c7d806a\", element=\"a5d51968-dc86-4c8b-bb94-8129890d749c\")>,\n",
       " <selenium.webdriver.remote.webelement.WebElement (session=\"e7fb64b4b29a77f5f1ed30686c7d806a\", element=\"944fe2f3-3d90-4c72-aebb-2940d490d39f\")>,\n",
       " <selenium.webdriver.remote.webelement.WebElement (session=\"e7fb64b4b29a77f5f1ed30686c7d806a\", element=\"11b4ad62-92b7-406c-8e5b-69d99ba238c1\")>,\n",
       " <selenium.webdriver.remote.webelement.WebElement (session=\"e7fb64b4b29a77f5f1ed30686c7d806a\", element=\"420bc97a-cbf9-41cc-ad31-19bbe12e6a2c\")>]"
      ]
     },
     "execution_count": 91,
     "metadata": {},
     "output_type": "execute_result"
    }
   ],
   "source": [
    "companyname3=driver.find_elements_by_xpath('//a[@class=\"subTitle ellipsis fleft\"]')\n",
    "companyname3[0:10]"
   ]
  },
  {
   "cell_type": "code",
   "execution_count": 92,
   "metadata": {},
   "outputs": [
    {
     "data": {
      "text/plain": [
       "['Remote',\n",
       " 'Mumbai, Hyderabad/Secunderabad, Pune, Chennai, Tamia, Bangalore/Bengaluru, Delhi / NCR',\n",
       " 'Delhi / NCR',\n",
       " 'Delhi / NCR',\n",
       " 'Gurgaon/Gurugram, Bangalore/Bengaluru',\n",
       " 'Gurgaon/Gurugram',\n",
       " 'Noida',\n",
       " 'Gurgaon/Gurugram, Bangalore/Bengaluru',\n",
       " 'Noida',\n",
       " 'Gurgaon/Gurugram']"
      ]
     },
     "execution_count": 92,
     "metadata": {},
     "output_type": "execute_result"
    }
   ],
   "source": [
    "for c in location3:\n",
    "    loc3=c.text\n",
    "    job_location3.append(loc3)\n",
    "job_location3[0:10]"
   ]
  },
  {
   "cell_type": "code",
   "execution_count": 93,
   "metadata": {},
   "outputs": [
    {
     "data": {
      "text/plain": [
       "['Tidyquant (OPC) Private Limited',\n",
       " 'CALIBEHR BUSINESS SUPPORT SERVICES PRIVATE LIMITED',\n",
       " 'Verisk Analytics India Private Limited',\n",
       " 'HCL Technologies',\n",
       " 'EXL Services.com ( I ) Pvt. Ltd.',\n",
       " 'OLX India Pvt Ltd',\n",
       " 'Newgen Software Technologies Ltd.',\n",
       " 'Hexagon Geosystems Services India P.Ltd.',\n",
       " 'Optum Global Solutions (India) Private Limited',\n",
       " 'Milliman India Pvt Ltd']"
      ]
     },
     "execution_count": 93,
     "metadata": {},
     "output_type": "execute_result"
    }
   ],
   "source": [
    "for c in companyname3:\n",
    "    comp=c.text\n",
    "    company_name.append(comp)\n",
    "company_name[0:10]"
   ]
  },
  {
   "cell_type": "code",
   "execution_count": 94,
   "metadata": {},
   "outputs": [
    {
     "data": {
      "text/plain": [
       "[<selenium.webdriver.remote.webelement.WebElement (session=\"e7fb64b4b29a77f5f1ed30686c7d806a\", element=\"78a48ba3-ee8e-454b-b03a-7cfe7ab71176\")>,\n",
       " <selenium.webdriver.remote.webelement.WebElement (session=\"e7fb64b4b29a77f5f1ed30686c7d806a\", element=\"685089ec-afa5-4acb-95a0-e024b7ba69bd\")>,\n",
       " <selenium.webdriver.remote.webelement.WebElement (session=\"e7fb64b4b29a77f5f1ed30686c7d806a\", element=\"6ffe7b59-0542-4d16-910c-0abb5aae7858\")>,\n",
       " <selenium.webdriver.remote.webelement.WebElement (session=\"e7fb64b4b29a77f5f1ed30686c7d806a\", element=\"b2292de1-bf8f-41a6-980d-e73c10f3da71\")>,\n",
       " <selenium.webdriver.remote.webelement.WebElement (session=\"e7fb64b4b29a77f5f1ed30686c7d806a\", element=\"fcb5b965-c52e-40ef-9e42-7d1d03168ed5\")>,\n",
       " <selenium.webdriver.remote.webelement.WebElement (session=\"e7fb64b4b29a77f5f1ed30686c7d806a\", element=\"c69519c1-9227-4a28-90c0-867e630e7eb5\")>,\n",
       " <selenium.webdriver.remote.webelement.WebElement (session=\"e7fb64b4b29a77f5f1ed30686c7d806a\", element=\"b43e772b-ffb0-4aad-8984-a93c0d99fa43\")>,\n",
       " <selenium.webdriver.remote.webelement.WebElement (session=\"e7fb64b4b29a77f5f1ed30686c7d806a\", element=\"2022e30a-6c94-4bf3-8e58-baf0d1593ac6\")>,\n",
       " <selenium.webdriver.remote.webelement.WebElement (session=\"e7fb64b4b29a77f5f1ed30686c7d806a\", element=\"8cce106f-c9d2-451b-8e5d-82bfa90a3157\")>,\n",
       " <selenium.webdriver.remote.webelement.WebElement (session=\"e7fb64b4b29a77f5f1ed30686c7d806a\", element=\"14b9eac7-6e03-4afe-9c5e-a4322f177d73\")>]"
      ]
     },
     "execution_count": 94,
     "metadata": {},
     "output_type": "execute_result"
    }
   ],
   "source": [
    "exp3=driver.find_elements_by_xpath('//li[@class=\"fleft grey-text br2 placeHolderLi experience\"]/span[1]')\n",
    "exp3[0:10]"
   ]
  },
  {
   "cell_type": "code",
   "execution_count": 95,
   "metadata": {},
   "outputs": [
    {
     "data": {
      "text/plain": [
       "['2-7 Yrs',\n",
       " '2-7 Yrs',\n",
       " '1-2 Yrs',\n",
       " '4-7 Yrs',\n",
       " '3-5 Yrs',\n",
       " '3-6 Yrs',\n",
       " '2-5 Yrs',\n",
       " '6-11 Yrs',\n",
       " '2-7 Yrs',\n",
       " '2-5 Yrs']"
      ]
     },
     "execution_count": 95,
     "metadata": {},
     "output_type": "execute_result"
    }
   ],
   "source": [
    "for c in exp3:\n",
    "    exp=c.text\n",
    "    exp_req.append(exp)\n",
    "exp_req[0:10]"
   ]
  },
  {
   "cell_type": "code",
   "execution_count": 96,
   "metadata": {},
   "outputs": [
    {
     "data": {
      "text/html": [
       "<div>\n",
       "<style scoped>\n",
       "    .dataframe tbody tr th:only-of-type {\n",
       "        vertical-align: middle;\n",
       "    }\n",
       "\n",
       "    .dataframe tbody tr th {\n",
       "        vertical-align: top;\n",
       "    }\n",
       "\n",
       "    .dataframe thead th {\n",
       "        text-align: right;\n",
       "    }\n",
       "</style>\n",
       "<table border=\"1\" class=\"dataframe\">\n",
       "  <thead>\n",
       "    <tr style=\"text-align: right;\">\n",
       "      <th></th>\n",
       "      <th>exp3</th>\n",
       "      <th>companyname3</th>\n",
       "      <th>location3</th>\n",
       "      <th>title_j</th>\n",
       "    </tr>\n",
       "  </thead>\n",
       "  <tbody>\n",
       "    <tr>\n",
       "      <th>0</th>\n",
       "      <td>2-7 Yrs</td>\n",
       "      <td>Tidyquant (OPC) Private Limited</td>\n",
       "      <td>Remote</td>\n",
       "      <td>Project Manager | Team Leader | Senior Data Sc...</td>\n",
       "    </tr>\n",
       "    <tr>\n",
       "      <th>1</th>\n",
       "      <td>2-7 Yrs</td>\n",
       "      <td>CALIBEHR BUSINESS SUPPORT SERVICES PRIVATE LIM...</td>\n",
       "      <td>Mumbai, Hyderabad/Secunderabad, Pune, Chennai,...</td>\n",
       "      <td>Immediate requirement For Data Scientist</td>\n",
       "    </tr>\n",
       "    <tr>\n",
       "      <th>2</th>\n",
       "      <td>1-2 Yrs</td>\n",
       "      <td>Verisk Analytics India Private Limited</td>\n",
       "      <td>Delhi / NCR</td>\n",
       "      <td>Data Scientist</td>\n",
       "    </tr>\n",
       "    <tr>\n",
       "      <th>3</th>\n",
       "      <td>4-7 Yrs</td>\n",
       "      <td>HCL Technologies</td>\n",
       "      <td>Delhi / NCR</td>\n",
       "      <td>Job Opportunity || Data Scientist || HCL Techn...</td>\n",
       "    </tr>\n",
       "    <tr>\n",
       "      <th>4</th>\n",
       "      <td>3-5 Yrs</td>\n",
       "      <td>EXL Services.com ( I ) Pvt. Ltd.</td>\n",
       "      <td>Gurgaon/Gurugram, Bangalore/Bengaluru</td>\n",
       "      <td>Data Scientist</td>\n",
       "    </tr>\n",
       "    <tr>\n",
       "      <th>5</th>\n",
       "      <td>3-6 Yrs</td>\n",
       "      <td>OLX India Pvt Ltd</td>\n",
       "      <td>Gurgaon/Gurugram</td>\n",
       "      <td>Data Scientist I/II/III</td>\n",
       "    </tr>\n",
       "    <tr>\n",
       "      <th>6</th>\n",
       "      <td>2-5 Yrs</td>\n",
       "      <td>Newgen Software Technologies Ltd.</td>\n",
       "      <td>Noida</td>\n",
       "      <td>Data Scientist</td>\n",
       "    </tr>\n",
       "    <tr>\n",
       "      <th>7</th>\n",
       "      <td>6-11 Yrs</td>\n",
       "      <td>Hexagon Geosystems Services India P.Ltd.</td>\n",
       "      <td>Gurgaon/Gurugram, Bangalore/Bengaluru</td>\n",
       "      <td>Data Scientist</td>\n",
       "    </tr>\n",
       "    <tr>\n",
       "      <th>8</th>\n",
       "      <td>2-7 Yrs</td>\n",
       "      <td>Optum Global Solutions (India) Private Limited</td>\n",
       "      <td>Noida</td>\n",
       "      <td>Associate Data Scientist</td>\n",
       "    </tr>\n",
       "    <tr>\n",
       "      <th>9</th>\n",
       "      <td>2-5 Yrs</td>\n",
       "      <td>Milliman India Pvt Ltd</td>\n",
       "      <td>Gurgaon/Gurugram</td>\n",
       "      <td>Data Scientist</td>\n",
       "    </tr>\n",
       "  </tbody>\n",
       "</table>\n",
       "</div>"
      ],
      "text/plain": [
       "       exp3                                       companyname3  \\\n",
       "0   2-7 Yrs                    Tidyquant (OPC) Private Limited   \n",
       "1   2-7 Yrs  CALIBEHR BUSINESS SUPPORT SERVICES PRIVATE LIM...   \n",
       "2   1-2 Yrs             Verisk Analytics India Private Limited   \n",
       "3   4-7 Yrs                                   HCL Technologies   \n",
       "4   3-5 Yrs                   EXL Services.com ( I ) Pvt. Ltd.   \n",
       "5   3-6 Yrs                                  OLX India Pvt Ltd   \n",
       "6   2-5 Yrs                  Newgen Software Technologies Ltd.   \n",
       "7  6-11 Yrs           Hexagon Geosystems Services India P.Ltd.   \n",
       "8   2-7 Yrs     Optum Global Solutions (India) Private Limited   \n",
       "9   2-5 Yrs                             Milliman India Pvt Ltd   \n",
       "\n",
       "                                           location3  \\\n",
       "0                                             Remote   \n",
       "1  Mumbai, Hyderabad/Secunderabad, Pune, Chennai,...   \n",
       "2                                        Delhi / NCR   \n",
       "3                                        Delhi / NCR   \n",
       "4              Gurgaon/Gurugram, Bangalore/Bengaluru   \n",
       "5                                   Gurgaon/Gurugram   \n",
       "6                                              Noida   \n",
       "7              Gurgaon/Gurugram, Bangalore/Bengaluru   \n",
       "8                                              Noida   \n",
       "9                                   Gurgaon/Gurugram   \n",
       "\n",
       "                                             title_j  \n",
       "0  Project Manager | Team Leader | Senior Data Sc...  \n",
       "1           Immediate requirement For Data Scientist  \n",
       "2                                     Data Scientist  \n",
       "3  Job Opportunity || Data Scientist || HCL Techn...  \n",
       "4                                     Data Scientist  \n",
       "5                            Data Scientist I/II/III  \n",
       "6                                     Data Scientist  \n",
       "7                                     Data Scientist  \n",
       "8                           Associate Data Scientist  \n",
       "9                                     Data Scientist  "
      ]
     },
     "execution_count": 96,
     "metadata": {},
     "output_type": "execute_result"
    }
   ],
   "source": [
    "jobf=pd.DataFrame({})\n",
    "jobf['exp3']=exp_req[0:10]\n",
    "jobf['companyname3']=company_name[0:10]\n",
    "jobf['location3']=job_location3[0:10]\n",
    "jobf['title_j']=job_title3[0:10]\n",
    "jobf"
   ]
  },
  {
   "cell_type": "code",
   "execution_count": 97,
   "metadata": {},
   "outputs": [
    {
     "name": "stdout",
     "output_type": "stream",
     "text": [
      "20 20 20 20\n"
     ]
    }
   ],
   "source": [
    "print(len(exp_req),len(company_name),len(job_location3),len(job_title3))"
   ]
  },
  {
   "cell_type": "markdown",
   "metadata": {},
   "source": [
    "# Question 8: Scrape data for first 100 sneakers you find when you visit flipkart.com and \n",
    "search for “sneakers” in the search field"
   ]
  },
  {
   "cell_type": "markdown",
   "metadata": {},
   "source": [
    "Answer below:"
   ]
  },
  {
   "cell_type": "code",
   "execution_count": 98,
   "metadata": {},
   "outputs": [],
   "source": [
    "#Opeing the site through url\n",
    "url='https://www.flipkart.com'\n",
    "driver.get(url)"
   ]
  },
  {
   "cell_type": "code",
   "execution_count": 100,
   "metadata": {},
   "outputs": [],
   "source": [
    "#Locating search bar\n",
    "search_bar=driver.find_element_by_class_name('_3704LK')\n",
    "search_bar.clear()\n",
    "search_bar.send_keys('sneakers')\n",
    "button=driver.find_element_by_class_name('L0Z3Pu')\n",
    "button.click()"
   ]
  },
  {
   "cell_type": "code",
   "execution_count": 101,
   "metadata": {},
   "outputs": [],
   "source": [
    "#Creating the empty list\n",
    "brand=[]\n",
    "prod_desc=[]\n",
    "pricef=[]\n",
    "discount=[]"
   ]
  },
  {
   "cell_type": "code",
   "execution_count": 103,
   "metadata": {},
   "outputs": [],
   "source": [
    "#Scraping the required Details\n",
    "start=0\n",
    "end=3\n",
    "for page in range(start,end):#for loop for scrapping 3 page\n",
    "    brands=driver.find_elements_by_class_name('_2WkVRV')\n",
    "    for i in brands:\n",
    "        brand.append(i.text)\n",
    "    desc=driver.find_elements_by_class_name('IRpwTa')\n",
    "    for i in desc:\n",
    "        prod_desc.append(i.get_attribute('title'))\n",
    "    prices=driver.find_elements_by_xpath(\"//div[@class='_1vC4OE']\")\n",
    "    for i in prices[:40]:\n",
    "        pricef.append(i.text)\n",
    "    disc=driver.find_elements_by_xpath(\"//div[@class='VGWI6T']\")\n",
    "    for i in disc:\n",
    "        discount.append(i.text)\n",
    "   \n",
    "\n",
    "    \n"
   ]
  },
  {
   "cell_type": "code",
   "execution_count": 104,
   "metadata": {},
   "outputs": [
    {
     "ename": "IndexError",
     "evalue": "list index out of range",
     "output_type": "error",
     "traceback": [
      "\u001b[1;31m---------------------------------------------------------------------------\u001b[0m",
      "\u001b[1;31mIndexError\u001b[0m                                Traceback (most recent call last)",
      "\u001b[1;32m<ipython-input-104-a479d8f3bd5f>\u001b[0m in \u001b[0;36m<module>\u001b[1;34m\u001b[0m\n\u001b[0;32m      1\u001b[0m \u001b[0mnxt_button\u001b[0m\u001b[1;33m=\u001b[0m\u001b[0mdriver\u001b[0m\u001b[1;33m.\u001b[0m\u001b[0mfind_elements_by_xpath\u001b[0m\u001b[1;33m(\u001b[0m\u001b[1;34m\"//a[@class='_1LKTO3']/span[1]\"\u001b[0m\u001b[1;33m)\u001b[0m\u001b[1;33m\u001b[0m\u001b[1;33m\u001b[0m\u001b[0m\n\u001b[1;32m----> 2\u001b[1;33m \u001b[0mdriver\u001b[0m\u001b[1;33m.\u001b[0m\u001b[0mget\u001b[0m\u001b[1;33m(\u001b[0m\u001b[0mnxt_button\u001b[0m\u001b[1;33m[\u001b[0m\u001b[0mpage\u001b[0m\u001b[1;33m]\u001b[0m\u001b[1;33m.\u001b[0m\u001b[0mget_attribute\u001b[0m\u001b[1;33m(\u001b[0m\u001b[1;34m'href'\u001b[0m\u001b[1;33m)\u001b[0m\u001b[1;33m)\u001b[0m\u001b[1;33m\u001b[0m\u001b[1;33m\u001b[0m\u001b[0m\n\u001b[0m",
      "\u001b[1;31mIndexError\u001b[0m: list index out of range"
     ]
    }
   ],
   "source": [
    "nxt_button=driver.find_elements_by_xpath(\"//a[@class='_1LKTO3']/span[1]\")\n",
    "driver.get(nxt_button[page].get_attribute('href'))"
   ]
  },
  {
   "cell_type": "code",
   "execution_count": 107,
   "metadata": {},
   "outputs": [
    {
     "data": {
      "text/plain": [
       "['SPARX',\n",
       " 'BIRDE',\n",
       " 'Shoes Bank',\n",
       " 'BIRDE',\n",
       " 'mannu',\n",
       " 'Jabra',\n",
       " 'Airland',\n",
       " 'Bonexy',\n",
       " 'Qtsy',\n",
       " 'Creer']"
      ]
     },
     "execution_count": 107,
     "metadata": {},
     "output_type": "execute_result"
    }
   ],
   "source": [
    "brnd=driver.find_elements_by_xpath('//div[@class=\"_2WkVRV\"]')\n",
    "\n",
    "for b in brnd:\n",
    "    brd=b.text\n",
    "    brand.append(brd)\n",
    "brand[0:10]"
   ]
  },
  {
   "cell_type": "code",
   "execution_count": 113,
   "metadata": {},
   "outputs": [
    {
     "data": {
      "text/plain": [
       "['Combo Pack Of 4 Casual Shoes Loafer Shoes Sneakers For ...',\n",
       " 'Sneakers For Men',\n",
       " 'Sneakers For Men',\n",
       " 'Combo Pack of 4 Casual Sneakers With Sneakers For Men',\n",
       " '411 Casual Sneakers For Men',\n",
       " 'Modern Trendy Sneakers Shoes Sneakers For Men',\n",
       " \"Casual , Partywear Sneakers Shoes For Men's And Boys Wh...\",\n",
       " 'Sneakers for men(black_8) Sneakers For Men',\n",
       " 'Casual Sneakers Shoes For Men Sneakers For Men',\n",
       " 'Sneakers For Men']"
      ]
     },
     "execution_count": 113,
     "metadata": {},
     "output_type": "execute_result"
    }
   ],
   "source": [
    "desp=driver.find_elements_by_xpath('//a[@class=\"IRpwTa\"]')\n",
    "\n",
    "for b in desp:\n",
    "    dp=b.text\n",
    "    prod_desc.append(dp)\n",
    "prod_desc[0:10]"
   ]
  },
  {
   "cell_type": "code",
   "execution_count": 121,
   "metadata": {},
   "outputs": [
    {
     "data": {
      "text/plain": [
       "[<selenium.webdriver.remote.webelement.WebElement (session=\"e7fb64b4b29a77f5f1ed30686c7d806a\", element=\"18a572f1-68ee-434b-bc2d-f7cf2799a907\")>,\n",
       " <selenium.webdriver.remote.webelement.WebElement (session=\"e7fb64b4b29a77f5f1ed30686c7d806a\", element=\"d464d8c3-eab5-4e49-8f80-dc0c50e2235f\")>,\n",
       " <selenium.webdriver.remote.webelement.WebElement (session=\"e7fb64b4b29a77f5f1ed30686c7d806a\", element=\"6b43a36e-ba71-4a0a-a9a3-0fef84ca7464\")>,\n",
       " <selenium.webdriver.remote.webelement.WebElement (session=\"e7fb64b4b29a77f5f1ed30686c7d806a\", element=\"d50de96d-1dc9-49f3-a082-0a7826c857c6\")>,\n",
       " <selenium.webdriver.remote.webelement.WebElement (session=\"e7fb64b4b29a77f5f1ed30686c7d806a\", element=\"bd0b5f1e-2b56-4b37-a83f-3337f2a43636\")>,\n",
       " <selenium.webdriver.remote.webelement.WebElement (session=\"e7fb64b4b29a77f5f1ed30686c7d806a\", element=\"c2c2d8fa-54e1-4be7-a5e6-2be38333e934\")>,\n",
       " <selenium.webdriver.remote.webelement.WebElement (session=\"e7fb64b4b29a77f5f1ed30686c7d806a\", element=\"a9fcd49b-1589-4255-9b63-26d2c198eeeb\")>,\n",
       " <selenium.webdriver.remote.webelement.WebElement (session=\"e7fb64b4b29a77f5f1ed30686c7d806a\", element=\"8bd44c82-66b4-41bd-aa5b-f58f20b95b33\")>,\n",
       " <selenium.webdriver.remote.webelement.WebElement (session=\"e7fb64b4b29a77f5f1ed30686c7d806a\", element=\"aa53e85a-38b3-4e54-889a-4c2a12ecbc08\")>,\n",
       " <selenium.webdriver.remote.webelement.WebElement (session=\"e7fb64b4b29a77f5f1ed30686c7d806a\", element=\"fc867981-b7f5-41a2-9933-ebc10adb8c98\")>,\n",
       " <selenium.webdriver.remote.webelement.WebElement (session=\"e7fb64b4b29a77f5f1ed30686c7d806a\", element=\"bf4b4ba8-0ab6-4cae-8782-306659677c09\")>,\n",
       " <selenium.webdriver.remote.webelement.WebElement (session=\"e7fb64b4b29a77f5f1ed30686c7d806a\", element=\"f72fa7e2-332d-45f9-820e-bceb4b329c9a\")>,\n",
       " <selenium.webdriver.remote.webelement.WebElement (session=\"e7fb64b4b29a77f5f1ed30686c7d806a\", element=\"87ccce54-c1e6-4b8d-b6ac-294430a010a1\")>,\n",
       " <selenium.webdriver.remote.webelement.WebElement (session=\"e7fb64b4b29a77f5f1ed30686c7d806a\", element=\"6cc3e4c0-6ff7-4dd4-85c7-92cfb41b6153\")>,\n",
       " <selenium.webdriver.remote.webelement.WebElement (session=\"e7fb64b4b29a77f5f1ed30686c7d806a\", element=\"67cd3eb1-0f50-4f33-abaf-422634bf3de7\")>,\n",
       " <selenium.webdriver.remote.webelement.WebElement (session=\"e7fb64b4b29a77f5f1ed30686c7d806a\", element=\"8dde1ad1-d025-475e-8c50-87b13138018e\")>,\n",
       " <selenium.webdriver.remote.webelement.WebElement (session=\"e7fb64b4b29a77f5f1ed30686c7d806a\", element=\"75e3224c-afaf-4d4c-9ff7-3e8e3810dd25\")>,\n",
       " <selenium.webdriver.remote.webelement.WebElement (session=\"e7fb64b4b29a77f5f1ed30686c7d806a\", element=\"e94c45a9-e74e-4e18-af9d-ef48ee4c2845\")>,\n",
       " <selenium.webdriver.remote.webelement.WebElement (session=\"e7fb64b4b29a77f5f1ed30686c7d806a\", element=\"e935bf55-686b-4b12-b6e4-150d64e31d55\")>,\n",
       " <selenium.webdriver.remote.webelement.WebElement (session=\"e7fb64b4b29a77f5f1ed30686c7d806a\", element=\"c9bee6eb-f153-41cd-851b-662572daf312\")>,\n",
       " <selenium.webdriver.remote.webelement.WebElement (session=\"e7fb64b4b29a77f5f1ed30686c7d806a\", element=\"8f2abc64-8ebd-4881-97e2-436b129273d2\")>,\n",
       " <selenium.webdriver.remote.webelement.WebElement (session=\"e7fb64b4b29a77f5f1ed30686c7d806a\", element=\"0f52ccd4-9e93-41e1-87b5-63563b3a7c8a\")>,\n",
       " <selenium.webdriver.remote.webelement.WebElement (session=\"e7fb64b4b29a77f5f1ed30686c7d806a\", element=\"fd9c72c7-72e9-4396-ab2e-ab65a3a5c295\")>,\n",
       " <selenium.webdriver.remote.webelement.WebElement (session=\"e7fb64b4b29a77f5f1ed30686c7d806a\", element=\"48911f3e-9846-43a0-a995-d86670643278\")>,\n",
       " <selenium.webdriver.remote.webelement.WebElement (session=\"e7fb64b4b29a77f5f1ed30686c7d806a\", element=\"497af493-bbfc-4566-acd5-d5f36a821647\")>,\n",
       " <selenium.webdriver.remote.webelement.WebElement (session=\"e7fb64b4b29a77f5f1ed30686c7d806a\", element=\"862260af-059b-416a-b000-7e52a63b6393\")>,\n",
       " <selenium.webdriver.remote.webelement.WebElement (session=\"e7fb64b4b29a77f5f1ed30686c7d806a\", element=\"db0ab4d8-3a8d-42a7-b108-223a11d8acb5\")>,\n",
       " <selenium.webdriver.remote.webelement.WebElement (session=\"e7fb64b4b29a77f5f1ed30686c7d806a\", element=\"0c2c5534-c503-4c9a-bc9a-12f409c472f4\")>,\n",
       " <selenium.webdriver.remote.webelement.WebElement (session=\"e7fb64b4b29a77f5f1ed30686c7d806a\", element=\"863ea2d6-a6c9-407f-a3d2-dd9d25068b38\")>,\n",
       " <selenium.webdriver.remote.webelement.WebElement (session=\"e7fb64b4b29a77f5f1ed30686c7d806a\", element=\"3739c353-2c50-485e-872a-e3c958ccb415\")>,\n",
       " <selenium.webdriver.remote.webelement.WebElement (session=\"e7fb64b4b29a77f5f1ed30686c7d806a\", element=\"be698159-e2e1-46de-a2b3-36d075f4bcc1\")>,\n",
       " <selenium.webdriver.remote.webelement.WebElement (session=\"e7fb64b4b29a77f5f1ed30686c7d806a\", element=\"6f2e7b9e-7b0d-40ef-ae16-cb2ca0cb4170\")>,\n",
       " <selenium.webdriver.remote.webelement.WebElement (session=\"e7fb64b4b29a77f5f1ed30686c7d806a\", element=\"5ba6e8ae-eefc-4e77-80b9-9da6c46aafeb\")>,\n",
       " <selenium.webdriver.remote.webelement.WebElement (session=\"e7fb64b4b29a77f5f1ed30686c7d806a\", element=\"9af59018-0122-472c-b148-c54597d7e27b\")>,\n",
       " <selenium.webdriver.remote.webelement.WebElement (session=\"e7fb64b4b29a77f5f1ed30686c7d806a\", element=\"d594a14e-ee76-4acc-8211-a67136539277\")>,\n",
       " <selenium.webdriver.remote.webelement.WebElement (session=\"e7fb64b4b29a77f5f1ed30686c7d806a\", element=\"31444182-d896-4821-9eda-bf58e0d5a0c6\")>,\n",
       " <selenium.webdriver.remote.webelement.WebElement (session=\"e7fb64b4b29a77f5f1ed30686c7d806a\", element=\"7d26794e-da10-4678-96be-ccd79186b033\")>,\n",
       " <selenium.webdriver.remote.webelement.WebElement (session=\"e7fb64b4b29a77f5f1ed30686c7d806a\", element=\"aedb68b7-48fe-4d0e-b9c4-78e511b1639b\")>,\n",
       " <selenium.webdriver.remote.webelement.WebElement (session=\"e7fb64b4b29a77f5f1ed30686c7d806a\", element=\"88c7ca38-60b9-4c39-95ce-865bbec32f7e\")>,\n",
       " <selenium.webdriver.remote.webelement.WebElement (session=\"e7fb64b4b29a77f5f1ed30686c7d806a\", element=\"13388291-7e02-4958-9224-68e2c849dc86\")>,\n",
       " <selenium.webdriver.remote.webelement.WebElement (session=\"e7fb64b4b29a77f5f1ed30686c7d806a\", element=\"f858b846-a591-48d2-97a9-3145ac574fe0\")>,\n",
       " <selenium.webdriver.remote.webelement.WebElement (session=\"e7fb64b4b29a77f5f1ed30686c7d806a\", element=\"38a0b32e-4970-4558-8c9c-afe225c592e8\")>,\n",
       " <selenium.webdriver.remote.webelement.WebElement (session=\"e7fb64b4b29a77f5f1ed30686c7d806a\", element=\"0441e3c3-97ca-4416-a217-9e8eefc484bf\")>,\n",
       " <selenium.webdriver.remote.webelement.WebElement (session=\"e7fb64b4b29a77f5f1ed30686c7d806a\", element=\"4a66e8e1-4fce-43da-9db3-89f21b4f06b6\")>,\n",
       " <selenium.webdriver.remote.webelement.WebElement (session=\"e7fb64b4b29a77f5f1ed30686c7d806a\", element=\"5361e5b4-74d8-46bb-9218-8fe3c6760666\")>]"
      ]
     },
     "execution_count": 121,
     "metadata": {},
     "output_type": "execute_result"
    }
   ],
   "source": [
    "prce=driver.find_elements_by_xpath('//div[@class=\"_25b18c\"]')\n",
    "prce\n",
    "#for b in prce:\n",
    "   # prc=b.text\n",
    "    #pricef.append(prc)\n",
    "#pricef[0:10]"
   ]
  },
  {
   "cell_type": "markdown",
   "metadata": {},
   "source": [
    "# Question 7 : Scrape 100 reviews data from flipkart.com for iphone11 phone. You have to \n",
    "go the link: https://www.flipkart.com/apple-iphone-11-black-64-gb-includes\u0002earpods-power\u0002adapter/p/itm0f37c2240b217?pid=MOBFKCTSVZAXUHGR&lid=LSTMOBFKC\n",
    "TSVZAXUHGREPBFGI&marketplace."
   ]
  },
  {
   "cell_type": "code",
   "execution_count": 122,
   "metadata": {},
   "outputs": [],
   "source": [
    "driver.get('https://www.flipkart.com/apple-iphone-11-black-64-gb-includes-earpods-power-adapter/p/itm0f37c2240b217?pid=MOBFKCTSVZAXUHGR&lid=LSTMOBFKC')"
   ]
  },
  {
   "cell_type": "code",
   "execution_count": 123,
   "metadata": {},
   "outputs": [],
   "source": [
    "ratings=[]\n",
    "review=[]\n",
    "fullreveiw=[]"
   ]
  },
  {
   "cell_type": "code",
   "execution_count": 124,
   "metadata": {},
   "outputs": [
    {
     "data": {
      "text/plain": [
       "[<selenium.webdriver.remote.webelement.WebElement (session=\"e7fb64b4b29a77f5f1ed30686c7d806a\", element=\"d0036d12-9b46-4202-8c64-5938f77b71ac\")>]"
      ]
     },
     "execution_count": 124,
     "metadata": {},
     "output_type": "execute_result"
    }
   ],
   "source": [
    "rating=driver.find_elements_by_xpath('//div[@class=\"_2d4LTz\"]')\n",
    "rating"
   ]
  },
  {
   "cell_type": "code",
   "execution_count": 125,
   "metadata": {},
   "outputs": [
    {
     "data": {
      "text/plain": [
       "['4.6']"
      ]
     },
     "execution_count": 125,
     "metadata": {},
     "output_type": "execute_result"
    }
   ],
   "source": [
    "for r in rating:\n",
    "    rate=r.text\n",
    "    ratings.append(rate)\n",
    "ratings"
   ]
  },
  {
   "cell_type": "code",
   "execution_count": 126,
   "metadata": {},
   "outputs": [
    {
     "data": {
      "text/plain": [
       "[<selenium.webdriver.remote.webelement.WebElement (session=\"e7fb64b4b29a77f5f1ed30686c7d806a\", element=\"875fbf5a-4842-491b-b754-78fb1a137944\")>,\n",
       " <selenium.webdriver.remote.webelement.WebElement (session=\"e7fb64b4b29a77f5f1ed30686c7d806a\", element=\"be81d783-0ee0-46f2-b73e-c705bf409d2c\")>,\n",
       " <selenium.webdriver.remote.webelement.WebElement (session=\"e7fb64b4b29a77f5f1ed30686c7d806a\", element=\"92083d73-94d9-4dc7-829a-dd0bd78f888a\")>,\n",
       " <selenium.webdriver.remote.webelement.WebElement (session=\"e7fb64b4b29a77f5f1ed30686c7d806a\", element=\"54e92b18-a46d-4438-a685-8e363538a6da\")>,\n",
       " <selenium.webdriver.remote.webelement.WebElement (session=\"e7fb64b4b29a77f5f1ed30686c7d806a\", element=\"9b69a273-718c-4264-b1eb-e90bbf07bb3b\")>,\n",
       " <selenium.webdriver.remote.webelement.WebElement (session=\"e7fb64b4b29a77f5f1ed30686c7d806a\", element=\"8cffe41c-1b13-450d-9756-57ebb1da5030\")>,\n",
       " <selenium.webdriver.remote.webelement.WebElement (session=\"e7fb64b4b29a77f5f1ed30686c7d806a\", element=\"b03b85c1-c080-4f43-bea2-a57ba69be1a0\")>,\n",
       " <selenium.webdriver.remote.webelement.WebElement (session=\"e7fb64b4b29a77f5f1ed30686c7d806a\", element=\"6321a57b-7eaa-49d1-a56a-0eb1d4f5841d\")>,\n",
       " <selenium.webdriver.remote.webelement.WebElement (session=\"e7fb64b4b29a77f5f1ed30686c7d806a\", element=\"f236418c-3078-4fb0-b5fd-b4fd66a2f871\")>,\n",
       " <selenium.webdriver.remote.webelement.WebElement (session=\"e7fb64b4b29a77f5f1ed30686c7d806a\", element=\"873dc906-90b1-4781-a567-3264cc7cb415\")>]"
      ]
     },
     "execution_count": 126,
     "metadata": {},
     "output_type": "execute_result"
    }
   ],
   "source": [
    "rev=driver.find_elements_by_xpath('//p[@class=\"_2-N8zT\"]')\n",
    "rev"
   ]
  },
  {
   "cell_type": "code",
   "execution_count": 127,
   "metadata": {},
   "outputs": [
    {
     "data": {
      "text/plain": [
       "['Brilliant', 'Simply awesome', 'Perfect product!', '', '', '', '', '', '', '']"
      ]
     },
     "execution_count": 127,
     "metadata": {},
     "output_type": "execute_result"
    }
   ],
   "source": [
    "for r in rev:\n",
    "    revw=r.text\n",
    "    review.append(revw)\n",
    "review"
   ]
  },
  {
   "cell_type": "code",
   "execution_count": 169,
   "metadata": {},
   "outputs": [
    {
     "data": {
      "text/html": [
       "<div>\n",
       "<style scoped>\n",
       "    .dataframe tbody tr th:only-of-type {\n",
       "        vertical-align: middle;\n",
       "    }\n",
       "\n",
       "    .dataframe tbody tr th {\n",
       "        vertical-align: top;\n",
       "    }\n",
       "\n",
       "    .dataframe thead th {\n",
       "        text-align: right;\n",
       "    }\n",
       "</style>\n",
       "<table border=\"1\" class=\"dataframe\">\n",
       "  <thead>\n",
       "    <tr style=\"text-align: right;\">\n",
       "      <th></th>\n",
       "      <th>rating</th>\n",
       "      <th>rev</th>\n",
       "    </tr>\n",
       "  </thead>\n",
       "  <tbody>\n",
       "    <tr>\n",
       "      <th>0</th>\n",
       "      <td>4.6</td>\n",
       "      <td>Brilliant</td>\n",
       "    </tr>\n",
       "  </tbody>\n",
       "</table>\n",
       "</div>"
      ],
      "text/plain": [
       "  rating        rev\n",
       "0    4.6  Brilliant"
      ]
     },
     "execution_count": 169,
     "metadata": {},
     "output_type": "execute_result"
    }
   ],
   "source": [
    "fp=pd.DataFrame({})\n",
    "fp['rating']=ratings[:1]\n",
    "fp['rev']=review[:1]\n",
    "#fp['fr']=fullreview[0:10]\n",
    "fp"
   ]
  },
  {
   "cell_type": "markdown",
   "metadata": {},
   "source": [
    "# Q4: Write a python program to scrape data for first 10 job results for Data scientist Designation in Noida location. You have to scrape company_name, No. of days ago when job was posted, Rating of the company"
   ]
  },
  {
   "cell_type": "markdown",
   "metadata": {},
   "source": [
    "This task will be done in following steps:\n",
    "\n",
    "1.first get the webpage https://www.glassdoor.co.in/index.htm\n",
    "2.Enter “Data Scientist” in “Job Title,Keyword,Company” field and enter “Noida” in “location” field.\n",
    "3.Then click the search button. You will land up in the below page:\n",
    "4.Then scrape the data for the first 10 jobs results you get in the above shown page.\n",
    "5.Finally create a dataframe of the scraped data. Note- All of the above steps have to be done in code. No step is to be done manually."
   ]
  },
  {
   "cell_type": "code",
   "execution_count": 128,
   "metadata": {},
   "outputs": [],
   "source": [
    "url = \"https://www.glassdoor.co.in/index.htm\""
   ]
  },
  {
   "cell_type": "code",
   "execution_count": 129,
   "metadata": {},
   "outputs": [],
   "source": [
    "driver.get(url)"
   ]
  },
  {
   "cell_type": "code",
   "execution_count": 130,
   "metadata": {},
   "outputs": [],
   "source": [
    "from selenium.webdriver.common.by import By\n",
    "from selenium.webdriver.support.ui import WebDriverWait\n",
    "from selenium.webdriver.support import expected_conditions as EC"
   ]
  },
  {
   "cell_type": "code",
   "execution_count": 131,
   "metadata": {},
   "outputs": [],
   "source": [
    "#Imputing the details in Blank boxes by using WebDriverWait:\n",
    "WebDriverWait(driver, 20).until(EC.element_to_be_clickable((By.XPATH, \"//input[@id='sc.keyword']\"))).send_keys(\"Data Scientist\")\n",
    "WebDriverWait(driver, 20).until(EC.element_to_be_clickable((By.XPATH, \"//input[@id='sc.location']\"))).send_keys(\"Noida India\")"
   ]
  },
  {
   "cell_type": "code",
   "execution_count": 132,
   "metadata": {},
   "outputs": [],
   "source": [
    "#Cliking on search button.\n",
    "WebDriverWait(driver, 20).until(EC.element_to_be_clickable((By.XPATH,\"//button[@data-test='search-bar-submit']\"))).click()"
   ]
  },
  {
   "cell_type": "code",
   "execution_count": 133,
   "metadata": {},
   "outputs": [],
   "source": [
    "#creating empty list:\n",
    "company_name = []\n",
    "company_rating = []\n",
    "No_of_days_ago = []"
   ]
  },
  {
   "cell_type": "code",
   "execution_count": 134,
   "metadata": {},
   "outputs": [
    {
     "name": "stdout",
     "output_type": "stream",
     "text": [
      "['Instrovate Technologies', 'Pixel Vision', 'NatWest Group', 'UnitedHealth Group', 'AlgoScale Technologies Private Limited', 'Optum - India', 'Techlive', 'HDFC Bank', 'UnitedHealth Group', 'Biz2Credit Inc']\n"
     ]
    }
   ],
   "source": [
    "#scraping the tags company_name:\n",
    "companies = driver.find_elements_by_xpath(\"//a[@class=' job-search-key-l2wjgv e1n63ojh0 jobLink']/span\")\n",
    "\n",
    "#Using for loop for iterations:\n",
    "#Handling Null Values.\n",
    "for i in companies:\n",
    "    if i.text is None :\n",
    "        company_name.append(\" \") \n",
    "    else:\n",
    "        company_name.append(i.text.replace('\\n','').strip())\n",
    "print(company_name[0:10])"
   ]
  },
  {
   "cell_type": "code",
   "execution_count": 135,
   "metadata": {},
   "outputs": [
    {
     "name": "stdout",
     "output_type": "stream",
     "text": [
      "['3.9', '', '4.0', '4.0', '3.7', '3.7', '4.3', '3.8', '3.8', '5.0']\n"
     ]
    }
   ],
   "source": [
    "#scraping the tags company_ratings:\n",
    "rating = driver.find_elements_by_xpath(\"//span[@class=' job-search-key-srfzj0 e1cjmv6j0']\")\n",
    "\n",
    "#Using for loop for iterations:\n",
    "#Handling Null Values.\n",
    "for i in rating:\n",
    "    if i.text is None :\n",
    "        company_rating.append(\" \") \n",
    "    else:\n",
    "        company_rating.append(i.text.replace('\\n','').strip())\n",
    "print(company_rating[0:10])"
   ]
  },
  {
   "cell_type": "code",
   "execution_count": 136,
   "metadata": {},
   "outputs": [
    {
     "name": "stdout",
     "output_type": "stream",
     "text": [
      "['3', '8', '1', '1', '3', '2', '3', '8', '2', '3']\n"
     ]
    }
   ],
   "source": [
    "#scraping the tags where no of days ago job was posted:\n",
    "job_posted = driver.find_elements_by_xpath(\"//div[@data-test='job-age']\")\n",
    "\n",
    "#Using for loop for iterations:\n",
    "#Handling Null Values.\n",
    "for i in job_posted:\n",
    "    if i.text is None :\n",
    "        No_of_days_ago.append(\" \") \n",
    "    else:\n",
    "        No_of_days_ago.append(i.text[0])\n",
    "print(No_of_days_ago[0:10])"
   ]
  },
  {
   "cell_type": "code",
   "execution_count": 137,
   "metadata": {},
   "outputs": [
    {
     "data": {
      "text/html": [
       "<div>\n",
       "<style scoped>\n",
       "    .dataframe tbody tr th:only-of-type {\n",
       "        vertical-align: middle;\n",
       "    }\n",
       "\n",
       "    .dataframe tbody tr th {\n",
       "        vertical-align: top;\n",
       "    }\n",
       "\n",
       "    .dataframe thead th {\n",
       "        text-align: right;\n",
       "    }\n",
       "</style>\n",
       "<table border=\"1\" class=\"dataframe\">\n",
       "  <thead>\n",
       "    <tr style=\"text-align: right;\">\n",
       "      <th></th>\n",
       "      <th>company names</th>\n",
       "      <th>company_rating</th>\n",
       "      <th>No_of_days_ago</th>\n",
       "    </tr>\n",
       "  </thead>\n",
       "  <tbody>\n",
       "    <tr>\n",
       "      <th>0</th>\n",
       "      <td>Instrovate Technologies</td>\n",
       "      <td>3.9</td>\n",
       "      <td>3</td>\n",
       "    </tr>\n",
       "    <tr>\n",
       "      <th>1</th>\n",
       "      <td>Pixel Vision</td>\n",
       "      <td></td>\n",
       "      <td>8</td>\n",
       "    </tr>\n",
       "    <tr>\n",
       "      <th>2</th>\n",
       "      <td>NatWest Group</td>\n",
       "      <td>4.0</td>\n",
       "      <td>1</td>\n",
       "    </tr>\n",
       "    <tr>\n",
       "      <th>3</th>\n",
       "      <td>UnitedHealth Group</td>\n",
       "      <td>4.0</td>\n",
       "      <td>1</td>\n",
       "    </tr>\n",
       "    <tr>\n",
       "      <th>4</th>\n",
       "      <td>AlgoScale Technologies Private Limited</td>\n",
       "      <td>3.7</td>\n",
       "      <td>3</td>\n",
       "    </tr>\n",
       "    <tr>\n",
       "      <th>5</th>\n",
       "      <td>Optum - India</td>\n",
       "      <td>3.7</td>\n",
       "      <td>2</td>\n",
       "    </tr>\n",
       "    <tr>\n",
       "      <th>6</th>\n",
       "      <td>Techlive</td>\n",
       "      <td>4.3</td>\n",
       "      <td>3</td>\n",
       "    </tr>\n",
       "    <tr>\n",
       "      <th>7</th>\n",
       "      <td>HDFC Bank</td>\n",
       "      <td>3.8</td>\n",
       "      <td>8</td>\n",
       "    </tr>\n",
       "    <tr>\n",
       "      <th>8</th>\n",
       "      <td>UnitedHealth Group</td>\n",
       "      <td>3.8</td>\n",
       "      <td>2</td>\n",
       "    </tr>\n",
       "    <tr>\n",
       "      <th>9</th>\n",
       "      <td>Biz2Credit Inc</td>\n",
       "      <td>5.0</td>\n",
       "      <td>3</td>\n",
       "    </tr>\n",
       "  </tbody>\n",
       "</table>\n",
       "</div>"
      ],
      "text/plain": [
       "                            company names company_rating No_of_days_ago\n",
       "0                 Instrovate Technologies            3.9              3\n",
       "1                            Pixel Vision                             8\n",
       "2                           NatWest Group            4.0              1\n",
       "3                      UnitedHealth Group            4.0              1\n",
       "4  AlgoScale Technologies Private Limited            3.7              3\n",
       "5                           Optum - India            3.7              2\n",
       "6                                Techlive            4.3              3\n",
       "7                               HDFC Bank            3.8              8\n",
       "8                      UnitedHealth Group            3.8              2\n",
       "9                          Biz2Credit Inc            5.0              3"
      ]
     },
     "execution_count": 137,
     "metadata": {},
     "output_type": "execute_result"
    }
   ],
   "source": [
    "import pandas as pd\n",
    "gd = pd.DataFrame({})\n",
    "gd['company names'] = company_name[0:10]\n",
    "gd['company_rating'] = company_rating[0:10]\n",
    "gd['No_of_days_ago'] = No_of_days_ago[0:10]\n",
    "gd"
   ]
  },
  {
   "cell_type": "markdown",
   "metadata": {},
   "source": [
    "# Q5: Write a python program to scrape the salary data for Data Scientist designation in Noida location"
   ]
  },
  {
   "cell_type": "markdown",
   "metadata": {},
   "source": [
    "You have to scrape Company name, Number of salaries, Average salary, Min salary, Max Salary. The above task will be, done as shown in the below steps:\n",
    "\n",
    "first get the webpage https://www.glassdoor.co.in/Salaries/index.htm\n",
    "Enter “Data Scientist” in Job title field and “Noida” in location field.\n",
    "Click the search button.\n",
    "After that you will land on the below page You have to scrape whole data from this webpage\n",
    "Scrape data for first 10 companies. Scrape the min salary, max salary, company name, Average salary and rating of the company.\n",
    "Store the data in a dataframe. Note that all of the above steps have to be done by coding only and not manually."
   ]
  },
  {
   "cell_type": "code",
   "execution_count": 138,
   "metadata": {},
   "outputs": [],
   "source": [
    "url = \"https://www.glassdoor.co.in/Salaries/index.htm\""
   ]
  },
  {
   "cell_type": "code",
   "execution_count": 139,
   "metadata": {},
   "outputs": [],
   "source": [
    "driver.get(url)"
   ]
  },
  {
   "cell_type": "code",
   "execution_count": 140,
   "metadata": {},
   "outputs": [],
   "source": [
    "#Imputing the details in Blank boxes by using WebDriverWait:\n",
    "WebDriverWait(driver, 20).until(EC.element_to_be_clickable((By.XPATH, \"//input[@id='KeywordSearch']\"))).send_keys(\"Data Scientist\")\n",
    "WebDriverWait(driver, 20).until(EC.element_to_be_clickable((By.XPATH, \"//input[@id='LocationSearch']\"))).send_keys(\"Noida\")"
   ]
  },
  {
   "cell_type": "code",
   "execution_count": 141,
   "metadata": {},
   "outputs": [],
   "source": [
    "#Cliking on search button.\n",
    "WebDriverWait(driver, 20).until(EC.element_to_be_clickable((By.XPATH,\"//button[@data-test='search-bar-submit']\"))).click()"
   ]
  },
  {
   "cell_type": "code",
   "execution_count": 142,
   "metadata": {},
   "outputs": [],
   "source": [
    "#creating empty list:\n",
    "company_Name2 = []\n",
    "minimum_salaries = []\n",
    "average_salaries = []"
   ]
  },
  {
   "cell_type": "code",
   "execution_count": 143,
   "metadata": {},
   "outputs": [
    {
     "name": "stdout",
     "output_type": "stream",
     "text": [
      "['Tata Consultancy Services', 'IBM', 'Accenture', 'Ericsson-Worldwide', 'UnitedHealth Group', 'Delhivery', 'EXL Service', 'Optum', 'ZS Associates', 'Optum Global Solutions']\n"
     ]
    }
   ],
   "source": [
    "#scraping the tags company_name:\n",
    "companies2 = driver.find_elements_by_xpath(\"//a[@class='css-f3vw95 e1aj7ssy3']\")\n",
    "\n",
    "#Using for loop for iterations:\n",
    "#Handling Null Values.\n",
    "for i in companies2:\n",
    "    if i.text is None :\n",
    "        company_Name2.append(\" \") \n",
    "    else:\n",
    "        company_Name2.append(i.text.replace('\\n','').strip())\n",
    "print(company_Name2[0:10])"
   ]
  },
  {
   "cell_type": "code",
   "execution_count": 147,
   "metadata": {},
   "outputs": [
    {
     "name": "stdout",
     "output_type": "stream",
     "text": [
      "['Range: ₹4L - ₹13L', 'Range: ₹6L - ₹26L', 'Range: ₹6L - ₹23L', 'Range: ₹4L - ₹17L', 'Range: ₹8L - ₹16L', 'Range: ₹5L - ₹1Cr', 'Range: ₹6L - ₹20L', 'Range: ₹8L - ₹21L', 'Range: ₹2L - ₹22L', 'Range: ₹11L - ₹18L']\n"
     ]
    }
   ],
   "source": [
    "#scraping the tags of minimum Salary:\n",
    "minimum_salary = driver.find_elements_by_xpath(\"//span[@class='d-block d-lg-none m-0 css-1b6bxoo']\")\n",
    "\n",
    "#Using for loop for iterations:\n",
    "#Handling Null Values.\n",
    "for i in minimum_salary:\n",
    "    if i.text is None :\n",
    "        minimum_salaries.append(\" \") \n",
    "    else:\n",
    "        minimum_salaries.append(i.text.replace('\\n','').strip())\n",
    "print(minimum_salaries[0:10])"
   ]
  },
  {
   "cell_type": "code",
   "execution_count": 148,
   "metadata": {},
   "outputs": [
    {
     "name": "stdout",
     "output_type": "stream",
     "text": [
      "['Range: ₹4L - ₹13L', 'Range: ₹6L - ₹26L', 'Range: ₹6L - ₹23L', 'Range: ₹4L - ₹17L', 'Range: ₹8L - ₹16L', 'Range: ₹5L - ₹1Cr', 'Range: ₹6L - ₹20L', 'Range: ₹8L - ₹21L', 'Range: ₹2L - ₹22L', 'Range: ₹11L - ₹18L']\n"
     ]
    }
   ],
   "source": [
    "#scraping the tags of average Salary:\n",
    "avg_salary = driver.find_elements_by_xpath(\"//span[@class='d-block d-lg-none m-0 css-1b6bxoo']\")\n",
    "\n",
    "#Using for loop for iterations:\n",
    "#Handling Null Values.\n",
    "for i in avg_salary:\n",
    "    if i.text is None :\n",
    "        average_salaries.append(\" \") \n",
    "    else:\n",
    "        average_salaries.append(i.text.replace('\\n','').strip())\n",
    "print(average_salaries[0:10])"
   ]
  },
  {
   "cell_type": "code",
   "execution_count": 149,
   "metadata": {},
   "outputs": [
    {
     "data": {
      "text/html": [
       "<div>\n",
       "<style scoped>\n",
       "    .dataframe tbody tr th:only-of-type {\n",
       "        vertical-align: middle;\n",
       "    }\n",
       "\n",
       "    .dataframe tbody tr th {\n",
       "        vertical-align: top;\n",
       "    }\n",
       "\n",
       "    .dataframe thead th {\n",
       "        text-align: right;\n",
       "    }\n",
       "</style>\n",
       "<table border=\"1\" class=\"dataframe\">\n",
       "  <thead>\n",
       "    <tr style=\"text-align: right;\">\n",
       "      <th></th>\n",
       "      <th>companies</th>\n",
       "      <th>minimum_salaries</th>\n",
       "      <th>average_salaries</th>\n",
       "    </tr>\n",
       "  </thead>\n",
       "  <tbody>\n",
       "    <tr>\n",
       "      <th>0</th>\n",
       "      <td>Tata Consultancy Services</td>\n",
       "      <td>Range: ₹4L - ₹13L</td>\n",
       "      <td>Range: ₹4L - ₹13L</td>\n",
       "    </tr>\n",
       "    <tr>\n",
       "      <th>1</th>\n",
       "      <td>IBM</td>\n",
       "      <td>Range: ₹6L - ₹26L</td>\n",
       "      <td>Range: ₹6L - ₹26L</td>\n",
       "    </tr>\n",
       "    <tr>\n",
       "      <th>2</th>\n",
       "      <td>Accenture</td>\n",
       "      <td>Range: ₹6L - ₹23L</td>\n",
       "      <td>Range: ₹6L - ₹23L</td>\n",
       "    </tr>\n",
       "    <tr>\n",
       "      <th>3</th>\n",
       "      <td>Ericsson-Worldwide</td>\n",
       "      <td>Range: ₹4L - ₹17L</td>\n",
       "      <td>Range: ₹4L - ₹17L</td>\n",
       "    </tr>\n",
       "    <tr>\n",
       "      <th>4</th>\n",
       "      <td>UnitedHealth Group</td>\n",
       "      <td>Range: ₹8L - ₹16L</td>\n",
       "      <td>Range: ₹8L - ₹16L</td>\n",
       "    </tr>\n",
       "    <tr>\n",
       "      <th>5</th>\n",
       "      <td>Delhivery</td>\n",
       "      <td>Range: ₹5L - ₹1Cr</td>\n",
       "      <td>Range: ₹5L - ₹1Cr</td>\n",
       "    </tr>\n",
       "    <tr>\n",
       "      <th>6</th>\n",
       "      <td>EXL Service</td>\n",
       "      <td>Range: ₹6L - ₹20L</td>\n",
       "      <td>Range: ₹6L - ₹20L</td>\n",
       "    </tr>\n",
       "    <tr>\n",
       "      <th>7</th>\n",
       "      <td>Optum</td>\n",
       "      <td>Range: ₹8L - ₹21L</td>\n",
       "      <td>Range: ₹8L - ₹21L</td>\n",
       "    </tr>\n",
       "    <tr>\n",
       "      <th>8</th>\n",
       "      <td>ZS Associates</td>\n",
       "      <td>Range: ₹2L - ₹22L</td>\n",
       "      <td>Range: ₹2L - ₹22L</td>\n",
       "    </tr>\n",
       "    <tr>\n",
       "      <th>9</th>\n",
       "      <td>Optum Global Solutions</td>\n",
       "      <td>Range: ₹11L - ₹18L</td>\n",
       "      <td>Range: ₹11L - ₹18L</td>\n",
       "    </tr>\n",
       "  </tbody>\n",
       "</table>\n",
       "</div>"
      ],
      "text/plain": [
       "                   companies    minimum_salaries    average_salaries\n",
       "0  Tata Consultancy Services   Range: ₹4L - ₹13L   Range: ₹4L - ₹13L\n",
       "1                        IBM   Range: ₹6L - ₹26L   Range: ₹6L - ₹26L\n",
       "2                  Accenture   Range: ₹6L - ₹23L   Range: ₹6L - ₹23L\n",
       "3         Ericsson-Worldwide   Range: ₹4L - ₹17L   Range: ₹4L - ₹17L\n",
       "4         UnitedHealth Group   Range: ₹8L - ₹16L   Range: ₹8L - ₹16L\n",
       "5                  Delhivery   Range: ₹5L - ₹1Cr   Range: ₹5L - ₹1Cr\n",
       "6                EXL Service   Range: ₹6L - ₹20L   Range: ₹6L - ₹20L\n",
       "7                      Optum   Range: ₹8L - ₹21L   Range: ₹8L - ₹21L\n",
       "8              ZS Associates   Range: ₹2L - ₹22L   Range: ₹2L - ₹22L\n",
       "9     Optum Global Solutions  Range: ₹11L - ₹18L  Range: ₹11L - ₹18L"
      ]
     },
     "execution_count": 149,
     "metadata": {},
     "output_type": "execute_result"
    }
   ],
   "source": [
    "import pandas as pd\n",
    "gd2 = pd.DataFrame({})\n",
    "gd2['companies'] = company_Name2[0:10]\n",
    "gd2['minimum_salaries'] = minimum_salaries[0:10]\n",
    "gd2['average_salaries'] = average_salaries[0:10]\n",
    "gd2"
   ]
  },
  {
   "cell_type": "markdown",
   "metadata": {},
   "source": [
    "# Q6 : Scrape data of first 100 sunglasses listings on flipkart.com. You have to scrape four attributes:\n",
    "Brand\n",
    "Product Description\n",
    "Price\n",
    "Discount % The attributes which you have to scrape is ticked marked in the below image. To scrape the data you have to go through following steps:\n",
    "Go to flipkart webpage by url https://www.flipkart.com/\n",
    "Enter “sunglasses” in the search field where “search for products, brands and more” is written and click the search icon\n",
    "after that you will reach to a webpage having a lot of sunglasses. From this page you can scrap the required data as usual.\n",
    "after scraping data from the first page, go to the “Next” Button at the bottom of the page , then click on it.\n",
    "Now scrape data from this page as usual\n",
    "repeat this until you get data for 100 sunglasses. Note that all of the above steps have to be done by coding only and not manually."
   ]
  },
  {
   "cell_type": "code",
   "execution_count": 150,
   "metadata": {},
   "outputs": [],
   "source": [
    "from selenium import webdriver\n",
    "from selenium.webdriver.common.keys import Keys\n",
    "from selenium.webdriver.firefox.options import Options"
   ]
  },
  {
   "cell_type": "code",
   "execution_count": 151,
   "metadata": {},
   "outputs": [],
   "source": [
    "driver.get('https://www.flipkart.com/')"
   ]
  },
  {
   "cell_type": "code",
   "execution_count": 152,
   "metadata": {},
   "outputs": [],
   "source": [
    "#locating the search bar\n",
    "search_bar=driver.find_element_by_class_name('_3704LK')\n",
    "search_bar.clear()\n",
    "search_bar.send_keys('sunglasses')"
   ]
  },
  {
   "cell_type": "code",
   "execution_count": 153,
   "metadata": {},
   "outputs": [],
   "source": [
    "#locating the button and clicking it toh search for sunglasses\n",
    "button=driver.find_element_by_class_name('L0Z3Pu')\n",
    "button.click()"
   ]
  },
  {
   "cell_type": "code",
   "execution_count": 154,
   "metadata": {},
   "outputs": [],
   "source": [
    "#creating the empty list\n",
    "brand_names = []\n",
    "price = []\n",
    "description = []\n",
    "discount = []"
   ]
  },
  {
   "cell_type": "code",
   "execution_count": 155,
   "metadata": {},
   "outputs": [],
   "source": [
    "from bs4 import BeautifulSoup\n",
    "import requests"
   ]
  },
  {
   "cell_type": "code",
   "execution_count": 156,
   "metadata": {},
   "outputs": [],
   "source": [
    "soup = BeautifulSoup(driver.page_source, 'html.parser')"
   ]
  },
  {
   "cell_type": "code",
   "execution_count": 157,
   "metadata": {},
   "outputs": [
    {
     "name": "stdout",
     "output_type": "stream",
     "text": [
      "['Fastrack', 'VINCENT CHASE', 'Fastrack', 'PIRASO', 'PIRASO', 'Elligator', 'SHAAH COLLECTIONS', 'ROYAL SON', 'GANSTA', 'PIRASO', 'Silver Kartz', 'ROYAL SON', 'PHENOMENAL', 'ROZZETTA CRAFT', 'Fastrack', 'ROYAL SON', 'New Specs', 'kingsunglasses', 'Silver Kartz', 'Fastrack', 'kingsunglasses', 'NuVew', 'PHENOMENAL', 'ROYAL SON', 'Elligator', 'Fastrack', 'Rich Club', 'ROYAL SON', 'Singco India', 'Fastrack', 'Fastrack', 'VINCENT CHASE', 'hipe', 'SHAAH COLLECTIONS', 'Fastrack', 'Fastrack', 'Elligator', 'GANSTA', 'Silver Kartz', 'ROZZETTA CRAFT']\n"
     ]
    }
   ],
   "source": [
    "#Using for loop and fetching tags for names.\n",
    "for i in soup.find_all('div', attrs ={'class':'_2WkVRV'}):\n",
    "    string = i.text\n",
    "    brand_names.append(string.strip())\n",
    "print(brand_names[0:100])"
   ]
  },
  {
   "cell_type": "code",
   "execution_count": 158,
   "metadata": {},
   "outputs": [
    {
     "name": "stdout",
     "output_type": "stream",
     "text": [
      "['₹519', '₹999', '₹519', '₹200', '₹200', '₹295', '₹198', '₹479', '₹239', '₹200', '₹194', '₹479', '₹319', '₹474', '₹559', '₹524', '₹299', '₹284', '₹224', '₹509', '₹213', '₹216', '₹379', '₹399', '₹233', '₹449', '₹199', '₹524', '₹183', '₹609', '₹575', '₹799', '₹210', '₹215', '₹782', '₹509', '₹266', '₹209', '₹201', '₹474', '₹224', '₹201', '₹399', '₹519', '₹183']\n"
     ]
    }
   ],
   "source": [
    "#Using for loop and fetching tags for Prices.\n",
    "for i in soup.find_all('div', attrs ={'class':'_30jeq3'}):\n",
    "    string = i.text\n",
    "    price.append(string.strip())\n",
    "print(price[0:100])"
   ]
  },
  {
   "cell_type": "code",
   "execution_count": 159,
   "metadata": {},
   "outputs": [
    {
     "name": "stdout",
     "output_type": "stream",
     "text": [
      "['42% off', '50% off', '42% off', '87% off', '87% off', '88% off', '88% off', '76% off', '88% off', '87% off', '87% off', '76% off', '84% off', '78% off', '44% off', '73% off', '81% off', '89% off', '81% off', '43% off', '80% off', '72% off', '81% off', '73% off', '90% off', '43% off', '60% off', '73% off', '81% off', '32% off', '28% off', '60% off', '85% off', '78% off', '39% off', '43% off', '86% off', '88% off', '83% off', '81% off', '81% off', '83% off', '73% off', '42% off', '81% off']\n"
     ]
    }
   ],
   "source": [
    "#Using for loop and fetching tags discounts.\n",
    "for i in soup.find_all('div', attrs ={'class':'_3Ay6Sb'}):\n",
    "    string = i.text\n",
    "    discount.append(string.strip())\n",
    "print(discount[0:100])"
   ]
  },
  {
   "cell_type": "code",
   "execution_count": 160,
   "metadata": {},
   "outputs": [
    {
     "data": {
      "text/plain": [
       "['AdFastrackUV Protection Wayfarer Sunglasses (Free Size)₹519₹89942% offCrazy Deal',\n",
       " 'AdVINCENT CHASEby Lenskart UV Protection Wayfarer Sunglasses (51)₹999₹1,99950% offSize\\xa0Medium',\n",
       " 'BestsellerFastrackUV Protection Wayfarer Sunglasses (Free Size)₹519₹89942% offCrazy Deal',\n",
       " 'PIRASOUV Protection Aviator Sunglasses (54)₹200₹1,59987% offCrazy Deal',\n",
       " 'PIRASOUV Protection Aviator Sunglasses (54)₹200₹1,59987% offCrazy Deal',\n",
       " 'ElligatorUV Protection Round Sunglasses (54)₹295₹2,49588% off',\n",
       " 'SHAAH COLLECTIONSUV Protection, Polarized, Mirrored Rectangular Sunglass...₹198₹1,69988% off',\n",
       " 'AdROYAL SONUV Protection Retro Square Sunglasses (88)₹479₹1,99976% off',\n",
       " 'GANSTAUV Protection Aviator Sunglasses (57)₹239₹1,99988% offCrazy Deal',\n",
       " 'PIRASOUV Protection Aviator Sunglasses (54)₹200₹1,59987% offCrazy Deal',\n",
       " 'Silver KartzUV Protection Wayfarer Sunglasses (Free Size)₹194₹1,49987% off',\n",
       " 'AdROYAL SONUV Protection Retro Square Sunglasses (88)₹479₹1,99976% off',\n",
       " 'PHENOMENALUV Protection, Mirrored Retro Square Sunglasses (53)₹319₹1,99984% off',\n",
       " 'ROZZETTA CRAFTUV Protection Retro Square Sunglasses (Free Size)₹474₹2,22578% off',\n",
       " 'FastrackMirrored, UV Protection Wayfarer Sunglasses (Free Size)₹559₹99944% offBuy 2 items, save extra 5%',\n",
       " 'AdROYAL SONPolarized, UV Protection Round Sunglasses (53)₹524₹1,99973% offCrazy Deal',\n",
       " 'New SpecsMirrored, UV Protection, Riding Glasses, Others Round S...₹299₹1,59981% off',\n",
       " 'kingsunglassesMirrored, UV Protection Wayfarer Sunglasses (Free Size)₹284₹2,59989% off',\n",
       " 'Silver KartzUV Protection Oval Sunglasses (56)₹224₹1,19981% off',\n",
       " 'AdFastrackUV Protection Wayfarer Sunglasses (Free Size)₹509₹89943% offCrazy Deal',\n",
       " 'kingsunglassesUV Protection Round Sunglasses (54)₹213₹1,09980% off',\n",
       " 'NuVewUV Protection, Night Vision, Riding Glasses Sports Sung...₹216₹78572% offCrazy Deal',\n",
       " 'PHENOMENALUV Protection Retro Square Sunglasses (Free Size)₹379₹1,99981% off',\n",
       " 'AdROYAL SONUV Protection Rectangular Sunglasses (58)₹399₹1,49973% off',\n",
       " 'ElligatorUV Protection Round Sunglasses (53)₹233₹2,49590% off',\n",
       " 'FastrackGradient, UV Protection Wayfarer Sunglasses (Free Size)₹449₹79943% offBuy 2 items, save extra 5%',\n",
       " 'Rich ClubPolarized Round Sunglasses (48)₹199₹49960% off',\n",
       " 'AdROYAL SONUV Protection, Gradient Butterfly Sunglasses (60)₹524₹1,99973% offCrazy Deal',\n",
       " 'Singco IndiaUV Protection Round Sunglasses (Free Size)₹183₹99981% off',\n",
       " 'FastrackUV Protection Shield Sunglasses (Free Size)₹609₹89932% offBuy 2 items, save extra 5%',\n",
       " 'FastrackUV Protection Rectangular Sunglasses (Free Size)₹575₹79928% offBuy 2 items, save extra 5%',\n",
       " 'AdVINCENT CHASEPolarized, UV Protection Wayfarer Sunglasses (53)₹799₹1,99960% offCrazy Deal',\n",
       " 'hipeMirrored, UV Protection, Gradient Round Sunglasses (55)₹210₹1,46685% off',\n",
       " 'SHAAH COLLECTIONSUV Protection, Polarized, Mirrored Rectangular Sunglass...₹215₹99978% off',\n",
       " 'FastrackUV Protection Aviator Sunglasses (58)₹782₹1,29939% offBuy 2 items, save extra 5%',\n",
       " 'AdFastrackUV Protection Aviator Sunglasses (Free Size)₹509₹89943% offBuy 2 items, save extra 5%',\n",
       " 'ElligatorUV Protection Round Sunglasses (55)₹266₹1,99686% off',\n",
       " 'GANSTAUV Protection, Riding Glasses Wayfarer Sunglasses (53)₹209₹1,79988% offBuy 2 items, save extra 5%',\n",
       " 'Silver KartzUV Protection Aviator Sunglasses (88)₹201₹1,19983% off',\n",
       " 'AdROZZETTA CRAFTUV Protection Retro Square Sunglasses (Free Size)₹474₹2,55681% off']"
      ]
     },
     "execution_count": 160,
     "metadata": {},
     "output_type": "execute_result"
    }
   ],
   "source": [
    "#Using for loop and fetching tags discounts.\n",
    "for i in soup.find_all('div', attrs ={'class':'_1xHGtK _373qXS'}):\n",
    "    string = i.text\n",
    "    description.append(string.replace('\\n','').strip())\n",
    "list(description[0:100])"
   ]
  },
  {
   "cell_type": "code",
   "execution_count": 162,
   "metadata": {},
   "outputs": [],
   "source": [
    "import pandas as pd\n",
    "sung = pd.DataFrame({})\n",
    "sung['brand_names'] = brand_names[0:40]\n",
    "sung['price'] = price[0:40]\n",
    "sung['discount'] = discount[0:40]\n",
    "sung['description'] = description[0:40]"
   ]
  },
  {
   "cell_type": "code",
   "execution_count": 163,
   "metadata": {},
   "outputs": [
    {
     "data": {
      "text/html": [
       "<div>\n",
       "<style scoped>\n",
       "    .dataframe tbody tr th:only-of-type {\n",
       "        vertical-align: middle;\n",
       "    }\n",
       "\n",
       "    .dataframe tbody tr th {\n",
       "        vertical-align: top;\n",
       "    }\n",
       "\n",
       "    .dataframe thead th {\n",
       "        text-align: right;\n",
       "    }\n",
       "</style>\n",
       "<table border=\"1\" class=\"dataframe\">\n",
       "  <thead>\n",
       "    <tr style=\"text-align: right;\">\n",
       "      <th></th>\n",
       "      <th>brand_names</th>\n",
       "      <th>price</th>\n",
       "      <th>discount</th>\n",
       "      <th>description</th>\n",
       "    </tr>\n",
       "  </thead>\n",
       "  <tbody>\n",
       "    <tr>\n",
       "      <th>0</th>\n",
       "      <td>Fastrack</td>\n",
       "      <td>₹519</td>\n",
       "      <td>42% off</td>\n",
       "      <td>AdFastrackUV Protection Wayfarer Sunglasses (F...</td>\n",
       "    </tr>\n",
       "    <tr>\n",
       "      <th>1</th>\n",
       "      <td>VINCENT CHASE</td>\n",
       "      <td>₹999</td>\n",
       "      <td>50% off</td>\n",
       "      <td>AdVINCENT CHASEby Lenskart UV Protection Wayfa...</td>\n",
       "    </tr>\n",
       "    <tr>\n",
       "      <th>2</th>\n",
       "      <td>Fastrack</td>\n",
       "      <td>₹519</td>\n",
       "      <td>42% off</td>\n",
       "      <td>BestsellerFastrackUV Protection Wayfarer Sungl...</td>\n",
       "    </tr>\n",
       "    <tr>\n",
       "      <th>3</th>\n",
       "      <td>PIRASO</td>\n",
       "      <td>₹200</td>\n",
       "      <td>87% off</td>\n",
       "      <td>PIRASOUV Protection Aviator Sunglasses (54)₹20...</td>\n",
       "    </tr>\n",
       "    <tr>\n",
       "      <th>4</th>\n",
       "      <td>PIRASO</td>\n",
       "      <td>₹200</td>\n",
       "      <td>87% off</td>\n",
       "      <td>PIRASOUV Protection Aviator Sunglasses (54)₹20...</td>\n",
       "    </tr>\n",
       "    <tr>\n",
       "      <th>5</th>\n",
       "      <td>Elligator</td>\n",
       "      <td>₹295</td>\n",
       "      <td>88% off</td>\n",
       "      <td>ElligatorUV Protection Round Sunglasses (54)₹2...</td>\n",
       "    </tr>\n",
       "    <tr>\n",
       "      <th>6</th>\n",
       "      <td>SHAAH COLLECTIONS</td>\n",
       "      <td>₹198</td>\n",
       "      <td>88% off</td>\n",
       "      <td>SHAAH COLLECTIONSUV Protection, Polarized, Mir...</td>\n",
       "    </tr>\n",
       "    <tr>\n",
       "      <th>7</th>\n",
       "      <td>ROYAL SON</td>\n",
       "      <td>₹479</td>\n",
       "      <td>76% off</td>\n",
       "      <td>AdROYAL SONUV Protection Retro Square Sunglass...</td>\n",
       "    </tr>\n",
       "    <tr>\n",
       "      <th>8</th>\n",
       "      <td>GANSTA</td>\n",
       "      <td>₹239</td>\n",
       "      <td>88% off</td>\n",
       "      <td>GANSTAUV Protection Aviator Sunglasses (57)₹23...</td>\n",
       "    </tr>\n",
       "    <tr>\n",
       "      <th>9</th>\n",
       "      <td>PIRASO</td>\n",
       "      <td>₹200</td>\n",
       "      <td>87% off</td>\n",
       "      <td>PIRASOUV Protection Aviator Sunglasses (54)₹20...</td>\n",
       "    </tr>\n",
       "    <tr>\n",
       "      <th>10</th>\n",
       "      <td>Silver Kartz</td>\n",
       "      <td>₹194</td>\n",
       "      <td>87% off</td>\n",
       "      <td>Silver KartzUV Protection Wayfarer Sunglasses ...</td>\n",
       "    </tr>\n",
       "    <tr>\n",
       "      <th>11</th>\n",
       "      <td>ROYAL SON</td>\n",
       "      <td>₹479</td>\n",
       "      <td>76% off</td>\n",
       "      <td>AdROYAL SONUV Protection Retro Square Sunglass...</td>\n",
       "    </tr>\n",
       "    <tr>\n",
       "      <th>12</th>\n",
       "      <td>PHENOMENAL</td>\n",
       "      <td>₹319</td>\n",
       "      <td>84% off</td>\n",
       "      <td>PHENOMENALUV Protection, Mirrored Retro Square...</td>\n",
       "    </tr>\n",
       "    <tr>\n",
       "      <th>13</th>\n",
       "      <td>ROZZETTA CRAFT</td>\n",
       "      <td>₹474</td>\n",
       "      <td>78% off</td>\n",
       "      <td>ROZZETTA CRAFTUV Protection Retro Square Sungl...</td>\n",
       "    </tr>\n",
       "    <tr>\n",
       "      <th>14</th>\n",
       "      <td>Fastrack</td>\n",
       "      <td>₹559</td>\n",
       "      <td>44% off</td>\n",
       "      <td>FastrackMirrored, UV Protection Wayfarer Sungl...</td>\n",
       "    </tr>\n",
       "    <tr>\n",
       "      <th>15</th>\n",
       "      <td>ROYAL SON</td>\n",
       "      <td>₹524</td>\n",
       "      <td>73% off</td>\n",
       "      <td>AdROYAL SONPolarized, UV Protection Round Sung...</td>\n",
       "    </tr>\n",
       "    <tr>\n",
       "      <th>16</th>\n",
       "      <td>New Specs</td>\n",
       "      <td>₹299</td>\n",
       "      <td>81% off</td>\n",
       "      <td>New SpecsMirrored, UV Protection, Riding Glass...</td>\n",
       "    </tr>\n",
       "    <tr>\n",
       "      <th>17</th>\n",
       "      <td>kingsunglasses</td>\n",
       "      <td>₹284</td>\n",
       "      <td>89% off</td>\n",
       "      <td>kingsunglassesMirrored, UV Protection Wayfarer...</td>\n",
       "    </tr>\n",
       "    <tr>\n",
       "      <th>18</th>\n",
       "      <td>Silver Kartz</td>\n",
       "      <td>₹224</td>\n",
       "      <td>81% off</td>\n",
       "      <td>Silver KartzUV Protection Oval Sunglasses (56)...</td>\n",
       "    </tr>\n",
       "    <tr>\n",
       "      <th>19</th>\n",
       "      <td>Fastrack</td>\n",
       "      <td>₹509</td>\n",
       "      <td>43% off</td>\n",
       "      <td>AdFastrackUV Protection Wayfarer Sunglasses (F...</td>\n",
       "    </tr>\n",
       "    <tr>\n",
       "      <th>20</th>\n",
       "      <td>kingsunglasses</td>\n",
       "      <td>₹213</td>\n",
       "      <td>80% off</td>\n",
       "      <td>kingsunglassesUV Protection Round Sunglasses (...</td>\n",
       "    </tr>\n",
       "    <tr>\n",
       "      <th>21</th>\n",
       "      <td>NuVew</td>\n",
       "      <td>₹216</td>\n",
       "      <td>72% off</td>\n",
       "      <td>NuVewUV Protection, Night Vision, Riding Glass...</td>\n",
       "    </tr>\n",
       "    <tr>\n",
       "      <th>22</th>\n",
       "      <td>PHENOMENAL</td>\n",
       "      <td>₹379</td>\n",
       "      <td>81% off</td>\n",
       "      <td>PHENOMENALUV Protection Retro Square Sunglasse...</td>\n",
       "    </tr>\n",
       "    <tr>\n",
       "      <th>23</th>\n",
       "      <td>ROYAL SON</td>\n",
       "      <td>₹399</td>\n",
       "      <td>73% off</td>\n",
       "      <td>AdROYAL SONUV Protection Rectangular Sunglasse...</td>\n",
       "    </tr>\n",
       "    <tr>\n",
       "      <th>24</th>\n",
       "      <td>Elligator</td>\n",
       "      <td>₹233</td>\n",
       "      <td>90% off</td>\n",
       "      <td>ElligatorUV Protection Round Sunglasses (53)₹2...</td>\n",
       "    </tr>\n",
       "    <tr>\n",
       "      <th>25</th>\n",
       "      <td>Fastrack</td>\n",
       "      <td>₹449</td>\n",
       "      <td>43% off</td>\n",
       "      <td>FastrackGradient, UV Protection Wayfarer Sungl...</td>\n",
       "    </tr>\n",
       "    <tr>\n",
       "      <th>26</th>\n",
       "      <td>Rich Club</td>\n",
       "      <td>₹199</td>\n",
       "      <td>60% off</td>\n",
       "      <td>Rich ClubPolarized Round Sunglasses (48)₹199₹4...</td>\n",
       "    </tr>\n",
       "    <tr>\n",
       "      <th>27</th>\n",
       "      <td>ROYAL SON</td>\n",
       "      <td>₹524</td>\n",
       "      <td>73% off</td>\n",
       "      <td>AdROYAL SONUV Protection, Gradient Butterfly S...</td>\n",
       "    </tr>\n",
       "    <tr>\n",
       "      <th>28</th>\n",
       "      <td>Singco India</td>\n",
       "      <td>₹183</td>\n",
       "      <td>81% off</td>\n",
       "      <td>Singco IndiaUV Protection Round Sunglasses (Fr...</td>\n",
       "    </tr>\n",
       "    <tr>\n",
       "      <th>29</th>\n",
       "      <td>Fastrack</td>\n",
       "      <td>₹609</td>\n",
       "      <td>32% off</td>\n",
       "      <td>FastrackUV Protection Shield Sunglasses (Free ...</td>\n",
       "    </tr>\n",
       "    <tr>\n",
       "      <th>30</th>\n",
       "      <td>Fastrack</td>\n",
       "      <td>₹575</td>\n",
       "      <td>28% off</td>\n",
       "      <td>FastrackUV Protection Rectangular Sunglasses (...</td>\n",
       "    </tr>\n",
       "    <tr>\n",
       "      <th>31</th>\n",
       "      <td>VINCENT CHASE</td>\n",
       "      <td>₹799</td>\n",
       "      <td>60% off</td>\n",
       "      <td>AdVINCENT CHASEPolarized, UV Protection Wayfar...</td>\n",
       "    </tr>\n",
       "    <tr>\n",
       "      <th>32</th>\n",
       "      <td>hipe</td>\n",
       "      <td>₹210</td>\n",
       "      <td>85% off</td>\n",
       "      <td>hipeMirrored, UV Protection, Gradient Round Su...</td>\n",
       "    </tr>\n",
       "    <tr>\n",
       "      <th>33</th>\n",
       "      <td>SHAAH COLLECTIONS</td>\n",
       "      <td>₹215</td>\n",
       "      <td>78% off</td>\n",
       "      <td>SHAAH COLLECTIONSUV Protection, Polarized, Mir...</td>\n",
       "    </tr>\n",
       "    <tr>\n",
       "      <th>34</th>\n",
       "      <td>Fastrack</td>\n",
       "      <td>₹782</td>\n",
       "      <td>39% off</td>\n",
       "      <td>FastrackUV Protection Aviator Sunglasses (58)₹...</td>\n",
       "    </tr>\n",
       "    <tr>\n",
       "      <th>35</th>\n",
       "      <td>Fastrack</td>\n",
       "      <td>₹509</td>\n",
       "      <td>43% off</td>\n",
       "      <td>AdFastrackUV Protection Aviator Sunglasses (Fr...</td>\n",
       "    </tr>\n",
       "    <tr>\n",
       "      <th>36</th>\n",
       "      <td>Elligator</td>\n",
       "      <td>₹266</td>\n",
       "      <td>86% off</td>\n",
       "      <td>ElligatorUV Protection Round Sunglasses (55)₹2...</td>\n",
       "    </tr>\n",
       "    <tr>\n",
       "      <th>37</th>\n",
       "      <td>GANSTA</td>\n",
       "      <td>₹209</td>\n",
       "      <td>88% off</td>\n",
       "      <td>GANSTAUV Protection, Riding Glasses Wayfarer S...</td>\n",
       "    </tr>\n",
       "    <tr>\n",
       "      <th>38</th>\n",
       "      <td>Silver Kartz</td>\n",
       "      <td>₹201</td>\n",
       "      <td>83% off</td>\n",
       "      <td>Silver KartzUV Protection Aviator Sunglasses (...</td>\n",
       "    </tr>\n",
       "    <tr>\n",
       "      <th>39</th>\n",
       "      <td>ROZZETTA CRAFT</td>\n",
       "      <td>₹474</td>\n",
       "      <td>81% off</td>\n",
       "      <td>AdROZZETTA CRAFTUV Protection Retro Square Sun...</td>\n",
       "    </tr>\n",
       "  </tbody>\n",
       "</table>\n",
       "</div>"
      ],
      "text/plain": [
       "          brand_names price discount  \\\n",
       "0            Fastrack  ₹519  42% off   \n",
       "1       VINCENT CHASE  ₹999  50% off   \n",
       "2            Fastrack  ₹519  42% off   \n",
       "3              PIRASO  ₹200  87% off   \n",
       "4              PIRASO  ₹200  87% off   \n",
       "5           Elligator  ₹295  88% off   \n",
       "6   SHAAH COLLECTIONS  ₹198  88% off   \n",
       "7           ROYAL SON  ₹479  76% off   \n",
       "8              GANSTA  ₹239  88% off   \n",
       "9              PIRASO  ₹200  87% off   \n",
       "10       Silver Kartz  ₹194  87% off   \n",
       "11          ROYAL SON  ₹479  76% off   \n",
       "12         PHENOMENAL  ₹319  84% off   \n",
       "13     ROZZETTA CRAFT  ₹474  78% off   \n",
       "14           Fastrack  ₹559  44% off   \n",
       "15          ROYAL SON  ₹524  73% off   \n",
       "16          New Specs  ₹299  81% off   \n",
       "17     kingsunglasses  ₹284  89% off   \n",
       "18       Silver Kartz  ₹224  81% off   \n",
       "19           Fastrack  ₹509  43% off   \n",
       "20     kingsunglasses  ₹213  80% off   \n",
       "21              NuVew  ₹216  72% off   \n",
       "22         PHENOMENAL  ₹379  81% off   \n",
       "23          ROYAL SON  ₹399  73% off   \n",
       "24          Elligator  ₹233  90% off   \n",
       "25           Fastrack  ₹449  43% off   \n",
       "26          Rich Club  ₹199  60% off   \n",
       "27          ROYAL SON  ₹524  73% off   \n",
       "28       Singco India  ₹183  81% off   \n",
       "29           Fastrack  ₹609  32% off   \n",
       "30           Fastrack  ₹575  28% off   \n",
       "31      VINCENT CHASE  ₹799  60% off   \n",
       "32               hipe  ₹210  85% off   \n",
       "33  SHAAH COLLECTIONS  ₹215  78% off   \n",
       "34           Fastrack  ₹782  39% off   \n",
       "35           Fastrack  ₹509  43% off   \n",
       "36          Elligator  ₹266  86% off   \n",
       "37             GANSTA  ₹209  88% off   \n",
       "38       Silver Kartz  ₹201  83% off   \n",
       "39     ROZZETTA CRAFT  ₹474  81% off   \n",
       "\n",
       "                                          description  \n",
       "0   AdFastrackUV Protection Wayfarer Sunglasses (F...  \n",
       "1   AdVINCENT CHASEby Lenskart UV Protection Wayfa...  \n",
       "2   BestsellerFastrackUV Protection Wayfarer Sungl...  \n",
       "3   PIRASOUV Protection Aviator Sunglasses (54)₹20...  \n",
       "4   PIRASOUV Protection Aviator Sunglasses (54)₹20...  \n",
       "5   ElligatorUV Protection Round Sunglasses (54)₹2...  \n",
       "6   SHAAH COLLECTIONSUV Protection, Polarized, Mir...  \n",
       "7   AdROYAL SONUV Protection Retro Square Sunglass...  \n",
       "8   GANSTAUV Protection Aviator Sunglasses (57)₹23...  \n",
       "9   PIRASOUV Protection Aviator Sunglasses (54)₹20...  \n",
       "10  Silver KartzUV Protection Wayfarer Sunglasses ...  \n",
       "11  AdROYAL SONUV Protection Retro Square Sunglass...  \n",
       "12  PHENOMENALUV Protection, Mirrored Retro Square...  \n",
       "13  ROZZETTA CRAFTUV Protection Retro Square Sungl...  \n",
       "14  FastrackMirrored, UV Protection Wayfarer Sungl...  \n",
       "15  AdROYAL SONPolarized, UV Protection Round Sung...  \n",
       "16  New SpecsMirrored, UV Protection, Riding Glass...  \n",
       "17  kingsunglassesMirrored, UV Protection Wayfarer...  \n",
       "18  Silver KartzUV Protection Oval Sunglasses (56)...  \n",
       "19  AdFastrackUV Protection Wayfarer Sunglasses (F...  \n",
       "20  kingsunglassesUV Protection Round Sunglasses (...  \n",
       "21  NuVewUV Protection, Night Vision, Riding Glass...  \n",
       "22  PHENOMENALUV Protection Retro Square Sunglasse...  \n",
       "23  AdROYAL SONUV Protection Rectangular Sunglasse...  \n",
       "24  ElligatorUV Protection Round Sunglasses (53)₹2...  \n",
       "25  FastrackGradient, UV Protection Wayfarer Sungl...  \n",
       "26  Rich ClubPolarized Round Sunglasses (48)₹199₹4...  \n",
       "27  AdROYAL SONUV Protection, Gradient Butterfly S...  \n",
       "28  Singco IndiaUV Protection Round Sunglasses (Fr...  \n",
       "29  FastrackUV Protection Shield Sunglasses (Free ...  \n",
       "30  FastrackUV Protection Rectangular Sunglasses (...  \n",
       "31  AdVINCENT CHASEPolarized, UV Protection Wayfar...  \n",
       "32  hipeMirrored, UV Protection, Gradient Round Su...  \n",
       "33  SHAAH COLLECTIONSUV Protection, Polarized, Mir...  \n",
       "34  FastrackUV Protection Aviator Sunglasses (58)₹...  \n",
       "35  AdFastrackUV Protection Aviator Sunglasses (Fr...  \n",
       "36  ElligatorUV Protection Round Sunglasses (55)₹2...  \n",
       "37  GANSTAUV Protection, Riding Glasses Wayfarer S...  \n",
       "38  Silver KartzUV Protection Aviator Sunglasses (...  \n",
       "39  AdROZZETTA CRAFTUV Protection Retro Square Sun...  "
      ]
     },
     "execution_count": 163,
     "metadata": {},
     "output_type": "execute_result"
    }
   ],
   "source": [
    "sung"
   ]
  },
  {
   "cell_type": "code",
   "execution_count": null,
   "metadata": {},
   "outputs": [],
   "source": []
  }
 ],
 "metadata": {
  "kernelspec": {
   "display_name": "Python 3",
   "language": "python",
   "name": "python3"
  },
  "language_info": {
   "codemirror_mode": {
    "name": "ipython",
    "version": 3
   },
   "file_extension": ".py",
   "mimetype": "text/x-python",
   "name": "python",
   "nbconvert_exporter": "python",
   "pygments_lexer": "ipython3",
   "version": "3.8.5"
  }
 },
 "nbformat": 4,
 "nbformat_minor": 4
}
